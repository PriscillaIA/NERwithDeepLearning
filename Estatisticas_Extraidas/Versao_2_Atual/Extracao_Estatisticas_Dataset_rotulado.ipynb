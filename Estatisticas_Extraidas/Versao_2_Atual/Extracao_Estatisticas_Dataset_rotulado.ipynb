{
 "cells": [
  {
   "cell_type": "markdown",
   "metadata": {},
   "source": [
    "### Import's"
   ]
  },
  {
   "cell_type": "code",
   "execution_count": 17,
   "metadata": {},
   "outputs": [],
   "source": [
    "import pandas as pd\n",
    "import statistics\n",
    "from collections import Counter\n",
    "import matplotlib.pyplot as plt\n",
    "import json\n",
    "import string\n",
    "import glob"
   ]
  },
  {
   "cell_type": "markdown",
   "metadata": {},
   "source": [
    "### Lendo arquivo csv"
   ]
  },
  {
   "cell_type": "raw",
   "metadata": {},
   "source": [
    "## Ler o arquivo csv, e ler apenas as colunas ['Palavras', 'Rotulo', 'Sentenca']\n",
    "df_original = pd.read_csv(\"particao_1.csv\", usecols=['Palavras', 'Rotulo', 'Sentenca','Documento'], encoding='utf-8')"
   ]
  },
  {
   "cell_type": "code",
   "execution_count": 90,
   "metadata": {},
   "outputs": [
    {
     "name": "stdout",
     "output_type": "stream",
     "text": [
      "Quantidade de planilhas: 12\n"
     ]
    },
    {
     "data": {
      "text/plain": [
       "['../ParticionamentoDoDataSet/PlanilhasComParticoes\\\\dataset_teste.csv',\n",
       " '../ParticionamentoDoDataSet/PlanilhasComParticoes\\\\dataset_treinamento.csv',\n",
       " '../ParticionamentoDoDataSet/PlanilhasComParticoes\\\\particao_1.csv',\n",
       " '../ParticionamentoDoDataSet/PlanilhasComParticoes\\\\particao_10.csv',\n",
       " '../ParticionamentoDoDataSet/PlanilhasComParticoes\\\\particao_2.csv',\n",
       " '../ParticionamentoDoDataSet/PlanilhasComParticoes\\\\particao_3.csv',\n",
       " '../ParticionamentoDoDataSet/PlanilhasComParticoes\\\\particao_4.csv',\n",
       " '../ParticionamentoDoDataSet/PlanilhasComParticoes\\\\particao_5.csv',\n",
       " '../ParticionamentoDoDataSet/PlanilhasComParticoes\\\\particao_6.csv',\n",
       " '../ParticionamentoDoDataSet/PlanilhasComParticoes\\\\particao_7.csv',\n",
       " '../ParticionamentoDoDataSet/PlanilhasComParticoes\\\\particao_8.csv',\n",
       " '../ParticionamentoDoDataSet/PlanilhasComParticoes\\\\particao_9.csv']"
      ]
     },
     "execution_count": 90,
     "metadata": {},
     "output_type": "execute_result"
    }
   ],
   "source": [
    "data_path = \"././Dados_Para_Extracao_Das_Estatisticas/*.csv\"\n",
    "files_Lists = glob.glob (data_path)\n",
    "print('Quantidade de planilhas:', len(files_Lists))\n",
    "files_Lists "
   ]
  },
  {
   "cell_type": "markdown",
   "metadata": {},
   "source": [
    "Criando dataframes a partir das planilhas .csv que contém os dados coletados"
   ]
  },
  {
   "cell_type": "code",
   "execution_count": 81,
   "metadata": {},
   "outputs": [
    {
     "name": "stdout",
     "output_type": "stream",
     "text": [
      "Quantidade de datasets: 12\n"
     ]
    }
   ],
   "source": [
    "dataFrames_Lists = []\n",
    "def cria_DataFrames(files_Lists, dataFrames_Lists):    \n",
    "    for f in files_Lists:\n",
    "        csv = pd.read_csv(f) \n",
    "        csv.drop(columns = ['Unnamed: 0'], inplace=True)\n",
    "        dataFrames_Lists.append(csv) \n",
    "    print('Quantidade de datasets:',len(dataFrames_Lists))\n",
    "    \n",
    "cria_DataFrames(files_Lists,dataFrames_Lists)"
   ]
  },
  {
   "cell_type": "markdown",
   "metadata": {},
   "source": [
    "#### Pegando as linhas referentes as pontuações, para removelas do dataset"
   ]
  },
  {
   "cell_type": "raw",
   "metadata": {},
   "source": [
    "## Função para verificar se tratra de uma linha com pontuação e sem rotulo\n",
    "def remove_pontuacao(dado):\n",
    "    if dado['Palavras'] in string.punctuation and dado['Rotulo'] == 'O':\n",
    "        return True\n",
    "## OBS: Para saber o que é removido basta dar o comando 'string.punctuation' em um célula nova"
   ]
  },
  {
   "cell_type": "raw",
   "metadata": {},
   "source": [
    "## Pegando lista de indexes, onde na coluna 'Palavras', trata-se de uma linha com pontuação e sem rotulo\n",
    "lista_remove += list(df_original.apply(remove_pontuacao, axis=1).dropna().index)"
   ]
  },
  {
   "cell_type": "raw",
   "metadata": {
    "scrolled": true
   },
   "source": [
    "## Retira do dataset os valores indesejados\n",
    "df_limpa = df_original.drop(axis=0, index=lista_remove)\n",
    "display(df_limpa)"
   ]
  },
  {
   "cell_type": "markdown",
   "metadata": {},
   "source": [
    "#### Função para retirar a marcação IOB"
   ]
  },
  {
   "cell_type": "code",
   "execution_count": 82,
   "metadata": {},
   "outputs": [],
   "source": [
    "#Tem a função de retirar o I-rotulo e B-rotulo para visualização crua dos rotulos\n",
    "## Recebe uma lista de rotulações no formato IOB e devolve uma lista com as rotulações sem o formato IOB\n",
    "def retira_IOB(lista_rotulacoes):\n",
    "    dict_rotulacoes = dict({})\n",
    "    for dado in lista_rotulacoes:\n",
    "        if dado[0] != 'O':\n",
    "            if dado[0][2:] not in dict_rotulacoes.keys():\n",
    "                dict_rotulacoes.update(dict({dado[0][2:] : 0}))\n",
    "            dict_rotulacoes[dado[0][2:]] += dado[1]\n",
    "        else:\n",
    "            dict_rotulacoes[dado[0]] = dado[1]\n",
    "    return list(dict_rotulacoes.items()) ## Quantidades de vezes que cada entidade apareceu na lista original\n",
    "## Função para contabilizar a quantidade de vezes que a entidade aparece na lista com as rotulações em formato IOB\n",
    "def contabiliza_rotulos(lista_rotulacoes):\n",
    "    dict_rotulacoes = dict({})\n",
    "    for dado in lista_rotulacoes:\n",
    "        if dado[0][:2] == 'B-' and dado[0] != 'O':\n",
    "            if dado[0][2:] not in dict_rotulacoes.keys():\n",
    "                dict_rotulacoes.update(dict({dado[0][2:] : 0}))\n",
    "            dict_rotulacoes[dado[0][2:]] += dado[1]\n",
    "        elif dado[0] == 'O':\n",
    "            dict_rotulacoes[dado[0]] = dado[1]\n",
    "    return list(dict_rotulacoes.items()) \n",
    "\n",
    "## Preparando os dados para pegar a quantidade de tokens por setença\n",
    "def func_lista_tokens_por_sentenca(df_original):\n",
    "    lista_tokens_por_sentenca = list(df_original.groupby(by=\"Sentenca\")[\"Palavras\"].count()) ## Agrupa as sentenças, e contabiliza quantos tokens tem por setença e transforma essa contagem em lista\n",
    "    return lista_tokens_por_sentenca\n",
    "#lista_tokens_por_sentenca\n",
    "\n",
    "## Pegando informações de token por instância\n",
    "def func_lista_tokens_por_inst(df_original):\n",
    "    lista_tokens_por_inst = list(df_original.groupby(by='Documento')['Palavras'].count())\n",
    "    return lista_tokens_por_inst\n",
    "#lista_tokens_por_inst\n",
    "\n",
    "## Pegando informações de sentenças por instância\n",
    "lista_sentencas_por_inst = []\n",
    "def func_lista_sentencas_por_inst(df_original):\n",
    "    for dado in df_original.groupby(by='Documento')['Sentenca']:\n",
    "        lista_sentencas_por_inst.append(len(Counter(list(dado[1])).keys()))\n",
    "    return lista_sentencas_por_inst\n",
    "#lista_sentencas_por_inst\n",
    "\n",
    "## Preparando para pegar as quantidades de rotulações existente em todo dataset, a variavel guarda o total de rotulações por token em todo o dataset\n",
    "def func_lista_qtdRotulacoes_IOB_por_token(df_original):\n",
    "    lista_qtdRotulacoes_IOB_por_token = [[x[0], x[1][\"Palavras\"].count()] for x in df_original.groupby(by=\"Rotulo\")] ## Agrupa por rotulação e calcucula quantos tokens tem por rotulação\n",
    "    return lista_qtdRotulacoes_IOB_por_token\n",
    "## A varivel guarda o total de rotulações por token em todo data set sem o formato IOB\n",
    "def func_lista_qtdRotulacoes_por_token(df_original):\n",
    "    lista_qtdRotulacoes_IOB_por_token=func_lista_qtdRotulacoes_IOB_por_token(df_original)\n",
    "    lista_qtdRotulacoes_por_token = retira_IOB(lista_qtdRotulacoes_IOB_por_token)\n",
    "    return lista_qtdRotulacoes_por_token\n",
    "## A variavel guarda apenas as quantidade de categoria de entidades rotuladas em todo o dataset\n",
    "def func_lista_qtdRotulacoes(df_original):\n",
    "    lista_qtdRotulacoes_IOB_por_token=func_lista_qtdRotulacoes_IOB_por_token(df_original)\n",
    "    lista_qtdRotulacoes = contabiliza_rotulos(func_lista_qtdRotulacoes_IOB_por_token(df_original))\n",
    "    return lista_qtdRotulacoes\n",
    "\n",
    "## Preparando para pegar rotulações por sentença de todo dataset\n",
    "def func_lista_rotulos_por_sentenca_IOB_por_token(df_original):\n",
    "    lista_rotulos_por_sentenca_IOB_por_token = []\n",
    "    for dado in df_original.groupby(by=\"Sentenca\"):\n",
    "        lista_rotulos_por_sentenca_IOB_por_token.append([dado[0], list(Counter(list(dado[1][\"Rotulo\"])).items())])\n",
    "    return lista_rotulos_por_sentenca_IOB_por_token  \n",
    "## Cria uma versão da lista sem os marcadores do formato IOB\n",
    "def func_lista_rotulos_por_sentenca_por_token(df_original):\n",
    "    lista_rotulos_por_sentenca_IOB_por_token = func_lista_rotulos_por_sentenca_IOB_por_token(df_original)\n",
    "    lista_rotulos_por_sentenca_por_token = []\n",
    "    for sentenca in lista_rotulos_por_sentenca_IOB_por_token:\n",
    "        lista_rotulos_por_sentenca_por_token.append([sentenca[0], retira_IOB(sentenca[1])])\n",
    "    return lista_rotulos_por_sentenca_por_token\n",
    "## Extrai a quantidade de categoria de entidades rotuladas em cada sentença de todo o dataset\n",
    "def func_lista_rotulos_por_sentenca(df_original):\n",
    "    lista_rotulos_por_sentenca_IOB_por_token = func_lista_rotulos_por_sentenca_IOB_por_token(df_original)\n",
    "    lista_rotulos_por_sentenca = []\n",
    "    for sentenca in lista_rotulos_por_sentenca_IOB_por_token:\n",
    "        lista_rotulos_por_sentenca.append([sentenca[0], contabiliza_rotulos(sentenca[1])])\n",
    "    return lista_rotulos_por_sentenca\n",
    "\n",
    "## Preparando para pegar rotulações por instância de todo dataset\n",
    "def func_lista_rotulacoes_por_inst_IOB_por_token(df_original):\n",
    "    lista_rotulacoes_por_inst_IOB_por_token = []\n",
    "    for dado in df_original.groupby(by=\"Documento\"):\n",
    "        lista_rotulacoes_por_inst_IOB_por_token.append([dado[0], list(Counter(list(dado[1][\"Rotulo\"])).items())])\n",
    "    return lista_rotulacoes_por_inst_IOB_por_token\n",
    "## Preparando para extrair rotulações por instância sem IOB\n",
    "def func_lista_rotulacoes_por_inst_por_token(df_original):\n",
    "    lista_rotulacoes_por_inst_IOB_por_token = func_lista_rotulacoes_por_inst_IOB_por_token(df_original)\n",
    "    lista_rotulacoes_por_inst_por_token = []\n",
    "    for instancia in lista_rotulacoes_por_inst_IOB_por_token:\n",
    "        lista_rotulacoes_por_inst_por_token.append([instancia[0], retira_IOB(instancia[1])])\n",
    "    return lista_rotulacoes_por_inst_por_token\n",
    "## Extrai a quantidade de categoria de entidades rotuladas em cada instância\n",
    "def func_lista_rotulacoes_por_inst(df_original):\n",
    "    lista_rotulacoes_por_inst_IOB_por_token = func_lista_rotulacoes_por_inst_IOB_por_token(df_original)\n",
    "    lista_rotulacoes_por_inst = []\n",
    "    for instancia in lista_rotulacoes_por_inst_IOB_por_token:\n",
    "        lista_rotulacoes_por_inst.append([instancia[0], contabiliza_rotulos(instancia[1])])\n",
    "    return lista_rotulacoes_por_inst\n",
    "\n",
    "## Preparando para pegar rotulações por token\n",
    "def func_lista_rotulacoes_por_tokens_IOB(df_original):\n",
    "    lista_rotulacoes_por_tokens_IOB = []\n",
    "    for dado in df_original.groupby(by=\"Palavras\"):\n",
    "        lista_rotulacoes_por_tokens_IOB.append([dado[0], list(Counter(list(dado[1][\"Rotulo\"])).items())])\n",
    "    return lista_rotulacoes_por_tokens_IOB\n",
    "## Preparando para extrair rotulações por token sem IOB\n",
    "def func_lista_rotulacoes_por_tokens(df_original):\n",
    "    lista_rotulacoes_por_tokens_IOB = func_lista_rotulacoes_por_tokens_IOB(df_original)\n",
    "    lista_rotulacoes_por_tokens = []\n",
    "    for token in lista_rotulacoes_por_tokens_IOB:\n",
    "        lista_rotulacoes_por_tokens.append([token[0], retira_IOB(token[1])])\n",
    "    return lista_rotulacoes_por_tokens"
   ]
  },
  {
   "cell_type": "markdown",
   "metadata": {},
   "source": [
    "#### Aplicando as funções aos datasets"
   ]
  },
  {
   "cell_type": "markdown",
   "metadata": {},
   "source": [
    "Partição 1"
   ]
  },
  {
   "cell_type": "code",
   "execution_count": 86,
   "metadata": {},
   "outputs": [],
   "source": [
    "lista_tokens_por_sentenca=func_lista_tokens_por_sentenca(dataFrames_Lists[0])\n",
    "lista_tokens_por_inst=func_lista_tokens_por_inst(dataFrames_Lists[0])\n",
    "lista_sentencas_por_inst = func_lista_sentencas_por_inst(dataFrames_Lists[0])\n",
    "lista_qtdRotulacoes_IOB_por_token=func_lista_qtdRotulacoes_IOB_por_token(dataFrames_Lists[0])\n",
    "lista_qtdRotulacoes_por_token=func_lista_qtdRotulacoes_por_token(dataFrames_Lists[0])\n",
    "lista_qtdRotulacoes=func_lista_qtdRotulacoes(dataFrames_Lists[0])\n",
    "lista_rotulos_por_sentenca_IOB_por_token = func_lista_rotulos_por_sentenca_IOB_por_token(dataFrames_Lists[0])\n",
    "lista_rotulos_por_sentenca=func_lista_rotulos_por_sentenca(dataFrames_Lists[0])\n",
    "lista_rotulacoes_por_inst_IOB_por_token=func_lista_rotulacoes_por_inst_IOB_por_token(dataFrames_Lists[0])\n",
    "lista_rotulacoes_por_inst_por_token=func_lista_rotulacoes_por_inst_por_token(dataFrames_Lists[0])\n",
    "lista_rotulacoes_por_inst=func_lista_rotulacoes_por_inst(dataFrames_Lists[0])\n",
    "lista_rotulacoes_por_tokens_IOB=func_lista_rotulacoes_por_tokens_IOB(dataFrames_Lists[0])\n",
    "lista_rotulacoes_por_tokens=func_lista_rotulacoes_por_tokens(dataFrames_Lists[0])"
   ]
  },
  {
   "cell_type": "code",
   "execution_count": 110,
   "metadata": {},
   "outputs": [],
   "source": [
    "lista_tokens_por_sentenca=func_lista_tokens_por_sentenca(dataFrames_Lists[1])\n",
    "lista_tokens_por_inst=func_lista_tokens_por_inst(dataFrames_Lists[1])\n",
    "lista_sentencas_por_inst = func_lista_sentencas_por_inst(dataFrames_Lists[1])\n",
    "lista_qtdRotulacoes_IOB_por_token=func_lista_qtdRotulacoes_IOB_por_token(dataFrames_Lists[1])\n",
    "lista_qtdRotulacoes_por_token=func_lista_qtdRotulacoes_por_token(dataFrames_Lists[1])\n",
    "lista_qtdRotulacoes=func_lista_qtdRotulacoes(dataFrames_Lists[1])\n",
    "lista_rotulos_por_sentenca_IOB_por_token = func_lista_rotulos_por_sentenca_IOB_por_token(dataFrames_Lists[1])\n",
    "lista_rotulos_por_sentenca=func_lista_rotulos_por_sentenca(dataFrames_Lists[1])\n",
    "lista_rotulacoes_por_inst_IOB_por_token=func_lista_rotulacoes_por_inst_IOB_por_token(dataFrames_Lists[1])\n",
    "lista_rotulacoes_por_inst_por_token=func_lista_rotulacoes_por_inst_por_token(dataFrames_Lists[1])\n",
    "lista_rotulacoes_por_inst=func_lista_rotulacoes_por_inst(dataFrames_Lists[1])\n",
    "lista_rotulacoes_por_tokens_IOB=func_lista_rotulacoes_por_tokens_IOB(dataFrames_Lists[1])\n",
    "lista_rotulacoes_por_tokens=func_lista_rotulacoes_por_tokens(dataFrames_Lists[1])"
   ]
  },
  {
   "cell_type": "code",
   "execution_count": 111,
   "metadata": {},
   "outputs": [],
   "source": [
    "lista_tokens_por_sentenca=func_lista_tokens_por_sentenca(dataFrames_Lists[2])\n",
    "lista_tokens_por_inst=func_lista_tokens_por_inst(dataFrames_Lists[2])\n",
    "lista_sentencas_por_inst = func_lista_sentencas_por_inst(dataFrames_Lists[2])\n",
    "lista_qtdRotulacoes_IOB_por_token=func_lista_qtdRotulacoes_IOB_por_token(dataFrames_Lists[2])\n",
    "lista_qtdRotulacoes_por_token=func_lista_qtdRotulacoes_por_token(dataFrames_Lists[2])\n",
    "lista_qtdRotulacoes=func_lista_qtdRotulacoes(dataFrames_Lists[2])\n",
    "lista_rotulos_por_sentenca_IOB_por_token = func_lista_rotulos_por_sentenca_IOB_por_token(dataFrames_Lists[2])\n",
    "lista_rotulos_por_sentenca=func_lista_rotulos_por_sentenca(dataFrames_Lists[2])\n",
    "lista_rotulacoes_por_inst_IOB_por_token=func_lista_rotulacoes_por_inst_IOB_por_token(dataFrames_Lists[2])\n",
    "lista_rotulacoes_por_inst_por_token=func_lista_rotulacoes_por_inst_por_token(dataFrames_Lists[2])\n",
    "lista_rotulacoes_por_inst=func_lista_rotulacoes_por_inst(dataFrames_Lists[2])\n",
    "lista_rotulacoes_por_tokens_IOB=func_lista_rotulacoes_por_tokens_IOB(dataFrames_Lists[2])\n",
    "lista_rotulacoes_por_tokens=func_lista_rotulacoes_por_tokens(dataFrames_Lists[2])"
   ]
  },
  {
   "cell_type": "code",
   "execution_count": 115,
   "metadata": {},
   "outputs": [],
   "source": [
    "lista_tokens_por_sentenca=func_lista_tokens_por_sentenca(dataFrames_Lists[3])\n",
    "lista_tokens_por_inst=func_lista_tokens_por_inst(dataFrames_Lists[3])\n",
    "lista_sentencas_por_inst = func_lista_sentencas_por_inst(dataFrames_Lists[3])\n",
    "lista_qtdRotulacoes_IOB_por_token=func_lista_qtdRotulacoes_IOB_por_token(dataFrames_Lists[3])\n",
    "lista_qtdRotulacoes_por_token=func_lista_qtdRotulacoes_por_token(dataFrames_Lists[3])\n",
    "lista_qtdRotulacoes=func_lista_qtdRotulacoes(dataFrames_Lists[3])\n",
    "lista_rotulos_por_sentenca_IOB_por_token = func_lista_rotulos_por_sentenca_IOB_por_token(dataFrames_Lists[3])\n",
    "lista_rotulos_por_sentenca=func_lista_rotulos_por_sentenca(dataFrames_Lists[3])\n",
    "lista_rotulacoes_por_inst_IOB_por_token=func_lista_rotulacoes_por_inst_IOB_por_token(dataFrames_Lists[3])\n",
    "lista_rotulacoes_por_inst_por_token=func_lista_rotulacoes_por_inst_por_token(dataFrames_Lists[3])\n",
    "lista_rotulacoes_por_inst=func_lista_rotulacoes_por_inst(dataFrames_Lists[3])\n",
    "lista_rotulacoes_por_tokens_IOB=func_lista_rotulacoes_por_tokens_IOB(dataFrames_Lists[3])\n",
    "lista_rotulacoes_por_tokens=func_lista_rotulacoes_por_tokens(dataFrames_Lists[3])"
   ]
  },
  {
   "cell_type": "markdown",
   "metadata": {},
   "source": [
    "Visualizando os dados em formato de listas (totais)"
   ]
  },
  {
   "cell_type": "code",
   "execution_count": 116,
   "metadata": {
    "scrolled": false
   },
   "outputs": [],
   "source": [
    "#print(lista_tokens_por_sentenca) ## Tokens por Sentença\n",
    "#print(lista_tokens_por_inst) ## Tokens por Documento\n",
    "#print(lista_sentencas_por_inst) ## Setenças por Documento"
   ]
  },
  {
   "cell_type": "markdown",
   "metadata": {},
   "source": [
    "## Estatísticas"
   ]
  },
  {
   "cell_type": "markdown",
   "metadata": {},
   "source": [
    "Dados Demográficos do Dataset Pré-Processado"
   ]
  },
  {
   "cell_type": "code",
   "execution_count": 117,
   "metadata": {},
   "outputs": [
    {
     "name": "stdout",
     "output_type": "stream",
     "text": [
      "-----QUANTIDADES-----\n",
      "Quantidade de documentos: 100\n",
      "Quantidade de sentenças: 1432\n",
      "Quantidade de tokens: 18838\n"
     ]
    }
   ],
   "source": [
    "print(\"-----QUANTIDADES-----\")\n",
    "print(\"Quantidade de documentos: \" + str(len(lista_tokens_por_inst)))\n",
    "print(\"Quantidade de sentenças: \" + str(len(lista_tokens_por_sentenca)))\n",
    "print(\"Quantidade de tokens: \" + str(len(dataFrames_Lists[3])))"
   ]
  },
  {
   "cell_type": "markdown",
   "metadata": {},
   "source": [
    "#### Gráficos com informações sobre as Categorias"
   ]
  },
  {
   "cell_type": "markdown",
   "metadata": {},
   "source": [
    "Quantidade de rotulações por categoria sem IOB"
   ]
  },
  {
   "cell_type": "code",
   "execution_count": 118,
   "metadata": {},
   "outputs": [
    {
     "data": {
      "text/plain": [
       "[('CARACTERISTICA_SENSORIAL_CONSISTÊNCIA', 25),\n",
       " ('EQUIPAMENTO_DESTILACAO', 35),\n",
       " ('CARACTERISTICA_SENSORIAL_COR', 52),\n",
       " ('NOME_PESSOA', 78),\n",
       " ('PRECO', 92),\n",
       " ('CARACTERISTICA_SENSORIAL_SABOR', 99),\n",
       " ('RECIPIENTE_ARMAZENAMENTO', 101),\n",
       " ('CARACTERISTICA_SENSORIAL_AROMA', 110),\n",
       " ('NOME_ORGANIZACAO', 116),\n",
       " ('GRADUACAO_ALCOOLICA', 117),\n",
       " ('TEMPO_ARMAZENAMENTO', 121),\n",
       " ('CLASSIFICACAO_BEBIDA', 134),\n",
       " ('TEMPO', 153),\n",
       " ('VOLUME', 251),\n",
       " ('TIPO_MADEIRA', 260),\n",
       " ('NOME_BEBIDA', 349),\n",
       " ('NOME_LOCAL', 448),\n",
       " ('O', 14751)]"
      ]
     },
     "execution_count": 118,
     "metadata": {},
     "output_type": "execute_result"
    }
   ],
   "source": [
    "lista_qtdRotulacoes = sorted(lista_qtdRotulacoes, key=lambda i: i[-1])\n",
    "lista_qtdRotulacoes"
   ]
  },
  {
   "cell_type": "code",
   "execution_count": 79,
   "metadata": {},
   "outputs": [
    {
     "name": "stdout",
     "output_type": "stream",
     "text": [
      "Total de tokens não rotulados: 41711\n"
     ]
    },
    {
     "data": {
      "image/png": "[encoded data removed]",
      "text/plain": [
       "<Figure size 504x360 with 1 Axes>"
      ]
     },
     "metadata": {
      "needs_background": "light"
     },
     "output_type": "display_data"
    }
   ],
   "source": [
    "import os        \n",
    "lista_aux = [x for x in lista_qtdRotulacoes if x[0] != 'O']\n",
    "valor_O = [x[1] for x in lista_qtdRotulacoes if x[0] == 'O']\n",
    "print(\"Total de tokens não rotulados: \" + str(valor_O[0]))\n",
    "\n",
    "grupos = [x[0] for x in lista_aux]\n",
    "valores = [x[1] for x in lista_aux]\n",
    "#plt.subplots(1,1, figsize=(7,5))\n",
    "plt.figure(figsize = (7,5))\n",
    "plt.barh(grupos, valores)\n",
    "\n",
    "\n",
    "for index, item in enumerate(valores):\n",
    "    plt.text(valores[index],index,valores[index],  va=\"center_baseline\",ha=\"right\",fontsize=14)\n",
    "    \n",
    "plt.title('Entidades por Categorias - Partição 10',fontsize=15.0)\n",
    "plt.xlabel('Quantidade de Entidades', fontweight='bold', fontsize=14.0)\n",
    "plt.ylabel('Categorias', fontweight='bold', fontsize=14.0)\n",
    "plt.savefig(os.path.join('Partição_10.png'), dpi=300, format='png', bbox_inches='tight') \n",
    "plt.show()"
   ]
  },
  {
   "cell_type": "markdown",
   "metadata": {},
   "source": [
    "### TOKENS POR SENTENÇA"
   ]
  },
  {
   "cell_type": "code",
   "execution_count": 11,
   "metadata": {},
   "outputs": [
    {
     "name": "stdout",
     "output_type": "stream",
     "text": [
      "-----QUANTIDADES-----\n",
      "Quantidade de Documentos: 4174\n",
      "Quantidade de tokens: 53639\n",
      "Quantidade máxima de tokens em uma sentença: 125\n",
      "Quantidade mínima de tokens em uma sentença: 1\n",
      "-----Médias-----\n",
      "Média aritmética dos tokens por sentença: 12.850742692860566\n",
      "Média geométrica dos tokens por sentença: 9.08640422578467\n",
      "Média harmônica dos tokens por sentença: 6.555102316848766\n",
      "-----Medianas-----\n",
      "Mediana dos tokens por setença: 8.0\n",
      "Mediana inferior dos tokens por setença: 8\n",
      "Mediana superior dos tokens por setença: 8\n",
      "Mediana, ou o 50º percentil dos dados agrupados dos tokens por setença: 8.369158878504672\n",
      "-----Moda-----\n",
      "Moda dos tokens por sentença: 4\n",
      "-----Desvio Padrão-----\n",
      "Desvio padrão populacional dos tokens por sentença: 11.806071674755792\n",
      "Desvio padrão amostral dos tokens por sentença: 11.807486168461791\n",
      "-----Variância-----\n",
      "Variância populacional dos tokens por sentença: 139.38332838947105\n",
      "Variância amostral dos tokens por sentença: 139.41672961841653\n",
      "-----Quantiles-----\n",
      "Quantiles dos tokens por sentença: [5.0, 8.0, 18.0]\n"
     ]
    }
   ],
   "source": [
    "print(\"-----QUANTIDADES-----\")\n",
    "print(\"Quantidade de Documentos: \" + str(len(lista_tokens_por_sentenca)))\n",
    "print(\"Quantidade de tokens: \" + str(sum(lista_tokens_por_sentenca)))\n",
    "print(\"Quantidade máxima de tokens em uma sentença: \" + str(max(lista_tokens_por_sentenca)))\n",
    "print(\"Quantidade mínima de tokens em uma sentença: \" + str(min(lista_tokens_por_sentenca)))\n",
    "print(\"-----Médias-----\")\n",
    "print(\"Média aritmética dos tokens por sentença: \" + str(statistics.mean(lista_tokens_por_sentenca)))\n",
    "print(\"Média geométrica dos tokens por sentença: \" + str(statistics.geometric_mean(lista_tokens_por_sentenca)))\n",
    "print(\"Média harmônica dos tokens por sentença: \" + str(statistics.harmonic_mean(lista_tokens_por_sentenca)))\n",
    "print(\"-----Medianas-----\")\n",
    "print(\"Mediana dos tokens por setença: \" + str(statistics.median(lista_tokens_por_sentenca)))\n",
    "print(\"Mediana inferior dos tokens por setença: \" + str(statistics.median_low(lista_tokens_por_sentenca)))\n",
    "print(\"Mediana superior dos tokens por setença: \" + str(statistics.median_high(lista_tokens_por_sentenca)))\n",
    "print(\"Mediana, ou o 50º percentil dos dados agrupados dos tokens por setença: \" + str(statistics.median_grouped(lista_tokens_por_sentenca)))\n",
    "print(\"-----Moda-----\")\n",
    "print(\"Moda dos tokens por sentença: \" + str(statistics.mode(lista_tokens_por_sentenca)))\n",
    "print(\"-----Desvio Padrão-----\")\n",
    "print(\"Desvio padrão populacional dos tokens por sentença: \" + str(statistics.pstdev(lista_tokens_por_sentenca)))\n",
    "print(\"Desvio padrão amostral dos tokens por sentença: \" + str(statistics.stdev(lista_tokens_por_sentenca)))\n",
    "print(\"-----Variância-----\")\n",
    "print(\"Variância populacional dos tokens por sentença: \" + str(statistics.pvariance(lista_tokens_por_sentenca)))\n",
    "print(\"Variância amostral dos tokens por sentença: \" + str(statistics.variance(lista_tokens_por_sentenca)))\n",
    "print(\"-----Quantiles-----\")\n",
    "print(\"Quantiles dos tokens por sentença: \" + str(statistics.quantiles(lista_tokens_por_sentenca)))"
   ]
  },
  {
   "cell_type": "markdown",
   "metadata": {},
   "source": [
    "#### Gráficos"
   ]
  },
  {
   "cell_type": "code",
   "execution_count": 12,
   "metadata": {},
   "outputs": [
    {
     "data": {
      "image/png": "[encoded data removed]",
      "text/plain": [
       "<Figure size 432x288 with 1 Axes>"
      ]
     },
     "metadata": {
      "needs_background": "light"
     },
     "output_type": "display_data"
    }
   ],
   "source": [
    "plt.hist(lista_tokens_por_sentenca)\n",
    "plt.xlabel('Quantidades de tokens')\n",
    "plt.ylabel('Frequência')\n",
    "plt.title('Histograma - Tokens por Sentença')\n",
    "plt.grid()\n",
    "plt.show()"
   ]
  },
  {
   "cell_type": "markdown",
   "metadata": {},
   "source": [
    "### TOKENS POR DOCUMENTO"
   ]
  },
  {
   "cell_type": "code",
   "execution_count": 13,
   "metadata": {},
   "outputs": [
    {
     "name": "stdout",
     "output_type": "stream",
     "text": [
      "-----QUANTIDADES-----\n",
      "Quantidade de Documentos: 300\n",
      "Quantidade de tokens: 53639\n",
      "Quantidade máxima de tokens em uma documento: 775\n",
      "Quantidade mínima de tokens em uma documento: 18\n",
      "-----Médias-----\n",
      "Média aritmética dos tokens por documento: 178.79666666666665\n",
      "Média geométrica dos tokens por documento: 141.5135699360163\n",
      "Média harmônica dos tokens por documento: 109.52250519991476\n",
      "-----Medianas-----\n",
      "Mediana dos tokens por documento: 144.0\n",
      "Mediana inferior dos tokens por documento: 144\n",
      "Mediana superior dos tokens por documento: 144\n",
      "Mediana, ou o 50º percentil dos dados agrupados dos tokens por documento: 144.0\n",
      "-----Moda-----\n",
      "Moda dos tokens por documento: 168\n",
      "-----Desvio Padrão-----\n",
      "Desvio padrão populacional dos tokens por documento: 127.44408704299397\n",
      "Desvio padrão amostral dos tokens por documento: 127.65702635112412\n",
      "-----Variância-----\n",
      "Variância populacional dos tokens por documento: 16241.995322222223\n",
      "Variância amostral dos tokens por documento: 16296.316376811596\n",
      "-----Quantiles-----\n",
      "Quantiles dos tokens por documento: [87.0, 144.0, 229.75]\n"
     ]
    }
   ],
   "source": [
    "print(\"-----QUANTIDADES-----\")\n",
    "print(\"Quantidade de Documentos: \" + str(len(lista_tokens_por_inst)))\n",
    "print(\"Quantidade de tokens: \" + str(sum(lista_tokens_por_inst)))\n",
    "print(\"Quantidade máxima de tokens em uma documento: \" + str(max(lista_tokens_por_inst)))\n",
    "print(\"Quantidade mínima de tokens em uma documento: \" + str(min(lista_tokens_por_inst)))\n",
    "print(\"-----Médias-----\")\n",
    "print(\"Média aritmética dos tokens por documento: \" + str(statistics.mean(lista_tokens_por_inst)))\n",
    "print(\"Média geométrica dos tokens por documento: \" + str(statistics.geometric_mean(lista_tokens_por_inst)))\n",
    "print(\"Média harmônica dos tokens por documento: \" + str(statistics.harmonic_mean(lista_tokens_por_inst)))\n",
    "print(\"-----Medianas-----\")\n",
    "print(\"Mediana dos tokens por documento: \" + str(statistics.median(lista_tokens_por_inst)))\n",
    "print(\"Mediana inferior dos tokens por documento: \" + str(statistics.median_low(lista_tokens_por_inst)))\n",
    "print(\"Mediana superior dos tokens por documento: \" + str(statistics.median_high(lista_tokens_por_inst)))\n",
    "print(\"Mediana, ou o 50º percentil dos dados agrupados dos tokens por documento: \" + str(statistics.median_grouped(lista_tokens_por_inst)))\n",
    "print(\"-----Moda-----\")\n",
    "print(\"Moda dos tokens por documento: \" + str(statistics.mode(lista_tokens_por_inst)))\n",
    "print(\"-----Desvio Padrão-----\")\n",
    "print(\"Desvio padrão populacional dos tokens por documento: \" + str(statistics.pstdev(lista_tokens_por_inst)))\n",
    "print(\"Desvio padrão amostral dos tokens por documento: \" + str(statistics.stdev(lista_tokens_por_inst)))\n",
    "print(\"-----Variância-----\")\n",
    "print(\"Variância populacional dos tokens por documento: \" + str(statistics.pvariance(lista_tokens_por_inst)))\n",
    "print(\"Variância amostral dos tokens por documento: \" + str(statistics.variance(lista_tokens_por_inst)))\n",
    "print(\"-----Quantiles-----\")\n",
    "print(\"Quantiles dos tokens por documento: \" + str(statistics.quantiles(lista_tokens_por_inst)))"
   ]
  },
  {
   "cell_type": "markdown",
   "metadata": {},
   "source": [
    "#### Gráficos"
   ]
  },
  {
   "cell_type": "code",
   "execution_count": 14,
   "metadata": {},
   "outputs": [
    {
     "data": {
      "image/png": "[encoded data removed]",
      "text/plain": [
       "<Figure size 432x288 with 1 Axes>"
      ]
     },
     "metadata": {
      "needs_background": "light"
     },
     "output_type": "display_data"
    }
   ],
   "source": [
    "plt.hist(lista_tokens_por_inst)\n",
    "plt.xlabel('Quantidades de tokens')\n",
    "plt.ylabel('Frequência')\n",
    "plt.title('Histograma de Tokens por Documento')\n",
    "plt.grid()\n",
    "plt.show()"
   ]
  },
  {
   "cell_type": "markdown",
   "metadata": {},
   "source": [
    "### SENTENÇAS POR DOCUMENTO"
   ]
  },
  {
   "cell_type": "code",
   "execution_count": 15,
   "metadata": {},
   "outputs": [
    {
     "name": "stdout",
     "output_type": "stream",
     "text": [
      "-----QUANTIDADES-----\n",
      "Quantidade de documentos: 300\n",
      "Quantidade de sentenças: 4174\n",
      "Quantidade máxima de sentenças em uma documento: 42\n",
      "Quantidade mínima de sentenças em uma documento: 3\n",
      "-----Médias-----\n",
      "Média aritmética dos tokens por documento: 13.913333333333334\n",
      "Média geométrica dos tokens por documento: 12.032900974727818\n",
      "Média harmônica dos tokens por documento: 10.319506170726394\n",
      "-----Medianas-----\n",
      "Mediana dos tokens por documento: 12.0\n",
      "Mediana inferior dos tokens por documento: 12\n",
      "Mediana superior dos tokens por documento: 12\n",
      "Mediana, ou o 50º percentil dos dados agrupados dos tokens por documento: 11.85\n",
      "-----Moda-----\n",
      "Moda dos tokens por documento: 9\n",
      "-----Desvio Padrão-----\n",
      "Desvio padrão populacional dos tokens por documento: 7.470775655103618\n",
      "Desvio padrão amostral dos tokens por documento: 7.483258162814286\n",
      "-----Variância-----\n",
      "Variância populacional dos tokens por documento: 55.81248888888889\n",
      "Variância amostral dos tokens por documento: 55.999152731326646\n",
      "-----Quantiles-----\n",
      "Quantiles dos tokens por documento: [8.0, 12.0, 18.75]\n"
     ]
    }
   ],
   "source": [
    "print(\"-----QUANTIDADES-----\")\n",
    "print(\"Quantidade de documentos: \" + str(len(lista_sentencas_por_inst)))\n",
    "print(\"Quantidade de sentenças: \" + str(sum(lista_sentencas_por_inst)))\n",
    "print(\"Quantidade máxima de sentenças em uma documento: \" + str(max(lista_sentencas_por_inst)))\n",
    "print(\"Quantidade mínima de sentenças em uma documento: \" + str(min(lista_sentencas_por_inst)))\n",
    "print(\"-----Médias-----\")\n",
    "print(\"Média aritmética dos tokens por documento: \" + str(statistics.mean(lista_sentencas_por_inst)))\n",
    "print(\"Média geométrica dos tokens por documento: \" + str(statistics.geometric_mean(lista_sentencas_por_inst)))\n",
    "print(\"Média harmônica dos tokens por documento: \" + str(statistics.harmonic_mean(lista_sentencas_por_inst)))\n",
    "print(\"-----Medianas-----\")\n",
    "print(\"Mediana dos tokens por documento: \" + str(statistics.median(lista_sentencas_por_inst)))\n",
    "print(\"Mediana inferior dos tokens por documento: \" + str(statistics.median_low(lista_sentencas_por_inst)))\n",
    "print(\"Mediana superior dos tokens por documento: \" + str(statistics.median_high(lista_sentencas_por_inst)))\n",
    "print(\"Mediana, ou o 50º percentil dos dados agrupados dos tokens por documento: \" + str(statistics.median_grouped(lista_sentencas_por_inst)))\n",
    "print(\"-----Moda-----\")\n",
    "print(\"Moda dos tokens por documento: \" + str(statistics.mode(lista_sentencas_por_inst)))\n",
    "print(\"-----Desvio Padrão-----\")\n",
    "print(\"Desvio padrão populacional dos tokens por documento: \" + str(statistics.pstdev(lista_sentencas_por_inst)))\n",
    "print(\"Desvio padrão amostral dos tokens por documento: \" + str(statistics.stdev(lista_sentencas_por_inst)))\n",
    "print(\"-----Variância-----\")\n",
    "print(\"Variância populacional dos tokens por documento: \" + str(statistics.pvariance(lista_sentencas_por_inst)))\n",
    "print(\"Variância amostral dos tokens por documento: \" + str(statistics.variance(lista_sentencas_por_inst)))\n",
    "print(\"-----Quantiles-----\")\n",
    "print(\"Quantiles dos tokens por documento: \" + str(statistics.quantiles(lista_sentencas_por_inst)))"
   ]
  },
  {
   "cell_type": "markdown",
   "metadata": {},
   "source": [
    "#### Gráficos"
   ]
  },
  {
   "cell_type": "code",
   "execution_count": 16,
   "metadata": {},
   "outputs": [
    {
     "data": {
      "image/png": "[encoded data removed]",
      "text/plain": [
       "<Figure size 432x288 with 1 Axes>"
      ]
     },
     "metadata": {
      "needs_background": "light"
     },
     "output_type": "display_data"
    }
   ],
   "source": [
    "plt.hist(lista_sentencas_por_inst)\n",
    "plt.xlabel('Quantidades de sentenças')\n",
    "plt.ylabel('Frequência')\n",
    "plt.title('Histograma de Sentenças por Documento')\n",
    "plt.grid()\n",
    "plt.show()"
   ]
  },
  {
   "cell_type": "code",
   "execution_count": null,
   "metadata": {},
   "outputs": [],
   "source": []
  }
 ],
 "metadata": {
  "kernelspec": {
   "display_name": "Python 3",
   "language": "python",
   "name": "python3"
  },
  "language_info": {
   "codemirror_mode": {
    "name": "ipython",
    "version": 3
   },
   "file_extension": ".py",
   "mimetype": "text/x-python",
   "name": "python",
   "nbconvert_exporter": "python",
   "pygments_lexer": "ipython3",
   "version": "3.8.5"
  }
 },
 "nbformat": 4,
 "nbformat_minor": 5
}
