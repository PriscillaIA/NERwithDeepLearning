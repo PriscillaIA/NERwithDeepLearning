{
 "cells": [
  {
   "cell_type": "markdown",
   "metadata": {},
   "source": [
    "### Import's"
   ]
  },
  {
   "cell_type": "code",
   "execution_count": 11,
   "metadata": {},
   "outputs": [],
   "source": [
    "import pandas as pd\n",
    "import statistics\n",
    "from collections import Counter\n",
    "import matplotlib.pyplot as plt\n",
    "import json\n",
    "import string\n",
    "import glob\n",
    "import numpy as np\n",
    "import seaborn as sns \n",
    "from scipy.stats import kurtosis\n",
    "from scipy.stats import skew\n",
    "from collections import Counter"
   ]
  },
  {
   "cell_type": "markdown",
   "metadata": {},
   "source": [
    "### Lendo arquivo csv"
   ]
  },
  {
   "cell_type": "code",
   "execution_count": 12,
   "metadata": {},
   "outputs": [
    {
     "name": "stdout",
     "output_type": "stream",
     "text": [
      "Quantidade de planilhas: 1\n"
     ]
    },
    {
     "data": {
      "text/plain": [
       "['.\\\\dataset_rotulado.csv']"
      ]
     },
     "execution_count": 12,
     "metadata": {},
     "output_type": "execute_result"
    }
   ],
   "source": [
    "data_path = \"./*.csv\"\n",
    "files_Lists = glob.glob (data_path)\n",
    "print('Quantidade de planilhas:', len(files_Lists))\n",
    "files_Lists "
   ]
  },
  {
   "cell_type": "code",
   "execution_count": 13,
   "metadata": {},
   "outputs": [],
   "source": [
    "dataFrames_Lists = []\n",
    "def cria_DataFrames(files_Lists, dataFrames_Lists):    \n",
    "    for f in files_Lists:\n",
    "        csv = pd.read_csv(f) \n",
    "        csv.drop(columns = ['Unnamed: 0'], inplace=True)\n",
    "        dataFrames_Lists.append(csv) \n",
    "    print('Quantidade de datasets:',len(dataFrames_Lists))"
   ]
  },
  {
   "cell_type": "code",
   "execution_count": 14,
   "metadata": {},
   "outputs": [
    {
     "name": "stdout",
     "output_type": "stream",
     "text": [
      "Quantidade de datasets: 1\n"
     ]
    }
   ],
   "source": [
    "cria_DataFrames(files_Lists,dataFrames_Lists)"
   ]
  },
  {
   "cell_type": "markdown",
   "metadata": {},
   "source": [
    "#### Pegando as linhas referentes as pontuações, para removelas do dataset"
   ]
  },
  {
   "cell_type": "raw",
   "metadata": {},
   "source": [
    "## Função para verificar se tratra de uma linha com pontuação e sem rotulo\n",
    "def remove_pontuacao(dado):\n",
    "    if dado['Palavras'] in string.punctuation and dado['Rotulo'] == 'O':\n",
    "        return True\n",
    "## OBS: Para saber o que é removido basta dar o comando 'string.punctuation' em um célula nova"
   ]
  },
  {
   "cell_type": "raw",
   "metadata": {},
   "source": [
    "## Pegando lista de indexes, onde na coluna 'Palavras', trata-se de uma linha com pontuação e sem rotulo\n",
    "lista_remove += list(df_original.apply(remove_pontuacao, axis=1).dropna().index)"
   ]
  },
  {
   "cell_type": "raw",
   "metadata": {
    "scrolled": true
   },
   "source": [
    "## Retira do dataset os valores indesejados\n",
    "df_limpa = df_original.drop(axis=0, index=lista_remove)\n",
    "display(df_limpa)"
   ]
  },
  {
   "cell_type": "markdown",
   "metadata": {},
   "source": [
    "#### Função para retirar a marcação IOB"
   ]
  },
  {
   "cell_type": "code",
   "execution_count": 20,
   "metadata": {},
   "outputs": [],
   "source": [
    "#Tem a função de retirar o I-rotulo e B-rotulo para visualização crua dos rotulos\n",
    "## Recebe uma lista de rotulações no formato IOB e devolve uma lista com as rotulações sem o formato IOB\n",
    "def retira_IOB(lista_rotulacoes):\n",
    "    dict_rotulacoes = dict({})\n",
    "    for dado in lista_rotulacoes:\n",
    "        if dado[0] != 'O':\n",
    "            if dado[0][2:] not in dict_rotulacoes.keys():\n",
    "                dict_rotulacoes.update(dict({dado[0][2:] : 0}))\n",
    "            dict_rotulacoes[dado[0][2:]] += dado[1]\n",
    "        else:\n",
    "            dict_rotulacoes[dado[0]] = dado[1]\n",
    "    return list(dict_rotulacoes.items()) ## Quantidades de vezes que cada entidade apareceu na lista original\n",
    "## Função para contabilizar a quantidade de vezes que a entidade aparece na lista com as rotulações em formato IOB\n",
    "def contabiliza_rotulos(lista_rotulacoes):\n",
    "    dict_rotulacoes = dict({})\n",
    "    for dado in lista_rotulacoes:\n",
    "        if dado[0][:2] == 'B-' and dado[0] != 'O':\n",
    "            if dado[0][2:] not in dict_rotulacoes.keys():\n",
    "                dict_rotulacoes.update(dict({dado[0][2:] : 0}))\n",
    "            dict_rotulacoes[dado[0][2:]] += dado[1]\n",
    "        elif dado[0] == 'O':\n",
    "            dict_rotulacoes[dado[0]] = dado[1]\n",
    "    return list(dict_rotulacoes.items()) \n",
    "\n",
    "## Preparando os dados para pegar a quantidade de tokens por setença\n",
    "def func_lista_tokens_por_sentenca(df_original):\n",
    "    lista_tokens_por_sentenca = list(df_original.groupby(by=\"Sentenca\")[\"Palavras\"].count()) ## Agrupa as sentenças, e contabiliza quantos tokens tem por setença e transforma essa contagem em lista\n",
    "    return lista_tokens_por_sentenca\n",
    "#lista_tokens_por_sentenca\n",
    "\n",
    "## Pegando informações de token por instância\n",
    "def func_lista_tokens_por_inst(df_original):\n",
    "    lista_tokens_por_inst = list(df_original.groupby(by='Documento')['Palavras'].count())\n",
    "    return lista_tokens_por_inst\n",
    "#lista_tokens_por_inst\n",
    "\n",
    "## Pegando informações de sentenças por instância\n",
    "lista_sentencas_por_inst = []\n",
    "def func_lista_sentencas_por_inst(df_original):\n",
    "    for dado in df_original.groupby(by='Documento')['Sentenca']:\n",
    "        lista_sentencas_por_inst.append(len(Counter(list(dado[1])).keys()))\n",
    "    return lista_sentencas_por_inst\n",
    "#lista_sentencas_por_inst\n",
    "\n",
    "## Preparando para pegar as quantidades de rotulações existente em todo dataset, a variavel guarda o total de rotulações por token em todo o dataset\n",
    "def func_lista_qtdRotulacoes_IOB_por_token(df_original):\n",
    "    lista_qtdRotulacoes_IOB_por_token = [[x[0], x[1][\"Palavras\"].count()] for x in df_original.groupby(by=\"Rotulo\")] ## Agrupa por rotulação e calcucula quantos tokens tem por rotulação\n",
    "    return lista_qtdRotulacoes_IOB_por_token\n",
    "## A varivel guarda o total de rotulações por token em todo data set sem o formato IOB\n",
    "def func_lista_qtdRotulacoes_por_token(df_original):\n",
    "    lista_qtdRotulacoes_IOB_por_token=func_lista_qtdRotulacoes_IOB_por_token(df_original)\n",
    "    lista_qtdRotulacoes_por_token = retira_IOB(lista_qtdRotulacoes_IOB_por_token)\n",
    "    return lista_qtdRotulacoes_por_token\n",
    "## A variavel guarda apenas as quantidade de categoria de entidades rotuladas em todo o dataset\n",
    "def func_lista_qtdRotulacoes(df_original):\n",
    "    lista_qtdRotulacoes_IOB_por_token=func_lista_qtdRotulacoes_IOB_por_token(df_original)\n",
    "    lista_qtdRotulacoes = contabiliza_rotulos(func_lista_qtdRotulacoes_IOB_por_token(df_original))\n",
    "    return lista_qtdRotulacoes\n",
    "\n",
    "## Preparando para pegar rotulações por sentença de todo dataset\n",
    "def func_lista_rotulos_por_sentenca_IOB_por_token(df_original):\n",
    "    lista_rotulos_por_sentenca_IOB_por_token = []\n",
    "    for dado in df_original.groupby(by=\"Sentenca\"):\n",
    "        lista_rotulos_por_sentenca_IOB_por_token.append([dado[0], list(Counter(list(dado[1][\"Rotulo\"])).items())])\n",
    "    return lista_rotulos_por_sentenca_IOB_por_token  \n",
    "## Cria uma versão da lista sem os marcadores do formato IOB\n",
    "def func_lista_rotulos_por_sentenca_por_token(df_original):\n",
    "    lista_rotulos_por_sentenca_IOB_por_token = func_lista_rotulos_por_sentenca_IOB_por_token(df_original)\n",
    "    lista_rotulos_por_sentenca_por_token = []\n",
    "    for sentenca in lista_rotulos_por_sentenca_IOB_por_token:\n",
    "        lista_rotulos_por_sentenca_por_token.append([sentenca[0], retira_IOB(sentenca[1])])\n",
    "    return lista_rotulos_por_sentenca_por_token\n",
    "## Extrai a quantidade de categoria de entidades rotuladas em cada sentença de todo o dataset\n",
    "def func_lista_rotulos_por_sentenca(df_original):\n",
    "    lista_rotulos_por_sentenca_IOB_por_token = func_lista_rotulos_por_sentenca_IOB_por_token(df_original)\n",
    "    lista_rotulos_por_sentenca = []\n",
    "    for sentenca in lista_rotulos_por_sentenca_IOB_por_token:\n",
    "        lista_rotulos_por_sentenca.append([sentenca[0], contabiliza_rotulos(sentenca[1])])\n",
    "    return lista_rotulos_por_sentenca\n",
    "\n",
    "## Preparando para pegar rotulações por instância de todo dataset\n",
    "def func_lista_rotulacoes_por_inst_IOB_por_token(df_original):\n",
    "    lista_rotulacoes_por_inst_IOB_por_token = []\n",
    "    for dado in df_original.groupby(by=\"Documento\"):\n",
    "        lista_rotulacoes_por_inst_IOB_por_token.append([dado[0], list(Counter(list(dado[1][\"Rotulo\"])).items())])\n",
    "    return lista_rotulacoes_por_inst_IOB_por_token\n",
    "## Preparando para extrair rotulações por instância sem IOB\n",
    "def func_lista_rotulacoes_por_inst_por_token(df_original):\n",
    "    lista_rotulacoes_por_inst_IOB_por_token = func_lista_rotulacoes_por_inst_IOB_por_token(df_original)\n",
    "    lista_rotulacoes_por_inst_por_token = []\n",
    "    for instancia in lista_rotulacoes_por_inst_IOB_por_token:\n",
    "        lista_rotulacoes_por_inst_por_token.append([instancia[0], retira_IOB(instancia[1])])\n",
    "    return lista_rotulacoes_por_inst_por_token\n",
    "## Extrai a quantidade de categoria de entidades rotuladas em cada instância\n",
    "def func_lista_rotulacoes_por_inst(df_original):\n",
    "    lista_rotulacoes_por_inst_IOB_por_token = func_lista_rotulacoes_por_inst_IOB_por_token(df_original)\n",
    "    lista_rotulacoes_por_inst = []\n",
    "    for instancia in lista_rotulacoes_por_inst_IOB_por_token:\n",
    "        lista_rotulacoes_por_inst.append([instancia[0], contabiliza_rotulos(instancia[1])])\n",
    "    return lista_rotulacoes_por_inst\n",
    "\n",
    "## Preparando para pegar rotulações por token\n",
    "def func_lista_rotulacoes_por_tokens_IOB(df_original):\n",
    "    lista_rotulacoes_por_tokens_IOB = []\n",
    "    for dado in df_original.groupby(by=\"Palavras\"):\n",
    "        lista_rotulacoes_por_tokens_IOB.append([dado[0], list(Counter(list(dado[1][\"Rotulo\"])).items())])\n",
    "    return lista_rotulacoes_por_tokens_IOB\n",
    "## Preparando para extrair rotulações por token sem IOB\n",
    "def func_lista_rotulacoes_por_tokens(df_original):\n",
    "    lista_rotulacoes_por_tokens_IOB = func_lista_rotulacoes_por_tokens_IOB(df_original)\n",
    "    lista_rotulacoes_por_tokens = []\n",
    "    for token in lista_rotulacoes_por_tokens_IOB:\n",
    "        lista_rotulacoes_por_tokens.append([token[0], retira_IOB(token[1])])\n",
    "    return lista_rotulacoes_por_tokens"
   ]
  },
  {
   "cell_type": "markdown",
   "metadata": {},
   "source": [
    "### Aplicando a função ao dataset"
   ]
  },
  {
   "cell_type": "code",
   "execution_count": 24,
   "metadata": {},
   "outputs": [],
   "source": [
    "lista_tokens_por_sentenca=func_lista_tokens_por_sentenca(dataFrames_Lists[0])\n",
    "lista_tokens_por_inst=func_lista_tokens_por_inst(dataFrames_Lists[0])\n",
    "lista_sentencas_por_inst = func_lista_sentencas_por_inst(dataFrames_Lists[0])\n",
    "lista_qtdRotulacoes_IOB_por_token=func_lista_qtdRotulacoes_IOB_por_token(dataFrames_Lists[0])\n",
    "lista_qtdRotulacoes_por_token=func_lista_qtdRotulacoes_por_token(dataFrames_Lists[0])\n",
    "lista_qtdRotulacoes=func_lista_qtdRotulacoes(dataFrames_Lists[0])\n",
    "lista_rotulos_por_sentenca_IOB_por_token = func_lista_rotulos_por_sentenca_IOB_por_token(dataFrames_Lists[0])\n",
    "lista_rotulos_por_sentenca=func_lista_rotulos_por_sentenca(dataFrames_Lists[0])\n",
    "lista_rotulacoes_por_inst_IOB_por_token=func_lista_rotulacoes_por_inst_IOB_por_token(dataFrames_Lists[0])\n",
    "lista_rotulacoes_por_inst_por_token=func_lista_rotulacoes_por_inst_por_token(dataFrames_Lists[0])\n",
    "lista_rotulacoes_por_inst=func_lista_rotulacoes_por_inst(dataFrames_Lists[0])\n",
    "lista_rotulacoes_por_tokens_IOB=func_lista_rotulacoes_por_tokens_IOB(dataFrames_Lists[0])\n",
    "lista_rotulacoes_por_tokens=func_lista_rotulacoes_por_tokens(dataFrames_Lists[0])"
   ]
  },
  {
   "cell_type": "markdown",
   "metadata": {},
   "source": [
    "### Estatísticas"
   ]
  },
  {
   "cell_type": "markdown",
   "metadata": {},
   "source": [
    "Dados Demográficos do Dataset cachacaNER"
   ]
  },
  {
   "cell_type": "code",
   "execution_count": 25,
   "metadata": {},
   "outputs": [
    {
     "name": "stdout",
     "output_type": "stream",
     "text": [
      "-----QUANTIDADES-----\n",
      "Quantidade de documentos: 1000\n",
      "Quantidade de sentenças: 13628\n",
      "Quantidade de tokens: 183019\n"
     ]
    }
   ],
   "source": [
    "print(\"-----QUANTIDADES-----\")\n",
    "print(\"Quantidade de documentos: \" + str(len(lista_tokens_por_inst)))\n",
    "print(\"Quantidade de sentenças: \" + str(len(lista_tokens_por_sentenca)))\n",
    "print(\"Quantidade de tokens: \" + str(len(dataFrames_Lists[0])))"
   ]
  },
  {
   "cell_type": "code",
   "execution_count": 26,
   "metadata": {},
   "outputs": [
    {
     "data": {
      "text/plain": [
       "[('CARACTERISTICA_SENSORIAL_CONSISTÊNCIA', 278),\n",
       " ('EQUIPAMENTO_DESTILACAO', 292),\n",
       " ('CARACTERISTICA_SENSORIAL_COR', 562),\n",
       " ('NOME_PESSOA', 743),\n",
       " ('PRECO', 885),\n",
       " ('CARACTERISTICA_SENSORIAL_SABOR', 906),\n",
       " ('CARACTERISTICA_SENSORIAL_AROMA', 935),\n",
       " ('NOME_ORGANIZACAO', 974),\n",
       " ('RECIPIENTE_ARMAZENAMENTO', 991),\n",
       " ('GRADUACAO_ALCOOLICA', 1144),\n",
       " ('TEMPO_ARMAZENAMENTO', 1210),\n",
       " ('TEMPO', 1302),\n",
       " ('CLASSIFICACAO_BEBIDA', 1325),\n",
       " ('VOLUME', 2532),\n",
       " ('TIPO_MADEIRA', 2557),\n",
       " ('NOME_BEBIDA', 3171),\n",
       " ('NOME_LOCAL', 4232),\n",
       " ('O', 143805)]"
      ]
     },
     "execution_count": 26,
     "metadata": {},
     "output_type": "execute_result"
    }
   ],
   "source": [
    "lista_qtdRotulacoes = sorted(lista_qtdRotulacoes, key=lambda i: i[-1])\n",
    "lista_qtdRotulacoes"
   ]
  },
  {
   "cell_type": "markdown",
   "metadata": {},
   "source": [
    "#### Gráficos com informações sobre as Categorias"
   ]
  },
  {
   "cell_type": "markdown",
   "metadata": {},
   "source": [
    "Quantidade de rotulações por categoria sem IOB"
   ]
  },
  {
   "cell_type": "code",
   "execution_count": 218,
   "metadata": {},
   "outputs": [
    {
     "name": "stdout",
     "output_type": "stream",
     "text": [
      "Total de tokens não rotulados: 143805\n"
     ]
    },
    {
     "data": {
      "image/png": "[encoded data removed]",
      "text/plain": [
       "<Figure size 720x360 with 1 Axes>"
      ]
     },
     "metadata": {
      "needs_background": "light"
     },
     "output_type": "display_data"
    }
   ],
   "source": [
    "import os        \n",
    "lista_aux = [x for x in lista_qtdRotulacoes if x[0] != 'O']\n",
    "valor_O = [x[1] for x in lista_qtdRotulacoes if x[0] == 'O']\n",
    "print(\"Total de tokens não rotulados: \" + str(valor_O[0]))\n",
    "\n",
    "grupos = [x[0] for x in lista_aux]\n",
    "valores = [x[1] for x in lista_aux]\n",
    "#plt.subplots(1,1, figsize=(7,5))\n",
    "plt.figure(figsize = (10,5))\n",
    "plt.barh(grupos, valores)\n",
    "\n",
    "\n",
    "for index, item in enumerate(valores):\n",
    "    plt.text(valores[index],index,valores[index],  va=\"center_baseline\",ha=\"right\",fontsize=14)\n",
    "    \n",
    "plt.title('Entidades por Categorias',fontsize=15)\n",
    "plt.xlabel('Quantidade de Entidades', fontweight='bold', fontsize=14.0)\n",
    "plt.ylabel('Categorias', fontweight='bold', fontsize=14.0)\n",
    "plt.savefig(os.path.join('25.png'), dpi=300, format='png', bbox_inches='tight') \n",
    "plt.show()"
   ]
  },
  {
   "cell_type": "markdown",
   "metadata": {},
   "source": [
    "### TOKENS POR SENTENÇA"
   ]
  },
  {
   "cell_type": "code",
   "execution_count": 34,
   "metadata": {},
   "outputs": [
    {
     "name": "stdout",
     "output_type": "stream",
     "text": [
      "-------TOKENS POR SENTENÇAS-----------\n",
      "-----QUANTIDADES-----\n",
      "Quantidade de sentenças: 13628\n",
      "Quantidade de tokens: 183019\n",
      "Quantidade máxima de tokens em uma sentença: 125\n",
      "Quantidade mínima de tokens em uma sentença: 1\n",
      "-----Médias-----\n",
      "Média aritmética dos tokens por sentença: 13.42963017317288\n",
      "Média geométrica dos tokens por sentença: 9.408627430873537\n",
      "Média harmônica dos tokens por sentença: 6.72188493687561\n",
      "-----Medianas-----\n",
      "Mediana dos tokens por setença: 9.0\n",
      "Mediana inferior dos tokens por setença: 9\n",
      "Mediana superior dos tokens por setença: 9\n",
      "Mediana, ou o 50º percentil dos dados agrupados dos tokens por setença: 8.675491679273827\n",
      "-----Moda-----\n",
      "Moda dos tokens por sentença: 6\n",
      "-----Desvio Padrão-----\n",
      "Desvio padrão populacional dos tokens por sentença: 12.321771697828726\n",
      "Desvio padrão amostral dos tokens por sentença: 12.322223798278266\n",
      "-----Variância-----\n",
      "Variância populacional dos tokens por sentença: 151.82605777341303\n",
      "Variância amostral dos tokens por sentença: 151.83719933485526\n",
      "-----Quantiles-----\n",
      "Quantiles dos tokens por sentença: [5.0, 9.0, 19.0]\n",
      "Variancia dos tokens por sentença: 151.83719933485526\n",
      "Assimetria da quantidade de tokens por sentença: 2.0094173277206413\n",
      "Curtose da quantidade de tokens por sentença: 5.846301440850073\n"
     ]
    }
   ],
   "source": [
    "print('-------TOKENS POR SENTENÇAS-----------')\n",
    "print(\"-----QUANTIDADES-----\")\n",
    "print(\"Quantidade de sentenças: \" + str(len(lista_tokens_por_sentenca)))\n",
    "print(\"Quantidade de tokens: \" + str(sum(lista_tokens_por_sentenca)))\n",
    "print(\"Quantidade máxima de tokens em uma sentença: \" + str(max(lista_tokens_por_sentenca)))\n",
    "print(\"Quantidade mínima de tokens em uma sentença: \" + str(min(lista_tokens_por_sentenca)))\n",
    "print(\"-----Médias-----\")\n",
    "print(\"Média aritmética dos tokens por sentença: \" + str(statistics.mean(lista_tokens_por_sentenca)))\n",
    "print(\"Média geométrica dos tokens por sentença: \" + str(statistics.geometric_mean(lista_tokens_por_sentenca)))\n",
    "print(\"Média harmônica dos tokens por sentença: \" + str(statistics.harmonic_mean(lista_tokens_por_sentenca)))\n",
    "print(\"-----Medianas-----\")\n",
    "print(\"Mediana dos tokens por setença: \" + str(statistics.median(lista_tokens_por_sentenca)))\n",
    "print(\"Mediana inferior dos tokens por setença: \" + str(statistics.median_low(lista_tokens_por_sentenca)))\n",
    "print(\"Mediana superior dos tokens por setença: \" + str(statistics.median_high(lista_tokens_por_sentenca)))\n",
    "print(\"Mediana, ou o 50º percentil dos dados agrupados dos tokens por setença: \" + str(statistics.median_grouped(lista_tokens_por_sentenca)))\n",
    "print(\"-----Moda-----\")\n",
    "print(\"Moda dos tokens por sentença: \" + str(statistics.mode(lista_tokens_por_sentenca)))\n",
    "print(\"-----Desvio Padrão-----\")\n",
    "print(\"Desvio padrão populacional dos tokens por sentença: \" + str(statistics.pstdev(lista_tokens_por_sentenca)))\n",
    "print(\"Desvio padrão amostral dos tokens por sentença: \" + str(statistics.stdev(lista_tokens_por_sentenca)))\n",
    "print(\"-----Variância-----\")\n",
    "print(\"Variância populacional dos tokens por sentença: \" + str(statistics.pvariance(lista_tokens_por_sentenca)))\n",
    "print(\"Variância amostral dos tokens por sentença: \" + str(statistics.variance(lista_tokens_por_sentenca)))\n",
    "print(\"-----Quantiles-----\")\n",
    "print(\"Quantiles dos tokens por sentença: \" + str(statistics.quantiles(lista_tokens_por_sentenca)))\n",
    "print(\"Variancia dos tokens por sentença: \" + str(statistics.variance(lista_tokens_por_sentenca)))\n",
    "#print(\"Amplitude dos tokens por sentença: \" + str(np.amax(lista_tokens_por_sentenca) - np.amin(lista_tokens_por_sentenca)))\n",
    "print(\"Assimetria da quantidade de tokens por sentença: \" + str(skew(lista_tokens_por_sentenca)))\n",
    "print(\"Curtose da quantidade de tokens por sentença: \" + str(kurtosis(lista_tokens_por_sentenca)))"
   ]
  },
  {
   "cell_type": "markdown",
   "metadata": {},
   "source": [
    "#### Gráficos"
   ]
  },
  {
   "cell_type": "code",
   "execution_count": 214,
   "metadata": {},
   "outputs": [
    {
     "data": {
      "image/png": "[encoded data removed]",
      "text/plain": [
       "<Figure size 540x360 with 1 Axes>"
      ]
     },
     "metadata": {
      "needs_background": "light"
     },
     "output_type": "display_data"
    }
   ],
   "source": [
    "#plt.rcParams[\"figure.figsize\"] = [7.0, 5.0]\n",
    "#plt.rcParams[\"figure.autolayout\"] = True\n",
    "\n",
    "fig, axxx = plt.subplots(figsize=(7.5, 5.0))\n",
    "bins_list = [1, 10, 20, 30, 40, 50,60,70,80,90,100,125]\n",
    "axxx.hist(lista_tokens_por_sentenca, bins=bins_list)\n",
    "\n",
    "for rect in axxx.patches:\n",
    "    height = rect.get_height()\n",
    "    axxx.annotate(f'{int(height)}', xy=(rect.get_x()+rect.get_width()/2, height), \n",
    "                xytext=(0, 5), textcoords='offset points', ha='center', va='center') \n",
    "\n",
    "plt.xlabel('Intervalo de Quantidade de tokens',fontweight='bold', fontsize=15)\n",
    "plt.ylabel('Frequência nas Sentenças',fontweight='bold', fontsize=13.9)\n",
    "plt.title('Histograma - Tokens nas Sentenças', fontsize=14.0) \n",
    "#plt.grid()\n",
    "plt.savefig('31.png', dpi=300, format='png', bbox_inches='tight')\n",
    "plt.show()"
   ]
  },
  {
   "cell_type": "markdown",
   "metadata": {},
   "source": [
    "### TOKENS POR DOCUMENTO"
   ]
  },
  {
   "cell_type": "code",
   "execution_count": 229,
   "metadata": {},
   "outputs": [
    {
     "name": "stdout",
     "output_type": "stream",
     "text": [
      "-------TOKENS POR DOCUMENTOS-----------\n",
      "-----QUANTIDADES-----\n",
      "Quantidade de Documentos: 1000\n",
      "Quantidade de tokens: 183019\n",
      "Quantidade máxima de tokens em uma documento: 974\n",
      "Quantidade mínima de tokens em uma documento: 17\n",
      "-----Médias-----\n",
      "Média aritmética dos tokens por documento: 183.019\n",
      "Média geométrica dos tokens por documento: 143.28836122656264\n",
      "Média harmônica dos tokens por documento: 112.14275337083208\n",
      "-----Medianas-----\n",
      "Mediana dos tokens por documento: 140.5\n",
      "Mediana inferior dos tokens por documento: 140\n",
      "Mediana superior dos tokens por documento: 141\n",
      "Mediana, ou o 50º percentil dos dados agrupados dos tokens por documento: 140.5\n",
      "-----Moda-----\n",
      "Moda dos tokens por documento: 175\n",
      "-----Desvio Padrão-----\n",
      "Desvio padrão populacional dos tokens por documento: 136.98065060073264\n",
      "Desvio padrão amostral dos tokens por documento: 137.04919233662093\n",
      "-----Variância-----\n",
      "Variância populacional dos tokens por documento: 18763.698639\n",
      "Variância amostral dos tokens por documento: 18782.48112012012\n",
      "-----Quantiles-----\n",
      "Quantiles dos tokens por documento: [85.25, 140.5, 234.0]\n",
      "Variancia dos tokens por sentença: 18782.48112012012\n",
      "Assimetria da quantidade de tokens por sentença: 1.724060828903004\n",
      "Curtose da quantidade de tokens por documento: 3.722134154111843\n"
     ]
    }
   ],
   "source": [
    "print('-------TOKENS POR DOCUMENTOS-----------')\n",
    "print(\"-----QUANTIDADES-----\")\n",
    "print(\"Quantidade de Documentos: \" + str(len(lista_tokens_por_inst)))\n",
    "print(\"Quantidade de tokens: \" + str(sum(lista_tokens_por_inst)))\n",
    "print(\"Quantidade máxima de tokens em uma documento: \" + str(max(lista_tokens_por_inst)))\n",
    "print(\"Quantidade mínima de tokens em uma documento: \" + str(min(lista_tokens_por_inst)))\n",
    "print(\"-----Médias-----\")\n",
    "print(\"Média aritmética dos tokens por documento: \" + str(statistics.mean(lista_tokens_por_inst)))\n",
    "print(\"Média geométrica dos tokens por documento: \" + str(statistics.geometric_mean(lista_tokens_por_inst)))\n",
    "print(\"Média harmônica dos tokens por documento: \" + str(statistics.harmonic_mean(lista_tokens_por_inst)))\n",
    "print(\"-----Medianas-----\")\n",
    "print(\"Mediana dos tokens por documento: \" + str(statistics.median(lista_tokens_por_inst)))\n",
    "print(\"Mediana inferior dos tokens por documento: \" + str(statistics.median_low(lista_tokens_por_inst)))\n",
    "print(\"Mediana superior dos tokens por documento: \" + str(statistics.median_high(lista_tokens_por_inst)))\n",
    "print(\"Mediana, ou o 50º percentil dos dados agrupados dos tokens por documento: \" + str(statistics.median_grouped(lista_tokens_por_inst)))\n",
    "print(\"-----Moda-----\")\n",
    "print(\"Moda dos tokens por documento: \" + str(statistics.mode(lista_tokens_por_inst)))\n",
    "print(\"-----Desvio Padrão-----\")\n",
    "print(\"Desvio padrão populacional dos tokens por documento: \" + str(statistics.pstdev(lista_tokens_por_inst)))\n",
    "print(\"Desvio padrão amostral dos tokens por documento: \" + str(statistics.stdev(lista_tokens_por_inst)))\n",
    "print(\"-----Variância-----\")\n",
    "print(\"Variância populacional dos tokens por documento: \" + str(statistics.pvariance(lista_tokens_por_inst)))\n",
    "print(\"Variância amostral dos tokens por documento: \" + str(statistics.variance(lista_tokens_por_inst)))\n",
    "print(\"-----Quantiles-----\")\n",
    "print(\"Quantiles dos tokens por documento: \" + str(statistics.quantiles(lista_tokens_por_inst)))\n",
    "print(\"Variancia dos tokens por sentença: \" + str(statistics.variance(lista_tokens_por_inst)))\n",
    "print(\"Assimetria da quantidade de tokens por sentença: \" + str(skew(lista_tokens_por_inst)))\n",
    "print(\"Curtose da quantidade de tokens por documento: \" + str(kurtosis(lista_tokens_por_inst)))"
   ]
  },
  {
   "cell_type": "markdown",
   "metadata": {},
   "source": [
    "#### Gráficos"
   ]
  },
  {
   "cell_type": "code",
   "execution_count": 215,
   "metadata": {},
   "outputs": [
    {
     "data": {
      "image/png": "[encoded data removed]",
      "text/plain": [
       "<Figure size 540x360 with 1 Axes>"
      ]
     },
     "metadata": {
      "needs_background": "light"
     },
     "output_type": "display_data"
    }
   ],
   "source": [
    "#plt.rcParams[\"figure.figsize\"] = [7.0, 5.0]\n",
    "#plt.rcParams[\"figure.autolayout\"] = True\n",
    "\n",
    "fig, axx = plt.subplots(figsize=(7.5, 5.0))\n",
    "bins_list = [17, 100,200,300,400,500,600,700,800,900, 974]\n",
    "axx.hist(lista_tokens_por_inst, bins=bins_list)\n",
    "\n",
    "for rect in axx.patches:\n",
    "    height = rect.get_height()\n",
    "    axx.annotate(f'{int(height)}', xy=(rect.get_x()+rect.get_width()/2, height), \n",
    "                xytext=(0, 5), textcoords='offset points', ha='center', va='center') \n",
    "    \n",
    "plt.xlabel('Intervalo de Quantidade de tokens',fontweight='bold', fontsize=15)\n",
    "plt.ylabel('Frequência nos Documentos',fontweight='bold', fontsize=14.0)\n",
    "plt.title('Histograma - Tokens nos Documentos', fontsize=14.0) \n",
    "#plt.grid()\n",
    "plt.savefig('32.png', dpi=300, format='png', bbox_inches='tight')\n",
    "plt.show()"
   ]
  },
  {
   "cell_type": "markdown",
   "metadata": {},
   "source": [
    "### SENTENÇAS POR DOCUMENTO"
   ]
  },
  {
   "cell_type": "code",
   "execution_count": 230,
   "metadata": {},
   "outputs": [
    {
     "name": "stdout",
     "output_type": "stream",
     "text": [
      "-------SENTENÇAS POR DOCUMENTOS-----------\n",
      "-----QUANTIDADES-----\n",
      "Quantidade de documentos: 1000\n",
      "Quantidade de sentenças: 13628\n",
      "Quantidade máxima de sentenças em uma documento: 45\n",
      "Quantidade mínima de sentenças em uma documento: 3\n",
      "-----Médias-----\n",
      "Média aritmética das sentenças por documento: 13.628\n",
      "Média geométrica das sentenças por documento: 11.76785482525102\n",
      "Média harmônica das sentenças por documento: 10.10657256838058\n",
      "-----Medianas-----\n",
      "Mediana das sentenças por documento: 12.0\n",
      "Mediana inferior das sentenças por documento: 12\n",
      "Mediana superior das sentenças por documento: 12\n",
      "Mediana, ou o 50º percentil dos dados agrupados das sentenças por documento: 11.741379310344827\n",
      "-----Moda-----\n",
      "Moda das sentenças por documento: 9\n",
      "-----Desvio Padrão-----\n",
      "Desvio padrão populacional das sentenças por documento: 7.386854269579169\n",
      "Desvio padrão amostral das sentenças por documento: 7.390550469094723\n",
      "-----Variância-----\n",
      "Variância populacional das sentenças por documento: 54.565616\n",
      "Variância amostral dos das sentenças documento: 54.62023623623624\n",
      "-----Quantiles-----\n",
      "Quantiles das sentenças por documento: [8.0, 12.0, 19.0]\n",
      "Assimetria da quantidade de tokens por sentença: 0.9123187030756706\n",
      "Curtose da quantidade de senteças por documento: 0.37581459241025383\n"
     ]
    }
   ],
   "source": [
    "print('-------SENTENÇAS POR DOCUMENTOS-----------')\n",
    "print(\"-----QUANTIDADES-----\")\n",
    "print(\"Quantidade de documentos: \" + str(len(lista_sentencas_por_inst)))\n",
    "print(\"Quantidade de sentenças: \" + str(sum(lista_sentencas_por_inst)))\n",
    "print(\"Quantidade máxima de sentenças em uma documento: \" + str(max(lista_sentencas_por_inst)))\n",
    "print(\"Quantidade mínima de sentenças em uma documento: \" + str(min(lista_sentencas_por_inst)))\n",
    "print(\"-----Médias-----\")\n",
    "print(\"Média aritmética das sentenças por documento: \" + str(statistics.mean(lista_sentencas_por_inst)))\n",
    "print(\"Média geométrica das sentenças por documento: \" + str(statistics.geometric_mean(lista_sentencas_por_inst)))\n",
    "print(\"Média harmônica das sentenças por documento: \" + str(statistics.harmonic_mean(lista_sentencas_por_inst)))\n",
    "print(\"-----Medianas-----\")\n",
    "print(\"Mediana das sentenças por documento: \" + str(statistics.median(lista_sentencas_por_inst)))\n",
    "print(\"Mediana inferior das sentenças por documento: \" + str(statistics.median_low(lista_sentencas_por_inst)))\n",
    "print(\"Mediana superior das sentenças por documento: \" + str(statistics.median_high(lista_sentencas_por_inst)))\n",
    "print(\"Mediana, ou o 50º percentil dos dados agrupados das sentenças por documento: \" + str(statistics.median_grouped(lista_sentencas_por_inst)))\n",
    "print(\"-----Moda-----\")\n",
    "print(\"Moda das sentenças por documento: \" + str(statistics.mode(lista_sentencas_por_inst)))\n",
    "print(\"-----Desvio Padrão-----\")\n",
    "print(\"Desvio padrão populacional das sentenças por documento: \" + str(statistics.pstdev(lista_sentencas_por_inst)))\n",
    "print(\"Desvio padrão amostral das sentenças por documento: \" + str(statistics.stdev(lista_sentencas_por_inst)))\n",
    "print(\"-----Variância-----\")\n",
    "print(\"Variância populacional das sentenças por documento: \" + str(statistics.pvariance(lista_sentencas_por_inst)))\n",
    "print(\"Variância amostral dos das sentenças documento: \" + str(statistics.variance(lista_sentencas_por_inst)))\n",
    "print(\"-----Quantiles-----\")\n",
    "print(\"Quantiles das sentenças por documento: \" + str(statistics.quantiles(lista_sentencas_por_inst)))\n",
    "print(\"Assimetria da quantidade de tokens por sentença: \" + str(skew(lista_sentencas_por_inst)))\n",
    "print(\"Curtose da quantidade de senteças por documento: \" + str(kurtosis(lista_sentencas_por_inst)))"
   ]
  },
  {
   "cell_type": "markdown",
   "metadata": {},
   "source": [
    "#### Gráficos"
   ]
  },
  {
   "cell_type": "code",
   "execution_count": 217,
   "metadata": {},
   "outputs": [
    {
     "data": {
      "image/png": "[encoded data removed]",
      "text/plain": [
       "<Figure size 540x360 with 1 Axes>"
      ]
     },
     "metadata": {
      "needs_background": "light"
     },
     "output_type": "display_data"
    }
   ],
   "source": [
    "import numpy as np \n",
    "#plt.rcParams[\"figure.figsize\"] = [7.0, 5.0]\n",
    "#plt.rcParams[\"figure.autolayout\"] = True\n",
    "\n",
    "fig, ax = plt.subplots(figsize=(7.5, 5.0))\n",
    "bins_list = [3, 10,20,30,40,45]\n",
    "ax.hist(lista_sentencas_por_inst,bins = bins_list)\n",
    "#plt.gca().xaxis.tick_top()\n",
    "for rect in ax.patches:\n",
    "    height = rect.get_height()\n",
    "    ax.annotate(f'{int(height)}', xy=(rect.get_x()+rect.get_width()/2, height), \n",
    "                xytext=(0, 5), textcoords='offset points', ha='center', va='center') \n",
    "\n",
    "plt.xlabel('Intervalo de Quantidade de Sentenças',fontweight='bold', fontsize=15)\n",
    "plt.ylabel('Frequência nos Documentos',fontweight='bold', fontsize=14.0)\n",
    "plt.title('Histograma - Sentenças nos Documentos', fontsize=14.0) \n",
    "#plt.grid()\n",
    "plt.savefig('33.png', dpi=300, format='png', bbox_inches='tight')\n",
    "plt.show()"
   ]
  },
  {
   "cell_type": "code",
   "execution_count": 222,
   "metadata": {},
   "outputs": [],
   "source": [
    "def countOccurrence(a):\n",
    "    k = {}\n",
    "    for j in a:\n",
    "        \n",
    "        if j in k:\n",
    "            k[j] +=1\n",
    "        else:\n",
    "            k[j] =1\n",
    "    return k\n",
    "\n",
    "retorno = countOccurrence(lista_tokens_por_sentenca)"
   ]
  },
  {
   "cell_type": "code",
   "execution_count": 223,
   "metadata": {},
   "outputs": [
    {
     "data": {
      "text/plain": [
       "{7: 589,\n",
       " 6: 1497,\n",
       " 8: 705,\n",
       " 3: 1235,\n",
       " 9: 661,\n",
       " 18: 230,\n",
       " 28: 133,\n",
       " 16: 221,\n",
       " 22: 204,\n",
       " 12: 315,\n",
       " 24: 189,\n",
       " 13: 360,\n",
       " 17: 208,\n",
       " 20: 204,\n",
       " 23: 174,\n",
       " 4: 1485,\n",
       " 48: 22,\n",
       " 10: 570,\n",
       " 21: 177,\n",
       " 5: 887,\n",
       " 11: 395,\n",
       " 14: 280,\n",
       " 32: 105,\n",
       " 25: 158,\n",
       " 33: 124,\n",
       " 15: 255,\n",
       " 45: 30,\n",
       " 44: 33,\n",
       " 27: 189,\n",
       " 31: 109,\n",
       " 47: 43,\n",
       " 26: 179,\n",
       " 54: 10,\n",
       " 39: 74,\n",
       " 19: 241,\n",
       " 37: 64,\n",
       " 29: 126,\n",
       " 65: 12,\n",
       " 66: 2,\n",
       " 43: 30,\n",
       " 36: 85,\n",
       " 56: 12,\n",
       " 49: 34,\n",
       " 30: 118,\n",
       " 40: 44,\n",
       " 35: 82,\n",
       " 46: 28,\n",
       " 61: 8,\n",
       " 53: 19,\n",
       " 42: 45,\n",
       " 50: 17,\n",
       " 51: 11,\n",
       " 34: 63,\n",
       " 38: 45,\n",
       " 41: 48,\n",
       " 2: 148,\n",
       " 1: 152,\n",
       " 60: 5,\n",
       " 52: 20,\n",
       " 100: 2,\n",
       " 105: 2,\n",
       " 55: 14,\n",
       " 83: 5,\n",
       " 77: 4,\n",
       " 64: 9,\n",
       " 62: 13,\n",
       " 72: 3,\n",
       " 76: 6,\n",
       " 58: 11,\n",
       " 68: 4,\n",
       " 57: 3,\n",
       " 59: 5,\n",
       " 63: 7,\n",
       " 78: 3,\n",
       " 84: 8,\n",
       " 67: 3,\n",
       " 70: 3,\n",
       " 89: 1,\n",
       " 75: 3,\n",
       " 69: 2,\n",
       " 71: 2,\n",
       " 99: 1,\n",
       " 91: 1,\n",
       " 111: 1,\n",
       " 125: 1,\n",
       " 118: 1,\n",
       " 101: 1}"
      ]
     },
     "execution_count": 223,
     "metadata": {},
     "output_type": "execute_result"
    }
   ],
   "source": [
    "retorno"
   ]
  },
  {
   "cell_type": "code",
   "execution_count": 228,
   "metadata": {},
   "outputs": [
    {
     "data": {
      "text/plain": [
       "8"
      ]
     },
     "execution_count": 228,
     "metadata": {},
     "output_type": "execute_result"
    }
   ],
   "source": [
    "lista_tokens_por_sentenca[2]"
   ]
  },
  {
   "cell_type": "code",
   "execution_count": null,
   "metadata": {},
   "outputs": [],
   "source": []
  }
 ],
 "metadata": {
  "kernelspec": {
   "display_name": "Python 3",
   "language": "python",
   "name": "python3"
  },
  "language_info": {
   "codemirror_mode": {
    "name": "ipython",
    "version": 3
   },
   "file_extension": ".py",
   "mimetype": "text/x-python",
   "name": "python",
   "nbconvert_exporter": "python",
   "pygments_lexer": "ipython3",
   "version": "3.8.5"
  }
 },
 "nbformat": 4,
 "nbformat_minor": 5
}
