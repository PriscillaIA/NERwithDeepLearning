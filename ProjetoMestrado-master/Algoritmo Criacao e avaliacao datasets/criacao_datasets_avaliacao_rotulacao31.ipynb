{
 "cells": [
  {
   "cell_type": "markdown",
   "id": "c3f7abcb",
   "metadata": {},
   "source": [
    "# Criação do DataSet e Análise das Rotulações"
   ]
  },
  {
   "cell_type": "markdown",
   "id": "913ead7d",
   "metadata": {},
   "source": [
    "## Pacotes"
   ]
  },
  {
   "cell_type": "code",
   "execution_count": 1,
   "id": "0536f790",
   "metadata": {},
   "outputs": [],
   "source": [
    "import pandas as pd\n",
    "import jsonlines\n",
    "import numpy as np\n",
    "import re\n",
    "\n",
    "from nltk.tokenize.api import TokenizerI\n",
    "from nltk.tokenize.util import align_tokens\n",
    "from nltk.tokenize.destructive import MacIntyreContractions"
   ]
  },
  {
   "cell_type": "markdown",
   "id": "b00bfc70",
   "metadata": {},
   "source": [
    "## Tokenizador"
   ]
  },
  {
   "cell_type": "code",
   "execution_count": 7,
   "id": "b22477e7",
   "metadata": {},
   "outputs": [],
   "source": [
    "class TreebankWordTokenizer(TokenizerI):\n",
    "    r\"\"\"\n",
    "    The Treebank tokenizer uses regular expressions to tokenize text as in Penn Treebank.\n",
    "    This is the method that is invoked by ``word_tokenize()``.  It assumes that the\n",
    "    text has already been segmented into sentences, e.g. using ``sent_tokenize()``.\n",
    "\n",
    "    This tokenizer performs the following steps:\n",
    "\n",
    "    - split standard contractions, e.g. ``don't`` -> ``do n't`` and ``they'll`` -> ``they 'll``\n",
    "    - treat most punctuation characters as separate tokens\n",
    "    - split off commas and single quotes, when followed by whitespace\n",
    "    - separate periods that appear at the end of line\n",
    "\n",
    "        >>> from nltk.tokenize import TreebankWordTokenizer\n",
    "        >>> s = '''Good muffins cost $3.88\\nin New York.  Please buy me\\ntwo of them.\\nThanks.'''\n",
    "        >>> TreebankWordTokenizer().tokenize(s)\n",
    "        ['Good', 'muffins', 'cost', '$', '3.88', 'in', 'New', 'York.', 'Please', 'buy', 'me', 'two', 'of', 'them.', 'Thanks', '.']\n",
    "        >>> s = \"They'll save and invest more.\"\n",
    "        >>> TreebankWordTokenizer().tokenize(s)\n",
    "        ['They', \"'ll\", 'save', 'and', 'invest', 'more', '.']\n",
    "        >>> s = \"hi, my name can't hello,\"\n",
    "        >>> TreebankWordTokenizer().tokenize(s)\n",
    "        ['hi', ',', 'my', 'name', 'ca', \"n't\", 'hello', ',']\n",
    "    \"\"\"\n",
    "\n",
    "    # starting quotes\n",
    "    STARTING_QUOTES = [\n",
    "        (re.compile(r\"^\\\"\"), r\"``\"),\n",
    "        (re.compile(r\"(``)\"), r\" \\1 \"),\n",
    "        (re.compile(r\"([ \\(\\[{<])(\\\"|\\'{2})\"), r\"\\1 `` \"),\n",
    "    ]\n",
    "\n",
    "    # punctuation\n",
    "    PUNCTUATION = [\n",
    "        (re.compile(r\"([:,])([^\\d])\"), r\" \\1 \\2\"),\n",
    "        (re.compile(r\"([:,])$\"), r\" \\1 \"),\n",
    "        (re.compile(r\"\\.\\.\\.\"), r\" ... \"),\n",
    "        (re.compile(r\"[;@#&-/]\"), r\" \\g<0> \"),\n",
    "        (re.compile(r\"(\\d{2}) / (\\d{2}) / (\\d{2,4})\"), r\"\\1/\\2/\\3\"),\n",
    "        (\n",
    "            re.compile(r'([^\\.])(\\.)([\\]\\)}>\"\\']*)\\s*$'),\n",
    "            r\"\\1 \\2\\3 \",\n",
    "        ),  # Handles the final period.\n",
    "        (re.compile(r\"[?!]\"), r\" \\g<0> \"),\n",
    "        (re.compile(r\"([^'])' \"), r\"\\1 ' \"),\n",
    "    ]\n",
    "\n",
    "    # Pads parentheses\n",
    "    PARENS_BRACKETS = (re.compile(r\"[\\]\\[\\(\\)\\{\\}\\<\\>]\"), r\" \\g<0> \")\n",
    "\n",
    "    # Optionally: Convert parentheses, brackets and converts them to PTB symbols.\n",
    "    CONVERT_PARENTHESES = [\n",
    "        (re.compile(r\"\\(\"), \"-LRB-\"),\n",
    "        (re.compile(r\"\\)\"), \"-RRB-\"),\n",
    "        (re.compile(r\"\\[\"), \"-LSB-\"),\n",
    "        (re.compile(r\"\\]\"), \"-RSB-\"),\n",
    "        (re.compile(r\"\\{\"), \"-LCB-\"),\n",
    "        (re.compile(r\"\\}\"), \"-RCB-\"),\n",
    "    ]\n",
    "\n",
    "    DOUBLE_DASHES = (re.compile(r\"--\"), r\" -- \")\n",
    "\n",
    "    # ending quotes\n",
    "    ENDING_QUOTES = [\n",
    "        (re.compile(r'\"'), \" '' \"),\n",
    "        (re.compile(r\"(\\S)(\\'\\')\"), r\"\\1 \\2 \"),\n",
    "        (re.compile(r\"([^' ])('[sS]|'[mM]|'[dD]|') \"), r\"\\1 \\2 \"),\n",
    "        (re.compile(r\"([^' ])('ll|'LL|'re|'RE|'ve|'VE|n't|N'T) \"), r\"\\1 \\2 \"),\n",
    "    ]\n",
    "\n",
    "    # List of contractions adapted from Robert MacIntyre's tokenizer.\n",
    "    _contractions = MacIntyreContractions()\n",
    "    CONTRACTIONS2 = list(map(re.compile, _contractions.CONTRACTIONS2))\n",
    "    CONTRACTIONS3 = list(map(re.compile, _contractions.CONTRACTIONS3))\n",
    "\n",
    "    def tokenize(self, text, convert_parentheses=False, return_str=False):\n",
    "        for regexp, substitution in self.STARTING_QUOTES:\n",
    "            text = regexp.sub(substitution, text)\n",
    "        \n",
    "        for regexp, substitution in self.PUNCTUATION:\n",
    "            text = regexp.sub(substitution, text)\n",
    "\n",
    "        # Handles parentheses.\n",
    "        regexp, substitution = self.PARENS_BRACKETS\n",
    "        text = regexp.sub(substitution, text)\n",
    "        # Optionally convert parentheses\n",
    "        if convert_parentheses:\n",
    "            for regexp, substitution in self.CONVERT_PARENTHESES:\n",
    "                text = regexp.sub(substitution, text)\n",
    "\n",
    "        # Handles double dash.\n",
    "        regexp, substitution = self.DOUBLE_DASHES\n",
    "        text = regexp.sub(substitution, text)\n",
    "\n",
    "        # add extra space to make things easier\n",
    "        text = \" \" + text + \" \"\n",
    "\n",
    "        for regexp, substitution in self.ENDING_QUOTES:\n",
    "            text = regexp.sub(substitution, text)\n",
    "\n",
    "        for regexp in self.CONTRACTIONS2:\n",
    "            text = regexp.sub(r\" \\1 \\2 \", text)\n",
    "        for regexp in self.CONTRACTIONS3:\n",
    "            text = regexp.sub(r\" \\1 \\2 \", text)\n",
    "\n",
    "        # We are not using CONTRACTIONS4 since\n",
    "        # they are also commented out in the SED scripts\n",
    "        # for regexp in self._contractions.CONTRACTIONS4:\n",
    "        #     text = regexp.sub(r' \\1 \\2 \\3 ', text)\n",
    "\n",
    "        return text if return_str else text.split()\n",
    "\n",
    "    def span_tokenize(self, text):\n",
    "        r\"\"\"\n",
    "        Uses the post-hoc nltk.tokens.align_tokens to return the offset spans.\n",
    "\n",
    "            >>> from nltk.tokenize import TreebankWordTokenizer\n",
    "            >>> s = '''Good muffins cost $3.88\\nin New (York).  Please (buy) me\\ntwo of them.\\n(Thanks).'''\n",
    "            >>> expected = [(0, 4), (5, 12), (13, 17), (18, 19), (19, 23),\n",
    "            ... (24, 26), (27, 30), (31, 32), (32, 36), (36, 37), (37, 38),\n",
    "            ... (40, 46), (47, 48), (48, 51), (51, 52), (53, 55), (56, 59),\n",
    "            ... (60, 62), (63, 68), (69, 70), (70, 76), (76, 77), (77, 78)]\n",
    "            >>> list(TreebankWordTokenizer().span_tokenize(s)) == expected\n",
    "            True\n",
    "            >>> expected = ['Good', 'muffins', 'cost', '$', '3.88', 'in',\n",
    "            ... 'New', '(', 'York', ')', '.', 'Please', '(', 'buy', ')',\n",
    "            ... 'me', 'two', 'of', 'them.', '(', 'Thanks', ')', '.']\n",
    "            >>> [s[start:end] for start, end in TreebankWordTokenizer().span_tokenize(s)] == expected\n",
    "            True\n",
    "\n",
    "            Additional example\n",
    "            >>> from nltk.tokenize import TreebankWordTokenizer\n",
    "            >>> s = '''I said, \"I'd like to buy some ''good muffins\" which cost $3.88\\n each in New (York).\"'''\n",
    "            >>> expected = [(0, 1), (2, 6), (6, 7), (8, 9), (9, 10), (10, 12),\n",
    "            ... (13, 17), (18, 20), (21, 24), (25, 29), (30, 32), (32, 36),\n",
    "            ... (37, 44), (44, 45), (46, 51), (52, 56), (57, 58), (58, 62),\n",
    "            ... (64, 68), (69, 71), (72, 75), (76, 77), (77, 81), (81, 82),\n",
    "            ... (82, 83), (83, 84)]\n",
    "            >>> list(TreebankWordTokenizer().span_tokenize(s)) == expected\n",
    "            True\n",
    "            >>> expected = ['I', 'said', ',', '\"', 'I', \"'d\", 'like', 'to',\n",
    "            ... 'buy', 'some', \"''\", \"good\", 'muffins', '\"', 'which', 'cost',\n",
    "            ... '$', '3.88', 'each', 'in', 'New', '(', 'York', ')', '.', '\"']\n",
    "            >>> [s[start:end] for start, end in TreebankWordTokenizer().span_tokenize(s)] == expected\n",
    "            True\n",
    "\n",
    "        \"\"\"\n",
    "        raw_tokens = self.tokenize(text)\n",
    "\n",
    "        # Convert converted quotes back to original double quotes\n",
    "        # Do this only if original text contains double quote(s) or double\n",
    "        # single-quotes (because '' might be transformed to `` if it is\n",
    "        # treated as starting quotes).\n",
    "        if ('\"' in text) or (\"''\" in text):\n",
    "            # Find double quotes and converted quotes\n",
    "            matched = [m.group() for m in re.finditer(r\"``|'{2}|\\\"\", text)]\n",
    "\n",
    "            # Replace converted quotes back to double quotes\n",
    "            tokens = [\n",
    "                matched.pop(0) if tok in ['\"', \"``\", \"''\"] else tok\n",
    "                for tok in raw_tokens\n",
    "            ]\n",
    "        else:\n",
    "            tokens = raw_tokens\n",
    "\n",
    "        for tok in align_tokens(tokens, text):\n",
    "            yield tok\n"
   ]
  },
  {
   "cell_type": "markdown",
   "id": "884ec3c0",
   "metadata": {},
   "source": [
    "## Funções Auxiliares"
   ]
  },
  {
   "cell_type": "markdown",
   "id": "f7beab2c",
   "metadata": {},
   "source": [
    " Função lê jsonl para lista"
   ]
  },
  {
   "cell_type": "code",
   "execution_count": 3,
   "id": "68196871",
   "metadata": {},
   "outputs": [],
   "source": [
    "def jsonl2list(fileName):\n",
    "    lista = []\n",
    "    with jsonlines.open(fileName) as jsonl_file:\n",
    "        for line in jsonl_file.iter():\n",
    "            lista.append(line)\n",
    "    return lista"
   ]
  },
  {
   "cell_type": "markdown",
   "id": "892cdb37",
   "metadata": {},
   "source": [
    "Junta dados das duas saídas do Doccano"
   ]
  },
  {
   "cell_type": "code",
   "execution_count": 4,
   "id": "36055bd1",
   "metadata": {},
   "outputs": [],
   "source": [
    "def merge(lista_A, lista_B):\n",
    "    lista_merge = lista_A + lista_B\n",
    "    return sorted(lista_merge, key=lambda k: k['id'])"
   ]
  },
  {
   "cell_type": "markdown",
   "id": "2a0ed71a",
   "metadata": {},
   "source": [
    "Tokeniza os textos"
   ]
  },
  {
   "cell_type": "code",
   "execution_count": 5,
   "id": "a5de3a01",
   "metadata": {},
   "outputs": [],
   "source": [
    "## Metodo para tokenizar tudo (Todas as sentença do aruivo original .txt) \n",
    "## OBS: Gera como retorno duas listas\n",
    "\n",
    "def tokenizeAn(lista):\n",
    "    resultado = []\n",
    "    referencia = []\n",
    "    for index, item in enumerate(lista):\n",
    "        sentenca = item['data']\n",
    "        labels = item['label']\n",
    "        wordSpansList = list(TreebankWordTokenizer().span_tokenize(sentenca))\n",
    "        for wordSpan in wordSpansList:\n",
    "            ## Adicionando a setença original, e o index da setença do arquivo original .txt\n",
    "            referencia.append([sentenca, index,[wordSpan[0], wordSpan[1]]])\n",
    "            newLine = [sentenca[wordSpan[0]:wordSpan[1]], 'o']\n",
    "            for label in labels:\n",
    "                if wordSpan[0] >= label[0] and wordSpan[1] <= label[1]:\n",
    "                    newLine[1] = label[2]\n",
    "                    break\n",
    "            \n",
    "            resultado.append(newLine)\n",
    "    \n",
    "    ## Metodo retorna resultado (sentanças tokenizada, juntamente com a rotulação da palavra)\n",
    "    ## referencia é a setença completa junto com o index\n",
    "    return resultado, referencia"
   ]
  },
  {
   "cell_type": "markdown",
   "id": "d068f624",
   "metadata": {},
   "source": [
    "Gera dataset no formato BIO"
   ]
  },
  {
   "cell_type": "code",
   "execution_count": 6,
   "id": "a87c297d",
   "metadata": {},
   "outputs": [],
   "source": [
    "def makingTheDataset(lista):\n",
    "    # print(lista_B)\n",
    "    resultado = []\n",
    "    contadorSentenca = 0\n",
    "    for item in lista:\n",
    "        contadorSentenca = contadorSentenca + 1\n",
    "        sentenca = item['data']\n",
    "        labels = item['label']\n",
    "        wordSpansList = list(TreebankWordTokenizer().span_tokenize(sentenca))\n",
    "        for wordSpan in wordSpansList:\n",
    "            newLine = [sentenca[wordSpan[0]:wordSpan[1]], 'O', contadorSentenca]\n",
    "            for label in labels:\n",
    "                if wordSpan[0] == label[0] and wordSpan[1] <= label[1]:\n",
    "                    newLine[1] = f'B-{label[2]}'\n",
    "                    break\n",
    "                elif wordSpan[0] > label[0] and wordSpan[1] <= label[1]:\n",
    "                    newLine[1] = f'I-{label[2]}'\n",
    "                    break\n",
    "            \n",
    "            resultado.append(newLine)\n",
    "            \n",
    "        \n",
    "    return resultado\n"
   ]
  },
  {
   "cell_type": "markdown",
   "id": "d52c43d3",
   "metadata": {},
   "source": [
    " Cohen Kappa"
   ]
  },
  {
   "cell_type": "code",
   "execution_count": 7,
   "id": "c6012d5b",
   "metadata": {},
   "outputs": [],
   "source": [
    "def cohen_kappa(ann1, ann2):\n",
    "    \"\"\"Computes Cohen kappa for pair-wise annotators.\n",
    "    :param ann1: annotations provided by first annotator\n",
    "    :type ann1: list\n",
    "    :param ann2: annotations provided by second annotator\n",
    "    :type ann2: list\n",
    "    :rtype: float\n",
    "    :return: Cohen kappa statistic\n",
    "    \"\"\"\n",
    "    count = 0\n",
    "    for an1, an2 in zip(ann1, ann2):\n",
    "        if an1 == an2:\n",
    "            count += 1\n",
    "    A = count / len(ann1)  # observed agreement A (Po)\n",
    "\n",
    "    uniq = set(ann1 + ann2)\n",
    "    E = 0  # expected agreement E (Pe)\n",
    "    for item in uniq:\n",
    "        cnt1 = ann1.count(item)\n",
    "        cnt2 = ann2.count(item)\n",
    "        count = ((cnt1 / len(ann1)) * (cnt2 / len(ann2)))\n",
    "        E += count\n",
    "\n",
    "    return round((A - E) / (1 - E), 4)"
   ]
  },
  {
   "cell_type": "markdown",
   "id": "794464a4",
   "metadata": {},
   "source": [
    "Fleiss Kappa"
   ]
  },
  {
   "cell_type": "code",
   "execution_count": 8,
   "id": "43e2a1ee",
   "metadata": {},
   "outputs": [],
   "source": [
    "def fleiss_kappa(M):\n",
    "    \"\"\"Computes Fleiss' kappa for group of annotators.\n",
    "    :param M: a matrix of shape (:attr:'N', :attr:'k') with 'N' = number of subjects and 'k' = the number of categories.\n",
    "        'M[i, j]' represent the number of raters who assigned the 'i'th subject to the 'j'th category.\n",
    "    :type: numpy matrix\n",
    "    :rtype: float\n",
    "    :return: Fleiss' kappa score\n",
    "    \"\"\"\n",
    "    N, k = M.shape  # N is # of items, k is # of categories\n",
    "    n_annotators = float(np.sum(M[0, :]))  # # of annotators\n",
    "    tot_annotations = N * n_annotators  # the total # of annotations\n",
    "    category_sum = np.sum(M, axis=0)  # the sum of each category over all items\n",
    "    # chance agreement\n",
    "    p = category_sum / tot_annotations  # the distribution of each category over all annotations\n",
    "    PbarE = np.sum(p * p)  # average chance agreement over all categories\n",
    "\n",
    "    # observed agreement\n",
    "    P = (np.sum(M * M, axis=1) - n_annotators) / (n_annotators * (n_annotators - 1))\n",
    "    Pbar = np.sum(P) / N  # add all observed agreement chances per item and divide by amount of items\n",
    "\n",
    "    return round((Pbar - PbarE) / (1 - PbarE), 4)"
   ]
  },
  {
   "cell_type": "markdown",
   "id": "a77fd965",
   "metadata": {},
   "source": [
    "Função para geração de CSV"
   ]
  },
  {
   "cell_type": "code",
   "execution_count": 10,
   "id": "c83f8c2b",
   "metadata": {},
   "outputs": [],
   "source": [
    "def gerarCSV(nome, df):\n",
    "    df.to_csv(nome +\".csv\", encoding=\"utf-8\")"
   ]
  },
  {
   "cell_type": "markdown",
   "id": "8d82e642",
   "metadata": {},
   "source": [
    "## Lendo e juntando rotulações de todos rotuladores "
   ]
  },
  {
   "cell_type": "code",
   "execution_count": 7,
   "id": "62571be7",
   "metadata": {},
   "outputs": [],
   "source": [
    "## Código para fazer leitura dos arquivos rotulado e não rotulados, realizar o merge entre eles\n",
    "## e tokenizar as informações. Apenas Thiago e Arthur\n",
    "\n",
    "# Dados Arthur\n",
    "lista_A = jsonl2list(\"arthur_unknown.jsonl\")\n",
    "lista_B = jsonl2list(\"arthur.jsonl\")\n",
    "\n",
    "# Junta dados rotulados e não rotulados\n",
    "lista_ArthurCompleta = merge(lista_A, lista_B)\n",
    "dadosArthurFranco, referencia = tokenizeAn(lista_ArthurCompleta)\n",
    "\n",
    "# Dados Thiago\n",
    "lista_A = jsonl2list(\"thiago_unknown.jsonl\")\n",
    "lista_B = jsonl2list(\"thiago.jsonl\")\n",
    "\n",
    "# Junta dados rotulados e não rotulados\n",
    "lista_ThiagoCompleta = merge(lista_A, lista_B)\n",
    "dadosThiagoSalles = tokenizeAn(lista_ThiagoCompleta)[0]"
   ]
  },
  {
   "cell_type": "markdown",
   "id": "68e9dab8",
   "metadata": {},
   "source": [
    "Leitura e merge dos dados da priscilla"
   ]
  },
  {
   "cell_type": "code",
   "execution_count": 8,
   "id": "406ade04",
   "metadata": {},
   "outputs": [],
   "source": [
    "# Dados Priscilla\n",
    "lista_A = jsonl2list(\"priscilla_unknown.jsonl\")\n",
    "lista_B = jsonl2list(\"priscilla.jsonl\")\n",
    "\n",
    "lista_PriscillaCompleta = []\n",
    "\n",
    "## Código de força bruta para ordenar os dados da Priscilla, utiliza a lista já ordenada do \n",
    "## Arthur como referência para a ordenação, verificando a cada interação com toda a lista de\n",
    "## dados rotulados ou não rotulados da Priscilla. (Devido a lista da Priscilla não possuir id sequencial)\n",
    "\n",
    "for dado in lista_ArthurCompleta:\n",
    "    vigia = True\n",
    "    index_A = 0\n",
    "    index_B = 0\n",
    "    while vigia:\n",
    "        if index_A < len(lista_A) and (dado['data'] == lista_A[index_A]['data']):\n",
    "                lista_PriscillaCompleta.append(lista_A.pop(index_A))\n",
    "                vigia = False\n",
    "        elif index_B < len(lista_B) and dado['data'] == lista_B[index_B]['data']:\n",
    "                lista_PriscillaCompleta.append(lista_B.pop(index_B))\n",
    "                vigia = False\n",
    "        if index_A >= len(lista_A) and index_B >= len(lista_B):\n",
    "            break\n",
    "        index_A += 1\n",
    "        index_B += 1\n",
    "\n",
    "## Tokenizar os dados da Priscilla\n",
    "\n",
    "dadosPriscillSilva = tokenizeAn(lista_PriscillaCompleta)[0]"
   ]
  },
  {
   "cell_type": "markdown",
   "id": "7ed979d4",
   "metadata": {},
   "source": [
    "## Criando DataSet BIO"
   ]
  },
  {
   "cell_type": "code",
   "execution_count": 13,
   "id": "3522a54f",
   "metadata": {},
   "outputs": [],
   "source": [
    "dsArthur = makingTheDataset(lista_ArthurCompleta)\n",
    "dsThiago = makingTheDataset(lista_ThiagoCompleta)\n",
    "dsPriscilla = makingTheDataset(lista_PriscillaCompleta)"
   ]
  },
  {
   "cell_type": "markdown",
   "id": "a81e9ab8",
   "metadata": {},
   "source": [
    "Gerando csv com o dataset de cada rotulador"
   ]
  },
  {
   "cell_type": "code",
   "execution_count": 14,
   "id": "bceca99d",
   "metadata": {},
   "outputs": [],
   "source": [
    "df = pd.DataFrame(dsArthur, columns = ['Palavras', 'Rotulo', 'Sentenca'])\n",
    "gerarCSV(\"dsArthur\", df)\n",
    "df = pd.DataFrame(dsThiago, columns = ['Palavras', 'Rotulo', 'Sentenca'])\n",
    "gerarCSV(\"dsThiago\", df)\n",
    "df = pd.DataFrame(dsPriscilla, columns = ['Palavras', 'Rotulo', 'Sentenca'])\n",
    "gerarCSV(\"dsPriscilla\", df)"
   ]
  },
  {
   "cell_type": "markdown",
   "id": "66766798",
   "metadata": {},
   "source": [
    "Contabilizando divergencias entre os rotuladores"
   ]
  },
  {
   "cell_type": "code",
   "execution_count": 108,
   "id": "80e79ebb",
   "metadata": {},
   "outputs": [
    {
     "name": "stdout",
     "output_type": "stream",
     "text": [
      "divergenciaPriscilla: 3706\n",
      "divergenciaArthur: 1846\n",
      "divergenciaThiago: 3020\n",
      "divergenciaEntreOsTres: 403\n"
     ]
    }
   ],
   "source": [
    "dados = zip(dsArthur, dsThiago, dsPriscilla)\n",
    "\n",
    "divergenciaPriscilla = 0\n",
    "divergenciaArthur = 0\n",
    "divergenciaThiago = 0\n",
    "divergenciaEntreOsTres = 0\n",
    "\n",
    "for dadoArthur, dadoThiago, dadoPriscilla in dados:\n",
    "    if dadoArthur[1] == dadoThiago[1] and dadoArthur[1] == dadoPriscilla[1]: ## Todos sendos iguais\n",
    "        pass\n",
    "    elif dadoArthur[1] == dadoThiago[1] and dadoArthur[1] != dadoPriscilla[1]: ## Priscilla divergindo\n",
    "        divergenciaPriscilla += 1\n",
    "    elif dadoArthur[1] == dadoPriscilla[1] and dadoArthur[1] != dadoThiago[1]: ## Thiago divergindo\n",
    "        divergenciaThiago += 1\n",
    "    elif dadoThiago[1] == dadoPriscilla[1] and dadoArthur[1] != dadoThiago[1]: ## Arthur divergindo\n",
    "        divergenciaArthur += 1\n",
    "    else:\n",
    "        divergenciaEntreOsTres += 1\n",
    "\n",
    "print(f'divergenciaPriscilla: {divergenciaPriscilla}\\ndivergenciaArthur: {divergenciaArthur}\\ndivergenciaThiago: {divergenciaThiago}\\ndivergenciaEntreOsTres: {divergenciaEntreOsTres}')"
   ]
  },
  {
   "cell_type": "markdown",
   "id": "f13b7590",
   "metadata": {},
   "source": [
    "Resolvendo Divergencias"
   ]
  },
  {
   "cell_type": "code",
   "execution_count": 109,
   "id": "3c25f0b2",
   "metadata": {},
   "outputs": [],
   "source": [
    "dadosFinais = []\n",
    "textos = [i['data'] for i in lista_ArthurCompleta]\n",
    "dados = zip(dsArthur, dsThiago, dsPriscilla)\n",
    "\n",
    "# todas sentecas com discordancia entre os 3 rotuladores\n",
    "for dadoArthur, dadoThiago, dadoPriscilla in dados:\n",
    "    # print(len(dadoArthur))\n",
    "    if dadoArthur[1] == dadoThiago[1] and dadoArthur[1] == dadoPriscilla[1]: ## Todos sendos iguais\n",
    "        dadoArthur.append('[N]')\n",
    "        dadosFinais.append(dadoArthur)\n",
    "    elif dadoArthur[1] == dadoThiago[1] and dadoArthur[1] != dadoPriscilla[1]: ## Priscilla divergindo\n",
    "        dadoArthur.append('[N]')\n",
    "        dadosFinais.append(dadoArthur)\n",
    "    elif dadoArthur[1] == dadoPriscilla[1] and dadoArthur[1] != dadoThiago[1]: ## Thiago divergindo\n",
    "        dadoArthur.append('[N]')\n",
    "        dadosFinais.append(dadoArthur)\n",
    "    elif dadoThiago[1] == dadoPriscilla[1] and dadoArthur[1] != dadoThiago[1]: ## Arthur divergindo\n",
    "        dadoThiago.append('[N]')\n",
    "        dadosFinais.append(dadoThiago)\n",
    "    else:\n",
    "        dadoThiago.append('[S]')\n",
    "        dadosFinais.append(dadoThiago)\n",
    "        "
   ]
  },
  {
   "cell_type": "code",
   "execution_count": 110,
   "id": "27d204ab",
   "metadata": {},
   "outputs": [],
   "source": [
    "df = pd.DataFrame(dadosFinais, columns = ['Palavras', 'Rotulo', 'Sentenca','Divergencia'])\n",
    "gerarCSV(\"Divergencias\", df)"
   ]
  },
  {
   "cell_type": "markdown",
   "id": "758995bd",
   "metadata": {},
   "source": [
    "Gerando Base final"
   ]
  },
  {
   "cell_type": "code",
   "execution_count": 54,
   "id": "8d1d4ebb",
   "metadata": {},
   "outputs": [],
   "source": [
    "df = pd.DataFrame(dadosFinais, columns = ['Palavras', 'Rotulo', 'Sentenca'])\n",
    "gerarCSV(\"DS-BIO-IOB\", df)"
   ]
  },
  {
   "cell_type": "markdown",
   "metadata": {},
   "source": [
    "## Métricas"
   ]
  },
  {
   "cell_type": "code",
   "execution_count": 20,
   "id": "55c2c96b",
   "metadata": {},
   "outputs": [
    {
     "name": "stdout",
     "output_type": "stream",
     "text": [
      "['id', 'o']\n"
     ]
    }
   ],
   "source": [
    "## palavras contém os tokens das sentenças que foram tokenizadas, dos arquivos de entradas.\n",
    "palavras = [i[0] for i in dadosArthurFranco]\n",
    "\n",
    "# printando diferenças\n",
    "# for art, thi, pri in zip(palavras,palavrasThiago,palavrasPriscill):\n",
    "#     if art != thi or art != pri or thi != pri:\n",
    "#         print(f'Arthur: {art}\\nThiago: {thi}\\nPriscilla: {pri}\\n')\n",
    "    \n",
    "df = pd.DataFrame({\n",
    "     'palavrasArthur': dadosArthurFranco,\n",
    "     'palavrasThiago': dadosThiagoSalles,\n",
    "     'palavrasPriscill': dadosPriscillSilva\n",
    "    })\n",
    "\n",
    "gerarCSV(\"palavras\", df)\n",
    "\n",
    "## Pega as rotulações feitas por cada pessoa\n",
    "rotulacoesArthurFranco = [i[1] for i in dadosArthurFranco]\n",
    "rotulacoesPriscillSilva = [i[1] for i in dadosPriscillSilva]\n",
    "rotulacoesThiagoSalles = [i[1] for i in dadosThiagoSalles]\n",
    "\n",
    "df = pd.DataFrame({'palavras': palavras,\n",
    "     'Arthur': rotulacoesArthurFranco,\n",
    "     'Thiago': rotulacoesThiagoSalles,\n",
    "     'Priscilla': rotulacoesPriscillSilva\n",
    "    })\n",
    "print(dadosArthurFranco[0])\n",
    "gerarCSV(\"completo\", df)\n",
    "\n",
    "# Tirando palavras nao anotadas por ninguem \n",
    "dados = zip(palavras, rotulacoesArthurFranco, rotulacoesThiagoSalles, rotulacoesPriscillSilva)\n",
    "semNone = [x for x in list(dados) if (x[1], x[2], x[3]) != ('o', 'o', 'o')]\n",
    "palavraSNones, rotulacoesSNoneArthurFranco, rotulacoesSNoneThiagoSalles, rotulacoesSNonePriscillSilva = zip(*semNone)\n",
    "\n",
    "df = pd.DataFrame({'palavras': palavraSNones,\n",
    "     'Arthur': rotulacoesSNoneArthurFranco,\n",
    "     'Thiago': rotulacoesSNoneThiagoSalles,\n",
    "     'Priscilla': rotulacoesSNonePriscillSilva\n",
    "    })\n",
    "\n",
    "gerarCSV(\"semNone\", df)"
   ]
  },
  {
   "cell_type": "code",
   "execution_count": 21,
   "id": "c8af4be0",
   "metadata": {},
   "outputs": [
    {
     "name": "stdout",
     "output_type": "stream",
     "text": [
      "0.8748\n"
     ]
    }
   ],
   "source": [
    "## Calcula a metrica cohen\n",
    "\n",
    "dados = zip(rotulacoesArthurFranco, rotulacoesThiagoSalles)\n",
    "semNone = [x for x in list(dados) if x != ('o', 'o')]\n",
    "arthur, thiago = zip(*semNone)\n",
    "print(cohen_kappa(arthur,thiago))"
   ]
  },
  {
   "cell_type": "code",
   "execution_count": 51,
   "id": "39bc0048",
   "metadata": {},
   "outputs": [
    {
     "name": "stdout",
     "output_type": "stream",
     "text": [
      "nan\n"
     ]
    },
    {
     "name": "stderr",
     "output_type": "stream",
     "text": [
      "/tmp/ipykernel_19922/3144744850.py:23: RuntimeWarning: invalid value encountered in true_divide\n",
      "  P = (np.sum(M * M, axis=1) - n_annotators) / (n_annotators * (n_annotators - 1))\n"
     ]
    }
   ],
   "source": [
    "## Calcula a metrica Fleiss desconsiderando None\n",
    "\n",
    "categorias = [\"NOME_BEBIDA\", \"GRADUACAO_ALCOOLICA\", \"EQUIPAMENTO_DESTILACAO\",\n",
    "            \"TEMPO_ARMAZENAMENTO\", \"RECIPIENTE_ARMAZENAMENTO\", \"TIPO_MADEIRA\",\n",
    "            \"CARACTERISTICA_SENSORIAL_COR\", \"CARACTERISTICA_SENSORIAL_AROMA\", \n",
    "            \"CARACTERISTICA_SENSORIAL_SABOR\", \"CARACTERISTICA_SENSORIAL_CONSISTÊNCIA\", \n",
    "            \"NOME_PESSOA\", \"NOME_LOCAL\", \"NOME_ORGANIZACAO\", \"TEMPO\", \"PRECO\", \"VOLUME\", \"CLASSIFICACAO_BEBIDA\", \"o\"]\n",
    "\n",
    "dados = zip(rotulacoesArthurFranco, rotulacoesThiagoSalles, rotulacoesPriscillSilva)\n",
    "semNone = [x for x in list(dados) if x != ('o', 'o', 'o')]\n",
    "arthur, thiago, priscilla = zip(*semNone)\n",
    "\n",
    "M = np.zeros((len(arthur), len(categorias)))\n",
    "\n",
    "nLines, nColumns = M.shape\n",
    "\n",
    "for i in range(nLines):\n",
    "    # if (arthur[i] != \"o\"):\n",
    "        M[i, categorias.index(arthur[i])] += 1\n",
    "    # if (thiago[i] != \"o\"):\n",
    "        M[i, categorias.index(thiago[i])] += 1\n",
    "    # if (priscilla[i] != \"o\"):\n",
    "        M[i, categorias.index(priscilla[i])] += 1\n",
    "\n",
    "# M.delete()\n",
    "\n",
    "print(fleiss_kappa(M))"
   ]
  },
  {
   "cell_type": "code",
   "execution_count": 41,
   "id": "b84545fd",
   "metadata": {},
   "outputs": [
    {
     "data": {
      "text/plain": [
       "array([0., 0., 0., 0., 1., 0., 0., 0., 0., 0., 0., 0., 0., 0., 0., 0., 0.])"
      ]
     },
     "execution_count": 41,
     "metadata": {},
     "output_type": "execute_result"
    }
   ],
   "source": [
    "M[13, :]"
   ]
  },
  {
   "cell_type": "code",
   "execution_count": 45,
   "id": "c1775cfc",
   "metadata": {},
   "outputs": [
    {
     "name": "stdout",
     "output_type": "stream",
     "text": [
      "558057.0\n",
      "558057.0\n",
      "0.9203\n"
     ]
    }
   ],
   "source": [
    "## Calcula a metrica Fleiss considerando None\n",
    "\n",
    "categorias = [\"NOME_BEBIDA\", \"GRADUACAO_ALCOOLICA\", \"EQUIPAMENTO_DESTILACAO\",\n",
    "            \"TEMPO_ARMAZENAMENTO\", \"RECIPIENTE_ARMAZENAMENTO\", \"TIPO_MADEIRA\",\n",
    "            \"CARACTERISTICA_SENSORIAL_COR\", \"CARACTERISTICA_SENSORIAL_AROMA\", \n",
    "            \"CARACTERISTICA_SENSORIAL_SABOR\", \"CARACTERISTICA_SENSORIAL_CONSISTÊNCIA\", \n",
    "            \"NOME_PESSOA\", \"NOME_LOCAL\", \"NOME_ORGANIZACAO\", \"TEMPO\", \"PRECO\", \"VOLUME\", \"CLASSIFICACAO_BEBIDA\", \"o\"]\n",
    "\n",
    "M_com_None = np.zeros((len(rotulacoesArthurFranco), len(categorias)))\n",
    "\n",
    "nLines, nColumns = M_com_None.shape\n",
    "\n",
    "for i in range(nLines):\n",
    "    M_com_None[i, categorias.index(rotulacoesArthurFranco[i])] += 1\n",
    "    M_com_None[i, categorias.index(rotulacoesThiagoSalles[i])] += 1\n",
    "    M_com_None[i, categorias.index(rotulacoesPriscillSilva[i])] += 1\n",
    "\n",
    "\n",
    "print(fleiss_kappa(M_com_None))"
   ]
  },
  {
   "cell_type": "code",
   "execution_count": null,
   "id": "14aa5756",
   "metadata": {},
   "outputs": [],
   "source": [
    "dados = zip(rotulacoesArthurFranco, rotulacoesThiagoSalles, rotulacoesPriscillSilva, palavras)\n",
    "dadosFinais = [] \n",
    "for index, dado in enumerate(dados):\n",
    "    if dado[0] == dado[1] and dado[0] == dado[2]: ## Todos sendos iguais\n",
    "        dadosFinais.append(dado[0])\n",
    "    elif dado[0] == dado[1] and dado[0] != dado[2]: ## Priscilla divergindo\n",
    "        dadosFinais.append(dado[0])\n",
    "    elif dado[0] == dado[2] and dado[0] != dado[1]: ## Thiago divergindo\n",
    "        dadosFinais.append(dado[0])\n",
    "    elif dado[1] == dado[2] and dado[1] != dado[0]: ## Arthur divergindo\n",
    "        dadosFinais.append(dado[1])\n",
    "    else:\n",
    "        # \"\"\"\n",
    "        print(\"Houve divergência dos 3 membros na palavra: (\" + dado[3] + \") no texto:\\n\" + \n",
    "            str(referencia[index][0]) + \n",
    "            \"\\nsegue as respectivas rotulacoes:\\n\" + \n",
    "            \"Arthur: \" + (str(dado[0]) if dado[0] != 'o' else \"Nao rotulou\") + \"\\n\"\n",
    "            \"Thiago: \" + (str(dado[1]) if dado[1] != 'o' else \"Nao rotulou\") + \"\\n\"\n",
    "            \"Priscilla: \" + (str(dado[2]) if dado[2] != 'o' else \"Nao rotulou\") + \"\\n\"\n",
    "             )\n",
    "        resposta = int(input())\n",
    "        print(f'resposta {resposta}')\n",
    "        # \"\"\"\n",
    "        dadosFinais.append(dado[resposta])"
   ]
  },
  {
   "cell_type": "code",
   "execution_count": null,
   "id": "34de8437",
   "metadata": {},
   "outputs": [],
   "source": [
    "sentencas_originais = [x[0] for x in referencia]\n",
    "index_originais = [x[1] for x in referencia]\n",
    "posicao_inicial_palavra = [x[2][0] for x in referencia]\n",
    "posicao_final_palavra = [x[2][1] for x in referencia]\n",
    "\n",
    "df = pd.DataFrame({'palavras': palavras,\n",
    "     'Rotulacoes': dadosFinais,\n",
    "    'sentenca_original': sentencas_originais,\n",
    "    'index_original': index_originais,\n",
    "    'posicao_inicial_palavra': posicao_inicial_palavra,\n",
    "    'posicao_final_palavra': posicao_final_palavra\n",
    "    })\n",
    "\n",
    "gerarCSV(\"Base Final\", df)"
   ]
  },
  {
   "cell_type": "code",
   "execution_count": 18,
   "id": "16393647",
   "metadata": {},
   "outputs": [
    {
     "data": {
      "text/html": [
       "<div>\n",
       "<style scoped>\n",
       "    .dataframe tbody tr th:only-of-type {\n",
       "        vertical-align: middle;\n",
       "    }\n",
       "\n",
       "    .dataframe tbody tr th {\n",
       "        vertical-align: top;\n",
       "    }\n",
       "\n",
       "    .dataframe thead th {\n",
       "        text-align: right;\n",
       "    }\n",
       "</style>\n",
       "<table border=\"1\" class=\"dataframe\">\n",
       "  <thead>\n",
       "    <tr style=\"text-align: right;\">\n",
       "      <th></th>\n",
       "      <th>palavras</th>\n",
       "      <th>Rotulacoes</th>\n",
       "      <th>sentenca_original</th>\n",
       "      <th>index_original</th>\n",
       "      <th>posicao_inicial_palavra</th>\n",
       "      <th>posicao_final_palavra</th>\n",
       "    </tr>\n",
       "  </thead>\n",
       "  <tbody>\n",
       "    <tr>\n",
       "      <th>0</th>\n",
       "      <td>id</td>\n",
       "      <td>o</td>\n",
       "      <td>id: 0</td>\n",
       "      <td>0</td>\n",
       "      <td>0</td>\n",
       "      <td>2</td>\n",
       "    </tr>\n",
       "    <tr>\n",
       "      <th>1</th>\n",
       "      <td>:</td>\n",
       "      <td>o</td>\n",
       "      <td>id: 0</td>\n",
       "      <td>0</td>\n",
       "      <td>2</td>\n",
       "      <td>3</td>\n",
       "    </tr>\n",
       "    <tr>\n",
       "      <th>2</th>\n",
       "      <td>0</td>\n",
       "      <td>o</td>\n",
       "      <td>id: 0</td>\n",
       "      <td>0</td>\n",
       "      <td>4</td>\n",
       "      <td>5</td>\n",
       "    </tr>\n",
       "    <tr>\n",
       "      <th>3</th>\n",
       "      <td>NOME</td>\n",
       "      <td>o</td>\n",
       "      <td>NOME DA CACHAÇA: Cachaça Três Coronéis</td>\n",
       "      <td>1</td>\n",
       "      <td>0</td>\n",
       "      <td>4</td>\n",
       "    </tr>\n",
       "    <tr>\n",
       "      <th>4</th>\n",
       "      <td>DA</td>\n",
       "      <td>o</td>\n",
       "      <td>NOME DA CACHAÇA: Cachaça Três Coronéis</td>\n",
       "      <td>1</td>\n",
       "      <td>5</td>\n",
       "      <td>7</td>\n",
       "    </tr>\n",
       "    <tr>\n",
       "      <th>...</th>\n",
       "      <td>...</td>\n",
       "      <td>...</td>\n",
       "      <td>...</td>\n",
       "      <td>...</td>\n",
       "      <td>...</td>\n",
       "      <td>...</td>\n",
       "    </tr>\n",
       "    <tr>\n",
       "      <th>186014</th>\n",
       "      <td>Destilados</td>\n",
       "      <td>o</td>\n",
       "      <td>PREMIOS: Medalha de Prata no 17º concurso de V...</td>\n",
       "      <td>14286</td>\n",
       "      <td>54</td>\n",
       "      <td>64</td>\n",
       "    </tr>\n",
       "    <tr>\n",
       "      <th>186015</th>\n",
       "      <td>do</td>\n",
       "      <td>o</td>\n",
       "      <td>PREMIOS: Medalha de Prata no 17º concurso de V...</td>\n",
       "      <td>14286</td>\n",
       "      <td>65</td>\n",
       "      <td>67</td>\n",
       "    </tr>\n",
       "    <tr>\n",
       "      <th>186016</th>\n",
       "      <td>Brasil</td>\n",
       "      <td>NOME_LOCAL</td>\n",
       "      <td>PREMIOS: Medalha de Prata no 17º concurso de V...</td>\n",
       "      <td>14286</td>\n",
       "      <td>68</td>\n",
       "      <td>74</td>\n",
       "    </tr>\n",
       "    <tr>\n",
       "      <th>186017</th>\n",
       "      <td>2019</td>\n",
       "      <td>TEMPO</td>\n",
       "      <td>PREMIOS: Medalha de Prata no 17º concurso de V...</td>\n",
       "      <td>14286</td>\n",
       "      <td>75</td>\n",
       "      <td>79</td>\n",
       "    </tr>\n",
       "    <tr>\n",
       "      <th>186018</th>\n",
       "      <td>.</td>\n",
       "      <td>o</td>\n",
       "      <td>PREMIOS: Medalha de Prata no 17º concurso de V...</td>\n",
       "      <td>14286</td>\n",
       "      <td>79</td>\n",
       "      <td>80</td>\n",
       "    </tr>\n",
       "  </tbody>\n",
       "</table>\n",
       "<p>186019 rows × 6 columns</p>\n",
       "</div>"
      ],
      "text/plain": [
       "          palavras  Rotulacoes  \\\n",
       "0               id           o   \n",
       "1                :           o   \n",
       "2                0           o   \n",
       "3             NOME           o   \n",
       "4               DA           o   \n",
       "...            ...         ...   \n",
       "186014  Destilados           o   \n",
       "186015          do           o   \n",
       "186016      Brasil  NOME_LOCAL   \n",
       "186017        2019       TEMPO   \n",
       "186018           .           o   \n",
       "\n",
       "                                        sentenca_original  index_original  \\\n",
       "0                                                   id: 0               0   \n",
       "1                                                   id: 0               0   \n",
       "2                                                   id: 0               0   \n",
       "3                  NOME DA CACHAÇA: Cachaça Três Coronéis               1   \n",
       "4                  NOME DA CACHAÇA: Cachaça Três Coronéis               1   \n",
       "...                                                   ...             ...   \n",
       "186014  PREMIOS: Medalha de Prata no 17º concurso de V...           14286   \n",
       "186015  PREMIOS: Medalha de Prata no 17º concurso de V...           14286   \n",
       "186016  PREMIOS: Medalha de Prata no 17º concurso de V...           14286   \n",
       "186017  PREMIOS: Medalha de Prata no 17º concurso de V...           14286   \n",
       "186018  PREMIOS: Medalha de Prata no 17º concurso de V...           14286   \n",
       "\n",
       "        posicao_inicial_palavra  posicao_final_palavra  \n",
       "0                             0                      2  \n",
       "1                             2                      3  \n",
       "2                             4                      5  \n",
       "3                             0                      4  \n",
       "4                             5                      7  \n",
       "...                         ...                    ...  \n",
       "186014                       54                     64  \n",
       "186015                       65                     67  \n",
       "186016                       68                     74  \n",
       "186017                       75                     79  \n",
       "186018                       79                     80  \n",
       "\n",
       "[186019 rows x 6 columns]"
      ]
     },
     "metadata": {},
     "output_type": "display_data"
    }
   ],
   "source": [
    "display(df)"
   ]
  },
  {
   "cell_type": "markdown",
   "id": "9f700900",
   "metadata": {},
   "source": [
    "## Modificando Inicio e Fim para cada token no dataset"
   ]
  },
  {
   "cell_type": "code",
   "execution_count": 5,
   "id": "15491d34",
   "metadata": {},
   "outputs": [
    {
     "name": "stdout",
     "output_type": "stream",
     "text": [
      "13858\n"
     ]
    }
   ],
   "source": [
    "# reading sentences\n",
    "with open(\"../../DataSets/Dados_Utilizados_Para_RotulacaoManual.txt\") as file:\n",
    "    fixed_sentencas = [line.rstrip() for line in file]\n",
    "print(len(fixed_sentencas))"
   ]
  },
  {
   "cell_type": "code",
   "execution_count": 10,
   "id": "fe9550fd",
   "metadata": {},
   "outputs": [
    {
     "data": {
      "text/plain": [
       "186019"
      ]
     },
     "execution_count": 10,
     "metadata": {},
     "output_type": "execute_result"
    }
   ],
   "source": [
    "# reading database\n",
    "finalDS = pd.read_csv(\"../../DataSets/Dataset_Padrao_IOB_Versao2.csv\", usecols=['Palavras', 'Rotulo', 'Sentenca'])\n",
    "len(finalDS)"
   ]
  },
  {
   "cell_type": "code",
   "execution_count": 8,
   "id": "9da8832b",
   "metadata": {},
   "outputs": [
    {
     "data": {
      "text/plain": [
       "186019"
      ]
     },
     "execution_count": 8,
     "metadata": {},
     "output_type": "execute_result"
    }
   ],
   "source": [
    "# token's position's in the setence\n",
    "positions = []\n",
    "for sent in fixed_sentencas:\n",
    "    wordSpanList = list(TreebankWordTokenizer().span_tokenize(sent))\n",
    "    for wordSpan in wordSpanList:\n",
    "        # posicoes\n",
    "        positions.append([wordSpan[0], wordSpan[1]])\n",
    "len(positions)"
   ]
  },
  {
   "cell_type": "code",
   "execution_count": 12,
   "id": "87824ef4",
   "metadata": {},
   "outputs": [],
   "source": [
    "positions = pd.DataFrame(positions, columns = ['Inicio','Fim'])\n",
    "start = positions['Inicio']\n",
    "end = positions['Fim']"
   ]
  },
  {
   "cell_type": "code",
   "execution_count": 13,
   "id": "d4e1cc61",
   "metadata": {},
   "outputs": [
    {
     "data": {
      "text/html": [
       "<div>\n",
       "<style scoped>\n",
       "    .dataframe tbody tr th:only-of-type {\n",
       "        vertical-align: middle;\n",
       "    }\n",
       "\n",
       "    .dataframe tbody tr th {\n",
       "        vertical-align: top;\n",
       "    }\n",
       "\n",
       "    .dataframe thead th {\n",
       "        text-align: right;\n",
       "    }\n",
       "</style>\n",
       "<table border=\"1\" class=\"dataframe\">\n",
       "  <thead>\n",
       "    <tr style=\"text-align: right;\">\n",
       "      <th></th>\n",
       "      <th>Palavras</th>\n",
       "      <th>Rotulo</th>\n",
       "      <th>Sentenca</th>\n",
       "      <th>Inicio</th>\n",
       "      <th>Fim</th>\n",
       "    </tr>\n",
       "  </thead>\n",
       "  <tbody>\n",
       "    <tr>\n",
       "      <th>0</th>\n",
       "      <td>id</td>\n",
       "      <td>O</td>\n",
       "      <td>1</td>\n",
       "      <td>0</td>\n",
       "      <td>2</td>\n",
       "    </tr>\n",
       "    <tr>\n",
       "      <th>1</th>\n",
       "      <td>:</td>\n",
       "      <td>O</td>\n",
       "      <td>1</td>\n",
       "      <td>2</td>\n",
       "      <td>3</td>\n",
       "    </tr>\n",
       "    <tr>\n",
       "      <th>2</th>\n",
       "      <td>0</td>\n",
       "      <td>O</td>\n",
       "      <td>1</td>\n",
       "      <td>4</td>\n",
       "      <td>5</td>\n",
       "    </tr>\n",
       "    <tr>\n",
       "      <th>3</th>\n",
       "      <td>NOME</td>\n",
       "      <td>O</td>\n",
       "      <td>2</td>\n",
       "      <td>0</td>\n",
       "      <td>4</td>\n",
       "    </tr>\n",
       "    <tr>\n",
       "      <th>4</th>\n",
       "      <td>DA</td>\n",
       "      <td>O</td>\n",
       "      <td>2</td>\n",
       "      <td>5</td>\n",
       "      <td>7</td>\n",
       "    </tr>\n",
       "    <tr>\n",
       "      <th>...</th>\n",
       "      <td>...</td>\n",
       "      <td>...</td>\n",
       "      <td>...</td>\n",
       "      <td>...</td>\n",
       "      <td>...</td>\n",
       "    </tr>\n",
       "    <tr>\n",
       "      <th>186014</th>\n",
       "      <td>Destilados</td>\n",
       "      <td>O</td>\n",
       "      <td>13858</td>\n",
       "      <td>54</td>\n",
       "      <td>64</td>\n",
       "    </tr>\n",
       "    <tr>\n",
       "      <th>186015</th>\n",
       "      <td>do</td>\n",
       "      <td>O</td>\n",
       "      <td>13858</td>\n",
       "      <td>65</td>\n",
       "      <td>67</td>\n",
       "    </tr>\n",
       "    <tr>\n",
       "      <th>186016</th>\n",
       "      <td>Brasil</td>\n",
       "      <td>B-NOME_LOCAL</td>\n",
       "      <td>13858</td>\n",
       "      <td>68</td>\n",
       "      <td>74</td>\n",
       "    </tr>\n",
       "    <tr>\n",
       "      <th>186017</th>\n",
       "      <td>2019</td>\n",
       "      <td>B-TEMPO</td>\n",
       "      <td>13858</td>\n",
       "      <td>75</td>\n",
       "      <td>79</td>\n",
       "    </tr>\n",
       "    <tr>\n",
       "      <th>186018</th>\n",
       "      <td>.</td>\n",
       "      <td>O</td>\n",
       "      <td>13858</td>\n",
       "      <td>79</td>\n",
       "      <td>80</td>\n",
       "    </tr>\n",
       "  </tbody>\n",
       "</table>\n",
       "<p>186019 rows × 5 columns</p>\n",
       "</div>"
      ],
      "text/plain": [
       "          Palavras        Rotulo  Sentenca  Inicio  Fim\n",
       "0               id             O         1       0    2\n",
       "1                :             O         1       2    3\n",
       "2                0             O         1       4    5\n",
       "3             NOME             O         2       0    4\n",
       "4               DA             O         2       5    7\n",
       "...            ...           ...       ...     ...  ...\n",
       "186014  Destilados             O     13858      54   64\n",
       "186015          do             O     13858      65   67\n",
       "186016      Brasil  B-NOME_LOCAL     13858      68   74\n",
       "186017        2019       B-TEMPO     13858      75   79\n",
       "186018           .             O     13858      79   80\n",
       "\n",
       "[186019 rows x 5 columns]"
      ]
     },
     "execution_count": 13,
     "metadata": {},
     "output_type": "execute_result"
    }
   ],
   "source": [
    "finalDS = finalDS.join(start)\n",
    "finalDS = finalDS.join(end)\n",
    "finalDS"
   ]
  },
  {
   "cell_type": "code",
   "execution_count": 14,
   "id": "dbe5d99a",
   "metadata": {},
   "outputs": [],
   "source": [
    "finalDS.to_csv(\"../../DataSets/Dataset_Padrao_IOB_Versao3.csv\", encoding=\"utf-8\")"
   ]
  },
  {
   "cell_type": "markdown",
   "id": "51cc622a",
   "metadata": {},
   "source": [
    "## Adicionando Inicio e Fim para cada token no dataset"
   ]
  },
  {
   "cell_type": "code",
   "execution_count": 12,
   "id": "0d77b26c",
   "metadata": {},
   "outputs": [],
   "source": [
    "dados, referencia = tokenizeAn(lista_ArthurCompleta)\n",
    "finalDS = pd.read_csv(\"./DataSet/Divergencias.csv\", usecols=['Palavras', 'Rotulo', 'Sentenca'])\n"
   ]
  },
  {
   "cell_type": "code",
   "execution_count": 13,
   "id": "b129ebf1",
   "metadata": {},
   "outputs": [],
   "source": [
    "positions = [x[2] for x in referencia]\n",
    "positions = pd.DataFrame(positions, columns = ['Inicio','Fim'])\n"
   ]
  },
  {
   "cell_type": "code",
   "execution_count": 15,
   "id": "a052292a",
   "metadata": {},
   "outputs": [],
   "source": [
    "start = positions['Inicio']\n",
    "end = positions['Fim']"
   ]
  },
  {
   "cell_type": "code",
   "execution_count": 16,
   "id": "b99ab6dd",
   "metadata": {},
   "outputs": [
    {
     "data": {
      "text/html": [
       "<div>\n",
       "<style scoped>\n",
       "    .dataframe tbody tr th:only-of-type {\n",
       "        vertical-align: middle;\n",
       "    }\n",
       "\n",
       "    .dataframe tbody tr th {\n",
       "        vertical-align: top;\n",
       "    }\n",
       "\n",
       "    .dataframe thead th {\n",
       "        text-align: right;\n",
       "    }\n",
       "</style>\n",
       "<table border=\"1\" class=\"dataframe\">\n",
       "  <thead>\n",
       "    <tr style=\"text-align: right;\">\n",
       "      <th></th>\n",
       "      <th>Palavras</th>\n",
       "      <th>Rotulo</th>\n",
       "      <th>Sentenca</th>\n",
       "      <th>Inicio</th>\n",
       "    </tr>\n",
       "  </thead>\n",
       "  <tbody>\n",
       "    <tr>\n",
       "      <th>0</th>\n",
       "      <td>id</td>\n",
       "      <td>O</td>\n",
       "      <td>1</td>\n",
       "      <td>0</td>\n",
       "    </tr>\n",
       "    <tr>\n",
       "      <th>1</th>\n",
       "      <td>:</td>\n",
       "      <td>O</td>\n",
       "      <td>1</td>\n",
       "      <td>2</td>\n",
       "    </tr>\n",
       "    <tr>\n",
       "      <th>2</th>\n",
       "      <td>0</td>\n",
       "      <td>O</td>\n",
       "      <td>1</td>\n",
       "      <td>4</td>\n",
       "    </tr>\n",
       "    <tr>\n",
       "      <th>3</th>\n",
       "      <td>NOME</td>\n",
       "      <td>O</td>\n",
       "      <td>2</td>\n",
       "      <td>0</td>\n",
       "    </tr>\n",
       "    <tr>\n",
       "      <th>4</th>\n",
       "      <td>DA</td>\n",
       "      <td>O</td>\n",
       "      <td>2</td>\n",
       "      <td>5</td>\n",
       "    </tr>\n",
       "    <tr>\n",
       "      <th>...</th>\n",
       "      <td>...</td>\n",
       "      <td>...</td>\n",
       "      <td>...</td>\n",
       "      <td>...</td>\n",
       "    </tr>\n",
       "    <tr>\n",
       "      <th>186014</th>\n",
       "      <td>Destilados</td>\n",
       "      <td>O</td>\n",
       "      <td>14287</td>\n",
       "      <td>54</td>\n",
       "    </tr>\n",
       "    <tr>\n",
       "      <th>186015</th>\n",
       "      <td>do</td>\n",
       "      <td>O</td>\n",
       "      <td>14287</td>\n",
       "      <td>65</td>\n",
       "    </tr>\n",
       "    <tr>\n",
       "      <th>186016</th>\n",
       "      <td>Brasil</td>\n",
       "      <td>B-NOME_LOCAL</td>\n",
       "      <td>14287</td>\n",
       "      <td>68</td>\n",
       "    </tr>\n",
       "    <tr>\n",
       "      <th>186017</th>\n",
       "      <td>2019</td>\n",
       "      <td>B-TEMPO</td>\n",
       "      <td>14287</td>\n",
       "      <td>75</td>\n",
       "    </tr>\n",
       "    <tr>\n",
       "      <th>186018</th>\n",
       "      <td>.</td>\n",
       "      <td>O</td>\n",
       "      <td>14287</td>\n",
       "      <td>79</td>\n",
       "    </tr>\n",
       "  </tbody>\n",
       "</table>\n",
       "<p>186019 rows × 4 columns</p>\n",
       "</div>"
      ],
      "text/plain": [
       "          Palavras        Rotulo  Sentenca  Inicio\n",
       "0               id             O         1       0\n",
       "1                :             O         1       2\n",
       "2                0             O         1       4\n",
       "3             NOME             O         2       0\n",
       "4               DA             O         2       5\n",
       "...            ...           ...       ...     ...\n",
       "186014  Destilados             O     14287      54\n",
       "186015          do             O     14287      65\n",
       "186016      Brasil  B-NOME_LOCAL     14287      68\n",
       "186017        2019       B-TEMPO     14287      75\n",
       "186018           .             O     14287      79\n",
       "\n",
       "[186019 rows x 4 columns]"
      ]
     },
     "execution_count": 16,
     "metadata": {},
     "output_type": "execute_result"
    }
   ],
   "source": [
    "finalDS = finalDS.join(start)\n",
    "finalDS = finalDS.join(end)\n",
    "finalDS"
   ]
  },
  {
   "cell_type": "code",
   "execution_count": 38,
   "id": "5ca95878",
   "metadata": {},
   "outputs": [],
   "source": [
    "finalDS.to_csv(\"./DataSet/FinalDataSet.csv\", encoding=\"utf-8\")"
   ]
  },
  {
   "cell_type": "markdown",
   "id": "cec8b336",
   "metadata": {},
   "source": [
    "## Transforma DataSet para formato Spacy"
   ]
  },
  {
   "cell_type": "code",
   "execution_count": 8,
   "metadata": {},
   "outputs": [],
   "source": [
    "finalDS = pd.read_csv(\"./DataSet/FinalDataSet.csv\", usecols=['Palavras', 'Rotulo', 'Sentenca', 'Inicio', 'Fim'])"
   ]
  },
  {
   "cell_type": "markdown",
   "id": "94517f38",
   "metadata": {},
   "source": [
    "# Pontos errados da Base"
   ]
  },
  {
   "cell_type": "code",
   "execution_count": 23,
   "id": "89b70716",
   "metadata": {},
   "outputs": [
    {
     "name": "stdout",
     "output_type": "stream",
     "text": [
      "3319\n",
      "7732\n",
      "8191\n",
      "25503\n",
      "25785\n",
      "55723\n",
      "57586\n",
      "77112\n",
      "80014\n",
      "80070\n",
      "84265\n",
      "87103\n",
      "115590\n",
      "121004\n",
      "123126\n",
      "126136\n",
      "126778\n",
      "130505\n",
      "159364\n",
      "162519\n",
      "163087\n",
      "163903\n",
      "165758\n",
      "171596\n",
      "171606\n",
      "172905\n",
      "174275\n",
      "182937\n",
      "182978\n"
     ]
    }
   ],
   "source": [
    "prevRot = 'O'\n",
    "for index, row in finalDS.iterrows():\n",
    "    if row['Rotulo'][0] == 'I' and prevRot == 'O':\n",
    "        print(index)\n",
    "        row['Rotulo'] = 'B' + row['Rotulo'][1:]\n",
    "    prevRot = row['Rotulo'][0]\n",
    "    # print(prevRot)\n"
   ]
  },
  {
   "cell_type": "markdown",
   "id": "3af20f19",
   "metadata": {},
   "source": [
    "## To SpaCy"
   ]
  },
  {
   "cell_type": "code",
   "execution_count": 5,
   "id": "2fec4f5b",
   "metadata": {},
   "outputs": [
    {
     "data": {
      "text/plain": [
       "14287"
      ]
     },
     "execution_count": 5,
     "metadata": {},
     "output_type": "execute_result"
    }
   ],
   "source": [
    "# TODO - Ler textos.\n",
    "with open(\"./DataSet/Dados_Utilizados_Para_RotulacaoManual.txt\", \"r\") as file:\n",
    "    textos = file.read().splitlines()\n",
    "\n",
    "len(textos)\n"
   ]
  },
  {
   "cell_type": "code",
   "execution_count": 18,
   "id": "d7fee195",
   "metadata": {},
   "outputs": [
    {
     "data": {
      "text/plain": [
       "10969"
      ]
     },
     "execution_count": 18,
     "metadata": {},
     "output_type": "execute_result"
    }
   ],
   "source": [
    "sMarker = 0\n",
    "\n",
    "s = textos[sMarker]\n",
    "TRAIN_DATA = []\n",
    "entities = []\n",
    "for index, row in finalDS.iterrows():\n",
    "    \n",
    "    if(row['Sentenca']-1 != sMarker): # Nova sentença\n",
    "        if entities:\n",
    "            TRAIN_DATA.append((s, {\"entities\": [tuple(e) for e in entities]})) # Salva sentença anterior\n",
    "        entities = [] # esvazia entidades\n",
    "        sMarker = row['Sentenca']-1 # atualiza o marcador de sentença\n",
    "        \n",
    "        if (sMarker < len(textos)): # Limite de textos\n",
    "            s = textos[sMarker]\n",
    "\n",
    "    if(row['Rotulo'][0] == 'B'):\n",
    "         entities.append([row['Inicio'], row['Fim'], row['Rotulo'][2:]])\n",
    "    if(row['Rotulo'][0] == 'I'):\n",
    "        if (entities): \n",
    "            entities[-1][1] = row['Fim']\n",
    "        else:\n",
    "            # print(index)\n",
    "            entities.append([row['Inicio'], row['Fim'], row['Rotulo'][2:]])\n",
    "    \n",
    "    if (index == finalDS.index[-1]): # Ultimo elemento\n",
    "        if entities:\n",
    "            TRAIN_DATA.append((s, {\"entities\": [tuple(e) for e in entities]})) # Salva sentença anterior\n",
    "        \n",
    "        entities = [] \n",
    "\n",
    "\n",
    "len(TRAIN_DATA)\n",
    "    \n",
    "    \n",
    "\n"
   ]
  },
  {
   "cell_type": "code",
   "execution_count": 17,
   "id": "b8726ed0",
   "metadata": {},
   "outputs": [
    {
     "name": "stdout",
     "output_type": "stream",
     "text": [
      "3318\n"
     ]
    }
   ],
   "source": [
    "# Usar pickle pra gerar .bin\n",
    "# print(type(TRAIN_DATA[0][1]['entities']))\n",
    "cont = 0\n",
    "for data in TRAIN_DATA:\n",
    "    if( not data[1]['entities']):\n",
    "        cont = cont + 1\n",
    "\n",
    "print(cont)"
   ]
  },
  {
   "cell_type": "code",
   "execution_count": 22,
   "id": "7748a9a9",
   "metadata": {},
   "outputs": [
    {
     "name": "stdout",
     "output_type": "stream",
     "text": [
      "('DESCRIÇÃO DA CACHAÇA: Cachaça Três Coronéis 700ml', {'entities': [(30, 43, 'NOME_BEBIDA'), (44, 49, 'VOLUME')]})\n"
     ]
    }
   ],
   "source": [
    "print(TRAIN_DATA[2])"
   ]
  }
 ],
 "metadata": {
  "kernelspec": {
   "display_name": "Python 3",
   "language": "python",
   "name": "python3"
  },
  "language_info": {
   "codemirror_mode": {
    "name": "ipython",
    "version": 3
   },
   "file_extension": ".py",
   "mimetype": "text/x-python",
   "name": "python",
   "nbconvert_exporter": "python",
   "pygments_lexer": "ipython3",
   "version": "3.8.10"
  }
 },
 "nbformat": 4,
 "nbformat_minor": 5
}
