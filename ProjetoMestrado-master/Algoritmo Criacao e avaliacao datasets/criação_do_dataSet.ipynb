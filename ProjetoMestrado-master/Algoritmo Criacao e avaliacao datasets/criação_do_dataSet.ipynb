{
 "cells": [
  {
   "cell_type": "markdown",
   "id": "c3f7abcb",
   "metadata": {},
   "source": [
    "# Criação do DataSet e Análise das Rotulações"
   ]
  },
  {
   "cell_type": "markdown",
   "id": "913ead7d",
   "metadata": {},
   "source": [
    "## Pacotes"
   ]
  },
  {
   "cell_type": "code",
   "execution_count": 1,
   "id": "0536f790",
   "metadata": {},
   "outputs": [],
   "source": [
    "import pandas as pd\n",
    "import numpy as np\n",
    "# Importando a biblioteca utilsDS que possuí funções auxiliares compartilhadas\n",
    "# com outros notebooks, exemplo: jsonl2list, merge, tokenizeAn\n",
    "from utilsDS import *"
   ]
  },
  {
   "cell_type": "code",
   "execution_count": 13,
   "id": "f374d6bc",
   "metadata": {},
   "outputs": [],
   "source": [
    "DATA_PATH = \"./dados/\""
   ]
  },
  {
   "cell_type": "markdown",
   "id": "8d82e642",
   "metadata": {},
   "source": [
    "## Lendo e juntando rotulações de todos rotuladores "
   ]
  },
  {
   "cell_type": "code",
   "execution_count": 42,
   "id": "62571be7",
   "metadata": {},
   "outputs": [],
   "source": [
    "## Código para fazer leitura dos arquivos rotulado e não rotulados, realizar o merge entre eles\n",
    "## e tokenizar as informações. Apenas Thiago e Arthur\n",
    "\n",
    "# Dados Arthur\n",
    "# Junta dados rotulados e não rotulados\n",
    "lista_ArthurCompleta = merge(jsonl2list(DATA_PATH + \"arthur_unknown.jsonl\"), jsonl2list(DATA_PATH + \"arthur.jsonl\"))\n",
    "dadosArthurFranco, referencia = tokenizeAn(lista_ArthurCompleta)\n",
    "\n",
    "# Dados Thiago                                                                                                                                                                                                                                                                                                                                                                                                                                                                                                                                                                                                                                                                                                                                                                                                                                                                                                                                                                                                                                                                                                                                                                                                                                                                                                                                                                                                                                                                                                                                                                                                                                                                                                                                                                                                                                                                                                                                                                                                                                                                                                                                                                                                                                                                                                                                                                                                                                                                                                                                                                                                                                                                                                                                                                                                                                                                                                               \n",
    "# Junta dados rotulados e não rotulados\n",
    "lista_ThiagoCompleta = merge(jsonl2list(DATA_PATH + \"thiago_unknown.jsonl\"), jsonl2list(DATA_PATH + \"thiago.jsonl\"))\n",
    "dadosThiagoSalles = tokenizeAn(lista_ThiagoCompleta)[0]"
   ]
  },
  {
   "cell_type": "markdown",
   "id": "68e9dab8",
   "metadata": {},
   "source": [
    "Leitura e merge dos dados da priscilla"
   ]
  },
  {
   "cell_type": "code",
   "execution_count": 15,
   "id": "406ade04",
   "metadata": {},
   "outputs": [],
   "source": [
    "# Dados Priscilla\n",
    "# Junta dados rotulados e não rotulados\n",
    "lista_PriscillaCompleta = merge2(jsonl2list(DATA_PATH + \"priscilla_unknown.jsonl\"), jsonl2list(DATA_PATH + \"priscilla.jsonl\"), lista_ArthurCompleta)\n",
    "\n",
    "## Tokenizar os dados da Priscilla\n",
    "dadosPriscillSilva = tokenizeAn(lista_PriscillaCompleta)[0]"
   ]
  },
  {
   "cell_type": "markdown",
   "id": "7ed979d4",
   "metadata": {},
   "source": [
    "# Criando DataSet no formato IOB"
   ]
  },
  {
   "cell_type": "code",
   "execution_count": 16,
   "id": "3522a54f",
   "metadata": {},
   "outputs": [],
   "source": [
    "# Tokeniza lista de dados de cada rotuladore\n",
    "# gerando uma lista com tokens, rotulo e senteça\n",
    "dsArthur = makingTheDataset(lista_ArthurCompleta)\n",
    "dsThiago = makingTheDataset(lista_ThiagoCompleta)\n",
    "dsPriscilla = makingTheDataset(lista_PriscillaCompleta)"
   ]
  },
  {
   "cell_type": "markdown",
   "id": "a81e9ab8",
   "metadata": {},
   "source": [
    "### Gerando csv com o dataset IOB de cada rotulador\n",
    "- Estes DataSets foram utilizados como referencia para resolução das divergencias."
   ]
  },
  {
   "cell_type": "code",
   "execution_count": 17,
   "id": "bceca99d",
   "metadata": {},
   "outputs": [],
   "source": [
    "df = pd.DataFrame(dsArthur, columns = ['Palavras', 'Rotulo', 'Sentenca'])\n",
    "gerarCSV(DATA_PATH + \"dsArthur\", df)\n",
    "df = pd.DataFrame(dsThiago, columns = ['Palavras', 'Rotulo', 'Sentenca'])\n",
    "gerarCSV(DATA_PATH + \"dsThiago\", df)\n",
    "df = pd.DataFrame(dsPriscilla, columns = ['Palavras', 'Rotulo', 'Sentenca'])\n",
    "gerarCSV(DATA_PATH + \"dsPriscilla\", df)"
   ]
  },
  {
   "cell_type": "markdown",
   "id": "66766798",
   "metadata": {},
   "source": [
    "### Contabilizando divergencias entre os rotuladores"
   ]
  },
  {
   "cell_type": "code",
   "execution_count": 18,
   "id": "80e79ebb",
   "metadata": {},
   "outputs": [
    {
     "name": "stdout",
     "output_type": "stream",
     "text": [
      "divergenciaPriscilla: 3706\n",
      "divergenciaArthur: 1846\n",
      "divergenciaThiago: 3020\n",
      "divergenciaEntreOsTres: 403\n"
     ]
    }
   ],
   "source": [
    "dados = zip(dsArthur, dsThiago, dsPriscilla)\n",
    "\n",
    "divergenciaPriscilla = 0\n",
    "divergenciaArthur = 0\n",
    "divergenciaThiago = 0\n",
    "divergenciaEntreOsTres = 0\n",
    "\n",
    "for dadoArthur, dadoThiago, dadoPriscilla in dados:\n",
    "    if dadoArthur[1] == dadoThiago[1] and dadoArthur[1] == dadoPriscilla[1]: ## Todos sendos iguais\n",
    "        pass\n",
    "    elif dadoArthur[1] == dadoThiago[1] and dadoArthur[1] != dadoPriscilla[1]: ## Priscilla divergindo\n",
    "        divergenciaPriscilla += 1\n",
    "    elif dadoArthur[1] == dadoPriscilla[1] and dadoArthur[1] != dadoThiago[1]: ## Thiago divergindo\n",
    "        divergenciaThiago += 1\n",
    "    elif dadoThiago[1] == dadoPriscilla[1] and dadoArthur[1] != dadoThiago[1]: ## Arthur divergindo\n",
    "        divergenciaArthur += 1\n",
    "    else:\n",
    "        divergenciaEntreOsTres += 1\n",
    "\n",
    "print(f'divergenciaPriscilla: {divergenciaPriscilla}\\ndivergenciaArthur: {divergenciaArthur}\\ndivergenciaThiago: {divergenciaThiago}\\ndivergenciaEntreOsTres: {divergenciaEntreOsTres}')"
   ]
  },
  {
   "cell_type": "markdown",
   "id": "f13b7590",
   "metadata": {},
   "source": [
    "### Gerando DataSet para analise das divergências entre rotuladores"
   ]
  },
  {
   "cell_type": "code",
   "execution_count": 19,
   "id": "3c25f0b2",
   "metadata": {},
   "outputs": [],
   "source": [
    "dadosFinais = []\n",
    "textos = [i['data'] for i in lista_ArthurCompleta]\n",
    "dados = zip(dsArthur, dsThiago, dsPriscilla)\n",
    "\n",
    "# todas sentecas com discordancia entre os 3 rotuladores\n",
    "for dadoArthur, dadoThiago, dadoPriscilla in dados:\n",
    "    if dadoArthur[1] == dadoThiago[1] and dadoArthur[1] == dadoPriscilla[1]: ## Todos sendos iguais\n",
    "        dadoArthur.append('[N]')\n",
    "        dadosFinais.append(dadoArthur)\n",
    "    elif dadoArthur[1] == dadoThiago[1] and dadoArthur[1] != dadoPriscilla[1]: ## Priscilla divergindo\n",
    "        dadoArthur.append('[N]')\n",
    "        dadosFinais.append(dadoArthur)\n",
    "    elif dadoArthur[1] == dadoPriscilla[1] and dadoArthur[1] != dadoThiago[1]: ## Thiago divergindo\n",
    "        dadoArthur.append('[N]')\n",
    "        dadosFinais.append(dadoArthur)\n",
    "    elif dadoThiago[1] == dadoPriscilla[1] and dadoArthur[1] != dadoThiago[1]: ## Arthur divergindo\n",
    "        dadoThiago.append('[N]')\n",
    "        dadosFinais.append(dadoThiago)\n",
    "    else:\n",
    "        dadoThiago.append('[S]')\n",
    "        dadosFinais.append(dadoThiago)\n",
    "        "
   ]
  },
  {
   "cell_type": "code",
   "execution_count": 21,
   "id": "27d204ab",
   "metadata": {},
   "outputs": [],
   "source": [
    "# Dataset no formato IOB com informação sobre onde houve divergência entre os três rotuladores\n",
    "# Divergencia sinalizada por [S] na coluna 'Divergencia'\n",
    "df = pd.DataFrame(dadosFinais, columns = ['Palavras', 'Rotulo', 'Sentenca','Divergencia'])\n",
    "gerarCSV(DATA_PATH + \"Dataset_IOB_Divergencias\", df)"
   ]
  },
  {
   "cell_type": "markdown",
   "id": "51cc622a",
   "metadata": {},
   "source": [
    "## Adicionando posição de Inicio e Fim para cada token no dataset em relação a sentença que ele faz parte\n",
    "\n",
    "- Utilizamos o dataset \"Dataset_IOB_Divergencias_Corrigidas.csv\", dataset gerado na etapa anterior após correções feitas pelos tres rotuladores."
   ]
  },
  {
   "cell_type": "code",
   "execution_count": 23,
   "id": "0d77b26c",
   "metadata": {},
   "outputs": [],
   "source": [
    "dados, referencia = tokenizeAn(lista_ArthurCompleta)\n",
    "finalDS = pd.read_csv(DATA_PATH + \"Dataset_IOB_Divergencias_Corrigidas.csv\", usecols=['Palavras', 'Rotulo', 'Sentenca'])\n"
   ]
  },
  {
   "cell_type": "code",
   "execution_count": 24,
   "id": "b129ebf1",
   "metadata": {},
   "outputs": [],
   "source": [
    "positions = [x[2] for x in referencia]\n",
    "positions = pd.DataFrame(positions, columns = ['Inicio','Fim'])\n"
   ]
  },
  {
   "cell_type": "code",
   "execution_count": 25,
   "id": "a052292a",
   "metadata": {},
   "outputs": [],
   "source": [
    "start = positions['Inicio']\n",
    "end = positions['Fim']"
   ]
  },
  {
   "cell_type": "code",
   "execution_count": 26,
   "id": "b99ab6dd",
   "metadata": {},
   "outputs": [
    {
     "data": {
      "text/html": [
       "<div>\n",
       "<style scoped>\n",
       "    .dataframe tbody tr th:only-of-type {\n",
       "        vertical-align: middle;\n",
       "    }\n",
       "\n",
       "    .dataframe tbody tr th {\n",
       "        vertical-align: top;\n",
       "    }\n",
       "\n",
       "    .dataframe thead th {\n",
       "        text-align: right;\n",
       "    }\n",
       "</style>\n",
       "<table border=\"1\" class=\"dataframe\">\n",
       "  <thead>\n",
       "    <tr style=\"text-align: right;\">\n",
       "      <th></th>\n",
       "      <th>Palavras</th>\n",
       "      <th>Rotulo</th>\n",
       "      <th>Sentenca</th>\n",
       "      <th>Inicio</th>\n",
       "      <th>Fim</th>\n",
       "    </tr>\n",
       "  </thead>\n",
       "  <tbody>\n",
       "    <tr>\n",
       "      <th>0</th>\n",
       "      <td>id</td>\n",
       "      <td>O</td>\n",
       "      <td>1</td>\n",
       "      <td>0</td>\n",
       "      <td>2</td>\n",
       "    </tr>\n",
       "    <tr>\n",
       "      <th>1</th>\n",
       "      <td>:</td>\n",
       "      <td>O</td>\n",
       "      <td>1</td>\n",
       "      <td>2</td>\n",
       "      <td>3</td>\n",
       "    </tr>\n",
       "    <tr>\n",
       "      <th>2</th>\n",
       "      <td>0</td>\n",
       "      <td>O</td>\n",
       "      <td>1</td>\n",
       "      <td>4</td>\n",
       "      <td>5</td>\n",
       "    </tr>\n",
       "    <tr>\n",
       "      <th>3</th>\n",
       "      <td>NOME</td>\n",
       "      <td>O</td>\n",
       "      <td>2</td>\n",
       "      <td>0</td>\n",
       "      <td>4</td>\n",
       "    </tr>\n",
       "    <tr>\n",
       "      <th>4</th>\n",
       "      <td>DA</td>\n",
       "      <td>O</td>\n",
       "      <td>2</td>\n",
       "      <td>5</td>\n",
       "      <td>7</td>\n",
       "    </tr>\n",
       "    <tr>\n",
       "      <th>...</th>\n",
       "      <td>...</td>\n",
       "      <td>...</td>\n",
       "      <td>...</td>\n",
       "      <td>...</td>\n",
       "      <td>...</td>\n",
       "    </tr>\n",
       "    <tr>\n",
       "      <th>186014</th>\n",
       "      <td>Destilados</td>\n",
       "      <td>O</td>\n",
       "      <td>14287</td>\n",
       "      <td>54</td>\n",
       "      <td>64</td>\n",
       "    </tr>\n",
       "    <tr>\n",
       "      <th>186015</th>\n",
       "      <td>do</td>\n",
       "      <td>O</td>\n",
       "      <td>14287</td>\n",
       "      <td>65</td>\n",
       "      <td>67</td>\n",
       "    </tr>\n",
       "    <tr>\n",
       "      <th>186016</th>\n",
       "      <td>Brasil</td>\n",
       "      <td>B-NOME_LOCAL</td>\n",
       "      <td>14287</td>\n",
       "      <td>68</td>\n",
       "      <td>74</td>\n",
       "    </tr>\n",
       "    <tr>\n",
       "      <th>186017</th>\n",
       "      <td>2019</td>\n",
       "      <td>B-TEMPO</td>\n",
       "      <td>14287</td>\n",
       "      <td>75</td>\n",
       "      <td>79</td>\n",
       "    </tr>\n",
       "    <tr>\n",
       "      <th>186018</th>\n",
       "      <td>.</td>\n",
       "      <td>O</td>\n",
       "      <td>14287</td>\n",
       "      <td>79</td>\n",
       "      <td>80</td>\n",
       "    </tr>\n",
       "  </tbody>\n",
       "</table>\n",
       "<p>186019 rows × 5 columns</p>\n",
       "</div>"
      ],
      "text/plain": [
       "          Palavras        Rotulo  Sentenca  Inicio  Fim\n",
       "0               id             O         1       0    2\n",
       "1                :             O         1       2    3\n",
       "2                0             O         1       4    5\n",
       "3             NOME             O         2       0    4\n",
       "4               DA             O         2       5    7\n",
       "...            ...           ...       ...     ...  ...\n",
       "186014  Destilados             O     14287      54   64\n",
       "186015          do             O     14287      65   67\n",
       "186016      Brasil  B-NOME_LOCAL     14287      68   74\n",
       "186017        2019       B-TEMPO     14287      75   79\n",
       "186018           .             O     14287      79   80\n",
       "\n",
       "[186019 rows x 5 columns]"
      ]
     },
     "execution_count": 26,
     "metadata": {},
     "output_type": "execute_result"
    }
   ],
   "source": [
    "finalDS = finalDS.join(start)\n",
    "finalDS = finalDS.join(end)\n",
    "finalDS"
   ]
  },
  {
   "cell_type": "code",
   "execution_count": 27,
   "id": "5ca95878",
   "metadata": {},
   "outputs": [],
   "source": [
    "finalDS.to_csv(DATA_PATH + \"FinalDataSet.csv\", encoding=\"utf-8\")"
   ]
  },
  {
   "cell_type": "markdown",
   "id": "9f700900",
   "metadata": {},
   "source": [
    "## Atualizando Inicio e Fim para cada token no dataset em relação a sentença que ele faz parte\n",
    "- após alteração manual no dataset foi preciso atualizar a posição de inicio e fim dos tokens na sentença."
   ]
  },
  {
   "cell_type": "code",
   "execution_count": 28,
   "id": "15491d34",
   "metadata": {},
   "outputs": [
    {
     "name": "stdout",
     "output_type": "stream",
     "text": [
      "14628\n"
     ]
    }
   ],
   "source": [
    "# reading sentences\n",
    "with open(\"../../DataSets/Dados_Utilizados_Para_RotulacaoManual.txt\") as file:\n",
    "    fixed_sentencas = [line.rstrip() for line in file]\n",
    "print(len(fixed_sentencas))"
   ]
  },
  {
   "cell_type": "code",
   "execution_count": 30,
   "id": "fe9550fd",
   "metadata": {},
   "outputs": [
    {
     "data": {
      "text/plain": [
       "186019"
      ]
     },
     "execution_count": 30,
     "metadata": {},
     "output_type": "execute_result"
    }
   ],
   "source": [
    "# lendo dataset na qual a alteração será feita\n",
    "finalDS = pd.read_csv(\"../../DataSets/dataset_dados_rotulados.csv\", usecols=['Palavras', 'Rotulo', 'Sentenca'])\n",
    "len(finalDS)"
   ]
  },
  {
   "cell_type": "code",
   "execution_count": 31,
   "id": "9da8832b",
   "metadata": {},
   "outputs": [
    {
     "data": {
      "text/plain": [
       "186019"
      ]
     },
     "execution_count": 31,
     "metadata": {},
     "output_type": "execute_result"
    }
   ],
   "source": [
    "# token's position's in the setence\n",
    "positions = []\n",
    "for sent in fixed_sentencas:\n",
    "    wordSpanList = list(TreebankWordTokenizer().span_tokenize(sent))\n",
    "    for wordSpan in wordSpanList:\n",
    "        # posicoes\n",
    "        positions.append([wordSpan[0], wordSpan[1]])\n",
    "len(positions)"
   ]
  },
  {
   "cell_type": "code",
   "execution_count": 32,
   "id": "87824ef4",
   "metadata": {},
   "outputs": [],
   "source": [
    "positions = pd.DataFrame(positions, columns = ['Inicio','Fim'])\n",
    "start = positions['Inicio']\n",
    "end = positions['Fim']"
   ]
  },
  {
   "cell_type": "code",
   "execution_count": 33,
   "id": "d4e1cc61",
   "metadata": {},
   "outputs": [
    {
     "data": {
      "text/html": [
       "<div>\n",
       "<style scoped>\n",
       "    .dataframe tbody tr th:only-of-type {\n",
       "        vertical-align: middle;\n",
       "    }\n",
       "\n",
       "    .dataframe tbody tr th {\n",
       "        vertical-align: top;\n",
       "    }\n",
       "\n",
       "    .dataframe thead th {\n",
       "        text-align: right;\n",
       "    }\n",
       "</style>\n",
       "<table border=\"1\" class=\"dataframe\">\n",
       "  <thead>\n",
       "    <tr style=\"text-align: right;\">\n",
       "      <th></th>\n",
       "      <th>Palavras</th>\n",
       "      <th>Rotulo</th>\n",
       "      <th>Sentenca</th>\n",
       "      <th>Inicio</th>\n",
       "      <th>Fim</th>\n",
       "    </tr>\n",
       "  </thead>\n",
       "  <tbody>\n",
       "    <tr>\n",
       "      <th>0</th>\n",
       "      <td>id</td>\n",
       "      <td>O</td>\n",
       "      <td>1</td>\n",
       "      <td>0</td>\n",
       "      <td>2</td>\n",
       "    </tr>\n",
       "    <tr>\n",
       "      <th>1</th>\n",
       "      <td>:</td>\n",
       "      <td>O</td>\n",
       "      <td>1</td>\n",
       "      <td>2</td>\n",
       "      <td>3</td>\n",
       "    </tr>\n",
       "    <tr>\n",
       "      <th>2</th>\n",
       "      <td>0</td>\n",
       "      <td>O</td>\n",
       "      <td>1</td>\n",
       "      <td>4</td>\n",
       "      <td>5</td>\n",
       "    </tr>\n",
       "    <tr>\n",
       "      <th>3</th>\n",
       "      <td>NOME</td>\n",
       "      <td>O</td>\n",
       "      <td>2</td>\n",
       "      <td>0</td>\n",
       "      <td>4</td>\n",
       "    </tr>\n",
       "    <tr>\n",
       "      <th>4</th>\n",
       "      <td>DA</td>\n",
       "      <td>O</td>\n",
       "      <td>2</td>\n",
       "      <td>5</td>\n",
       "      <td>7</td>\n",
       "    </tr>\n",
       "    <tr>\n",
       "      <th>...</th>\n",
       "      <td>...</td>\n",
       "      <td>...</td>\n",
       "      <td>...</td>\n",
       "      <td>...</td>\n",
       "      <td>...</td>\n",
       "    </tr>\n",
       "    <tr>\n",
       "      <th>186014</th>\n",
       "      <td>Destilados</td>\n",
       "      <td>O</td>\n",
       "      <td>14628</td>\n",
       "      <td>54</td>\n",
       "      <td>64</td>\n",
       "    </tr>\n",
       "    <tr>\n",
       "      <th>186015</th>\n",
       "      <td>do</td>\n",
       "      <td>O</td>\n",
       "      <td>14628</td>\n",
       "      <td>65</td>\n",
       "      <td>67</td>\n",
       "    </tr>\n",
       "    <tr>\n",
       "      <th>186016</th>\n",
       "      <td>Brasil</td>\n",
       "      <td>B-NOME_LOCAL</td>\n",
       "      <td>14628</td>\n",
       "      <td>68</td>\n",
       "      <td>74</td>\n",
       "    </tr>\n",
       "    <tr>\n",
       "      <th>186017</th>\n",
       "      <td>2019</td>\n",
       "      <td>B-TEMPO</td>\n",
       "      <td>14628</td>\n",
       "      <td>75</td>\n",
       "      <td>79</td>\n",
       "    </tr>\n",
       "    <tr>\n",
       "      <th>186018</th>\n",
       "      <td>.</td>\n",
       "      <td>O</td>\n",
       "      <td>14628</td>\n",
       "      <td>79</td>\n",
       "      <td>80</td>\n",
       "    </tr>\n",
       "  </tbody>\n",
       "</table>\n",
       "<p>186019 rows × 5 columns</p>\n",
       "</div>"
      ],
      "text/plain": [
       "          Palavras        Rotulo  Sentenca  Inicio  Fim\n",
       "0               id             O         1       0    2\n",
       "1                :             O         1       2    3\n",
       "2                0             O         1       4    5\n",
       "3             NOME             O         2       0    4\n",
       "4               DA             O         2       5    7\n",
       "...            ...           ...       ...     ...  ...\n",
       "186014  Destilados             O     14628      54   64\n",
       "186015          do             O     14628      65   67\n",
       "186016      Brasil  B-NOME_LOCAL     14628      68   74\n",
       "186017        2019       B-TEMPO     14628      75   79\n",
       "186018           .             O     14628      79   80\n",
       "\n",
       "[186019 rows x 5 columns]"
      ]
     },
     "execution_count": 33,
     "metadata": {},
     "output_type": "execute_result"
    }
   ],
   "source": [
    "finalDS = finalDS.join(start)\n",
    "finalDS = finalDS.join(end)\n",
    "finalDS"
   ]
  },
  {
   "cell_type": "code",
   "execution_count": 34,
   "id": "dbe5d99a",
   "metadata": {},
   "outputs": [],
   "source": [
    "finalDS.to_csv(\"../../DataSets/Dataset_Padrao_IOB.csv\", encoding=\"utf-8\")"
   ]
  },
  {
   "cell_type": "markdown",
   "id": "cec8b336",
   "metadata": {},
   "source": [
    "## Transforma DataSet para formato Spacy"
   ]
  },
  {
   "cell_type": "code",
   "execution_count": 11,
   "id": "58c86373",
   "metadata": {},
   "outputs": [],
   "source": [
    "finalDS = pd.read_csv(\"/home/arthur/Documentos/IC/git/ProjetoMestrado/DataSets/FinalDataSetWith_InitialAndFinalPositionOfWordsInPhrase .csv\", usecols=['Palavras', 'Rotulo', 'Sentenca', 'Inicio', 'Fim'])"
   ]
  },
  {
   "cell_type": "markdown",
   "id": "3af20f19",
   "metadata": {},
   "source": [
    "## To SpaCy"
   ]
  },
  {
   "cell_type": "code",
   "execution_count": 37,
   "id": "2fec4f5b",
   "metadata": {},
   "outputs": [
    {
     "data": {
      "text/plain": [
       "14628"
      ]
     },
     "execution_count": 37,
     "metadata": {},
     "output_type": "execute_result"
    }
   ],
   "source": [
    "# TODO - Ler textos.\n",
    "with open(\"../../DataSets/Dados_Utilizados_Para_RotulacaoManual.txt\", \"r\") as file:\n",
    "    textos = file.read().splitlines()\n",
    "\n",
    "len(textos)\n"
   ]
  },
  {
   "cell_type": "code",
   "execution_count": null,
   "id": "d7fee195",
   "metadata": {},
   "outputs": [],
   "source": [
    "sMarker = 0\n",
    "\n",
    "s = textos[sMarker]\n",
    "TRAIN_DATA = []\n",
    "entities = []\n",
    "for index, row in finalDS.iterrows():\n",
    "    \n",
    "    if(row['Sentenca']-1 != sMarker): # Nova sentença\n",
    "        if entities:\n",
    "            TRAIN_DATA.append((s, {\"entities\": [tuple(e) for e in entities]})) # Salva sentença anterior\n",
    "        entities = [] # esvazia entidades\n",
    "        sMarker = row['Sentenca']-1 # atualiza o marcador de sentença\n",
    "        \n",
    "        if (sMarker < len(textos)): # Limite de textos\n",
    "            s = textos[sMarker]\n",
    "\n",
    "    if(row['Rotulo'][0] == 'B'):\n",
    "         entities.append([row['Inicio'], row['Fim'], row['Rotulo'][2:]])\n",
    "    if(row['Rotulo'][0] == 'O'):\n",
    "         entities.append([row['Inicio'], row['Fim'], row['Rotulo'][2:]])\n",
    "    if(row['Rotulo'][0] == 'I'):\n",
    "        if (entities): \n",
    "            entities[-1][1] = row['Fim']\n",
    "        else:\n",
    "            # print(index)\n",
    "            entities.append([row['Inicio'], row['Fim'], row['Rotulo'][2:]])\n",
    "    \n",
    "    if (index == finalDS.index[-1]): # Ultimo elemento\n",
    "        if entities:\n",
    "            TRAIN_DATA.append((s, {\"entities\": [tuple(e) for e in entities]})) # Salva sentença anterior\n",
    "        \n",
    "        entities = [] \n",
    "\n",
    "\n",
    "TRAIN_DATA"
   ]
  },
  {
   "cell_type": "code",
   "execution_count": 47,
   "id": "b8726ed0",
   "metadata": {},
   "outputs": [
    {
     "name": "stdout",
     "output_type": "stream",
     "text": [
      "0\n"
     ]
    }
   ],
   "source": [
    "# Usar pickle pra gerar .bin\n",
    "# print(type(TRAIN_DATA[0][1]['entities']))\n",
    "cont = 0\n",
    "for data in TRAIN_DATA:\n",
    "    if( not data[1]['entities']):\n",
    "        cont = cont + 1\n",
    "\n",
    "print(cont)"
   ]
  }
 ],
 "metadata": {
  "kernelspec": {
   "display_name": "Python 3",
   "language": "python",
   "name": "python3"
  },
  "language_info": {
   "codemirror_mode": {
    "name": "ipython",
    "version": 3
   },
   "file_extension": ".py",
   "mimetype": "text/x-python",
   "name": "python",
   "nbconvert_exporter": "python",
   "pygments_lexer": "ipython3",
   "version": "3.8.10"
  }
 },
 "nbformat": 4,
 "nbformat_minor": 5
}
