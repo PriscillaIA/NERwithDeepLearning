{
 "cells": [
  {
   "cell_type": "markdown",
   "metadata": {},
   "source": [
    "## Avaliações: Metrica kappa aplicada à rotulação manual de 3 rotuladores"
   ]
  },
  {
   "cell_type": "code",
   "execution_count": 3,
   "metadata": {},
   "outputs": [],
   "source": [
    "import pandas as pd\n",
    "import numpy as np\n",
    "# Importando a biblioteca utilsDS que possuí funções auxiliares compartilhadas\n",
    "# com outros notebooks, exemplo: jsonl2list, merge, tokenizeAn \n",
    "from utilsDS import *"
   ]
  },
  {
   "cell_type": "code",
   "execution_count": 4,
   "metadata": {},
   "outputs": [],
   "source": [
    "def cohen_kappa(ann1, ann2):\n",
    "    \"\"\"Computes Cohen kappa for pair-wise annotators.\n",
    "    :param ann1: annotations provided by first annotator\n",
    "    :type ann1: list\n",
    "    :param ann2: annotations provided by second annotator\n",
    "    :type ann2: list\n",
    "    :rtype: float\n",
    "    :return: Cohen kappa statistic\n",
    "    \"\"\"\n",
    "    count = 0\n",
    "    for an1, an2 in zip(ann1, ann2):\n",
    "        if an1 == an2:\n",
    "            count += 1\n",
    "    A = count / len(ann1)  # observed agreement A (Po)\n",
    "\n",
    "    uniq = set(ann1 + ann2)\n",
    "    E = 0  # expected agreement E (Pe)\n",
    "    for item in uniq:\n",
    "        cnt1 = ann1.count(item)\n",
    "        cnt2 = ann2.count(item)\n",
    "        count = ((cnt1 / len(ann1)) * (cnt2 / len(ann2)))\n",
    "        E += count\n",
    "\n",
    "    return round((A - E) / (1 - E), 4)"
   ]
  },
  {
   "cell_type": "code",
   "execution_count": 5,
   "metadata": {},
   "outputs": [],
   "source": [
    "def fleiss_kappa(M):\n",
    "    \"\"\"Computes Fleiss' kappa for group of annotators.\n",
    "    :param M: a matrix of shape (:attr:'N', :attr:'k') with 'N' = number of subjects and 'k' = the number of categories.\n",
    "        'M[i, j]' represent the number of raters who assigned the 'i'th subject to the 'j'th category.\n",
    "    :type: numpy matrix\n",
    "    :rtype: float\n",
    "    :return: Fleiss' kappa score\n",
    "    \"\"\"\n",
    "    N, k = M.shape  # N is # of items, k is # of categories\n",
    "    n_annotators = float(np.sum(M[0, :]))  # # of annotators\n",
    "    tot_annotations = N * n_annotators  # the total # of annotations\n",
    "    category_sum = np.sum(M, axis=0)  # the sum of each category over all items\n",
    "    # chance agreement\n",
    "    p = category_sum / tot_annotations  # the distribution of each category over all annotations\n",
    "    PbarE = np.sum(p * p)  # average chance agreement over all categories\n",
    "\n",
    "    # observed agreement\n",
    "    P = (np.sum(M * M, axis=1) - n_annotators) / (n_annotators * (n_annotators - 1))\n",
    "    Pbar = np.sum(P) / N  # add all observed agreement chances per item and divide by amount of items\n",
    "\n",
    "    return round((Pbar - PbarE) / (1 - PbarE), 4)"
   ]
  },
  {
   "cell_type": "code",
   "execution_count": 6,
   "metadata": {},
   "outputs": [],
   "source": [
    "DATA_PATH = \"./dados/\""
   ]
  },
  {
   "cell_type": "code",
   "execution_count": 7,
   "metadata": {},
   "outputs": [],
   "source": [
    "#Lendo dados\n",
    "dadosArthurFranco = tokenizeAn(merge(jsonl2list(DATA_PATH + \"arthur_unknown.jsonl\"), jsonl2list(DATA_PATH + \"arthur.jsonl\")))[0]\n",
    "dadosThiagoSalles = tokenizeAn(merge(jsonl2list(DATA_PATH + \"thiago_unknown.jsonl\"), jsonl2list(DATA_PATH + \"thiago.jsonl\")))[0]\n",
    "## Tokenizar os dados da Priscilla\n",
    "dadosPriscillSilva = tokenizeAn(merge2(jsonl2list(DATA_PATH + \"priscilla_unknown.jsonl\"), jsonl2list(DATA_PATH + \"priscilla.jsonl\"), merge(jsonl2list(DATA_PATH + \"thiago_unknown.jsonl\"), jsonl2list(DATA_PATH + \"thiago.jsonl\"))))[0]"
   ]
  },
  {
   "cell_type": "code",
   "execution_count": 8,
   "metadata": {},
   "outputs": [],
   "source": [
    "## palavras contém os tokens das sentenças que foram tokenizadas, dos arquivos de entradas.\n",
    "palavras = [i[0] for i in dadosArthurFranco]\n",
    "\n",
    "df = pd.DataFrame({\n",
    "     'palavrasArthur': dadosArthurFranco,\n",
    "     'palavrasThiago': dadosThiagoSalles,\n",
    "     'palavrasPriscill': dadosPriscillSilva\n",
    "    })\n",
    "\n",
    "## Pega as rotulações feitas por cada pessoa\n",
    "rotulacoesArthurFranco = [i[1] for i in dadosArthurFranco]\n",
    "rotulacoesPriscillSilva = [i[1] for i in dadosPriscillSilva]\n",
    "rotulacoesThiagoSalles = [i[1] for i in dadosThiagoSalles]\n",
    "\n",
    "df = pd.DataFrame({'palavras': palavras,\n",
    "     'Arthur': rotulacoesArthurFranco,\n",
    "     'Thiago': rotulacoesThiagoSalles,\n",
    "     'Priscilla': rotulacoesPriscillSilva\n",
    "    })\n",
    "\n",
    "\n",
    "# Tirando palavras nao anotadas por ninguem \n",
    "dados = zip(palavras, rotulacoesArthurFranco, rotulacoesThiagoSalles, rotulacoesPriscillSilva)\n",
    "semNone = [x for x in list(dados) if (x[1], x[2], x[3]) != ('o', 'o', 'o')]\n",
    "palavraSNones, rotulacoesSNoneArthurFranco, rotulacoesSNoneThiagoSalles, rotulacoesSNonePriscillSilva = zip(*semNone)\n",
    "\n",
    "df = pd.DataFrame({'palavras': palavraSNones,\n",
    "     'Arthur': rotulacoesSNoneArthurFranco,\n",
    "     'Thiago': rotulacoesSNoneThiagoSalles,\n",
    "     'Priscilla': rotulacoesSNonePriscillSilva\n",
    "    })\n",
    "\n",
    "gerarCSV(DATA_PATH + \"dsComparacaoRotulacaoSemTokenNaoRotulados\", df)"
   ]
  },
  {
   "cell_type": "code",
   "execution_count": 9,
   "metadata": {},
   "outputs": [
    {
     "name": "stdout",
     "output_type": "stream",
     "text": [
      "0.8748\n"
     ]
    }
   ],
   "source": [
    "## Calcula a metrica cohen\n",
    "\n",
    "dados = zip(rotulacoesArthurFranco, rotulacoesThiagoSalles)\n",
    "semNone = [x for x in list(dados) if x != ('o', 'o')]\n",
    "arthur, thiago = zip(*semNone)\n",
    "print(cohen_kappa(arthur,thiago))"
   ]
  },
  {
   "cell_type": "code",
   "execution_count": 10,
   "metadata": {},
   "outputs": [],
   "source": [
    "categorias = [\"NOME_BEBIDA\", \"GRADUACAO_ALCOOLICA\", \"EQUIPAMENTO_DESTILACAO\",\n",
    "            \"TEMPO_ARMAZENAMENTO\", \"RECIPIENTE_ARMAZENAMENTO\", \"TIPO_MADEIRA\",\n",
    "            \"CARACTERISTICA_SENSORIAL_COR\", \"CARACTERISTICA_SENSORIAL_AROMA\", \n",
    "            \"CARACTERISTICA_SENSORIAL_SABOR\", \"CARACTERISTICA_SENSORIAL_CONSISTÊNCIA\", \n",
    "            \"NOME_PESSOA\", \"NOME_LOCAL\", \"NOME_ORGANIZACAO\", \"TEMPO\", \"PRECO\", \"VOLUME\", \"CLASSIFICACAO_BEBIDA\", \"o\"]"
   ]
  },
  {
   "cell_type": "code",
   "execution_count": 11,
   "metadata": {},
   "outputs": [
    {
     "name": "stdout",
     "output_type": "stream",
     "text": [
      "0.8575\n"
     ]
    }
   ],
   "source": [
    "## Calcula a metrica Fleiss desconsiderando tokens não rotuladas por nenhum rotulador\n",
    "\n",
    "dados = zip(rotulacoesArthurFranco, rotulacoesThiagoSalles, rotulacoesPriscillSilva)\n",
    "semNone = [x for x in list(dados) if x != ('o', 'o', 'o')]\n",
    "arthur, thiago, priscilla = zip(*semNone)\n",
    "\n",
    "M = np.zeros((len(arthur), len(categorias)))\n",
    "\n",
    "nLines, nColumns = M.shape\n",
    "\n",
    "for i in range(nLines):\n",
    "    # if (arthur[i] != \"o\"):\n",
    "        M[i, categorias.index(arthur[i])] += 1\n",
    "    # if (thiago[i] != \"o\"):\n",
    "        M[i, categorias.index(thiago[i])] += 1\n",
    "    # if (priscilla[i] != \"o\"):\n",
    "        M[i, categorias.index(priscilla[i])] += 1\n",
    "\n",
    "\n",
    "print(fleiss_kappa(M))"
   ]
  },
  {
   "cell_type": "code",
   "execution_count": 12,
   "metadata": {},
   "outputs": [
    {
     "name": "stdout",
     "output_type": "stream",
     "text": [
      "0.9203\n"
     ]
    }
   ],
   "source": [
    "## Calcula a metrica Fleiss considerando tokens não rotulados por nenhum rotulador\n",
    "\n",
    "M_com_None = np.zeros((len(rotulacoesArthurFranco), len(categorias)))\n",
    "\n",
    "nLines, nColumns = M_com_None.shape\n",
    "\n",
    "for i in range(nLines):\n",
    "    M_com_None[i, categorias.index(rotulacoesArthurFranco[i])] += 1\n",
    "    M_com_None[i, categorias.index(rotulacoesThiagoSalles[i])] += 1\n",
    "    M_com_None[i, categorias.index(rotulacoesPriscillSilva[i])] += 1\n",
    "\n",
    "\n",
    "print(fleiss_kappa(M_com_None))"
   ]
  }
 ],
 "metadata": {
  "interpreter": {
   "hash": "916dbcbb3f70747c44a77c7bcd40155683ae19c65e1c03b4aa3499c5328201f1"
  },
  "kernelspec": {
   "display_name": "Python 3.8.10 64-bit",
   "language": "python",
   "name": "python3"
  },
  "language_info": {
   "codemirror_mode": {
    "name": "ipython",
    "version": 3
   },
   "file_extension": ".py",
   "mimetype": "text/x-python",
   "name": "python",
   "nbconvert_exporter": "python",
   "pygments_lexer": "ipython3",
   "version": "3.8.10"
  },
  "orig_nbformat": 4
 },
 "nbformat": 4,
 "nbformat_minor": 2
}
