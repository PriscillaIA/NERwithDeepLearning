{
 "cells": [
  {
   "cell_type": "code",
   "execution_count": 1,
   "metadata": {},
   "outputs": [],
   "source": [
    "import spacy\n",
    "from spacy.tokenizer import Tokenizer\n",
    "import nltk.data\n",
    "import nltk\n",
    "from nltk import word_tokenize\n",
    "import re\n",
    "from nltk import FreqDist\n",
    "import pandas as pd\n",
    "import re\n",
    "import csv\n",
    "import pickle\n",
    "import itertools\n",
    "import glob\n",
    "#!pip install duplicates\n",
    "#!pip install iteration-utilities\n",
    "from iteration_utilities import duplicates\n",
    "from iteration_utilities import unique_everseen"
   ]
  },
  {
   "cell_type": "markdown",
   "metadata": {},
   "source": [
    "### Carregando dados de texto a serem rotulados"
   ]
  },
  {
   "cell_type": "code",
   "execution_count": 3,
   "metadata": {},
   "outputs": [],
   "source": [
    "#Carregando os mesmos textos que foram utilizados para a rotulação manual\n",
    "\n",
    "dados_De_Texto_Para_Rotular = []\n",
    "with open(\"C:\\\\Users\\prisc\\\\Downloads\\\\PROJETO_MESTRADO\\\\Atual_Codigo_Para_Rotulacao_SemiAutomatica\\\\Dados_Utilizados_Para_RotulacaoManual.txt\", \"r\",encoding='utf-8') as fp:\n",
    "    list_Lines = fp.readlines()\n",
    "    for line in list_Lines:\n",
    "        dados_De_Texto_Para_Rotular.append(line.replace('\\n',''))\n",
    "\n",
    "#for item in dados_De_Texto_Para_Rotular:\n",
    "    #print(item)"
   ]
  },
  {
   "cell_type": "markdown",
   "metadata": {},
   "source": [
    "### Carregando os dicionários que contém as entidades versus categorias"
   ]
  },
  {
   "cell_type": "code",
   "execution_count": 17,
   "metadata": {},
   "outputs": [
    {
     "name": "stdout",
     "output_type": "stream",
     "text": [
      "Total de itens - Entidades x Categorias: 2906\n"
     ]
    }
   ],
   "source": [
    "# 1 - Cria uma lista com os endereços dos arquivos no formato de dicionario. Dicionarios possuem que vários elementos...\n",
    "# a chave é a entidade (texto) e o valor a categoria desse elemento\n",
    "# 2 - Um laço for é utilizado para percorrer essa lista de endereços\n",
    "# 3 - E a cada volta do laço um endereço é passado para o método with open() e, o arquivo binário do referido endereço é aberto\n",
    "# 4 - E o conteúdo do arquivo (um diciário com vários elementos) é inserido na lista de dicionarios.\n",
    "# Desta maneira teremos uma lista composta por vários dicionarios. E vários dicionários que possuem vários itens. E os itens...\n",
    "# são as entidades versus categorias, que o algoritmos de rotulação semiautomatica precisa para rotular os textos.\n",
    "\n",
    "files_Dicionario = glob.glob ('C:\\\\Users\\\\prisc\\\\Downloads\\\\PROJETO_MESTRADO\\\\Entidades_E_Categorias_Para_Usar_No_Algoritmo_De_RotulacaoSemiAutomatica\\*.txt')\n",
    "\n",
    "lista_Dicionarios = []\n",
    "\n",
    "for index, file in enumerate(files_Dicionario):\n",
    "    with open(file, \"rb\") as fp:\n",
    "        lista_Dicionarios.append(pickle.load(fp))\n",
    "\n",
    "print(\"Total de itens - Entidades x Categorias:\", len(lista_Dicionarios[0]))\n",
    "#lista_Dicionarios"
   ]
  },
  {
   "cell_type": "code",
   "execution_count": 8,
   "metadata": {},
   "outputs": [
    {
     "name": "stdout",
     "output_type": "stream",
     "text": [
      "Total de itens - Entidades x Categorias: 2906\n"
     ]
    }
   ],
   "source": [
    "# 5 - Cria um único dicionario com todos os dicionarios que estam em diferentes posições da lista de dicionarios.\n",
    "\n",
    "dicionario_EntidadeCategoria = {}\n",
    "\n",
    "for item in lista_Dicionarios :\n",
    "    dicionario_EntidadeCategoria.update(item)\n",
    "    #print(dicionario_EntidadeCategoria )\n",
    "    #print('---------------------------------------------------------------------------------------------------------------')\n",
    "print(\"Total de itens - Entidades x Categorias:\", len(dicionario_EntidadeCategoria))"
   ]
  },
  {
   "cell_type": "code",
   "execution_count": 9,
   "metadata": {},
   "outputs": [],
   "source": [
    "# Convertendo os textos do diconario (campo Key) para letras minusculas\n",
    "#dicionario_EntidadeCategoria = {k.lower(): v for k, v in dicionario_EntidadeCategoria.items()}\n",
    "\n",
    "#OBS: a quantidade de dados do dicionario diminui porque a propria inserção dos dados de texto em minusculo remove os item \n",
    "# duplicados.\n",
    "#len(dicionario_EntidadeCategoria)"
   ]
  },
  {
   "cell_type": "code",
   "execution_count": 10,
   "metadata": {},
   "outputs": [],
   "source": [
    "# alterando o texto que no dicionario que está diferente\n",
    "\n",
    "dicionario_EntidadeCategoria = { k.replace('Cachaça Doce Paixão.', 'Cachaça Doce Paixão'): v for k, v in dicionario_EntidadeCategoria.items()}\n",
    "#dicionario_EntidadeCategoria"
   ]
  },
  {
   "cell_type": "raw",
   "metadata": {},
   "source": [
    "O código a seguir, faz com que a chave do dicionario não seja case sensitive. Preciso disso para a função principal de rotulagem semiautomatica, especificamente para a parte do código que atribui a categoria de entidade ao start e end da entidade encontrada pelo re.finditer(). Isto é, essa parte do código \"dicionario_EntidadeCategoria[iterator.group()]\"\n",
    "A quantidade de dados pode diminir, pois a aplicação da função 'CaseInsensitiveDict', retira os dados com chave repetidas"
   ]
  },
  {
   "cell_type": "code",
   "execution_count": 13,
   "metadata": {},
   "outputs": [],
   "source": [
    "from requests.structures import CaseInsensitiveDict\n",
    "\n",
    "dicionario_EntidadeCategoria = CaseInsensitiveDict(dicionario_EntidadeCategoria)\n",
    "#dicionario_EntidadeCategoria"
   ]
  },
  {
   "cell_type": "code",
   "execution_count": 19,
   "metadata": {},
   "outputs": [],
   "source": [
    "# Coloca os itens do dicionario em uma listas, assim cada item do dicionario vira uma tupla em uma posição da lista\n",
    "\n",
    "listaDicionariosOrdenadosComEntidadesJuntos = list(dicionario_EntidadeCategoria.items())\n",
    "#listaDicionariosOrdenadosComEntidadesJuntos"
   ]
  },
  {
   "cell_type": "code",
   "execution_count": 7,
   "metadata": {},
   "outputs": [],
   "source": [
    "# O código cria uma lista a partir dos termos que compõem as chaves (keys) do dicionario 'dicionario_EntidadeCategoria'...\n",
    "# Isso é necessário para que o código da linha abaixo funcione.\n",
    "\n",
    "list_termos_Equivalentes_A_Entidade = list(dicionario_EntidadeCategoria)\n",
    "len(list_termos_Equivalentes_A_Entidade)\n",
    "\n",
    "\n",
    "# Modifica o caracter '|' por '||', porque logo mais a frente, haverá uma celula com código onde \n",
    "# essa lista com as entidades será transforma em strings sepradas por '|', para evitar erro na parte do código de rotulaçaõ\n",
    "#semiautomatica é necessario substituir '|' por '||'\n",
    "\n",
    "termos_Equivalentes_A_Entidade = []\n",
    "\n",
    "for item in list_termos_Equivalentes_A_Entidade:\n",
    "    boolean = re.search(\"\\|\", item)\n",
    "    if boolean:\n",
    "        item_Da_Lista = re.sub('\\|', '_', item, count=1)\n",
    "        termos_Equivalentes_A_Entidade.append(item_Da_Lista)\n",
    "    else:\n",
    "        termos_Equivalentes_A_Entidade.append(item)\n",
    "        \n",
    "#termos_Equivalentes_A_Entidade"
   ]
  },
  {
   "cell_type": "markdown",
   "metadata": {},
   "source": [
    "Explicação do código abaixo:\n",
    "Ordena os dados da lista de entidades criada no código acima em ordem decrescente. Isso é necessário para que o código principal de rotulação não gere overlaping (sobreposições), isso ocorre quando o token que representa a entidade é sobreposto, ou seja, quando a posição incial e final de uma entidade em um texto é sobreposta.\n",
    "Por exemplo, dadas as seguintes entidades que representam nomes de bebidas: (1)'Cachaça Salinas' e (2)'Cachaça Salinas Tradicional'. E o texto: A Cachaça Salinas Tradicional é proveniente da cidade de Salinas/ MG.\n",
    "O algoritmo principal de rotulação irá verificar iterativamente se o texto possui a entidade 'Cachaça Salinas Tradicional' ou a entidade 'Cachaça Salinas', e se a lista com os nomes de entidades não estiver ordenada na ordem decrescente e a entidade (1) que é menor vier primeiro na lista de entidades nomeadas, então o algoritmo através da função re.finditer(entidade,texto), irá encontrar a entidade (1) dentro da entidade (2) e criar uma rotulação (inicioEntidade:2; fimEntidade:17), mas depois quando o algoritmo iterar na entidade (2) irá sobrepor o que já havia rotulado antes, ou seja, irá gerar uma rotulação sopreposta (inicioEntidade:2; fimEntidade:29), pois a rotulaçõa da entidade (1) está dentro da rotulação da entidade (2). E os dados de treino do modelo de reconhecimento de entidade nomeada com esse tipo de sobreposição não é aceito pelo algoritmo do spaCy."
   ]
  },
  {
   "cell_type": "code",
   "execution_count": null,
   "metadata": {},
   "outputs": [],
   "source": [
    "lista_Com_NomesDeBebidas_Ordenados = sorted(termos_Equivalentes_A_Entidade,key=len,reverse=True)\n",
    "len(lista_Com_NomesDeBebidas_Ordenados)\n",
    "\n",
    "for item in lista_Com_NomesDeBebidas_Ordenados:\n",
    "    print(item)"
   ]
  },
  {
   "cell_type": "markdown",
   "metadata": {},
   "source": [
    "O código a seguir, converter a lista em um conjunto de string separadas pelo simbolo '|', para depois passar essa string como parâmetro na função do python 're.finditer'. A lista de entidades nomeadas, precisa ser tranformada em uma lista de string separadas pelo '|' para que seja usada na função principal de rotulação, na parte do 're.finditer(string_NomesBebidas, texto, re.I)' onde o regex, só aceita como paramêtro strings."
   ]
  },
  {
   "cell_type": "code",
   "execution_count": null,
   "metadata": {},
   "outputs": [],
   "source": [
    "string_NomesBebidas = '|'.join(map(str, lista_Com_NomesDeBebidas_Ordenados))\n",
    "#string_NomesBebidas"
   ]
  },
  {
   "cell_type": "markdown",
   "metadata": {},
   "source": [
    "### Código Principal de rotulação semiautomatica"
   ]
  },
  {
   "cell_type": "markdown",
   "metadata": {},
   "source": [
    "o código da cela abaixo, consiste na função principal que recebe como entrada uma lista contendo em cada posição uma tupla \n",
    "(essa tupla guarda por sua vez um par de 'entidade versus token')\n",
    "Por fim, esse função gera como saída uma lista 't'. Essa lista 't' contém em cada uma de suas posições dicionarios esse dicionarios por sua "
   ]
  },
  {
   "cell_type": "code",
   "execution_count": null,
   "metadata": {},
   "outputs": [],
   "source": [
    "def rotulacao_Entidades(dados_De_Texto_Para_Rotular): \n",
    "    t = []#list Final\n",
    "    \n",
    "    #Itera por cada linha da lista que contém os texto a serem rotulados\n",
    "    for index, line in enumerate(dados_De_Texto_Para_Rotular):\n",
    "        \n",
    "        #variavel recebe uma lista de iteratos gerada pelo metodo re.finiter(), o qual procura cada entidade da...\n",
    "        #listaDicionariosOrdenadosComEntidadesJuntos em cada texto da lista dados_De_Texto_Para_Rotular.\n",
    "        # 'x[0]' é o texto/entidade que fica na primeira posição da tupla e 'x' e a tupla contendo entidade e categoria. \n",
    "        objetoIterator = [re.finditer(x[0],line,re.I) for x in listaDicionariosOrdenadosComEntidadesJuntos]\n",
    "        \n",
    "        for iterator in objetoIterator[:]:\n",
    "            print(line)\n",
    "            print(iterator.start())\n",
    "            print(iterator.end())\n",
    "        \n",
    "            "
   ]
  },
  {
   "cell_type": "code",
   "execution_count": null,
   "metadata": {},
   "outputs": [],
   "source": []
  },
  {
   "cell_type": "code",
   "execution_count": 39,
   "metadata": {},
   "outputs": [],
   "source": [
    "def rotulacao_Entidades(dados_De_Texto_Para_Rotular): \n",
    "    t = []#list Final\n",
    "    \n",
    "    #Itera por cada linha da lista com texto a serem rotulados\n",
    "    for i in dados_De_Texto_Para_Rotular:\n",
    "        texto = i;\n",
    "        listaL = [] #list Support\n",
    "        print(texto)\n",
    "        \n",
    "        # Atribui a variavel 'resultado_Comparacao' um objeto do tipo 'callable_iterator', o qual contem informações dos matchs\n",
    "        # ou seja, onde a entidade encontrado no texto inicia e finaliza bem como o grupo ao qual cada match pertence.\n",
    "        resultado_Comparacao = re.finditer(string_NomesBebidas, texto, re.I)\n",
    "        #print('match:', resultado_Comparacao)\n",
    "\n",
    "        #Itera pelos objetos resultantes do match encontrado no texto para a entidade da lista de entidades em questão  \n",
    "        for index, iterator in enumerate(resultado_Comparacao): \n",
    "            #adiciona da lista \n",
    "            listaL.append((iterator.start(), iterator.end()+1, dicionario_EntidadeCategoria[iterator.group()]))\n",
    "            print(iterator)\n",
    "            print(listaL)\n",
    "            \n",
    "        if listaL:\n",
    "            t.append((texto,{'entities':listaL}))\n",
    "            #print('Lista T:',t,'\\n')\n",
    "        else:\n",
    "            t.append((texto, {'entities':listaL}))\n",
    "    return t            "
   ]
  },
  {
   "cell_type": "code",
   "execution_count": null,
   "metadata": {},
   "outputs": [],
   "source": [
    "# Atribuindo o resultado da função a uma variavel \n",
    "\n",
    "textos_Rotulados = rotulacao_Entidades(dados_De_Texto_Para_Rotular)"
   ]
  },
  {
   "cell_type": "code",
   "execution_count": null,
   "metadata": {
    "scrolled": false
   },
   "outputs": [],
   "source": [
    "# Verificar o resultado do algoritmo de rotrulação, tanto o tamanho quando os dados gerados\n",
    "\n",
    "textos_Rotulados"
   ]
  },
  {
   "cell_type": "markdown",
   "metadata": {},
   "source": [
    "### Salvando os as tuplas compostas pelo texto e pelo dicionario para utilizar no treinamento do modelo de REN"
   ]
  },
  {
   "cell_type": "code",
   "execution_count": 21,
   "metadata": {},
   "outputs": [],
   "source": [
    "with open('C:\\\\Users\\\\prisc\\\\Downloads\\\\BaseResultadoRotulacaoSemiautomatica', \"wb\") as fp:\n",
    "    \n",
    "    #for tupla in textos_Rotulados:\n",
    "        #print(tupla)\n",
    "        pickle.dump(textos_Rotulados,fp)"
   ]
  },
  {
   "cell_type": "code",
   "execution_count": 123,
   "metadata": {},
   "outputs": [],
   "source": [
    "# Testando para ver se é possivel abrir o arquivo salvo com uma lista de tuplas\n",
    "\n",
    "with open('C:\\\\Users\\\\prisc\\\\Downloads\\\\Algoritmo_Criacao_Automatica_Corpus_Treino\\\\codigoPrincipal\\\\Dados_Para_Treinar_o_Modelo_De_Reconhecimento_De_Entidades\\\\Dados_Rotulados_Com_Categoria_RecipienteArmazenamento_TipoMadeira_TreinarModelo.txt', \"rb\") as fp:\n",
    "    listas_De_Tuplas = pickle.load(fp)\n",
    "    #print(listas_De_Tuplas)\n",
    "    \n",
    "#listas_De_Tuplas"
   ]
  },
  {
   "cell_type": "markdown",
   "metadata": {},
   "source": [
    "#### Para verificar se a lista possui itens repetidos"
   ]
  },
  {
   "cell_type": "raw",
   "metadata": {},
   "source": [
    "from collections import defaultdict\n",
    "\n",
    "\n",
    "# Define o objeto que armazenará os índices de cada elemento:\n",
    "keys = defaultdict(list);\n",
    "\n",
    "# Percorre todos os elementos da lista:\n",
    "for key, value in enumerate(mapa):\n",
    "\n",
    "    # Adiciona o índice do valor na lista de índices:\n",
    "    keys[value].append(key)\n",
    "\n",
    "# Exibe o resultado:\n",
    "for value in keys:\n",
    "    if len(keys[value]) > 1:\n",
    "        print(value, keys[value], '\\n')"
   ]
  }
 ],
 "metadata": {
  "kernelspec": {
   "display_name": "Python 3",
   "language": "python",
   "name": "python3"
  },
  "language_info": {
   "codemirror_mode": {
    "name": "ipython",
    "version": 3
   },
   "file_extension": ".py",
   "mimetype": "text/x-python",
   "name": "python",
   "nbconvert_exporter": "python",
   "pygments_lexer": "ipython3",
   "version": "3.8.5"
  }
 },
 "nbformat": 4,
 "nbformat_minor": 4
}
