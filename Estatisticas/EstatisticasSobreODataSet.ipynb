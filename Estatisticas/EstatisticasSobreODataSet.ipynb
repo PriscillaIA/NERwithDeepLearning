{
 "cells": [
  {
   "cell_type": "markdown",
   "id": "966e2775",
   "metadata": {},
   "source": [
    "### Import's"
   ]
  },
  {
   "cell_type": "code",
   "execution_count": null,
   "id": "0a1e39ce",
   "metadata": {},
   "outputs": [],
   "source": [
    "import pandas as pd\n",
    "import statistics"
   ]
  },
  {
   "cell_type": "markdown",
   "id": "821159a5",
   "metadata": {},
   "source": [
    "### Lendo arquivo csv"
   ]
  },
  {
   "cell_type": "code",
   "execution_count": null,
   "id": "9a171fa0",
   "metadata": {},
   "outputs": [],
   "source": [
    "## Ler o arquivo csv, e ler apenas as colunas ['Palavras', 'Rotulo', 'Sentenca']\n",
    "df_original = pd.read_csv(\"./Divergencias.csv\", usecols=['Palavras', 'Rotulo', 'Sentenca'])"
   ]
  },
  {
   "cell_type": "code",
   "execution_count": 71,
   "id": "628fd481",
   "metadata": {},
   "outputs": [
    {
     "data": {
      "text/html": [
       "<div>\n",
       "<style scoped>\n",
       "    .dataframe tbody tr th:only-of-type {\n",
       "        vertical-align: middle;\n",
       "    }\n",
       "\n",
       "    .dataframe tbody tr th {\n",
       "        vertical-align: top;\n",
       "    }\n",
       "\n",
       "    .dataframe thead th {\n",
       "        text-align: right;\n",
       "    }\n",
       "</style>\n",
       "<table border=\"1\" class=\"dataframe\">\n",
       "  <thead>\n",
       "    <tr style=\"text-align: right;\">\n",
       "      <th></th>\n",
       "      <th>Palavras</th>\n",
       "      <th>Rotulo</th>\n",
       "      <th>Sentenca</th>\n",
       "    </tr>\n",
       "  </thead>\n",
       "  <tbody>\n",
       "    <tr>\n",
       "      <th>0</th>\n",
       "      <td>id</td>\n",
       "      <td>O</td>\n",
       "      <td>1</td>\n",
       "    </tr>\n",
       "    <tr>\n",
       "      <th>1</th>\n",
       "      <td>:</td>\n",
       "      <td>O</td>\n",
       "      <td>1</td>\n",
       "    </tr>\n",
       "    <tr>\n",
       "      <th>2</th>\n",
       "      <td>0</td>\n",
       "      <td>O</td>\n",
       "      <td>1</td>\n",
       "    </tr>\n",
       "    <tr>\n",
       "      <th>3</th>\n",
       "      <td>NOME</td>\n",
       "      <td>O</td>\n",
       "      <td>2</td>\n",
       "    </tr>\n",
       "    <tr>\n",
       "      <th>4</th>\n",
       "      <td>DA</td>\n",
       "      <td>O</td>\n",
       "      <td>2</td>\n",
       "    </tr>\n",
       "    <tr>\n",
       "      <th>...</th>\n",
       "      <td>...</td>\n",
       "      <td>...</td>\n",
       "      <td>...</td>\n",
       "    </tr>\n",
       "    <tr>\n",
       "      <th>186014</th>\n",
       "      <td>Destilados</td>\n",
       "      <td>O</td>\n",
       "      <td>14287</td>\n",
       "    </tr>\n",
       "    <tr>\n",
       "      <th>186015</th>\n",
       "      <td>do</td>\n",
       "      <td>O</td>\n",
       "      <td>14287</td>\n",
       "    </tr>\n",
       "    <tr>\n",
       "      <th>186016</th>\n",
       "      <td>Brasil</td>\n",
       "      <td>B-NOME_LOCAL</td>\n",
       "      <td>14287</td>\n",
       "    </tr>\n",
       "    <tr>\n",
       "      <th>186017</th>\n",
       "      <td>2019</td>\n",
       "      <td>B-TEMPO</td>\n",
       "      <td>14287</td>\n",
       "    </tr>\n",
       "    <tr>\n",
       "      <th>186018</th>\n",
       "      <td>.</td>\n",
       "      <td>O</td>\n",
       "      <td>14287</td>\n",
       "    </tr>\n",
       "  </tbody>\n",
       "</table>\n",
       "<p>186019 rows × 3 columns</p>\n",
       "</div>"
      ],
      "text/plain": [
       "          Palavras        Rotulo  Sentenca\n",
       "0               id             O         1\n",
       "1                :             O         1\n",
       "2                0             O         1\n",
       "3             NOME             O         2\n",
       "4               DA             O         2\n",
       "...            ...           ...       ...\n",
       "186014  Destilados             O     14287\n",
       "186015          do             O     14287\n",
       "186016      Brasil  B-NOME_LOCAL     14287\n",
       "186017        2019       B-TEMPO     14287\n",
       "186018           .             O     14287\n",
       "\n",
       "[186019 rows x 3 columns]"
      ]
     },
     "metadata": {},
     "output_type": "display_data"
    }
   ],
   "source": [
    "display(df_original)"
   ]
  },
  {
   "cell_type": "markdown",
   "id": "6e5bacd9",
   "metadata": {},
   "source": [
    "### Filtrando e pegando as informações de instâncias"
   ]
  },
  {
   "cell_type": "code",
   "execution_count": 79,
   "id": "aa0348b9",
   "metadata": {},
   "outputs": [
    {
     "data": {
      "text/plain": [
       "[0, -1]"
      ]
     },
     "execution_count": 79,
     "metadata": {},
     "output_type": "execute_result"
    }
   ],
   "source": [
    "index_remove = []\n",
    "lista_tokens_inst = [] ## Lista para armazenar tokens por instâncias\n",
    "lista_sentencas_inst = [[0,0]] ## Lista para armazenar tokens por instâncias, com valor presetado (o padrão é [<sentença atual>,<qtd de senteças>])\n",
    "cont_tokens = 0\n",
    "for index, dado in df_original.iterrows():\n",
    "    if (len(dado['Palavras']) == 1 and not dado['Palavras'][0].isalnum()) and dado[\"Rotulo\"] == 'O': ## Retirar os caracteres especiais que estão sozinhos\n",
    "        index_remove.append(index)\n",
    "    elif (dado['Palavras'] == 'id'): ## Retirar o id e o número que o acompanha\n",
    "        index_remove.append(index)\n",
    "        index_remove.append(index + 2) ## Para pegar o número do id\n",
    "        lista_tokens_inst.append(cont_tokens - 1) ## Adiciona os token's calculados do id anterior na lista, o -1 é para retirar da contagem o token do número do id\n",
    "        cont_tokens = 0 ## Zera o contador para iniciar uma nova contagem de tokens por instância\n",
    "        lista_sentencas_inst[-1][1] -= 1 ## Reduz uma sentença visto que o o valor id é contado como sentença\n",
    "        lista_sentencas_inst.append([0,0]) ## Inicio outra contagem de sentença por instância\n",
    "    else:\n",
    "        if dado['Sentenca'] != lista_sentencas_inst[-1][0]: ## Vejo se estou mexendo com outra sentença, caso se atualizo a sentença atual e adiciono um ao contador\n",
    "            lista_sentencas_inst[-1][0] = dado['Sentenca']\n",
    "            lista_sentencas_inst[-1][1] += 1\n",
    "        cont_tokens += 1 ## Incrementa um token ao contador, visto de ser um token considerado válido\n",
    "        \n",
    "lista_tokens_inst.append(cont_tokens - 1) ## Adiciona os token's calculados do id último id, visto que termina o for e não seria salvo na lista, o -1 é para retirar da contagem o token do número do id\n",
    "lista_tokens_inst.pop(0) ## Retiro primeiro elemento da lista por ser um elemento sempre 0\n",
    "lista_sentencas_inst[-1][1] -= 1 ## Reduz uma sentença visto que o o valor id é contado como sentença\n",
    "lista_sentencas_inst.pop(0) ## Retiro primeiro elemento da lista por ser um elemento sem valor"
   ]
  },
  {
   "cell_type": "code",
   "execution_count": 80,
   "id": "4e2e88b8",
   "metadata": {},
   "outputs": [],
   "source": [
    "df_limpa = df_original.drop(axis=0, index=index_remove)"
   ]
  },
  {
   "cell_type": "code",
   "execution_count": 81,
   "id": "5273e1ac",
   "metadata": {},
   "outputs": [
    {
     "data": {
      "text/html": [
       "<div>\n",
       "<style scoped>\n",
       "    .dataframe tbody tr th:only-of-type {\n",
       "        vertical-align: middle;\n",
       "    }\n",
       "\n",
       "    .dataframe tbody tr th {\n",
       "        vertical-align: top;\n",
       "    }\n",
       "\n",
       "    .dataframe thead th {\n",
       "        text-align: right;\n",
       "    }\n",
       "</style>\n",
       "<table border=\"1\" class=\"dataframe\">\n",
       "  <thead>\n",
       "    <tr style=\"text-align: right;\">\n",
       "      <th></th>\n",
       "      <th>Palavras</th>\n",
       "      <th>Rotulo</th>\n",
       "      <th>Sentenca</th>\n",
       "    </tr>\n",
       "  </thead>\n",
       "  <tbody>\n",
       "    <tr>\n",
       "      <th>3</th>\n",
       "      <td>NOME</td>\n",
       "      <td>O</td>\n",
       "      <td>2</td>\n",
       "    </tr>\n",
       "    <tr>\n",
       "      <th>4</th>\n",
       "      <td>DA</td>\n",
       "      <td>O</td>\n",
       "      <td>2</td>\n",
       "    </tr>\n",
       "    <tr>\n",
       "      <th>5</th>\n",
       "      <td>CACHAÇA</td>\n",
       "      <td>O</td>\n",
       "      <td>2</td>\n",
       "    </tr>\n",
       "    <tr>\n",
       "      <th>7</th>\n",
       "      <td>Cachaça</td>\n",
       "      <td>O</td>\n",
       "      <td>2</td>\n",
       "    </tr>\n",
       "    <tr>\n",
       "      <th>8</th>\n",
       "      <td>Três</td>\n",
       "      <td>B-NOME_BEBIDA</td>\n",
       "      <td>2</td>\n",
       "    </tr>\n",
       "    <tr>\n",
       "      <th>...</th>\n",
       "      <td>...</td>\n",
       "      <td>...</td>\n",
       "      <td>...</td>\n",
       "    </tr>\n",
       "    <tr>\n",
       "      <th>186013</th>\n",
       "      <td>e</td>\n",
       "      <td>O</td>\n",
       "      <td>14287</td>\n",
       "    </tr>\n",
       "    <tr>\n",
       "      <th>186014</th>\n",
       "      <td>Destilados</td>\n",
       "      <td>O</td>\n",
       "      <td>14287</td>\n",
       "    </tr>\n",
       "    <tr>\n",
       "      <th>186015</th>\n",
       "      <td>do</td>\n",
       "      <td>O</td>\n",
       "      <td>14287</td>\n",
       "    </tr>\n",
       "    <tr>\n",
       "      <th>186016</th>\n",
       "      <td>Brasil</td>\n",
       "      <td>B-NOME_LOCAL</td>\n",
       "      <td>14287</td>\n",
       "    </tr>\n",
       "    <tr>\n",
       "      <th>186017</th>\n",
       "      <td>2019</td>\n",
       "      <td>B-TEMPO</td>\n",
       "      <td>14287</td>\n",
       "    </tr>\n",
       "  </tbody>\n",
       "</table>\n",
       "<p>156024 rows × 3 columns</p>\n",
       "</div>"
      ],
      "text/plain": [
       "          Palavras         Rotulo  Sentenca\n",
       "3             NOME              O         2\n",
       "4               DA              O         2\n",
       "5          CACHAÇA              O         2\n",
       "7          Cachaça              O         2\n",
       "8             Três  B-NOME_BEBIDA         2\n",
       "...            ...            ...       ...\n",
       "186013           e              O     14287\n",
       "186014  Destilados              O     14287\n",
       "186015          do              O     14287\n",
       "186016      Brasil   B-NOME_LOCAL     14287\n",
       "186017        2019        B-TEMPO     14287\n",
       "\n",
       "[156024 rows x 3 columns]"
      ]
     },
     "metadata": {},
     "output_type": "display_data"
    }
   ],
   "source": [
    "display(df_limpa)"
   ]
  },
  {
   "cell_type": "markdown",
   "id": "3e2801ab",
   "metadata": {},
   "source": [
    "### Preparando / visualizando os dados para a estatística"
   ]
  },
  {
   "cell_type": "code",
   "execution_count": 82,
   "id": "ddd2263d",
   "metadata": {},
   "outputs": [],
   "source": [
    "lista_setenca_qtdTokens = list(df_limpa.groupby(by=\"Sentenca\")[\"Palavras\"].count()) ## Agrupa as sentenças conto quantos tokens tem por setença e transforma em lista\n",
    "lista_sentencas_inst = [x[1] for x in lista_sentencas_inst]"
   ]
  },
  {
   "cell_type": "code",
   "execution_count": 83,
   "id": "99bca7fc",
   "metadata": {
    "scrolled": true
   },
   "outputs": [
    {
     "name": "stdout",
     "output_type": "stream",
     "text": [
      "[45, 244, 38, 99, 91, 165, 164, 44, 43, 55, 73, 79, 72, 22, 150, 48, 43, 78, 48, 45, 48, 84, 54, 46, 47, 99, 47, 39, 46, 37, 45, 37, 39, 26, 52, 50, 39, 42, 49, 84, 87, 94, 92, 49, 40, 58, 51, 59, 158, 46, 52, 94, 40, 34, 62, 56, 236, 334, 50, 47, 33, 95, 157, 123, 86, 38, 33, 86, 106, 391, 154, 90, 78, 78, 75, 231, 59, 115, 199, 250, 106, 182, 64, 115, 252, 133, 87, 373, 127, 88, 222, 99, 136, 255, 78, 39, 27, 412, 111, 69, 44, 27, 106, 23, 254, 50, 145, 68, 57, 54, 91, 102, 16, 71, 15, 14, 165, 58, 30, 183, 138, 220, 236, 121, 123, 313, 120, 66, 92, 15, 111, 77, 17, 17, 15, 155, 29, 104, 40, 293, 149, 118, 157, 191, 167, 23, 44, 21, 153, 59, 252, 81, 377, 131, 154, 62, 194, 21, 204, 55, 165, 41, 381, 46, 319, 126, 166, 62, 197, 186, 158, 25, 72, 150, 88, 378, 188, 191, 478, 48, 203, 66, 158, 123, 150, 65, 259, 456, 105, 366, 62, 93, 70, 259, 267, 98, 141, 58, 180, 346, 223, 226, 127, 275, 299, 299, 281, 199, 133, 130, 121, 133, 129, 160, 142, 142, 161, 163, 353, 353, 105, 212, 92, 93, 92, 93, 93, 83, 310, 287, 142, 280, 228, 189, 55, 222, 88, 55, 275, 86, 126, 94, 52, 53, 91, 141, 66, 127, 53, 48, 48, 56, 56, 143, 143, 145, 145, 145, 143, 145, 145, 145, 174, 179, 101, 74, 119, 101, 125, 125, 105, 107, 77, 56, 112, 57, 56, 57, 62, 62, 165, 150, 71, 192, 188, 390, 150, 104, 105, 51, 119, 136, 45, 100, 51, 63, 58, 44, 124, 55, 47, 58, 56, 101, 101, 46, 56, 52, 54, 381, 44, 112, 213, 170, 94, 169, 225, 93, 157, 90, 171, 127, 71, 215, 161, 289, 346, 226, 189, 61, 148, 139, 48, 45, 74, 80, 61, 195, 167, 140, 77, 151, 54, 57, 80, 165, 118, 152, 132, 109, 231, 147, 65, 123, 224, 119, 104, 162, 144, 189, 117, 152, 73, 96, 138, 296, 102, 135, 94, 110, 123, 57, 92, 126, 115, 159, 214, 111, 110, 72, 77, 65, 76, 84, 80, 90, 47, 176, 120, 77, 53, 135, 127, 123, 107, 110, 85, 101, 95, 88, 109, 113, 105, 109, 138, 151, 135, 147, 139, 140, 46, 54, 43, 140, 70, 149, 155, 124, 106, 114, 100, 31, 31, 33, 59, 61, 63, 71, 58, 54, 67, 111, 66, 79, 89, 137, 98, 98, 118, 160, 126, 103, 62, 50, 61, 54, 41, 72, 207, 686, 215, 335, 281, 195, 404, 805, 174, 362, 340, 512, 317, 358, 410, 336, 209, 338, 276, 488, 265, 437, 35, 518, 71, 396, 591, 75, 43, 33, 169, 340, 70, 85, 278, 46, 510, 68, 336, 360, 323, 218, 219, 174, 32, 40, 215, 276, 153, 300, 36, 415, 75, 353, 444, 306, 200, 381, 326, 378, 229, 29, 365, 75, 345, 357, 306, 591, 244, 253, 59, 243, 300, 38, 78, 148, 67, 151, 106, 256, 304, 170, 112, 232, 62, 144, 259, 73, 256, 276, 111, 235, 136, 168, 67, 175, 238, 145, 289, 113, 58, 138, 112, 219, 212, 208, 144, 100, 173, 324, 121, 210, 152, 141, 138, 112, 100, 179, 66, 118, 145, 53, 201, 139, 141, 139, 152, 99, 54, 123, 101, 76, 84, 122, 144, 98, 163, 120, 123, 172, 334, 61, 163, 152, 152, 167, 286, 273, 575, 525, 570, 89, 557, 574, 177, 205, 144, 289, 168, 168, 211, 448, 230, 197, 197, 161, 174, 198, 186, 175, 531, 527, 228, 198, 247, 177, 193, 59, 93, 98, 83, 450, 458, 171, 139, 249, 182, 107, 158, 175, 151, 183, 179, 181, 186, 222, 244, 143, 153, 157, 158, 233, 198, 244, 200, 250, 264, 142, 160, 132, 386, 41, 134, 101, 191, 102, 228, 645, 134, 272, 608, 369, 441, 358, 138, 658, 627, 94, 375, 185, 35, 149, 34, 421, 285, 395, 366, 434, 197, 448, 440, 146, 63, 397, 61, 104, 368, 60, 65, 57, 58, 92, 103, 80, 73, 100, 107, 137, 58, 138, 44, 38, 39, 42, 41, 39, 28, 41, 153, 84, 116, 58, 97, 189, 57, 41, 54, 57, 39, 95, 99, 86, 131, 119, 66, 52, 106, 96, 95, 137, 119, 190, 164, 99, 72, 151, 99, 117, 134, 79, 40, 116, 85, 37, 53, 73, 45, 46, 45, 318, 270, 282, 454, 432, 347, 277, 270, 242, 261, 238, 250, 297, 299, 378, 393, 410, 293, 115, 224, 238, 245, 334, 326, 319, 170, 354, 248, 368, 401, 273, 286, 303, 296, 315, 264, 273, 382, 336, 265, 292, 329, 363, 189, 253, 318, 252, 346, 391, 295, 301, 355, 314, 295, 321, 108, 162, 182, 298, 170, 248, 389, 347, 558, 383, 251, 303, 297, 235, 67, 62, 49, 71, 47, 72, 207, 60, 135, 67, 682, 501, 52, 49, 68, 63, 197, 76, 64, 75, 70, 111, 79, 75, 95, 99, 55, 61, 83, 99, 116, 137, 75, 84, 102, 102, 102, 102, 66, 72, 28, 89, 52, 186, 59, 120, 91, 75, 96, 70, 91, 41, 45, 142, 134, 227, 96, 164, 73, 215, 136, 176, 119, 47, 76, 92, 141, 90, 102, 71, 39, 96, 104, 122, 98, 151, 150, 147, 56, 61, 95, 105, 155, 62, 34, 76, 100, 112, 131, 152, 178, 202, 210, 79, 124, 97, 74, 97, 149, 97, 54, 149, 65, 104, 75, 74, 138, 271, 58, 137, 69, 110, 69, 110, 87, 82, 69, 95, 340, 89, 84, 34, 100, 93, 103, 99, 99, 99, 104, 103, 103, 57, 138, 60, 57, 110, 201, 325, 99, 63, 63, 63, 64, 354, 62, 51, 87, 124, 166, 142, 114, 69, 402, 773, 81, 95, 52, 53, 62, 58, 92, 95, 60, 50, 97, 74, 127, 93, 362, 126, 138, 153, 129, 96]\n"
     ]
    }
   ],
   "source": [
    "print(lista_tokens_inst) ## imprimir a qtd de tokens por instância"
   ]
  },
  {
   "cell_type": "code",
   "execution_count": 87,
   "id": "2bbb9cf3",
   "metadata": {},
   "outputs": [
    {
     "name": "stdout",
     "output_type": "stream",
     "text": [
      "[9, 20, 9, 10, 12, 17, 15, 9, 9, 9, 9, 11, 12, 4, 11, 8, 8, 10, 9, 9, 9, 9, 9, 7, 9, 12, 9, 9, 8, 8, 9, 8, 8, 6, 9, 9, 9, 8, 9, 9, 12, 10, 10, 8, 7, 9, 9, 9, 17, 9, 9, 9, 6, 7, 8, 9, 16, 22, 9, 9, 7, 11, 11, 13, 16, 6, 6, 7, 8, 19, 9, 8, 10, 7, 9, 17, 8, 11, 13, 14, 8, 11, 7, 7, 15, 7, 6, 15, 12, 5, 17, 9, 9, 13, 9, 5, 4, 19, 6, 8, 5, 4, 6, 4, 12, 5, 13, 5, 8, 4, 5, 11, 3, 5, 3, 3, 11, 6, 5, 12, 7, 15, 12, 11, 9, 15, 9, 6, 5, 3, 6, 6, 3, 3, 3, 8, 4, 10, 9, 27, 14, 15, 12, 18, 13, 4, 5, 4, 15, 11, 28, 13, 32, 17, 15, 14, 22, 4, 17, 8, 18, 4, 32, 9, 28, 13, 16, 10, 20, 18, 15, 4, 11, 18, 12, 32, 20, 17, 34, 9, 6, 4, 12, 7, 15, 3, 26, 35, 5, 24, 9, 12, 6, 26, 20, 5, 7, 9, 18, 26, 18, 11, 16, 18, 19, 19, 16, 17, 16, 16, 17, 17, 17, 17, 16, 16, 16, 17, 20, 20, 16, 11, 4, 4, 3, 3, 3, 8, 17, 23, 13, 19, 21, 20, 8, 20, 11, 8, 22, 10, 12, 10, 13, 14, 13, 20, 12, 18, 14, 8, 8, 5, 5, 23, 23, 23, 23, 23, 23, 23, 23, 23, 13, 13, 15, 14, 21, 12, 24, 24, 15, 15, 18, 9, 11, 9, 14, 14, 15, 15, 14, 13, 15, 25, 24, 36, 13, 17, 17, 6, 9, 28, 12, 4, 6, 9, 15, 12, 20, 9, 12, 13, 13, 15, 15, 9, 13, 9, 9, 37, 12, 8, 13, 11, 8, 12, 11, 6, 9, 9, 10, 7, 8, 16, 11, 18, 20, 16, 14, 9, 12, 11, 5, 5, 6, 8, 8, 11, 10, 13, 13, 9, 9, 9, 8, 10, 8, 10, 8, 8, 14, 10, 7, 10, 13, 8, 9, 12, 12, 13, 8, 15, 6, 9, 12, 17, 7, 12, 8, 8, 9, 7, 9, 9, 9, 11, 17, 7, 10, 7, 7, 4, 4, 5, 3, 6, 8, 7, 8, 5, 5, 9, 10, 8, 10, 7, 5, 8, 6, 6, 10, 6, 6, 7, 8, 11, 9, 6, 11, 11, 4, 5, 4, 9, 6, 8, 10, 7, 7, 8, 6, 4, 4, 4, 5, 6, 6, 6, 7, 6, 7, 9, 6, 4, 5, 10, 8, 7, 9, 10, 8, 4, 5, 4, 6, 6, 5, 9, 17, 41, 18, 28, 22, 13, 27, 45, 14, 30, 24, 31, 26, 24, 26, 28, 17, 28, 23, 23, 17, 25, 7, 28, 10, 33, 35, 12, 8, 7, 14, 24, 11, 12, 21, 8, 30, 11, 23, 27, 23, 17, 18, 14, 7, 7, 16, 19, 16, 18, 6, 28, 10, 20, 27, 21, 16, 23, 23, 20, 17, 6, 29, 11, 28, 28, 24, 35, 20, 16, 6, 15, 18, 8, 10, 9, 9, 13, 13, 19, 27, 14, 10, 17, 8, 8, 19, 11, 18, 14, 9, 22, 14, 14, 10, 19, 21, 11, 15, 9, 8, 15, 12, 21, 19, 16, 16, 14, 14, 24, 10, 19, 14, 18, 12, 9, 11, 16, 8, 9, 11, 8, 14, 17, 10, 13, 8, 7, 7, 12, 10, 11, 10, 12, 12, 9, 16, 12, 12, 14, 29, 8, 10, 7, 11, 9, 13, 11, 12, 9, 11, 10, 11, 13, 11, 13, 10, 10, 11, 10, 8, 11, 13, 11, 12, 12, 13, 11, 11, 11, 10, 9, 12, 17, 15, 14, 15, 6, 10, 11, 9, 9, 12, 10, 11, 11, 11, 9, 6, 12, 7, 12, 12, 12, 11, 11, 10, 11, 11, 10, 11, 11, 9, 11, 10, 13, 13, 13, 14, 9, 12, 6, 9, 11, 15, 9, 16, 30, 11, 17, 26, 20, 22, 19, 10, 35, 30, 10, 21, 9, 6, 12, 6, 21, 17, 20, 19, 22, 9, 23, 22, 10, 6, 20, 6, 7, 19, 11, 6, 7, 6, 9, 8, 7, 8, 8, 8, 10, 7, 13, 7, 6, 7, 6, 7, 7, 5, 7, 11, 10, 9, 7, 10, 13, 6, 6, 6, 6, 7, 6, 7, 6, 9, 6, 5, 6, 7, 6, 5, 12, 7, 9, 5, 5, 6, 14, 9, 8, 10, 8, 7, 11, 10, 5, 9, 8, 7, 8, 7, 30, 26, 23, 31, 31, 29, 26, 24, 19, 24, 21, 25, 25, 26, 28, 25, 28, 23, 12, 18, 22, 24, 31, 32, 27, 17, 30, 22, 25, 28, 26, 26, 20, 26, 28, 22, 29, 23, 26, 25, 26, 28, 26, 19, 23, 22, 17, 28, 33, 19, 21, 23, 24, 22, 26, 17, 21, 23, 27, 17, 19, 30, 29, 38, 31, 23, 23, 22, 26, 5, 4, 4, 5, 4, 5, 29, 15, 21, 19, 26, 30, 16, 18, 26, 19, 31, 23, 19, 26, 23, 27, 26, 26, 16, 13, 18, 15, 27, 28, 28, 28, 18, 22, 18, 18, 18, 18, 14, 19, 6, 23, 18, 28, 18, 17, 11, 26, 26, 16, 17, 14, 15, 22, 20, 21, 27, 24, 26, 28, 21, 21, 17, 15, 26, 26, 27, 28, 24, 26, 14, 26, 27, 27, 23, 10, 10, 10, 8, 8, 11, 11, 17, 8, 3, 5, 7, 11, 10, 11, 11, 6, 9, 7, 8, 8, 6, 8, 8, 7, 5, 12, 5, 12, 5, 5, 12, 15, 8, 8, 9, 9, 9, 9, 10, 12, 11, 12, 14, 7, 5, 3, 7, 6, 7, 7, 7, 7, 7, 7, 7, 6, 7, 3, 3, 11, 11, 10, 8, 5, 4, 4, 5, 16, 4, 5, 6, 8, 11, 12, 9, 5, 15, 30, 9, 7, 4, 5, 5, 6, 6, 7, 5, 5, 5, 4, 6, 5, 22, 10, 12, 14, 12, 10]\n"
     ]
    }
   ],
   "source": [
    "print(lista_sentencas_inst)"
   ]
  },
  {
   "cell_type": "markdown",
   "id": "77fad922",
   "metadata": {},
   "source": [
    "## Informações da Estatística"
   ]
  },
  {
   "cell_type": "code",
   "execution_count": 88,
   "id": "7e36e8b6",
   "metadata": {},
   "outputs": [
    {
     "name": "stdout",
     "output_type": "stream",
     "text": [
      "Quantidade de tokens removidos: 29995\n"
     ]
    }
   ],
   "source": [
    "print(\"Quantidade de tokens removidos: \" + str(len(df_original) - len(df_limpa)))"
   ]
  },
  {
   "cell_type": "markdown",
   "id": "d0af435c",
   "metadata": {},
   "source": [
    "### Dados demográficos "
   ]
  },
  {
   "cell_type": "code",
   "execution_count": 89,
   "id": "bbad74e5",
   "metadata": {},
   "outputs": [
    {
     "name": "stdout",
     "output_type": "stream",
     "text": [
      "-----QUANTIDADES-----\n",
      "Quantidade de instâncias: 1000\n",
      "Quantidade de sentenças: 13273\n",
      "Quantidade de tokens: 156024\n"
     ]
    }
   ],
   "source": [
    "print(\"-----QUANTIDADES-----\")\n",
    "print(\"Quantidade de instâncias: \" + str(len(lista_tokens_inst)))\n",
    "print(\"Quantidade de sentenças: \" + str(len(lista_setenca_qtdTokens)))\n",
    "print(\"Quantidade de tokens: \" + str(len(df_limpa)))"
   ]
  },
  {
   "cell_type": "markdown",
   "id": "4e556977",
   "metadata": {},
   "source": [
    "### TOKENS POR SENTENÇA"
   ]
  },
  {
   "cell_type": "code",
   "execution_count": 90,
   "id": "edeac864",
   "metadata": {},
   "outputs": [
    {
     "name": "stdout",
     "output_type": "stream",
     "text": [
      "-----QUANTIDADES-----\n",
      "Quantidade de sentenças: 13273\n",
      "Quantidade de tokens: 156024\n",
      "-----Médias-----\n",
      "Média aritmética dos tokens por sentença: 11.75499133579447\n",
      "Média geométrica dos tokens por sentença: 7.1176454709857095\n",
      "Média harmônica dos tokens por sentença: 4.635240249172114\n",
      "-----Medianas-----\n",
      "Mediana dos tokens por setença: 6\n",
      "Mediana inferior dos tokens por setença: 6\n",
      "Mediana superior dos tokens por setença: 6\n",
      "Mediana, ou o 50º percentil dos dados agrupados dos tokens por setença: 6.486780715396579\n",
      "-----Moda-----\n",
      "Moda dos tokens por sentença: 3\n",
      "-----Desvio Padrão-----\n",
      "Desvio padrão populacional dos tokens por sentença: 17.79746428391955\n",
      "Desvio padrão amostral dos tokens por sentença: 17.798134760451042\n",
      "-----Variância-----\n",
      "Variância populacional dos tokens por sentença: 316.74973493739196\n",
      "Variância amostral dos tokens por sentença: 316.7736009511757\n",
      "-----Quantiles-----\n",
      "Quantiles dos tokens por sentença: [3.0, 6.0, 15.0]\n"
     ]
    }
   ],
   "source": [
    "print(\"-----QUANTIDADES-----\")\n",
    "print(\"Quantidade de sentenças: \" + str(len(lista_setenca_qtdTokens)))\n",
    "print(\"Quantidade de tokens: \" + str(len(df_limpa)))\n",
    "print(\"-----Médias-----\")\n",
    "print(\"Média aritmética dos tokens por sentença: \" + str(statistics.mean(lista_setenca_qtdTokens)))\n",
    "print(\"Média geométrica dos tokens por sentença: \" + str(statistics.geometric_mean(lista_setenca_qtdTokens)))\n",
    "print(\"Média harmônica dos tokens por sentença: \" + str(statistics.harmonic_mean(lista_setenca_qtdTokens)))\n",
    "print(\"-----Medianas-----\")\n",
    "print(\"Mediana dos tokens por setença: \" + str(statistics.median(lista_setenca_qtdTokens)))\n",
    "print(\"Mediana inferior dos tokens por setença: \" + str(statistics.median_low(lista_setenca_qtdTokens)))\n",
    "print(\"Mediana superior dos tokens por setença: \" + str(statistics.median_high(lista_setenca_qtdTokens)))\n",
    "print(\"Mediana, ou o 50º percentil dos dados agrupados dos tokens por setença: \" + str(statistics.median_grouped(lista_setenca_qtdTokens)))\n",
    "print(\"-----Moda-----\")\n",
    "print(\"Moda dos tokens por sentença: \" + str(statistics.mode(lista_setenca_qtdTokens)))\n",
    "print(\"-----Desvio Padrão-----\")\n",
    "print(\"Desvio padrão populacional dos tokens por sentença: \" + str(statistics.pstdev(lista_setenca_qtdTokens)))\n",
    "print(\"Desvio padrão amostral dos tokens por sentença: \" + str(statistics.stdev(lista_setenca_qtdTokens)))\n",
    "print(\"-----Variância-----\")\n",
    "print(\"Variância populacional dos tokens por sentença: \" + str(statistics.pvariance(lista_setenca_qtdTokens)))\n",
    "print(\"Variância amostral dos tokens por sentença: \" + str(statistics.variance(lista_setenca_qtdTokens)))\n",
    "print(\"-----Quantiles-----\")\n",
    "print(\"Quantiles dos tokens por sentença: \" + str(statistics.quantiles(lista_setenca_qtdTokens)))"
   ]
  },
  {
   "cell_type": "markdown",
   "id": "808bc90f",
   "metadata": {},
   "source": [
    "### TOKENS POR INSTÂNCIA"
   ]
  },
  {
   "cell_type": "code",
   "execution_count": 91,
   "id": "39a9f3fe",
   "metadata": {},
   "outputs": [
    {
     "name": "stdout",
     "output_type": "stream",
     "text": [
      "-----QUANTIDADES-----\n",
      "Quantidade de instâncias: 1000\n",
      "Quantidade de tokens: 156024\n",
      "-----Médias-----\n",
      "Média aritmética dos tokens por instância: 156.024\n",
      "Média geométrica dos tokens por instância: 120.56283251415897\n",
      "Média harmônica dos tokens por instância: 93.09696192162718\n",
      "-----Medianas-----\n",
      "Mediana dos tokens por instância: 119.0\n",
      "Mediana inferior dos tokens por instância: 119\n",
      "Mediana superior dos tokens por instância: 119\n",
      "Mediana, ou o 50º percentil dos dados agrupados dos tokens por instância: 119.0\n",
      "-----Moda-----\n",
      "Moda dos tokens por instância: 99\n",
      "-----Desvio Padrão-----\n",
      "Desvio padrão populacional dos tokens por instância: 119.55740639542161\n",
      "Desvio padrão amostral dos tokens por instância: 119.61722997004112\n",
      "-----Variância-----\n",
      "Variância populacional dos tokens por instância: 14293.973424\n",
      "Variância amostral dos tokens por instância: 14308.281705705705\n",
      "-----Quantiles-----\n",
      "Quantiles dos tokens por instância: [71.0, 119.0, 198.75]\n"
     ]
    }
   ],
   "source": [
    "print(\"-----QUANTIDADES-----\")\n",
    "print(\"Quantidade de instâncias: \" + str(len(lista_tokens_inst)))\n",
    "print(\"Quantidade de tokens: \" + str(len(df_limpa)))\n",
    "print(\"-----Médias-----\")\n",
    "print(\"Média aritmética dos tokens por instância: \" + str(statistics.mean(lista_tokens_inst)))\n",
    "print(\"Média geométrica dos tokens por instância: \" + str(statistics.geometric_mean(lista_tokens_inst)))\n",
    "print(\"Média harmônica dos tokens por instância: \" + str(statistics.harmonic_mean(lista_tokens_inst)))\n",
    "print(\"-----Medianas-----\")\n",
    "print(\"Mediana dos tokens por instância: \" + str(statistics.median(lista_tokens_inst)))\n",
    "print(\"Mediana inferior dos tokens por instância: \" + str(statistics.median_low(lista_tokens_inst)))\n",
    "print(\"Mediana superior dos tokens por instância: \" + str(statistics.median_high(lista_tokens_inst)))\n",
    "print(\"Mediana, ou o 50º percentil dos dados agrupados dos tokens por instância: \" + str(statistics.median_grouped(lista_tokens_inst)))\n",
    "print(\"-----Moda-----\")\n",
    "print(\"Moda dos tokens por instância: \" + str(statistics.mode(lista_tokens_inst)))\n",
    "print(\"-----Desvio Padrão-----\")\n",
    "print(\"Desvio padrão populacional dos tokens por instância: \" + str(statistics.pstdev(lista_tokens_inst)))\n",
    "print(\"Desvio padrão amostral dos tokens por instância: \" + str(statistics.stdev(lista_tokens_inst)))\n",
    "print(\"-----Variância-----\")\n",
    "print(\"Variância populacional dos tokens por instância: \" + str(statistics.pvariance(lista_tokens_inst)))\n",
    "print(\"Variância amostral dos tokens por instância: \" + str(statistics.variance(lista_tokens_inst)))\n",
    "print(\"-----Quantiles-----\")\n",
    "print(\"Quantiles dos tokens por instância: \" + str(statistics.quantiles(lista_tokens_inst)))"
   ]
  },
  {
   "cell_type": "markdown",
   "id": "148a4ed9",
   "metadata": {},
   "source": [
    "### SENTENÇAS POR INSTÂNCIA"
   ]
  },
  {
   "cell_type": "code",
   "execution_count": 92,
   "id": "e4708915",
   "metadata": {},
   "outputs": [
    {
     "name": "stdout",
     "output_type": "stream",
     "text": [
      "-----QUANTIDADES-----\n",
      "Quantidade de instâncias: 1000\n",
      "Quantidade de sentenças: 13273\n",
      "-----Médias-----\n",
      "Média aritmética dos tokens por instância: 13.273\n",
      "Média geométrica dos tokens por instância: 11.383559636372114\n",
      "Média harmônica dos tokens por instância: 9.733068066169684\n",
      "-----Medianas-----\n",
      "Mediana dos tokens por instância: 11.0\n",
      "Mediana inferior dos tokens por instância: 11\n",
      "Mediana superior dos tokens por instância: 11\n",
      "Mediana, ou o 50º percentil dos dados agrupados dos tokens por instância: 11.03623188405797\n",
      "-----Moda-----\n",
      "Moda dos tokens por instância: 9\n",
      "-----Desvio Padrão-----\n",
      "Desvio padrão populacional dos tokens por instância: 7.441268104295127\n",
      "Desvio padrão amostral dos tokens por instância: 7.444991531150246\n",
      "-----Variância-----\n",
      "Variância populacional dos tokens por instância: 55.372471\n",
      "Variância amostral dos tokens por instância: 55.427898898898896\n",
      "-----Quantiles-----\n",
      "Quantiles dos tokens por instância: [8.0, 11.0, 18.0]\n"
     ]
    }
   ],
   "source": [
    "print(\"-----QUANTIDADES-----\")\n",
    "print(\"Quantidade de instâncias: \" + str(len(lista_tokens_inst)))\n",
    "print(\"Quantidade de sentenças: \" + str(len(lista_setenca_qtdTokens)))\n",
    "print(\"-----Médias-----\")\n",
    "print(\"Média aritmética dos tokens por instância: \" + str(statistics.mean(lista_sentencas_inst)))\n",
    "print(\"Média geométrica dos tokens por instância: \" + str(statistics.geometric_mean(lista_sentencas_inst)))\n",
    "print(\"Média harmônica dos tokens por instância: \" + str(statistics.harmonic_mean(lista_sentencas_inst)))\n",
    "print(\"-----Medianas-----\")\n",
    "print(\"Mediana dos tokens por instância: \" + str(statistics.median(lista_sentencas_inst)))\n",
    "print(\"Mediana inferior dos tokens por instância: \" + str(statistics.median_low(lista_sentencas_inst)))\n",
    "print(\"Mediana superior dos tokens por instância: \" + str(statistics.median_high(lista_sentencas_inst)))\n",
    "print(\"Mediana, ou o 50º percentil dos dados agrupados dos tokens por instância: \" + str(statistics.median_grouped(lista_sentencas_inst)))\n",
    "print(\"-----Moda-----\")\n",
    "print(\"Moda dos tokens por instância: \" + str(statistics.mode(lista_sentencas_inst)))\n",
    "print(\"-----Desvio Padrão-----\")\n",
    "print(\"Desvio padrão populacional dos tokens por instância: \" + str(statistics.pstdev(lista_sentencas_inst)))\n",
    "print(\"Desvio padrão amostral dos tokens por instância: \" + str(statistics.stdev(lista_sentencas_inst)))\n",
    "print(\"-----Variância-----\")\n",
    "print(\"Variância populacional dos tokens por instância: \" + str(statistics.pvariance(lista_sentencas_inst)))\n",
    "print(\"Variância amostral dos tokens por instância: \" + str(statistics.variance(lista_sentencas_inst)))\n",
    "print(\"-----Quantiles-----\")\n",
    "print(\"Quantiles dos tokens por instância: \" + str(statistics.quantiles(lista_sentencas_inst)))"
   ]
  },
  {
   "cell_type": "markdown",
   "id": "1acad9be",
   "metadata": {},
   "source": [
    "# Testes / Exemplos / Demonstração"
   ]
  },
  {
   "cell_type": "markdown",
   "id": "5ce1e826",
   "metadata": {},
   "source": [
    "### Calculando desvio padrão"
   ]
  },
  {
   "cell_type": "code",
   "execution_count": null,
   "id": "2b1d5f61",
   "metadata": {},
   "outputs": [],
   "source": [
    "print(df_limpa.groupby(by=\"Sentenca\")[\"Palavras\"].count().std())"
   ]
  },
  {
   "cell_type": "markdown",
   "id": "baff8895",
   "metadata": {},
   "source": [
    "### Calculando moda"
   ]
  },
  {
   "cell_type": "code",
   "execution_count": null,
   "id": "dc20f273",
   "metadata": {
    "scrolled": true
   },
   "outputs": [],
   "source": [
    "print(df_limpa.groupby(by=\"Sentenca\")[\"Palavras\"].count().mode())"
   ]
  },
  {
   "cell_type": "markdown",
   "id": "f33144f1",
   "metadata": {},
   "source": [
    "### Calculando Mediana"
   ]
  },
  {
   "cell_type": "code",
   "execution_count": null,
   "id": "151f3bc5",
   "metadata": {},
   "outputs": [],
   "source": [
    "print(df_limpa.groupby(by=\"Sentenca\")[\"Palavras\"].count().median())"
   ]
  },
  {
   "cell_type": "markdown",
   "id": "187b7a5f",
   "metadata": {},
   "source": [
    "### Calculo da média com desvio padrão"
   ]
  },
  {
   "cell_type": "code",
   "execution_count": null,
   "id": "485b49fc",
   "metadata": {},
   "outputs": [],
   "source": [
    "multiplicador = 1 ## Valor a ser alterado para validar em outros casos\n",
    "valor = df_limpa.groupby(by=\"Sentenca\")[\"Palavras\"].count().mean() + multiplicador * df_limpa.groupby(by=\"Sentenca\")[\"Palavras\"].count().std()\n",
    "print(\"A média mais o desvio padrão vezes \" + str(multiplicador) + \" resultou no valor: \" + str(valor))\n",
    "resultado = len(list(filter(lambda x : x > valor or x < 11, list(df_limpa.groupby(by=\"Sentenca\")[\"Palavras\"].count()))))\n",
    "print(\"A quantidade de sentenças que possui mais de \" + str(valor) + \"tokens é de: \" + str(resultado))\n",
    "print(\"Que representa um total de \" + str(100 - (resultado / len(df_limpa.groupby(by=\"Sentenca\"))) * 100) + \"% das setenças\")"
   ]
  },
  {
   "cell_type": "markdown",
   "id": "deafebe9",
   "metadata": {},
   "source": [
    "### Imprimindo as setenças que possuem apenas 1 token"
   ]
  },
  {
   "cell_type": "code",
   "execution_count": null,
   "id": "d90b21b0",
   "metadata": {
    "scrolled": true
   },
   "outputs": [],
   "source": [
    "teste = [index for index, num in enumerate(df_limpa.groupby(by=\"Sentenca\")[\"Palavras\"].count()) if num == 1]\n",
    "palavras_lista = list(df_limpa.groupby(by=\"Sentenca\")[\"Palavras\"])\n",
    "print(\"Quantidade de sentenças com 1 token: \" + str(len(teste)))\n",
    "for index in teste:\n",
    "    print(palavras_lista[index][1])"
   ]
  },
  {
   "cell_type": "markdown",
   "id": "97f25ce1",
   "metadata": {},
   "source": [
    "### Teste\n",
    "Teste feito em ambiente menor."
   ]
  },
  {
   "cell_type": "code",
   "execution_count": null,
   "id": "5d9925c7",
   "metadata": {
    "scrolled": true
   },
   "outputs": [],
   "source": [
    "df_teste = df_limpa.loc[0:20]"
   ]
  },
  {
   "cell_type": "code",
   "execution_count": null,
   "id": "6018dd2b",
   "metadata": {},
   "outputs": [],
   "source": [
    "display(df_teste)"
   ]
  },
  {
   "cell_type": "code",
   "execution_count": null,
   "id": "fa035312",
   "metadata": {},
   "outputs": [],
   "source": [
    "print(list(df_teste.groupby(by=\"Sentenca\")[\"Palavras\"].count()))"
   ]
  },
  {
   "cell_type": "code",
   "execution_count": null,
   "id": "8b0179dc",
   "metadata": {},
   "outputs": [],
   "source": [
    "print(df_teste.groupby(by=\"Sentenca\")[\"Palavras\"].count().mean())"
   ]
  },
  {
   "cell_type": "code",
   "execution_count": null,
   "id": "b572c88c",
   "metadata": {},
   "outputs": [],
   "source": [
    "print(df_teste.groupby(by=\"Sentenca\")[\"Palavras\"].count().std())"
   ]
  },
  {
   "cell_type": "code",
   "execution_count": null,
   "id": "ad258498",
   "metadata": {},
   "outputs": [],
   "source": [
    "print(df_limpa.groupby(by=\"Sentenca\")[\"Palavras\"].count().mode())"
   ]
  },
  {
   "cell_type": "code",
   "execution_count": null,
   "id": "4715034e",
   "metadata": {},
   "outputs": [],
   "source": [
    "print(df_limpa.groupby(by=\"Sentenca\")[\"Palavras\"].count().median())"
   ]
  },
  {
   "cell_type": "code",
   "execution_count": null,
   "id": "0858325c",
   "metadata": {},
   "outputs": [],
   "source": []
  }
 ],
 "metadata": {
  "kernelspec": {
   "display_name": "Python 3",
   "language": "python",
   "name": "python3"
  },
  "language_info": {
   "codemirror_mode": {
    "name": "ipython",
    "version": 3
   },
   "file_extension": ".py",
   "mimetype": "text/x-python",
   "name": "python",
   "nbconvert_exporter": "python",
   "pygments_lexer": "ipython3",
   "version": "3.9.2"
  }
 },
 "nbformat": 4,
 "nbformat_minor": 5
}
