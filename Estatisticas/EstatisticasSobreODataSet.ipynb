{
 "cells": [
  {
   "cell_type": "markdown",
   "id": "966e2775",
   "metadata": {},
   "source": [
    "### Import's"
   ]
  },
  {
   "cell_type": "code",
   "execution_count": 2,
   "id": "0a1e39ce",
   "metadata": {},
   "outputs": [],
   "source": [
    "import pandas as pd\n",
    "import statistics\n",
    "from collections import Counter\n",
    "import matplotlib.pyplot as plt"
   ]
  },
  {
   "cell_type": "markdown",
   "id": "821159a5",
   "metadata": {},
   "source": [
    "### Lendo arquivo csv"
   ]
  },
  {
   "cell_type": "code",
   "execution_count": 3,
   "id": "9a171fa0",
   "metadata": {},
   "outputs": [],
   "source": [
    "## Ler o arquivo csv, e ler apenas as colunas ['Palavras', 'Rotulo', 'Sentenca']\n",
    "df_original = pd.read_csv(\"./Divergencias.csv\", usecols=['Palavras', 'Rotulo', 'Sentenca'])"
   ]
  },
  {
   "cell_type": "code",
   "execution_count": 4,
   "id": "628fd481",
   "metadata": {},
   "outputs": [
    {
     "data": {
      "text/html": [
       "<div>\n",
       "<style scoped>\n",
       "    .dataframe tbody tr th:only-of-type {\n",
       "        vertical-align: middle;\n",
       "    }\n",
       "\n",
       "    .dataframe tbody tr th {\n",
       "        vertical-align: top;\n",
       "    }\n",
       "\n",
       "    .dataframe thead th {\n",
       "        text-align: right;\n",
       "    }\n",
       "</style>\n",
       "<table border=\"1\" class=\"dataframe\">\n",
       "  <thead>\n",
       "    <tr style=\"text-align: right;\">\n",
       "      <th></th>\n",
       "      <th>Palavras</th>\n",
       "      <th>Rotulo</th>\n",
       "      <th>Sentenca</th>\n",
       "    </tr>\n",
       "  </thead>\n",
       "  <tbody>\n",
       "    <tr>\n",
       "      <th>0</th>\n",
       "      <td>id</td>\n",
       "      <td>O</td>\n",
       "      <td>1</td>\n",
       "    </tr>\n",
       "    <tr>\n",
       "      <th>1</th>\n",
       "      <td>:</td>\n",
       "      <td>O</td>\n",
       "      <td>1</td>\n",
       "    </tr>\n",
       "    <tr>\n",
       "      <th>2</th>\n",
       "      <td>0</td>\n",
       "      <td>O</td>\n",
       "      <td>1</td>\n",
       "    </tr>\n",
       "    <tr>\n",
       "      <th>3</th>\n",
       "      <td>NOME</td>\n",
       "      <td>O</td>\n",
       "      <td>2</td>\n",
       "    </tr>\n",
       "    <tr>\n",
       "      <th>4</th>\n",
       "      <td>DA</td>\n",
       "      <td>O</td>\n",
       "      <td>2</td>\n",
       "    </tr>\n",
       "    <tr>\n",
       "      <th>...</th>\n",
       "      <td>...</td>\n",
       "      <td>...</td>\n",
       "      <td>...</td>\n",
       "    </tr>\n",
       "    <tr>\n",
       "      <th>186014</th>\n",
       "      <td>Destilados</td>\n",
       "      <td>O</td>\n",
       "      <td>14287</td>\n",
       "    </tr>\n",
       "    <tr>\n",
       "      <th>186015</th>\n",
       "      <td>do</td>\n",
       "      <td>O</td>\n",
       "      <td>14287</td>\n",
       "    </tr>\n",
       "    <tr>\n",
       "      <th>186016</th>\n",
       "      <td>Brasil</td>\n",
       "      <td>B-NOME_LOCAL</td>\n",
       "      <td>14287</td>\n",
       "    </tr>\n",
       "    <tr>\n",
       "      <th>186017</th>\n",
       "      <td>2019</td>\n",
       "      <td>B-TEMPO</td>\n",
       "      <td>14287</td>\n",
       "    </tr>\n",
       "    <tr>\n",
       "      <th>186018</th>\n",
       "      <td>.</td>\n",
       "      <td>O</td>\n",
       "      <td>14287</td>\n",
       "    </tr>\n",
       "  </tbody>\n",
       "</table>\n",
       "<p>186019 rows × 3 columns</p>\n",
       "</div>"
      ],
      "text/plain": [
       "          Palavras        Rotulo  Sentenca\n",
       "0               id             O         1\n",
       "1                :             O         1\n",
       "2                0             O         1\n",
       "3             NOME             O         2\n",
       "4               DA             O         2\n",
       "...            ...           ...       ...\n",
       "186014  Destilados             O     14287\n",
       "186015          do             O     14287\n",
       "186016      Brasil  B-NOME_LOCAL     14287\n",
       "186017        2019       B-TEMPO     14287\n",
       "186018           .             O     14287\n",
       "\n",
       "[186019 rows x 3 columns]"
      ]
     },
     "metadata": {},
     "output_type": "display_data"
    }
   ],
   "source": [
    "display(df_original)"
   ]
  },
  {
   "cell_type": "markdown",
   "id": "6e5bacd9",
   "metadata": {},
   "source": [
    "### Filtrando e pegando as informações de instâncias"
   ]
  },
  {
   "cell_type": "markdown",
   "id": "20c39948",
   "metadata": {},
   "source": [
    "#### Inicializando as variaveis\n",
    "Essas variaveis ajudarão na construção das estatisticas!"
   ]
  },
  {
   "cell_type": "code",
   "execution_count": 5,
   "id": "2f7491d0",
   "metadata": {},
   "outputs": [],
   "source": [
    "index_remove = []\n",
    "lista_tokens_por_inst = [] ## Lista para armazenar tokens por instâncias\n",
    "cont_tokens = 0\n",
    "lista_sentencas_por_inst_original = [[0,0]] ## Lista para armazenar tokens por instâncias, com valor presetado (o padrão é [<sentença atual>,<qtd de senteças>])\n",
    "lista_rotulacoes_por_inst_IOB = []\n",
    "dict_rotulacoes = dict({})"
   ]
  },
  {
   "cell_type": "markdown",
   "id": "f9e55a75",
   "metadata": {},
   "source": [
    "#### Filtrando\n",
    "Lembrete sempre execute a cedula de cima antes!"
   ]
  },
  {
   "cell_type": "code",
   "execution_count": 6,
   "id": "aa0348b9",
   "metadata": {},
   "outputs": [],
   "source": [
    "for index, dado in df_original.iterrows():\n",
    "    if (len(dado['Palavras']) == 1 and not dado['Palavras'][0].isalnum()) and dado[\"Rotulo\"] == 'O': ## Retirar os caracteres especiais que estão sozinhos\n",
    "        index_remove.append(index)\n",
    "    elif (dado['Palavras'] == 'id'): ## Retirar o id e o número que o acompanha\n",
    "        index_remove.append(index)\n",
    "        index_remove.append(index + 2) ## Para pegar o número do id\n",
    "        lista_tokens_por_inst.append(cont_tokens) ## Adiciona os token's calculados do id anterior na lista\n",
    "        cont_tokens = 0 ## Zera o contador para iniciar uma nova contagem de tokens por instância\n",
    "        lista_sentencas_por_inst_original.append([0,0]) ## Inicio outra contagem de sentença por instância\n",
    "        lista_rotulacoes_por_inst_IOB.append(list(dict_rotulacoes.items()))\n",
    "        dict_rotulacoes = dict({})\n",
    "    elif index not in index_remove:\n",
    "        if dado['Sentenca'] != lista_sentencas_por_inst_original[-1][0]: ## Vejo se estou mexendo com outra sentença, caso se atualizo a sentença atual e adiciono um ao contador\n",
    "            lista_sentencas_por_inst_original[-1][0] = dado['Sentenca']\n",
    "            lista_sentencas_por_inst_original[-1][1] += 1\n",
    "        if dado['Rotulo'] not in dict_rotulacoes.keys():\n",
    "            dict_rotulacoes.update(dict({dado['Rotulo'] : 0}))\n",
    "        dict_rotulacoes[dado['Rotulo']] += 1\n",
    "        cont_tokens += 1 ## Incrementa um token ao contador, visto de ser um token considerado válido"
   ]
  },
  {
   "cell_type": "markdown",
   "id": "5e2e7369",
   "metadata": {},
   "source": [
    "#### Arrumando os dados das variveis"
   ]
  },
  {
   "cell_type": "code",
   "execution_count": 7,
   "id": "17e1072e",
   "metadata": {},
   "outputs": [
    {
     "data": {
      "text/plain": [
       "[]"
      ]
     },
     "execution_count": 7,
     "metadata": {},
     "output_type": "execute_result"
    }
   ],
   "source": [
    "## Comandos para adequar as variveis para realização das estatisticas\n",
    "lista_tokens_por_inst.append(cont_tokens) ## Adiciona os token's calculados do id último\n",
    "lista_tokens_por_inst.pop(0) ## Retiro primeiro elemento da lista por ser um elemento sempre 0\n",
    "lista_sentencas_por_inst_original.pop(0) ## Retiro primeiro elemento da lista por ser um elemento sem valor\n",
    "lista_rotulacoes_por_inst_IOB.append(list(dict_rotulacoes.items()))\n",
    "lista_rotulacoes_por_inst_IOB.pop(0)"
   ]
  },
  {
   "cell_type": "markdown",
   "id": "42d740d6",
   "metadata": {},
   "source": [
    "#### Retirando os elementos não desejados do DF original"
   ]
  },
  {
   "cell_type": "code",
   "execution_count": 8,
   "id": "4e2e88b8",
   "metadata": {},
   "outputs": [],
   "source": [
    "df_limpa = df_original.drop(axis=0, index=index_remove)"
   ]
  },
  {
   "cell_type": "code",
   "execution_count": 9,
   "id": "5273e1ac",
   "metadata": {},
   "outputs": [
    {
     "data": {
      "text/html": [
       "<div>\n",
       "<style scoped>\n",
       "    .dataframe tbody tr th:only-of-type {\n",
       "        vertical-align: middle;\n",
       "    }\n",
       "\n",
       "    .dataframe tbody tr th {\n",
       "        vertical-align: top;\n",
       "    }\n",
       "\n",
       "    .dataframe thead th {\n",
       "        text-align: right;\n",
       "    }\n",
       "</style>\n",
       "<table border=\"1\" class=\"dataframe\">\n",
       "  <thead>\n",
       "    <tr style=\"text-align: right;\">\n",
       "      <th></th>\n",
       "      <th>Palavras</th>\n",
       "      <th>Rotulo</th>\n",
       "      <th>Sentenca</th>\n",
       "    </tr>\n",
       "  </thead>\n",
       "  <tbody>\n",
       "    <tr>\n",
       "      <th>3</th>\n",
       "      <td>NOME</td>\n",
       "      <td>O</td>\n",
       "      <td>2</td>\n",
       "    </tr>\n",
       "    <tr>\n",
       "      <th>4</th>\n",
       "      <td>DA</td>\n",
       "      <td>O</td>\n",
       "      <td>2</td>\n",
       "    </tr>\n",
       "    <tr>\n",
       "      <th>5</th>\n",
       "      <td>CACHAÇA</td>\n",
       "      <td>O</td>\n",
       "      <td>2</td>\n",
       "    </tr>\n",
       "    <tr>\n",
       "      <th>7</th>\n",
       "      <td>Cachaça</td>\n",
       "      <td>O</td>\n",
       "      <td>2</td>\n",
       "    </tr>\n",
       "    <tr>\n",
       "      <th>8</th>\n",
       "      <td>Três</td>\n",
       "      <td>B-NOME_BEBIDA</td>\n",
       "      <td>2</td>\n",
       "    </tr>\n",
       "    <tr>\n",
       "      <th>...</th>\n",
       "      <td>...</td>\n",
       "      <td>...</td>\n",
       "      <td>...</td>\n",
       "    </tr>\n",
       "    <tr>\n",
       "      <th>186013</th>\n",
       "      <td>e</td>\n",
       "      <td>O</td>\n",
       "      <td>14287</td>\n",
       "    </tr>\n",
       "    <tr>\n",
       "      <th>186014</th>\n",
       "      <td>Destilados</td>\n",
       "      <td>O</td>\n",
       "      <td>14287</td>\n",
       "    </tr>\n",
       "    <tr>\n",
       "      <th>186015</th>\n",
       "      <td>do</td>\n",
       "      <td>O</td>\n",
       "      <td>14287</td>\n",
       "    </tr>\n",
       "    <tr>\n",
       "      <th>186016</th>\n",
       "      <td>Brasil</td>\n",
       "      <td>B-NOME_LOCAL</td>\n",
       "      <td>14287</td>\n",
       "    </tr>\n",
       "    <tr>\n",
       "      <th>186017</th>\n",
       "      <td>2019</td>\n",
       "      <td>B-TEMPO</td>\n",
       "      <td>14287</td>\n",
       "    </tr>\n",
       "  </tbody>\n",
       "</table>\n",
       "<p>156024 rows × 3 columns</p>\n",
       "</div>"
      ],
      "text/plain": [
       "          Palavras         Rotulo  Sentenca\n",
       "3             NOME              O         2\n",
       "4               DA              O         2\n",
       "5          CACHAÇA              O         2\n",
       "7          Cachaça              O         2\n",
       "8             Três  B-NOME_BEBIDA         2\n",
       "...            ...            ...       ...\n",
       "186013           e              O     14287\n",
       "186014  Destilados              O     14287\n",
       "186015          do              O     14287\n",
       "186016      Brasil   B-NOME_LOCAL     14287\n",
       "186017        2019        B-TEMPO     14287\n",
       "\n",
       "[156024 rows x 3 columns]"
      ]
     },
     "metadata": {},
     "output_type": "display_data"
    }
   ],
   "source": [
    "display(df_limpa)"
   ]
  },
  {
   "cell_type": "markdown",
   "id": "3e2801ab",
   "metadata": {},
   "source": [
    "### Preparando / visualizando os dados para a estatística"
   ]
  },
  {
   "cell_type": "code",
   "execution_count": 10,
   "id": "0079abf9",
   "metadata": {},
   "outputs": [],
   "source": [
    "## Função para tirar o IOB das rotulações\n",
    "def retira_IOB(lista_rotulacoes):\n",
    "    dict_rotulacoes = dict({})\n",
    "    for index, dado in enumerate(lista_rotulacoes):\n",
    "        if dado[0] != 'O':\n",
    "            if dado[0][2:] not in dict_rotulacoes.keys():\n",
    "                dict_rotulacoes.update(dict({dado[0][2:] : 0}))\n",
    "            dict_rotulacoes[dado[0][2:]] += dado[1]\n",
    "        else:\n",
    "            dict_rotulacoes[dado[0]] = dado[1]\n",
    "    return list(dict_rotulacoes.items())"
   ]
  },
  {
   "cell_type": "code",
   "execution_count": 11,
   "id": "ddd2263d",
   "metadata": {},
   "outputs": [],
   "source": [
    "## Preparando para pegar tokens por setença\n",
    "lista_tokens_por_sentenca = list(df_limpa.groupby(by=\"Sentenca\")[\"Palavras\"].count()) ## Agrupa as sentenças conto quantos tokens tem por setença e transforma em lista\n",
    "## Preparando para extrair sentenças por instâncias\n",
    "lista_sentencas_por_inst = [x[1] for x in lista_sentencas_por_inst_original] ## Extrai apenas a quantidade de sentenças presentes por instância\n",
    "## Preparando para pegar as quantidades de rotulações\n",
    "lista_qtdRotulacoes_IOB = [[x[0], x[1][\"Palavras\"].count()] for x in df_limpa.groupby(by=\"Rotulo\")] ## Agrupa por rotulação e calcucula quantos tokens tem por rotulação\n",
    "## Preparando para pegar as quantidades de rotulações sem IOB\n",
    "lista_qtdRotulacoes = retira_IOB(lista_qtdRotulacoes_IOB)"
   ]
  },
  {
   "cell_type": "code",
   "execution_count": 12,
   "id": "7f24f461",
   "metadata": {},
   "outputs": [],
   "source": [
    "## Preparando para pegar rotulações por sentença\n",
    "lista_rotulos_por_sentenca_IOB = []\n",
    "for dado in df_limpa.groupby(by=\"Sentenca\"):\n",
    "    lista_rotulos_por_sentenca_IOB.append([dado[0], list(Counter(list(dado[1][\"Rotulo\"])).items())])"
   ]
  },
  {
   "cell_type": "code",
   "execution_count": 13,
   "id": "718dd157",
   "metadata": {},
   "outputs": [],
   "source": [
    "## Preparando para extrair rotulações por sentença sem IOB\n",
    "lista_rotulos_por_sentenca = []\n",
    "for sentenca in lista_rotulos_por_sentenca_IOB:\n",
    "    lista_rotulos_por_sentenca.append([sentenca[0], retira_IOB(sentenca[1])])"
   ]
  },
  {
   "cell_type": "code",
   "execution_count": 14,
   "id": "308ea4f5",
   "metadata": {},
   "outputs": [],
   "source": [
    "## Preparando para extrair rotulações por instância sem IOB\n",
    "lista_rotulacoes_por_inst = []\n",
    "for instancia in lista_rotulacoes_por_inst_IOB:\n",
    "    lista_rotulacoes_por_inst.append(retira_IOB(instancia))"
   ]
  },
  {
   "cell_type": "code",
   "execution_count": 15,
   "id": "e9dab320",
   "metadata": {},
   "outputs": [],
   "source": [
    "## Preparando para pegar rotulações por token\n",
    "lista_rotulacoes_por_tokens_IOB = []\n",
    "for dado in df_limpa.groupby(by=\"Palavras\"):\n",
    "    lista_rotulacoes_por_tokens_IOB.append([dado[0], list(Counter(list(dado[1][\"Rotulo\"])).items())])"
   ]
  },
  {
   "cell_type": "code",
   "execution_count": 16,
   "id": "c75e17da",
   "metadata": {},
   "outputs": [],
   "source": [
    "lista_rotulacoes_por_tokens = []\n",
    "for token in lista_rotulacoes_por_tokens_IOB:\n",
    "    lista_rotulacoes_por_tokens.append([token[0], retira_IOB(token[1])])"
   ]
  },
  {
   "cell_type": "code",
   "execution_count": 17,
   "id": "6f61cfae",
   "metadata": {
    "scrolled": false
   },
   "outputs": [],
   "source": [
    "## print(lista_tokens_por_sentenca) ## Tokens por sentença"
   ]
  },
  {
   "cell_type": "code",
   "execution_count": 18,
   "id": "5af110c4",
   "metadata": {
    "scrolled": true
   },
   "outputs": [],
   "source": [
    "## print(lista_tokens_por_inst) ## Tokens por instâncias"
   ]
  },
  {
   "cell_type": "code",
   "execution_count": 19,
   "id": "a01f1940",
   "metadata": {
    "scrolled": true
   },
   "outputs": [],
   "source": [
    "## print(lista_sentencas_por_inst) ## Setenças por instâncias"
   ]
  },
  {
   "cell_type": "markdown",
   "id": "77fad922",
   "metadata": {},
   "source": [
    "## Informações da Estatística"
   ]
  },
  {
   "cell_type": "code",
   "execution_count": 20,
   "id": "7e36e8b6",
   "metadata": {},
   "outputs": [
    {
     "name": "stdout",
     "output_type": "stream",
     "text": [
      "Quantidade de tokens removidos: 29995\n"
     ]
    }
   ],
   "source": [
    "print(\"Quantidade de tokens removidos: \" + str(len(df_original) - len(df_limpa)))"
   ]
  },
  {
   "cell_type": "markdown",
   "id": "d0af435c",
   "metadata": {},
   "source": [
    "### Dados demográficos "
   ]
  },
  {
   "cell_type": "code",
   "execution_count": 21,
   "id": "bbad74e5",
   "metadata": {},
   "outputs": [
    {
     "name": "stdout",
     "output_type": "stream",
     "text": [
      "-----QUANTIDADES-----\n",
      "Quantidade de instâncias: 1000\n",
      "Quantidade de sentenças: 13273\n",
      "Quantidade de tokens: 156024\n"
     ]
    }
   ],
   "source": [
    "print(\"-----QUANTIDADES-----\")\n",
    "print(\"Quantidade de instâncias: \" + str(len(lista_tokens_por_inst)))\n",
    "print(\"Quantidade de sentenças: \" + str(len(lista_tokens_por_sentenca)))\n",
    "print(\"Quantidade de tokens: \" + str(len(df_limpa)))"
   ]
  },
  {
   "cell_type": "markdown",
   "id": "7d508caa",
   "metadata": {},
   "source": [
    "#### Rotulacoes"
   ]
  },
  {
   "cell_type": "markdown",
   "id": "97995950",
   "metadata": {},
   "source": [
    "##### Qtd totais Rotulações  - Gráficos"
   ]
  },
  {
   "cell_type": "code",
   "execution_count": 22,
   "id": "a00c4826",
   "metadata": {},
   "outputs": [],
   "source": [
    "## print(lista_qtdRotulacoes_IOB) ## Quantidade de rotulações com IOB"
   ]
  },
  {
   "cell_type": "code",
   "execution_count": 23,
   "id": "58f3841e",
   "metadata": {},
   "outputs": [
    {
     "data": {
      "image/png": "[encoded data removed]",
      "text/plain": [
       "<Figure size 432x288 with 1 Axes>"
      ]
     },
     "metadata": {
      "needs_background": "light"
     },
     "output_type": "display_data"
    }
   ],
   "source": [
    "grupos = [x[0] for x in lista_qtdRotulacoes_IOB]\n",
    "valores = [x[1] for x in lista_qtdRotulacoes_IOB]\n",
    "plt.bar(grupos, valores)\n",
    "plt.title('Quantidade de rotulações - TOTAIS')\n",
    "plt.ylabel('Quantidade de rotulações')\n",
    "plt.xlabel('Rotulos')\n",
    "plt.xticks(rotation='vertical')\n",
    "plt.show()"
   ]
  },
  {
   "cell_type": "code",
   "execution_count": 24,
   "id": "e953139d",
   "metadata": {
    "scrolled": false
   },
   "outputs": [],
   "source": [
    "## print(lista_qtdRotulacoes) ## Quantidade de rotulações"
   ]
  },
  {
   "cell_type": "code",
   "execution_count": 25,
   "id": "6aec5ad4",
   "metadata": {},
   "outputs": [
    {
     "data": {
      "image/png": "[encoded data removed]",
      "text/plain": [
       "<Figure size 432x288 with 1 Axes>"
      ]
     },
     "metadata": {
      "needs_background": "light"
     },
     "output_type": "display_data"
    }
   ],
   "source": [
    "grupos = [x[0] for x in lista_qtdRotulacoes]\n",
    "valores = [x[1] for x in lista_qtdRotulacoes]\n",
    "plt.bar(grupos, valores)\n",
    "plt.title('Quantidade de rotulações - TOTAIS')\n",
    "plt.ylabel('Quantidade de rotulações')\n",
    "plt.xlabel('Rotulos')\n",
    "plt.xticks(rotation='vertical')\n",
    "plt.show()"
   ]
  },
  {
   "cell_type": "code",
   "execution_count": 26,
   "id": "690487b3",
   "metadata": {
    "scrolled": true
   },
   "outputs": [],
   "source": [
    "## print(lista_rotulos_por_sentenca_IOB) ## Quantidade de rotulações por sentença com IOB"
   ]
  },
  {
   "cell_type": "code",
   "execution_count": 27,
   "id": "777034db",
   "metadata": {
    "scrolled": true
   },
   "outputs": [],
   "source": [
    "## print(lista_rotulos_por_sentenca) ## Quantidade de rotulações por sentença"
   ]
  },
  {
   "cell_type": "code",
   "execution_count": 28,
   "id": "5628504c",
   "metadata": {},
   "outputs": [],
   "source": [
    "## print(lista_rotulacoes_por_inst_IOB) ## Quantidade de rotulação por instância com IOB"
   ]
  },
  {
   "cell_type": "code",
   "execution_count": 29,
   "id": "18928f17",
   "metadata": {},
   "outputs": [],
   "source": [
    "## print(lista_rotulacoes_por_inst) ## Quantidade de rotulação por instância"
   ]
  },
  {
   "cell_type": "code",
   "execution_count": 30,
   "id": "71c6afb3",
   "metadata": {},
   "outputs": [],
   "source": [
    "## print(lista_rotulacoes_por_tokens_IOB) ## Quantidade de rotulações por tokens com IOB"
   ]
  },
  {
   "cell_type": "code",
   "execution_count": 31,
   "id": "c88f8b63",
   "metadata": {},
   "outputs": [],
   "source": [
    "## print(lista_rotulacoes_por_tokens) ## Quantidade de rotulações por tokens"
   ]
  },
  {
   "cell_type": "markdown",
   "id": "4e556977",
   "metadata": {},
   "source": [
    "### TOKENS POR SENTENÇA"
   ]
  },
  {
   "cell_type": "code",
   "execution_count": 32,
   "id": "edeac864",
   "metadata": {},
   "outputs": [
    {
     "name": "stdout",
     "output_type": "stream",
     "text": [
      "-----QUANTIDADES-----\n",
      "Quantidade de sentenças: 13273\n",
      "Quantidade de tokens: 156024\n",
      "Quantidade máxima de tokens em uma sentença: 477\n",
      "Quantidade mínima de tokens em uma sentença: 1\n",
      "-----Médias-----\n",
      "Média aritmética dos tokens por sentença: 11.75499133579447\n",
      "Média geométrica dos tokens por sentença: 7.1176454709857095\n",
      "Média harmônica dos tokens por sentença: 4.635240249172114\n",
      "-----Medianas-----\n",
      "Mediana dos tokens por setença: 6\n",
      "Mediana inferior dos tokens por setença: 6\n",
      "Mediana superior dos tokens por setença: 6\n",
      "Mediana, ou o 50º percentil dos dados agrupados dos tokens por setença: 6.486780715396579\n",
      "-----Moda-----\n",
      "Moda dos tokens por sentença: 3\n",
      "-----Desvio Padrão-----\n",
      "Desvio padrão populacional dos tokens por sentença: 17.79746428391955\n",
      "Desvio padrão amostral dos tokens por sentença: 17.798134760451042\n",
      "-----Variância-----\n",
      "Variância populacional dos tokens por sentença: 316.74973493739196\n",
      "Variância amostral dos tokens por sentença: 316.7736009511757\n",
      "-----Quantiles-----\n",
      "Quantiles dos tokens por sentença: [3.0, 6.0, 15.0]\n"
     ]
    }
   ],
   "source": [
    "print(\"-----QUANTIDADES-----\")\n",
    "print(\"Quantidade de sentenças: \" + str(len(lista_tokens_por_sentenca)))\n",
    "print(\"Quantidade de tokens: \" + str(sum(lista_tokens_por_sentenca)))\n",
    "print(\"Quantidade máxima de tokens em uma sentença: \" + str(max(lista_tokens_por_sentenca)))\n",
    "print(\"Quantidade mínima de tokens em uma sentença: \" + str(min(lista_tokens_por_sentenca)))\n",
    "print(\"-----Médias-----\")\n",
    "print(\"Média aritmética dos tokens por sentença: \" + str(statistics.mean(lista_tokens_por_sentenca)))\n",
    "print(\"Média geométrica dos tokens por sentença: \" + str(statistics.geometric_mean(lista_tokens_por_sentenca)))\n",
    "print(\"Média harmônica dos tokens por sentença: \" + str(statistics.harmonic_mean(lista_tokens_por_sentenca)))\n",
    "print(\"-----Medianas-----\")\n",
    "print(\"Mediana dos tokens por setença: \" + str(statistics.median(lista_tokens_por_sentenca)))\n",
    "print(\"Mediana inferior dos tokens por setença: \" + str(statistics.median_low(lista_tokens_por_sentenca)))\n",
    "print(\"Mediana superior dos tokens por setença: \" + str(statistics.median_high(lista_tokens_por_sentenca)))\n",
    "print(\"Mediana, ou o 50º percentil dos dados agrupados dos tokens por setença: \" + str(statistics.median_grouped(lista_tokens_por_sentenca)))\n",
    "print(\"-----Moda-----\")\n",
    "print(\"Moda dos tokens por sentença: \" + str(statistics.mode(lista_tokens_por_sentenca)))\n",
    "print(\"-----Desvio Padrão-----\")\n",
    "print(\"Desvio padrão populacional dos tokens por sentença: \" + str(statistics.pstdev(lista_tokens_por_sentenca)))\n",
    "print(\"Desvio padrão amostral dos tokens por sentença: \" + str(statistics.stdev(lista_tokens_por_sentenca)))\n",
    "print(\"-----Variância-----\")\n",
    "print(\"Variância populacional dos tokens por sentença: \" + str(statistics.pvariance(lista_tokens_por_sentenca)))\n",
    "print(\"Variância amostral dos tokens por sentença: \" + str(statistics.variance(lista_tokens_por_sentenca)))\n",
    "print(\"-----Quantiles-----\")\n",
    "print(\"Quantiles dos tokens por sentença: \" + str(statistics.quantiles(lista_tokens_por_sentenca)))"
   ]
  },
  {
   "cell_type": "markdown",
   "id": "e4e5ec97",
   "metadata": {},
   "source": [
    "#### Gráficos"
   ]
  },
  {
   "cell_type": "code",
   "execution_count": 33,
   "id": "06a97b82",
   "metadata": {},
   "outputs": [
    {
     "data": {
      "image/png": "[encoded data removed]",
      "text/plain": [
       "<Figure size 432x288 with 1 Axes>"
      ]
     },
     "metadata": {
      "needs_background": "light"
     },
     "output_type": "display_data"
    }
   ],
   "source": [
    "plt.plot([x for x in range(len(lista_tokens_por_sentenca))], lista_tokens_por_sentenca)\n",
    "plt.title(\"Tokens por Sentença\")\n",
    "plt.ylabel('Quantidade de tokens')\n",
    "plt.xlabel('Sentenças')\n",
    "plt.show()"
   ]
  },
  {
   "cell_type": "code",
   "execution_count": 42,
   "id": "ae31f88d",
   "metadata": {},
   "outputs": [
    {
     "data": {
      "image/png": "[encoded data removed]",
      "text/plain": [
       "<Figure size 432x288 with 1 Axes>"
      ]
     },
     "metadata": {
      "needs_background": "light"
     },
     "output_type": "display_data"
    }
   ],
   "source": [
    "plt.hist(lista_tokens_por_sentenca)\n",
    "plt.xlabel('Tokens')\n",
    "plt.ylabel('Frequência')\n",
    "plt.title('Histograma - Tokens por Sentença')\n",
    "plt.grid()\n",
    "plt.show()"
   ]
  },
  {
   "cell_type": "markdown",
   "id": "808bc90f",
   "metadata": {},
   "source": [
    "### TOKENS POR INSTÂNCIA"
   ]
  },
  {
   "cell_type": "code",
   "execution_count": 34,
   "id": "39a9f3fe",
   "metadata": {},
   "outputs": [
    {
     "name": "stdout",
     "output_type": "stream",
     "text": [
      "-----QUANTIDADES-----\n",
      "Quantidade de instâncias: 1000\n",
      "Quantidade de tokens: 156024\n",
      "Quantidade máxima de tokens em uma instância: 805\n",
      "Quantidade mínima de tokens em uma instância: 14\n",
      "-----Médias-----\n",
      "Média aritmética dos tokens por instância: 156.024\n",
      "Média geométrica dos tokens por instância: 120.56283251415897\n",
      "Média harmônica dos tokens por instância: 93.09696192162718\n",
      "-----Medianas-----\n",
      "Mediana dos tokens por instância: 119.0\n",
      "Mediana inferior dos tokens por instância: 119\n",
      "Mediana superior dos tokens por instância: 119\n",
      "Mediana, ou o 50º percentil dos dados agrupados dos tokens por instância: 119.0\n",
      "-----Moda-----\n",
      "Moda dos tokens por instância: 99\n",
      "-----Desvio Padrão-----\n",
      "Desvio padrão populacional dos tokens por instância: 119.55740639542161\n",
      "Desvio padrão amostral dos tokens por instância: 119.61722997004112\n",
      "-----Variância-----\n",
      "Variância populacional dos tokens por instância: 14293.973424\n",
      "Variância amostral dos tokens por instância: 14308.281705705705\n",
      "-----Quantiles-----\n",
      "Quantiles dos tokens por instância: [71.0, 119.0, 198.75]\n"
     ]
    }
   ],
   "source": [
    "print(\"-----QUANTIDADES-----\")\n",
    "print(\"Quantidade de instâncias: \" + str(len(lista_tokens_por_inst)))\n",
    "print(\"Quantidade de tokens: \" + str(sum(lista_tokens_por_inst)))\n",
    "print(\"Quantidade máxima de tokens em uma instância: \" + str(max(lista_tokens_por_inst)))\n",
    "print(\"Quantidade mínima de tokens em uma instância: \" + str(min(lista_tokens_por_inst)))\n",
    "print(\"-----Médias-----\")\n",
    "print(\"Média aritmética dos tokens por instância: \" + str(statistics.mean(lista_tokens_por_inst)))\n",
    "print(\"Média geométrica dos tokens por instância: \" + str(statistics.geometric_mean(lista_tokens_por_inst)))\n",
    "print(\"Média harmônica dos tokens por instância: \" + str(statistics.harmonic_mean(lista_tokens_por_inst)))\n",
    "print(\"-----Medianas-----\")\n",
    "print(\"Mediana dos tokens por instância: \" + str(statistics.median(lista_tokens_por_inst)))\n",
    "print(\"Mediana inferior dos tokens por instância: \" + str(statistics.median_low(lista_tokens_por_inst)))\n",
    "print(\"Mediana superior dos tokens por instância: \" + str(statistics.median_high(lista_tokens_por_inst)))\n",
    "print(\"Mediana, ou o 50º percentil dos dados agrupados dos tokens por instância: \" + str(statistics.median_grouped(lista_tokens_por_inst)))\n",
    "print(\"-----Moda-----\")\n",
    "print(\"Moda dos tokens por instância: \" + str(statistics.mode(lista_tokens_por_inst)))\n",
    "print(\"-----Desvio Padrão-----\")\n",
    "print(\"Desvio padrão populacional dos tokens por instância: \" + str(statistics.pstdev(lista_tokens_por_inst)))\n",
    "print(\"Desvio padrão amostral dos tokens por instância: \" + str(statistics.stdev(lista_tokens_por_inst)))\n",
    "print(\"-----Variância-----\")\n",
    "print(\"Variância populacional dos tokens por instância: \" + str(statistics.pvariance(lista_tokens_por_inst)))\n",
    "print(\"Variância amostral dos tokens por instância: \" + str(statistics.variance(lista_tokens_por_inst)))\n",
    "print(\"-----Quantiles-----\")\n",
    "print(\"Quantiles dos tokens por instância: \" + str(statistics.quantiles(lista_tokens_por_inst)))"
   ]
  },
  {
   "cell_type": "markdown",
   "id": "f8fef615",
   "metadata": {},
   "source": [
    "#### Gráficos"
   ]
  },
  {
   "cell_type": "code",
   "execution_count": 35,
   "id": "727572da",
   "metadata": {},
   "outputs": [
    {
     "data": {
      "image/png": "[encoded data removed]",
      "text/plain": [
       "<Figure size 432x288 with 1 Axes>"
      ]
     },
     "metadata": {
      "needs_background": "light"
     },
     "output_type": "display_data"
    }
   ],
   "source": [
    "plt.plot([x for x in range(len(lista_tokens_por_inst))], lista_tokens_por_inst)\n",
    "plt.title(\"Tokens por Instâncias\")\n",
    "plt.ylabel('Quantidade de tokens')\n",
    "plt.xlabel('Instâncias')\n",
    "plt.show()"
   ]
  },
  {
   "cell_type": "code",
   "execution_count": 43,
   "id": "f35440db",
   "metadata": {},
   "outputs": [
    {
     "data": {
      "image/png": "[encoded data removed]",
      "text/plain": [
       "<Figure size 432x288 with 1 Axes>"
      ]
     },
     "metadata": {
      "needs_background": "light"
     },
     "output_type": "display_data"
    }
   ],
   "source": [
    "plt.hist(lista_tokens_por_inst)\n",
    "plt.xlabel('Tokens')\n",
    "plt.ylabel('Frequência')\n",
    "plt.title('Histograma - Tokens por Instância')\n",
    "plt.grid()\n",
    "plt.show()"
   ]
  },
  {
   "cell_type": "markdown",
   "id": "148a4ed9",
   "metadata": {},
   "source": [
    "### SENTENÇAS POR INSTÂNCIA"
   ]
  },
  {
   "cell_type": "code",
   "execution_count": 36,
   "id": "e4708915",
   "metadata": {},
   "outputs": [
    {
     "name": "stdout",
     "output_type": "stream",
     "text": [
      "-----QUANTIDADES-----\n",
      "Quantidade de instâncias: 1000\n",
      "Quantidade de sentenças: 13273\n",
      "Quantidade máxima de sentenças em uma instância: 45\n",
      "Quantidade mínima de sentenças em uma instância: 3\n",
      "-----Médias-----\n",
      "Média aritmética dos tokens por instância: 13.273\n",
      "Média geométrica dos tokens por instância: 11.383559636372114\n",
      "Média harmônica dos tokens por instância: 9.733068066169684\n",
      "-----Medianas-----\n",
      "Mediana dos tokens por instância: 11.0\n",
      "Mediana inferior dos tokens por instância: 11\n",
      "Mediana superior dos tokens por instância: 11\n",
      "Mediana, ou o 50º percentil dos dados agrupados dos tokens por instância: 11.03623188405797\n",
      "-----Moda-----\n",
      "Moda dos tokens por instância: 9\n",
      "-----Desvio Padrão-----\n",
      "Desvio padrão populacional dos tokens por instância: 7.441268104295127\n",
      "Desvio padrão amostral dos tokens por instância: 7.444991531150246\n",
      "-----Variância-----\n",
      "Variância populacional dos tokens por instância: 55.372471\n",
      "Variância amostral dos tokens por instância: 55.427898898898896\n",
      "-----Quantiles-----\n",
      "Quantiles dos tokens por instância: [8.0, 11.0, 18.0]\n"
     ]
    }
   ],
   "source": [
    "print(\"-----QUANTIDADES-----\")\n",
    "print(\"Quantidade de instâncias: \" + str(len(lista_sentencas_por_inst)))\n",
    "print(\"Quantidade de sentenças: \" + str(sum(lista_sentencas_por_inst)))\n",
    "print(\"Quantidade máxima de sentenças em uma instância: \" + str(max(lista_sentencas_por_inst)))\n",
    "print(\"Quantidade mínima de sentenças em uma instância: \" + str(min(lista_sentencas_por_inst)))\n",
    "print(\"-----Médias-----\")\n",
    "print(\"Média aritmética dos tokens por instância: \" + str(statistics.mean(lista_sentencas_por_inst)))\n",
    "print(\"Média geométrica dos tokens por instância: \" + str(statistics.geometric_mean(lista_sentencas_por_inst)))\n",
    "print(\"Média harmônica dos tokens por instância: \" + str(statistics.harmonic_mean(lista_sentencas_por_inst)))\n",
    "print(\"-----Medianas-----\")\n",
    "print(\"Mediana dos tokens por instância: \" + str(statistics.median(lista_sentencas_por_inst)))\n",
    "print(\"Mediana inferior dos tokens por instância: \" + str(statistics.median_low(lista_sentencas_por_inst)))\n",
    "print(\"Mediana superior dos tokens por instância: \" + str(statistics.median_high(lista_sentencas_por_inst)))\n",
    "print(\"Mediana, ou o 50º percentil dos dados agrupados dos tokens por instância: \" + str(statistics.median_grouped(lista_sentencas_por_inst)))\n",
    "print(\"-----Moda-----\")\n",
    "print(\"Moda dos tokens por instância: \" + str(statistics.mode(lista_sentencas_por_inst)))\n",
    "print(\"-----Desvio Padrão-----\")\n",
    "print(\"Desvio padrão populacional dos tokens por instância: \" + str(statistics.pstdev(lista_sentencas_por_inst)))\n",
    "print(\"Desvio padrão amostral dos tokens por instância: \" + str(statistics.stdev(lista_sentencas_por_inst)))\n",
    "print(\"-----Variância-----\")\n",
    "print(\"Variância populacional dos tokens por instância: \" + str(statistics.pvariance(lista_sentencas_por_inst)))\n",
    "print(\"Variância amostral dos tokens por instância: \" + str(statistics.variance(lista_sentencas_por_inst)))\n",
    "print(\"-----Quantiles-----\")\n",
    "print(\"Quantiles dos tokens por instância: \" + str(statistics.quantiles(lista_sentencas_por_inst)))"
   ]
  },
  {
   "cell_type": "markdown",
   "id": "8aa4c6fd",
   "metadata": {},
   "source": [
    "#### Gráficos"
   ]
  },
  {
   "cell_type": "code",
   "execution_count": 37,
   "id": "97366593",
   "metadata": {},
   "outputs": [
    {
     "data": {
      "image/png": "[encoded data removed]",
      "text/plain": [
       "<Figure size 432x288 with 1 Axes>"
      ]
     },
     "metadata": {
      "needs_background": "light"
     },
     "output_type": "display_data"
    }
   ],
   "source": [
    "plt.plot([x for x in range(len(lista_sentencas_por_inst))], lista_sentencas_por_inst)\n",
    "plt.title(\"Sentenças por Instâncias\")\n",
    "plt.ylabel('Quantidade de sentenças')\n",
    "plt.xlabel('Instâncias')\n",
    "plt.show()"
   ]
  },
  {
   "cell_type": "code",
   "execution_count": 41,
   "id": "1ae592b5",
   "metadata": {},
   "outputs": [
    {
     "data": {
      "image/png": "[encoded data removed]",
      "text/plain": [
       "<Figure size 432x288 with 1 Axes>"
      ]
     },
     "metadata": {
      "needs_background": "light"
     },
     "output_type": "display_data"
    }
   ],
   "source": [
    "plt.hist(lista_sentencas_por_inst)\n",
    "plt.xlabel('Sentenças')\n",
    "plt.ylabel('Frequência')\n",
    "plt.title('Histograma - Sentencia por Instância')\n",
    "plt.grid()\n",
    "plt.show()"
   ]
  },
  {
   "cell_type": "markdown",
   "id": "1acad9be",
   "metadata": {},
   "source": [
    "# Testes / Exemplos / Demonstração"
   ]
  },
  {
   "cell_type": "markdown",
   "id": "5ce1e826",
   "metadata": {},
   "source": [
    "### Calculando desvio padrão"
   ]
  },
  {
   "cell_type": "code",
   "execution_count": null,
   "id": "2b1d5f61",
   "metadata": {},
   "outputs": [],
   "source": [
    "print(df_limpa.groupby(by=\"Sentenca\")[\"Palavras\"].count().std())"
   ]
  },
  {
   "cell_type": "markdown",
   "id": "baff8895",
   "metadata": {},
   "source": [
    "### Calculando moda"
   ]
  },
  {
   "cell_type": "code",
   "execution_count": null,
   "id": "dc20f273",
   "metadata": {
    "scrolled": true
   },
   "outputs": [],
   "source": [
    "print(df_limpa.groupby(by=\"Sentenca\")[\"Palavras\"].count().mode())"
   ]
  },
  {
   "cell_type": "markdown",
   "id": "f33144f1",
   "metadata": {},
   "source": [
    "### Calculando Mediana"
   ]
  },
  {
   "cell_type": "code",
   "execution_count": null,
   "id": "151f3bc5",
   "metadata": {},
   "outputs": [],
   "source": [
    "print(df_limpa.groupby(by=\"Sentenca\")[\"Palavras\"].count().median())"
   ]
  },
  {
   "cell_type": "markdown",
   "id": "187b7a5f",
   "metadata": {},
   "source": [
    "### Cálculo da média com desvio padrão"
   ]
  },
  {
   "cell_type": "markdown",
   "id": "d6297d72",
   "metadata": {},
   "source": [
    "###### OBS: o cálculo está trabalhando com os valores de tokens por sentença!\n",
    "O cálculo a seguir irá realizar a seguinte operação:\n",
    "média + (multiplicador * desvio_padrão)\n",
    "posteriormente a este cálculo teremos um valor cabeça, e apartir dele iremos quantificar quantas senteças possuem uma quantidade de tokens maiores que o valor cabeça calculado. Tendo em mãos a quantidade de sentenças é calculado a porcetagem que essa quantidade representa ao todo de sentenças."
   ]
  },
  {
   "cell_type": "code",
   "execution_count": null,
   "id": "485b49fc",
   "metadata": {},
   "outputs": [],
   "source": [
    "multiplicador = 1 ## Valor a ser alterado para validar em outros casos\n",
    "valor = df_limpa.groupby(by=\"Sentenca\")[\"Palavras\"].count().mean() + multiplicador * df_limpa.groupby(by=\"Sentenca\")[\"Palavras\"].count().std()\n",
    "print(\"A média mais o desvio padrão vezes \" + str(multiplicador) + \" resultou no valor: \" + str(valor))\n",
    "resultado = len(list(filter(lambda x : x > valor, list(df_limpa.groupby(by=\"Sentenca\")[\"Palavras\"].count()))))\n",
    "print(\"A quantidade de sentenças que possui mais de \" + str(valor) + \" tokens é de: \" + str(resultado))\n",
    "print(\"Que representa um total de \" + str((resultado / len(df_limpa.groupby(by=\"Sentenca\"))) * 100) + \"% das setenças, de um toltal de: \" + len(df_limpa.groupby(by=\"Sentenca\")))"
   ]
  },
  {
   "cell_type": "markdown",
   "id": "deafebe9",
   "metadata": {},
   "source": [
    "### Imprimindo as setenças que possuem apenas 1 token"
   ]
  },
  {
   "cell_type": "code",
   "execution_count": null,
   "id": "d90b21b0",
   "metadata": {
    "scrolled": true
   },
   "outputs": [],
   "source": [
    "teste = [index for index, num in enumerate(df_limpa.groupby(by=\"Sentenca\")[\"Palavras\"].count()) if num == 1]\n",
    "palavras_lista = list(df_limpa.groupby(by=\"Sentenca\")[\"Palavras\"])\n",
    "print(\"Quantidade de sentenças com 1 token: \" + str(len(teste)))\n",
    "for index in teste:\n",
    "    print(palavras_lista[index][1])"
   ]
  },
  {
   "cell_type": "markdown",
   "id": "97f25ce1",
   "metadata": {},
   "source": [
    "### Teste\n",
    "Teste feito em ambiente menor."
   ]
  },
  {
   "cell_type": "code",
   "execution_count": null,
   "id": "5d9925c7",
   "metadata": {
    "scrolled": true
   },
   "outputs": [],
   "source": [
    "df_teste = df_limpa.loc[0:20]"
   ]
  },
  {
   "cell_type": "code",
   "execution_count": null,
   "id": "6018dd2b",
   "metadata": {},
   "outputs": [],
   "source": [
    "display(df_teste)"
   ]
  },
  {
   "cell_type": "code",
   "execution_count": null,
   "id": "fa035312",
   "metadata": {},
   "outputs": [],
   "source": [
    "print(list(df_teste.groupby(by=\"Sentenca\")[\"Palavras\"].count()))"
   ]
  },
  {
   "cell_type": "code",
   "execution_count": null,
   "id": "8b0179dc",
   "metadata": {},
   "outputs": [],
   "source": [
    "print(df_teste.groupby(by=\"Sentenca\")[\"Palavras\"].count().mean())"
   ]
  },
  {
   "cell_type": "code",
   "execution_count": null,
   "id": "b572c88c",
   "metadata": {},
   "outputs": [],
   "source": [
    "print(df_teste.groupby(by=\"Sentenca\")[\"Palavras\"].count().std())"
   ]
  },
  {
   "cell_type": "code",
   "execution_count": null,
   "id": "ad258498",
   "metadata": {},
   "outputs": [],
   "source": [
    "print(df_limpa.groupby(by=\"Sentenca\")[\"Palavras\"].count().mode())"
   ]
  },
  {
   "cell_type": "code",
   "execution_count": null,
   "id": "4715034e",
   "metadata": {},
   "outputs": [],
   "source": [
    "print(df_limpa.groupby(by=\"Sentenca\")[\"Palavras\"].count().median())"
   ]
  },
  {
   "cell_type": "code",
   "execution_count": null,
   "id": "0858325c",
   "metadata": {},
   "outputs": [],
   "source": [
    "import matplotlib.pyplot as plt\n",
    "\n",
    "plt.hist(lista_setenca_qtdTokens, len(lista_setenca_qtdTokens))\n",
    "\n",
    "plt.grid(True)\n",
    "plt.show()"
   ]
  },
  {
   "cell_type": "code",
   "execution_count": null,
   "id": "1d5881c5",
   "metadata": {},
   "outputs": [],
   "source": [
    "for dado in df_limpa.groupby(by=[\"Sentenca\"], dropna=False)[\"Palavras\"].count():\n",
    "    print(dado)"
   ]
  },
  {
   "cell_type": "code",
   "execution_count": null,
   "id": "e49a6531",
   "metadata": {},
   "outputs": [],
   "source": [
    "print(lista_rotulacoes_inst)"
   ]
  },
  {
   "cell_type": "code",
   "execution_count": null,
   "id": "229ec637",
   "metadata": {},
   "outputs": [],
   "source": [
    "lista_rotulacoes_por_tokens = []\n",
    "for dado in df_limpa.groupby(by=\"Palavras\"):\n",
    "    lista_rotulacoes_por_tokens.append([dado[0], list(Counter(list(dado[1][\"Rotulo\"])).items())])"
   ]
  },
  {
   "cell_type": "code",
   "execution_count": null,
   "id": "daa7b28c",
   "metadata": {},
   "outputs": [],
   "source": [
    "print(lista_rotulacoes_por_tokens)"
   ]
  },
  {
   "cell_type": "code",
   "execution_count": null,
   "id": "dbaace52",
   "metadata": {},
   "outputs": [],
   "source": [
    "## Preparando para pegar rotulações por sentença\n",
    "lista_rotulos_por_sentenca_IOB = []\n",
    "for dado in df_limpa.groupby(by=\"Sentenca\"):\n",
    "    lista_rotulos_por_sentenca_IOB.append([dado[0], list(Counter(list(dado[1][\"Rotulo\"])).items())])"
   ]
  },
  {
   "cell_type": "code",
   "execution_count": null,
   "id": "7d8ae423",
   "metadata": {},
   "outputs": [],
   "source": [
    "print(teste)"
   ]
  },
  {
   "cell_type": "code",
   "execution_count": null,
   "id": "1cc38594",
   "metadata": {},
   "outputs": [],
   "source": [
    "print(lista_rotulos_por_sentenca_IOB)"
   ]
  },
  {
   "cell_type": "code",
   "execution_count": 44,
   "id": "a9611077",
   "metadata": {},
   "outputs": [],
   "source": [
    "teste = [[x] for x in lista_tokens_por_sentenca]"
   ]
  },
  {
   "cell_type": "code",
   "execution_count": 40,
   "id": "2de5bab0",
   "metadata": {},
   "outputs": [
    {
     "data": {
      "image/png": "[encoded data removed]",
      "text/plain": [
       "<Figure size 432x288 with 1 Axes>"
      ]
     },
     "metadata": {
      "needs_background": "light"
     },
     "output_type": "display_data"
    }
   ],
   "source": [
    "plt.hist(lista_sentencas_por_inst)\n",
    "plt.xlabel('Sentenças')\n",
    "plt.ylabel('Frequência')\n",
    "plt.title('Histograma - Sentencia por Instância')\n",
    "plt.grid()\n",
    "plt.show()"
   ]
  },
  {
   "cell_type": "code",
   "execution_count": null,
   "id": "5c2e4bf2",
   "metadata": {},
   "outputs": [],
   "source": []
  }
 ],
 "metadata": {
  "kernelspec": {
   "display_name": "Python 3",
   "language": "python",
   "name": "python3"
  },
  "language_info": {
   "codemirror_mode": {
    "name": "ipython",
    "version": 3
   },
   "file_extension": ".py",
   "mimetype": "text/x-python",
   "name": "python",
   "nbconvert_exporter": "python",
   "pygments_lexer": "ipython3",
   "version": "3.9.2"
  }
 },
 "nbformat": 4,
 "nbformat_minor": 5
}
