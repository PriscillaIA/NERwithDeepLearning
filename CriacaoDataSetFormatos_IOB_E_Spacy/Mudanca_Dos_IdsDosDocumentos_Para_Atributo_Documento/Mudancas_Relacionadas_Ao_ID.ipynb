{
 "cells": [
  {
   "cell_type": "markdown",
   "metadata": {},
   "source": [
    "O objetivo deste jupyter notebook é criar uma nova coluna no dataset_rotulado, chamada Documentos, a qual contém referencia a qual documentos (páginas) extraída do sites de venda de bebida cada token pertence\n",
    "Também tem como objetivo remover os id na coluna Palavras, para que os ids não sejam visto como sentenças."
   ]
  },
  {
   "cell_type": "code",
   "execution_count": 91,
   "metadata": {},
   "outputs": [],
   "source": [
    "import pandas as pd"
   ]
  },
  {
   "cell_type": "code",
   "execution_count": 92,
   "metadata": {},
   "outputs": [],
   "source": [
    "## ler o Dataset\n",
    "df_original = pd.read_csv(\"./Dataset_Padrao_IOB_Versao4.csv\", usecols=['Palavras', 'Rotulo', 'Sentenca','Inicio','Fim'], encoding='utf-8-sig')"
   ]
  },
  {
   "cell_type": "code",
   "execution_count": 93,
   "metadata": {},
   "outputs": [],
   "source": [
    "## Exibi Dataset\n",
    "#display(df_original)"
   ]
  },
  {
   "cell_type": "code",
   "execution_count": 94,
   "metadata": {},
   "outputs": [],
   "source": [
    "## Cria uma nova coluna chamada 'id'\n",
    "df_original['Documento'] = None"
   ]
  },
  {
   "cell_type": "code",
   "execution_count": 95,
   "metadata": {},
   "outputs": [],
   "source": [
    "## Pega os index's onde na coluna 'Palavras' o texto é 'id', salva em uma lista\n",
    "lista_index_ids = list(df_original.loc[df_original['Palavras'] == 'id'].index)\n",
    "## Adiciona o tamanho do dataset ao final da lista com index's (para q a ideia usada no for abaixo funcione)\n",
    "lista_index_ids.append(len(df_original))"
   ]
  },
  {
   "cell_type": "code",
   "execution_count": 96,
   "metadata": {},
   "outputs": [
    {
     "name": "stderr",
     "output_type": "stream",
     "text": [
      "<ipython-input-96-479d59f15a02>:4: SettingWithCopyWarning: \n",
      "A value is trying to be set on a copy of a slice from a DataFrame.\n",
      "Try using .loc[row_indexer,col_indexer] = value instead\n",
      "\n",
      "See the caveats in the documentation: https://pandas.pydata.org/pandas-docs/stable/user_guide/indexing.html#returning-a-view-versus-a-copy\n",
      "  df_original[lista_index_ids[cont]:lista_index_ids[cont+1]]['Documento'] = str(cont+1)\n",
      "<ipython-input-96-479d59f15a02>:6: SettingWithCopyWarning: \n",
      "A value is trying to be set on a copy of a slice from a DataFrame.\n",
      "Try using .loc[row_indexer,col_indexer] = value instead\n",
      "\n",
      "See the caveats in the documentation: https://pandas.pydata.org/pandas-docs/stable/user_guide/indexing.html#returning-a-view-versus-a-copy\n",
      "  df_original[lista_index_ids[cont]:lista_index_ids[cont+1]]['Sentenca'] = df_original['Sentenca'] - (cont+1)\n"
     ]
    }
   ],
   "source": [
    "## Realiza um laço para adicionar na coluna 'id' criada o id correspondente, adicionando via intervalo entre cada 'id'. \n",
    "for cont in range(len(lista_index_ids)-1):\n",
    "    ## Linha para adicionar o id respectivo ao token, na coluna 'id'\n",
    "    df_original[lista_index_ids[cont]:lista_index_ids[cont+1]]['Documento'] = str(cont+1)\n",
    "    ## Linha para refatorar os valores da coluna \"Sentenca\"\n",
    "    df_original[lista_index_ids[cont]:lista_index_ids[cont+1]]['Sentenca'] = df_original['Sentenca'] - (cont+1)"
   ]
  },
  {
   "cell_type": "code",
   "execution_count": 97,
   "metadata": {},
   "outputs": [],
   "source": [
    "## Remove o tamanho do dataset ao final da lista com index's\n",
    "lista_index_ids.remove(len(df_original))\n",
    "## Criando a lista quq armazena o index dos valores a serem removidos\n",
    "lista_remove = []\n",
    "for index in lista_index_ids:\n",
    "    lista_remove.append(index) ## Adiciona a palavra 'id'\n",
    "    lista_remove.append(index+1) ## Adiciona a palavra ':' que é referente ao id\n",
    "    lista_remove.append(index+2) ## Adiciona o número que referente ao id"
   ]
  },
  {
   "cell_type": "raw",
   "metadata": {},
   "source": [
    "## Função para verificar se tratra de uma linha com pontuação e sem rotulo\n",
    "def remove_pontuacao(dado):\n",
    "    if dado['Palavras'] in string.punctuation and dado['Rotulo'] == 'O':\n",
    "        return True\n",
    "## OBS: Para saber o que é removido basta dar o comando 'string.punctuation' em um célula nova\n",
    "\n",
    "## Pegando lista de indexes, onde na coluna 'Palavras', trata-se de uma linha com pontuação e sem rotulo\n",
    "lista_remove += list(df_original.apply(remove_pontuacao, axis=1).dropna().index)"
   ]
  },
  {
   "cell_type": "code",
   "execution_count": 98,
   "metadata": {},
   "outputs": [
    {
     "data": {
      "text/html": [
       "<div>\n",
       "<style scoped>\n",
       "    .dataframe tbody tr th:only-of-type {\n",
       "        vertical-align: middle;\n",
       "    }\n",
       "\n",
       "    .dataframe tbody tr th {\n",
       "        vertical-align: top;\n",
       "    }\n",
       "\n",
       "    .dataframe thead th {\n",
       "        text-align: right;\n",
       "    }\n",
       "</style>\n",
       "<table border=\"1\" class=\"dataframe\">\n",
       "  <thead>\n",
       "    <tr style=\"text-align: right;\">\n",
       "      <th></th>\n",
       "      <th>Palavras</th>\n",
       "      <th>Rotulo</th>\n",
       "      <th>Sentenca</th>\n",
       "      <th>Inicio</th>\n",
       "      <th>Fim</th>\n",
       "      <th>Documento</th>\n",
       "    </tr>\n",
       "  </thead>\n",
       "  <tbody>\n",
       "    <tr>\n",
       "      <th>0</th>\n",
       "      <td>NOME</td>\n",
       "      <td>O</td>\n",
       "      <td>1</td>\n",
       "      <td>0</td>\n",
       "      <td>4</td>\n",
       "      <td>1</td>\n",
       "    </tr>\n",
       "    <tr>\n",
       "      <th>1</th>\n",
       "      <td>DA</td>\n",
       "      <td>O</td>\n",
       "      <td>1</td>\n",
       "      <td>5</td>\n",
       "      <td>7</td>\n",
       "      <td>1</td>\n",
       "    </tr>\n",
       "    <tr>\n",
       "      <th>2</th>\n",
       "      <td>CACHAÇA</td>\n",
       "      <td>O</td>\n",
       "      <td>1</td>\n",
       "      <td>8</td>\n",
       "      <td>15</td>\n",
       "      <td>1</td>\n",
       "    </tr>\n",
       "    <tr>\n",
       "      <th>3</th>\n",
       "      <td>:</td>\n",
       "      <td>O</td>\n",
       "      <td>1</td>\n",
       "      <td>15</td>\n",
       "      <td>16</td>\n",
       "      <td>1</td>\n",
       "    </tr>\n",
       "    <tr>\n",
       "      <th>4</th>\n",
       "      <td>Cachaça</td>\n",
       "      <td>O</td>\n",
       "      <td>1</td>\n",
       "      <td>17</td>\n",
       "      <td>24</td>\n",
       "      <td>1</td>\n",
       "    </tr>\n",
       "    <tr>\n",
       "      <th>...</th>\n",
       "      <td>...</td>\n",
       "      <td>...</td>\n",
       "      <td>...</td>\n",
       "      <td>...</td>\n",
       "      <td>...</td>\n",
       "      <td>...</td>\n",
       "    </tr>\n",
       "    <tr>\n",
       "      <th>183014</th>\n",
       "      <td>Destilados</td>\n",
       "      <td>O</td>\n",
       "      <td>13628</td>\n",
       "      <td>54</td>\n",
       "      <td>64</td>\n",
       "      <td>1000</td>\n",
       "    </tr>\n",
       "    <tr>\n",
       "      <th>183015</th>\n",
       "      <td>do</td>\n",
       "      <td>O</td>\n",
       "      <td>13628</td>\n",
       "      <td>65</td>\n",
       "      <td>67</td>\n",
       "      <td>1000</td>\n",
       "    </tr>\n",
       "    <tr>\n",
       "      <th>183016</th>\n",
       "      <td>Brasil</td>\n",
       "      <td>B-NOME_LOCAL</td>\n",
       "      <td>13628</td>\n",
       "      <td>68</td>\n",
       "      <td>74</td>\n",
       "      <td>1000</td>\n",
       "    </tr>\n",
       "    <tr>\n",
       "      <th>183017</th>\n",
       "      <td>2019</td>\n",
       "      <td>B-TEMPO</td>\n",
       "      <td>13628</td>\n",
       "      <td>75</td>\n",
       "      <td>79</td>\n",
       "      <td>1000</td>\n",
       "    </tr>\n",
       "    <tr>\n",
       "      <th>183018</th>\n",
       "      <td>.</td>\n",
       "      <td>O</td>\n",
       "      <td>13628</td>\n",
       "      <td>79</td>\n",
       "      <td>80</td>\n",
       "      <td>1000</td>\n",
       "    </tr>\n",
       "  </tbody>\n",
       "</table>\n",
       "<p>183019 rows × 6 columns</p>\n",
       "</div>"
      ],
      "text/plain": [
       "          Palavras        Rotulo  Sentenca  Inicio  Fim Documento\n",
       "0             NOME             O         1       0    4         1\n",
       "1               DA             O         1       5    7         1\n",
       "2          CACHAÇA             O         1       8   15         1\n",
       "3                :             O         1      15   16         1\n",
       "4          Cachaça             O         1      17   24         1\n",
       "...            ...           ...       ...     ...  ...       ...\n",
       "183014  Destilados             O     13628      54   64      1000\n",
       "183015          do             O     13628      65   67      1000\n",
       "183016      Brasil  B-NOME_LOCAL     13628      68   74      1000\n",
       "183017        2019       B-TEMPO     13628      75   79      1000\n",
       "183018           .             O     13628      79   80      1000\n",
       "\n",
       "[183019 rows x 6 columns]"
      ]
     },
     "metadata": {},
     "output_type": "display_data"
    }
   ],
   "source": [
    "## Retira do dataset os valores indesejados\n",
    "df_limpa = df_original.drop(axis=0, index=lista_remove)\n",
    "df_limpa = df_limpa.reset_index(drop=True)\n",
    "display(df_limpa)"
   ]
  },
  {
   "cell_type": "code",
   "execution_count": 99,
   "metadata": {},
   "outputs": [],
   "source": [
    "# Salvando os dataset dados_rotulados \n",
    "df_limpa.to_csv(\"dataset_rotulado.csv\", encoding='utf-8-sig')"
   ]
  }
 ],
 "metadata": {
  "kernelspec": {
   "display_name": "Python 3",
   "language": "python",
   "name": "python3"
  },
  "language_info": {
   "codemirror_mode": {
    "name": "ipython",
    "version": 3
   },
   "file_extension": ".py",
   "mimetype": "text/x-python",
   "name": "python",
   "nbconvert_exporter": "python",
   "pygments_lexer": "ipython3",
   "version": "3.8.5"
  }
 },
 "nbformat": 4,
 "nbformat_minor": 5
}
