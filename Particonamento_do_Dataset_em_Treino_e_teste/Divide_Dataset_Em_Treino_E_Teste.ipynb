{
 "cells": [
  {
   "cell_type": "markdown",
   "metadata": {},
   "source": [
    "Algoritmo que particiona o dataset_rotulado (dataset no formato IOB) em 10 partições, onde cada partição contém 10% dos 1000 documentos utilizado para criação do dataset_rotulado.\n",
    "Desta maneira o objetivo é criar uma validação curzada para gerar dois dataset com datos de categorias de entidades nomeada proporcionais, um dataset para treino (70%) e um para teste (30%)."
   ]
  },
  {
   "cell_type": "code",
   "execution_count": 1,
   "metadata": {},
   "outputs": [],
   "source": [
    "import pandas as pd\n",
    "import random"
   ]
  },
  {
   "cell_type": "code",
   "execution_count": 2,
   "metadata": {},
   "outputs": [],
   "source": [
    "## ler o Dataset\n",
    "dataset = pd.read_csv(\"./dataset_rotulado.csv\", usecols=['Palavras','Rotulo','Sentenca','Inicio','Fim','Documento'], encoding='utf-8-sig')"
   ]
  },
  {
   "cell_type": "code",
   "execution_count": 3,
   "metadata": {},
   "outputs": [],
   "source": [
    "#Gerando uma lista com tamanho x, para utilizar na função random.sample()\n",
    "def geralista(start, end):\n",
    "    lista1_gerada_com_numeros = []\n",
    "\n",
    "    for i in range(start, end+1):\n",
    "        #print(i)\n",
    "        lista1_gerada_com_numeros.append(i)\n",
    "    return lista1_gerada_com_numeros\n",
    "\n",
    "#Para selecionar randomicamente numeros que se referem ao numeros dos documentos farão parte de cada partição\n",
    "def randomico(lista,tamanho_n,qtd_documentos):\n",
    "    amburana_particoes_random=random.sample(lista,qtd_documentos)\n",
    "    #verifica se tem dados repetido no números gerados randomicamente\n",
    "    set_result=set([x for x in amburana_particoes_random if amburana_particoes_random.count(x) > 1])\n",
    "    print(set_result)\n",
    "    \n",
    "    #Dividindo a lista em outras listas de tamanho 'n'\n",
    "    n=tamanho_n\n",
    "    output=[amburana_particoes_random[i:i + n] for i in range(0, len(amburana_particoes_random), n)]\n",
    "    return output"
   ]
  },
  {
   "cell_type": "code",
   "execution_count": 4,
   "metadata": {},
   "outputs": [],
   "source": [
    "#funcao que cria as partições\n",
    "def geraparticao(lista_numeros, posicaoLista,nome_site):\n",
    "    pesquisa_particao = nome_site['Documento'].isin(lista_numeros[posicaoLista])\n",
    "    novo_dataset_com_particao = nome_site[pesquisa_particao]\n",
    "    return novo_dataset_com_particao"
   ]
  },
  {
   "cell_type": "code",
   "execution_count": 5,
   "metadata": {},
   "outputs": [],
   "source": [
    "#funcao que cria as partições e também remove um indice a lista com numero gerados randomicamente\n",
    "def geraparticao_informaLista(lista_numeros, nome_site):\n",
    "    pesquisa_particao = nome_site['Documento'].isin(lista_numeros)\n",
    "    novo_dataset_com_particao = nome_site[pesquisa_particao]\n",
    "    return novo_dataset_com_particao"
   ]
  },
  {
   "cell_type": "code",
   "execution_count": 6,
   "metadata": {},
   "outputs": [],
   "source": [
    "#Cria uma planilha pandas apenas com os tokens que fazem parte dos documentos selecionados do dataset x\n",
    "filtro_1 = dataset['Documento'] >=1\n",
    "filtro_2 = dataset['Documento'] <70\n",
    "amburana = dataset.where(filtro_1 & filtro_2, inplace=False, try_cast='erro')\n",
    "amburana.dropna(inplace=True)\n",
    "amburana = amburana.astype({'Sentenca': 'int','Inicio': 'int','Fim': 'int','Documento': 'int'})"
   ]
  },
  {
   "cell_type": "markdown",
   "metadata": {},
   "source": [
    "Dividi os documentos do site \"amburana\" por cada uma das partições"
   ]
  },
  {
   "cell_type": "code",
   "execution_count": 7,
   "metadata": {},
   "outputs": [
    {
     "name": "stdout",
     "output_type": "stream",
     "text": [
      "set()\n"
     ]
    }
   ],
   "source": [
    "#Obs: Executar este código apenas uma única vez, caso contrario mais indices das listas serão removidos.\n",
    "lista_randomica_documentos_para_amburana=geralista(1,69)\n",
    "lista_numeros_amburana=randomico(lista_randomica_documentos_para_amburana,7,69)\n",
    "#lista_numeros_amburana"
   ]
  },
  {
   "cell_type": "code",
   "execution_count": 8,
   "metadata": {},
   "outputs": [],
   "source": [
    "lista_numeros_amburana_salva = [\n",
    "[62, 44, 12, 48, 15, 21, 61],\n",
    " [30, 53, 41, 28, 47, 63, 17],\n",
    " [23, 20, 16, 2, 25, 22, 3],\n",
    " [56, 5, 50, 64, 36, 19, 43],\n",
    " [8, 32, 60, 13, 46, 39, 57],\n",
    " [58, 66, 38, 55, 59, 9, 10],\n",
    " [51, 69, 26, 14, 52, 31, 18],\n",
    " [67, 29, 33, 1, 35, 65, 4],\n",
    " [37, 49, 6, 42, 40, 34, 27],\n",
    " [54, 45, 68, 7, 24, 11]]"
   ]
  },
  {
   "cell_type": "code",
   "execution_count": 9,
   "metadata": {},
   "outputs": [],
   "source": [
    "particao_1_amburana=geraparticao(lista_numeros_amburana_salva,0,amburana)\n",
    "particao_2_amburana=geraparticao(lista_numeros_amburana_salva,1,amburana)\n",
    "particao_3_amburana=geraparticao(lista_numeros_amburana_salva,2,amburana)\n",
    "particao_4_amburana=geraparticao_informaLista([5, 50, 64, 36, 19, 43],amburana)\n",
    "particao_5_amburana=geraparticao_informaLista([32, 60, 13, 46, 39, 57],amburana)\n",
    "particao_6_amburana=geraparticao(lista_numeros_amburana_salva,5,amburana)\n",
    "particao_7_amburana=geraparticao_informaLista([56, 51, 69, 26, 14, 52, 31, 18],amburana)\n",
    "particao_8_amburana=geraparticao(lista_numeros_amburana_salva,7,amburana)\n",
    "particao_9_amburana=geraparticao(lista_numeros_amburana_salva,8,amburana)\n",
    "particao_10_amburana=geraparticao_informaLista([8, 54, 45, 68, 7, 24, 11],amburana)"
   ]
  },
  {
   "cell_type": "markdown",
   "metadata": {},
   "source": [
    "Dividi os documentos do site \"araruna\" por cada uma das partições"
   ]
  },
  {
   "cell_type": "code",
   "execution_count": 10,
   "metadata": {},
   "outputs": [],
   "source": [
    "filtro_1 = dataset['Documento'] >=70\n",
    "filtro_2 = dataset['Documento'] <138\n",
    "araruna = dataset.where(filtro_1 & filtro_2, try_cast='erro')\n",
    "araruna.dropna(inplace=True)\n",
    "araruna = araruna.astype({'Sentenca': 'int','Inicio': 'int','Fim': 'int','Documento': 'int'})"
   ]
  },
  {
   "cell_type": "code",
   "execution_count": 11,
   "metadata": {},
   "outputs": [
    {
     "name": "stdout",
     "output_type": "stream",
     "text": [
      "set()\n"
     ]
    }
   ],
   "source": [
    "#Obs: Executar este código apenas uma única vez, caso contrario mais indices das listas serão removidos.\n",
    "lista_randomica_documentos_para_araruna=geralista(70,137)\n",
    "lista_numeros_araruna=randomico(lista_randomica_documentos_para_araruna,7,68)"
   ]
  },
  {
   "cell_type": "code",
   "execution_count": 12,
   "metadata": {},
   "outputs": [],
   "source": [
    "lista_numeros_araruna_salva = [\n",
    " [110, 118, 104, 101, 80, 70, 96],\n",
    " [135, 105, 117, 73, 114, 92, 111],\n",
    " [99, 98, 116, 134, 72, 82, 85],\n",
    " [106, 124, 88, 128, 130, 127, 87],\n",
    " [75, 121, 108, 112, 132, 126, 83],\n",
    " [79, 129, 109, 90, 86, 78, 95],\n",
    " [89, 122, 103, 107, 71, 74, 84],\n",
    " [91, 97, 77, 81, 125, 131, 137],\n",
    " [119, 113, 93, 133, 100, 115, 136],\n",
    " [120, 76, 123, 102, 94]]"
   ]
  },
  {
   "cell_type": "code",
   "execution_count": 13,
   "metadata": {},
   "outputs": [],
   "source": [
    "particao_1_araruna=geraparticao_informaLista([118, 104, 101, 80, 70, 96],araruna)\n",
    "particao_2_araruna=geraparticao(lista_numeros_araruna_salva,1,araruna)\n",
    "particao_3_araruna=geraparticao_informaLista([98, 116, 134, 72, 82, 85],araruna)\n",
    "particao_4_araruna=geraparticao(lista_numeros_araruna_salva,3,araruna)\n",
    "particao_5_araruna=geraparticao(lista_numeros_araruna_salva,4,araruna)\n",
    "particao_6_araruna=geraparticao(lista_numeros_araruna_salva,5,araruna)\n",
    "particao_7_araruna=geraparticao(lista_numeros_araruna_salva,6,araruna)\n",
    "particao_8_araruna=geraparticao(lista_numeros_araruna_salva,7,araruna)\n",
    "particao_9_araruna=geraparticao(lista_numeros_araruna_salva,8,araruna)\n",
    "particao_10_araruna=geraparticao_informaLista([110, 99, 120, 76, 123, 102, 94],araruna)"
   ]
  },
  {
   "cell_type": "markdown",
   "metadata": {},
   "source": [
    "Dividi os documentos do site \"BebidaOnline\" por cada uma das partições"
   ]
  },
  {
   "cell_type": "code",
   "execution_count": 14,
   "metadata": {},
   "outputs": [],
   "source": [
    "filtro_1 = dataset['Documento'] >=138\n",
    "filtro_2 = dataset['Documento'] <199\n",
    "BebidaOnline = dataset.where(filtro_1 & filtro_2, try_cast='erro')\n",
    "BebidaOnline.dropna(inplace=True)\n",
    "BebidaOnline = BebidaOnline.astype({'Sentenca': 'int','Inicio': 'int','Fim': 'int','Documento': 'int'})"
   ]
  },
  {
   "cell_type": "code",
   "execution_count": 15,
   "metadata": {},
   "outputs": [
    {
     "name": "stdout",
     "output_type": "stream",
     "text": [
      "set()\n"
     ]
    }
   ],
   "source": [
    "#Obs: Executar este código apenas uma única vez, caso contrario mais indices das listas serão removidos.\n",
    "lista_randomica_documentos_para_BebidaOnline=geralista(138,198)\n",
    "lista_numeros_BebidaOnline=randomico(lista_randomica_documentos_para_BebidaOnline,6,61)"
   ]
  },
  {
   "cell_type": "code",
   "execution_count": 16,
   "metadata": {},
   "outputs": [],
   "source": [
    "lista_numeros_BebidaOnline_salva = [\n",
    " [167, 138, 145, 164, 169, 191],\n",
    " [166, 168, 149, 183, 189, 188],\n",
    " [154, 182, 160, 157, 187, 141],\n",
    " [147, 193, 195, 146, 185, 180],\n",
    " [175, 161, 179, 198, 194, 197],\n",
    " [162, 140, 163, 159, 144, 153],\n",
    " [152, 192, 177, 151, 172, 196],\n",
    " [190, 142, 186, 171, 155, 156],\n",
    " [139, 150, 165, 181, 158, 184],\n",
    " [148, 173, 178, 143, 170, 174],\n",
    " [176]]"
   ]
  },
  {
   "cell_type": "code",
   "execution_count": 17,
   "metadata": {},
   "outputs": [],
   "source": [
    "particao_1_BebidaOnline=geraparticao(lista_numeros_BebidaOnline_salva,0,BebidaOnline)\n",
    "particao_2_BebidaOnline=geraparticao(lista_numeros_BebidaOnline_salva,1,BebidaOnline)\n",
    "particao_3_BebidaOnline=geraparticao(lista_numeros_BebidaOnline_salva,2,BebidaOnline)\n",
    "particao_4_BebidaOnline=geraparticao(lista_numeros_BebidaOnline_salva,3,BebidaOnline)\n",
    "particao_5_BebidaOnline=geraparticao(lista_numeros_BebidaOnline_salva,4,BebidaOnline)\n",
    "particao_6_BebidaOnline=geraparticao(lista_numeros_BebidaOnline_salva,5,BebidaOnline)\n",
    "particao_7_BebidaOnline=geraparticao(lista_numeros_BebidaOnline_salva,6,BebidaOnline)\n",
    "particao_8_BebidaOnline=geraparticao(lista_numeros_BebidaOnline_salva,7,BebidaOnline)\n",
    "particao_9_BebidaOnline=geraparticao(lista_numeros_BebidaOnline_salva,8,BebidaOnline)\n",
    "particao_10_BebidaOnline=geraparticao_informaLista([148, 173, 178, 143, 170, 174,176],BebidaOnline)"
   ]
  },
  {
   "cell_type": "markdown",
   "metadata": {},
   "source": [
    "Dividi os documentos do site \"Blubeer\" por cada uma das partições"
   ]
  },
  {
   "cell_type": "code",
   "execution_count": 18,
   "metadata": {},
   "outputs": [],
   "source": [
    "filtro_1 = dataset['Documento'] >=199\n",
    "filtro_2 = dataset['Documento'] <230\n",
    "Blubeer = dataset.where(filtro_1 & filtro_2, try_cast='erro')\n",
    "Blubeer.dropna(inplace=True)\n",
    "Blubeer = Blubeer.astype({'Sentenca': 'int','Inicio': 'int','Fim': 'int','Documento': 'int'})"
   ]
  },
  {
   "cell_type": "code",
   "execution_count": 19,
   "metadata": {},
   "outputs": [
    {
     "name": "stdout",
     "output_type": "stream",
     "text": [
      "set()\n"
     ]
    }
   ],
   "source": [
    "#Obs: Executar este código apenas uma única vez, caso contrario mais indices das listas serão removidos.\n",
    "lista_randomica_documentos_para_Blubeer=geralista(199,229)\n",
    "lista_numeros_Blubeer =randomico(lista_randomica_documentos_para_Blubeer,3,31)"
   ]
  },
  {
   "cell_type": "code",
   "execution_count": 20,
   "metadata": {},
   "outputs": [],
   "source": [
    "lista_numeros_Blubeer_salva = [\n",
    " [210, 200, 218],\n",
    " [222, 205, 208],\n",
    " [220, 225, 229],\n",
    " [223, 224, 227],\n",
    " [212, 219, 215],\n",
    " [228, 221, 226],\n",
    " [204, 217, 216],\n",
    " [213, 214, 211],\n",
    " [206, 199, 201],\n",
    " [209, 202, 207],\n",
    " [203]\n",
    " ]"
   ]
  },
  {
   "cell_type": "code",
   "execution_count": 21,
   "metadata": {},
   "outputs": [],
   "source": [
    "particao_1_Blubeer=geraparticao(lista_numeros_Blubeer_salva,0,Blubeer)\n",
    "particao_2_Blubeer=geraparticao(lista_numeros_Blubeer_salva,1,Blubeer)\n",
    "particao_3_Blubeer=geraparticao(lista_numeros_Blubeer_salva,2,Blubeer)\n",
    "particao_4_Blubeer=geraparticao(lista_numeros_Blubeer_salva,3,Blubeer)\n",
    "particao_5_Blubeer=geraparticao(lista_numeros_Blubeer_salva,4,Blubeer)\n",
    "particao_6_Blubeer=geraparticao(lista_numeros_Blubeer_salva,5,Blubeer)\n",
    "particao_7_Blubeer=geraparticao(lista_numeros_Blubeer_salva,6,Blubeer)\n",
    "particao_8_Blubeer=geraparticao(lista_numeros_Blubeer_salva,7,Blubeer)\n",
    "particao_9_Blubeer=geraparticao(lista_numeros_Blubeer_salva,8,Blubeer)\n",
    "particao_10_Blubeer=geraparticao_informaLista([209, 202, 207, 203],Blubeer)"
   ]
  },
  {
   "cell_type": "markdown",
   "metadata": {},
   "source": [
    "Dividi os documentos do site \"CachacaCompanheira \" por cada uma das partições"
   ]
  },
  {
   "cell_type": "code",
   "execution_count": 22,
   "metadata": {},
   "outputs": [],
   "source": [
    "filtro_1 = dataset['Documento'] >=230\n",
    "filtro_2 = dataset['Documento'] <243\n",
    "CachacaCompanheira = dataset.where(filtro_1 & filtro_2, try_cast='erro')\n",
    "CachacaCompanheira.dropna(inplace=True)\n",
    "CachacaCompanheira = CachacaCompanheira.astype({'Sentenca': 'int','Inicio': 'int','Fim': 'int','Documento': 'int'})"
   ]
  },
  {
   "cell_type": "code",
   "execution_count": 23,
   "metadata": {},
   "outputs": [
    {
     "name": "stdout",
     "output_type": "stream",
     "text": [
      "set()\n"
     ]
    }
   ],
   "source": [
    "#Obs: Executar este código apenas uma única vez, caso contrario mais indices das listas serão removidos.\n",
    "lista_randomica_documentos_para_CachacaCompanheira =geralista(230,242)\n",
    "lista_numeros_CachacaCompanheira=randomico(lista_randomica_documentos_para_CachacaCompanheira,1,13)"
   ]
  },
  {
   "cell_type": "code",
   "execution_count": 24,
   "metadata": {},
   "outputs": [],
   "source": [
    "lista_numeros_CachacaCompanheira_salva = [[232],[236],[237],[234],[241],[235],[231],[233],[242],[240],[238],[239],[230]]"
   ]
  },
  {
   "cell_type": "code",
   "execution_count": 25,
   "metadata": {},
   "outputs": [],
   "source": [
    "particao_1_CachacaCompanheira=geraparticao(lista_numeros_CachacaCompanheira_salva,0,CachacaCompanheira)\n",
    "particao_2_CachacaCompanheira=geraparticao(lista_numeros_CachacaCompanheira_salva,1,CachacaCompanheira)\n",
    "particao_3_CachacaCompanheira=geraparticao(lista_numeros_CachacaCompanheira_salva,2,CachacaCompanheira)\n",
    "particao_4_CachacaCompanheira=geraparticao(lista_numeros_CachacaCompanheira_salva,3,CachacaCompanheira)\n",
    "particao_5_CachacaCompanheira=geraparticao(lista_numeros_CachacaCompanheira_salva,4,CachacaCompanheira)\n",
    "particao_6_CachacaCompanheira=geraparticao(lista_numeros_CachacaCompanheira_salva,5,CachacaCompanheira)\n",
    "particao_7_CachacaCompanheira=geraparticao(lista_numeros_CachacaCompanheira_salva,6,CachacaCompanheira)\n",
    "particao_8_CachacaCompanheira=geraparticao_informaLista([233,242],CachacaCompanheira)\n",
    "particao_9_CachacaCompanheira=geraparticao_informaLista([240,238],CachacaCompanheira)\n",
    "particao_10_CachacaCompanheira=geraparticao_informaLista([239,230],CachacaCompanheira)"
   ]
  },
  {
   "cell_type": "markdown",
   "metadata": {},
   "source": [
    "Dividi os documentos do site \"CachacaEpinga\" por cada uma das partições"
   ]
  },
  {
   "cell_type": "code",
   "execution_count": 26,
   "metadata": {},
   "outputs": [],
   "source": [
    "filtro_1 = dataset['Documento'] >=243\n",
    "filtro_2 = dataset['Documento'] <312\n",
    "CachacaEPinga = dataset.where(filtro_1 & filtro_2, try_cast='erro')\n",
    "CachacaEPinga.dropna(inplace=True)\n",
    "CachacaEPinga = CachacaEPinga.astype({'Sentenca': 'int','Inicio': 'int','Fim': 'int','Documento': 'int'})"
   ]
  },
  {
   "cell_type": "code",
   "execution_count": 27,
   "metadata": {},
   "outputs": [
    {
     "name": "stdout",
     "output_type": "stream",
     "text": [
      "set()\n"
     ]
    }
   ],
   "source": [
    "#Obs: Executar este código apenas uma única vez, caso contrario mais indices das listas serão removidos.\n",
    "lista_randomica_documentos_para_CachacaEPinga=geralista(243,311)\n",
    "lista_numeros_CachacaEPinga =randomico(lista_randomica_documentos_para_CachacaEPinga,7,69)"
   ]
  },
  {
   "cell_type": "code",
   "execution_count": 28,
   "metadata": {},
   "outputs": [],
   "source": [
    "lista_numeros_CachacaEPinga_salva = [\n",
    " [280, 264, 274, 301, 289, 297, 253],\n",
    " [288, 298, 291, 267, 273, 271, 290],\n",
    " [282, 245, 305, 285, 304, 284, 295],\n",
    " [307, 302, 270, 257, 260, 244, 283],\n",
    " [299, 247, 259, 300, 250, 278, 266],\n",
    " [268, 293, 256, 294, 310, 279, 286],\n",
    " [276, 246, 252, 265, 263, 255, 248],\n",
    " [269, 251, 296, 249, 272, 306, 308],\n",
    " [287, 254, 309, 243, 303, 262, 277],\n",
    " [311, 261, 292, 281, 275, 258]]"
   ]
  },
  {
   "cell_type": "code",
   "execution_count": 29,
   "metadata": {},
   "outputs": [],
   "source": [
    "particao_1_CachacaEPinga=geraparticao_informaLista([264, 274, 301, 289, 297, 253],CachacaEPinga)\n",
    "particao_2_CachacaEPinga=geraparticao_informaLista([298, 291, 267, 273, 271, 290],CachacaEPinga)\n",
    "particao_3_CachacaEPinga=geraparticao(lista_numeros_CachacaEPinga_salva,2,CachacaEPinga)\n",
    "particao_4_CachacaEPinga=geraparticao(lista_numeros_CachacaEPinga_salva,3,CachacaEPinga)\n",
    "particao_5_CachacaEPinga=geraparticao(lista_numeros_CachacaEPinga_salva,4,CachacaEPinga)\n",
    "particao_6_CachacaEPinga=geraparticao(lista_numeros_CachacaEPinga_salva,5,CachacaEPinga)\n",
    "particao_7_CachacaEPinga=geraparticao_informaLista([280, 276, 246, 252, 265, 263, 255, 248],CachacaEPinga)\n",
    "particao_8_CachacaEPinga=geraparticao_informaLista([288, 269, 251, 296, 249, 272, 306, 308],CachacaEPinga)\n",
    "particao_9_CachacaEPinga=geraparticao_informaLista([254, 309, 243, 303, 262, 277],CachacaEPinga )\n",
    "particao_10_CachacaEPinga=geraparticao_informaLista([287, 311, 261, 292, 281, 275, 258],CachacaEPinga)"
   ]
  },
  {
   "cell_type": "markdown",
   "metadata": {},
   "source": [
    "Dividi os documentos do site \"CachacaEpresente\" por cada uma das partições"
   ]
  },
  {
   "cell_type": "code",
   "execution_count": 30,
   "metadata": {},
   "outputs": [],
   "source": [
    "filtro_1 = dataset['Documento'] >=312\n",
    "filtro_2 = dataset['Documento'] <380\n",
    "CachacaEPresente = dataset.where(filtro_1 & filtro_2, try_cast='erro')\n",
    "CachacaEPresente.dropna(inplace=True)\n",
    "CachacaEPresente = CachacaEPresente.astype({'Sentenca': 'int','Inicio': 'int','Fim': 'int','Documento': 'int'})"
   ]
  },
  {
   "cell_type": "code",
   "execution_count": 31,
   "metadata": {},
   "outputs": [
    {
     "name": "stdout",
     "output_type": "stream",
     "text": [
      "set()\n"
     ]
    }
   ],
   "source": [
    "#Obs: Executar este código apenas uma única vez, caso contrario mais indices das listas serão removidos.\n",
    "lista_randomica_documentos_para_CachacaEPresente =geralista(312,379)\n",
    "lista_numeros_CachacaEPresente=randomico(lista_randomica_documentos_para_CachacaEPresente ,7,68)"
   ]
  },
  {
   "cell_type": "code",
   "execution_count": 32,
   "metadata": {},
   "outputs": [],
   "source": [
    "lista_numeros_CachacaEPresente_salva = [\n",
    " [317, 345, 357, 315, 365, 327, 334],\n",
    " [368, 323, 342, 322, 330, 328, 312],\n",
    " [347, 371, 335, 349, 364, 355, 339],\n",
    " [354, 351, 321, 359, 336, 333, 373],\n",
    " [337, 348, 363, 316, 338, 326, 352],\n",
    " [376, 319, 344, 325, 332, 369, 378],\n",
    " [377, 313, 314, 341, 340, 353, 318],\n",
    " [372, 329, 367, 324, 350, 320, 375],\n",
    " [361, 379, 358, 366, 343, 362, 370],\n",
    " [331, 346, 360, 356, 374]]"
   ]
  },
  {
   "cell_type": "code",
   "execution_count": 33,
   "metadata": {},
   "outputs": [],
   "source": [
    "particao_1_CachacaEPresente =geraparticao(lista_numeros_CachacaEPresente_salva,0,CachacaEPresente )\n",
    "particao_2_CachacaEPresente =geraparticao(lista_numeros_CachacaEPresente_salva,1,CachacaEPresente )\n",
    "particao_3_CachacaEPresente =geraparticao(lista_numeros_CachacaEPresente_salva,2,CachacaEPresente )\n",
    "particao_4_CachacaEPresente =geraparticao(lista_numeros_CachacaEPresente_salva,3,CachacaEPresente )\n",
    "particao_5_CachacaEPresente =geraparticao_informaLista([348, 363, 316, 338, 326, 352],CachacaEPresente )\n",
    "particao_6_CachacaEPresente =geraparticao(lista_numeros_CachacaEPresente_salva,5,CachacaEPresente )\n",
    "particao_7_CachacaEPresente =geraparticao(lista_numeros_CachacaEPresente_salva,6,CachacaEPresente )\n",
    "particao_8_CachacaEPresente =geraparticao(lista_numeros_CachacaEPresente_salva,7,CachacaEPresente )\n",
    "particao_9_CachacaEPresente =geraparticao_informaLista([337, 361, 379, 358, 366, 343, 362, 370],CachacaEPresente  )\n",
    "particao_10_CachacaEPresente =geraparticao(lista_numeros_CachacaEPresente_salva,9,CachacaEPresente )"
   ]
  },
  {
   "cell_type": "markdown",
   "metadata": {},
   "source": [
    "Dividi os documentos do site \"CachacariaDosAmigos\" por cada uma das partições"
   ]
  },
  {
   "cell_type": "code",
   "execution_count": 34,
   "metadata": {},
   "outputs": [],
   "source": [
    "filtro_1 = dataset['Documento'] >=380\n",
    "filtro_2 = dataset['Documento'] <449\n",
    "CachacariaDosAmigos = dataset.where(filtro_1 & filtro_2, try_cast='erro')\n",
    "CachacariaDosAmigos.dropna(inplace=True)\n",
    "CachacariaDosAmigos = CachacariaDosAmigos.astype({'Sentenca': 'int','Inicio': 'int','Fim': 'int','Documento': 'int'})"
   ]
  },
  {
   "cell_type": "code",
   "execution_count": 35,
   "metadata": {},
   "outputs": [
    {
     "name": "stdout",
     "output_type": "stream",
     "text": [
      "set()\n"
     ]
    }
   ],
   "source": [
    "#Obs: Executar este código apenas uma única vez, caso contrario mais indices das listas serão removidos.\n",
    "lista_randomica_documentos_para_CachacariaDosAmigos =geralista(380,448)\n",
    "lista_numeros_CachacariaDosAmigos=randomico(lista_randomica_documentos_para_CachacariaDosAmigos,7,69)"
   ]
  },
  {
   "cell_type": "code",
   "execution_count": 36,
   "metadata": {},
   "outputs": [],
   "source": [
    "lista_numeros_CachacariaDosAmigos_salva = [\n",
    " [440, 386, 427, 429, 406, 418, 425],\n",
    " [390, 401, 380, 382, 426, 394, 389],\n",
    " [422, 430, 385, 392, 419, 424, 409],\n",
    " [436, 442, 412, 400, 446, 432, 435],\n",
    " [441, 399, 417, 431, 415, 402, 433],\n",
    " [383, 393, 444, 396, 388, 443, 434],\n",
    " [407, 411, 447, 410, 408, 381, 391],\n",
    " [403, 384, 387, 404, 416, 438, 397],\n",
    " [421, 428, 414, 395, 413, 405, 448],\n",
    " [437, 420, 445, 439, 423, 398]]"
   ]
  },
  {
   "cell_type": "code",
   "execution_count": 37,
   "metadata": {},
   "outputs": [],
   "source": [
    "particao_1_CachacariaDosAmigos =geraparticao(lista_numeros_CachacariaDosAmigos_salva,0,CachacariaDosAmigos )\n",
    "particao_2_CachacariaDosAmigos =geraparticao(lista_numeros_CachacariaDosAmigos_salva,1,CachacariaDosAmigos )\n",
    "particao_3_CachacariaDosAmigos =geraparticao_informaLista([430, 385, 392, 419, 424, 409],CachacariaDosAmigos )\n",
    "particao_4_CachacariaDosAmigos =geraparticao(lista_numeros_CachacariaDosAmigos_salva,3,CachacariaDosAmigos )\n",
    "particao_5_CachacariaDosAmigos =geraparticao(lista_numeros_CachacariaDosAmigos_salva,4,CachacariaDosAmigos )\n",
    "particao_6_CachacariaDosAmigos =geraparticao(lista_numeros_CachacariaDosAmigos_salva,5,CachacariaDosAmigos )\n",
    "particao_7_CachacariaDosAmigos =geraparticao(lista_numeros_CachacariaDosAmigos_salva,6,CachacariaDosAmigos )\n",
    "particao_8_CachacariaDosAmigos =geraparticao(lista_numeros_CachacariaDosAmigos_salva,7,CachacariaDosAmigos )\n",
    "particao_9_CachacariaDosAmigos =geraparticao(lista_numeros_CachacariaDosAmigos_salva,8,CachacariaDosAmigos  )\n",
    "particao_10_CachacariaDosAmigos =geraparticao_informaLista([422, 437, 420, 445, 439, 423, 398],CachacariaDosAmigos )"
   ]
  },
  {
   "cell_type": "markdown",
   "metadata": {},
   "source": [
    "Dividi os documentos do site \"CachacariaNacional\" por cada uma das partições"
   ]
  },
  {
   "cell_type": "code",
   "execution_count": 38,
   "metadata": {},
   "outputs": [],
   "source": [
    "filtro_1 = dataset['Documento'] >=449\n",
    "filtro_2 = dataset['Documento'] <518\n",
    "CachacariaNacional = dataset.where(filtro_1 & filtro_2, try_cast='erro')\n",
    "CachacariaNacional.dropna(inplace=True)\n",
    "CachacariaNacional = CachacariaNacional.astype({'Sentenca': 'int','Inicio': 'int','Fim': 'int','Documento': 'int'})"
   ]
  },
  {
   "cell_type": "code",
   "execution_count": 39,
   "metadata": {},
   "outputs": [
    {
     "name": "stdout",
     "output_type": "stream",
     "text": [
      "set()\n"
     ]
    }
   ],
   "source": [
    "#Obs: Executar este código apenas uma única vez, caso contrario mais indices das listas serão removidos.\n",
    "lista_randomica_documentos_para_CachacariaNacional =geralista(449,517)\n",
    "lista_numeros_CachacariaNacional=randomico(lista_randomica_documentos_para_CachacariaNacional,7,69)"
   ]
  },
  {
   "cell_type": "code",
   "execution_count": 40,
   "metadata": {},
   "outputs": [],
   "source": [
    "lista_numeros_CachacariaNacional_salva = [\n",
    " [487, 505, 455, 486, 491, 515, 470],\n",
    " [465, 492, 509, 480, 502, 458, 478],\n",
    " [499, 493, 473, 513, 511, 483, 490],\n",
    " [464, 450, 452, 482, 460, 510, 469],\n",
    " [459, 506, 496, 489, 479, 468, 494],\n",
    " [508, 501, 485, 456, 451, 471, 512],\n",
    " [462, 516, 472, 467, 475, 463, 503],\n",
    " [495, 454, 477, 497, 449, 488, 481],\n",
    " [474, 500, 466, 457, 517, 461, 484],\n",
    " [476, 507, 514, 504, 453, 498]]"
   ]
  },
  {
   "cell_type": "code",
   "execution_count": 41,
   "metadata": {},
   "outputs": [],
   "source": [
    "particao_1_CachacariaNacional =geraparticao(lista_numeros_CachacariaNacional_salva,0,CachacariaNacional )\n",
    "particao_2_CachacariaNacional =geraparticao_informaLista([492, 509, 480, 502, 458, 478],CachacariaNacional )\n",
    "particao_3_CachacariaNacional =geraparticao(lista_numeros_CachacariaNacional_salva,2,CachacariaNacional )\n",
    "particao_4_CachacariaNacional =geraparticao(lista_numeros_CachacariaNacional_salva,3,CachacariaNacional )\n",
    "particao_5_CachacariaNacional =geraparticao(lista_numeros_CachacariaNacional_salva,4,CachacariaNacional )\n",
    "particao_6_CachacariaNacional =geraparticao(lista_numeros_CachacariaNacional_salva,5,CachacariaNacional )\n",
    "particao_7_CachacariaNacional =geraparticao(lista_numeros_CachacariaNacional_salva,6,CachacariaNacional )\n",
    "particao_8_CachacariaNacional =geraparticao(lista_numeros_CachacariaNacional_salva,7,CachacariaNacional )\n",
    "particao_9_CachacariaNacional =geraparticao(lista_numeros_CachacariaNacional_salva,8,CachacariaNacional  )\n",
    "particao_10_CachacariaNacional =geraparticao_informaLista([465, 476, 507, 514, 504, 453, 498],CachacariaNacional )"
   ]
  },
  {
   "cell_type": "markdown",
   "metadata": {},
   "source": [
    "Dividi os documentos do site \"CachacaSagatiba\" por cada uma das partições"
   ]
  },
  {
   "cell_type": "code",
   "execution_count": 42,
   "metadata": {},
   "outputs": [],
   "source": [
    "filtro_1 = dataset['Documento'] >=518\n",
    "filtro_2 = dataset['Documento'] <522\n",
    "CachacaSagatiba = dataset.where(filtro_1 & filtro_2, try_cast='erro')\n",
    "CachacaSagatiba.dropna(inplace=True)\n",
    "CachacaSagatiba = CachacaSagatiba.astype({'Sentenca': 'int','Inicio': 'int','Fim': 'int','Documento': 'int'})"
   ]
  },
  {
   "cell_type": "code",
   "execution_count": 43,
   "metadata": {},
   "outputs": [
    {
     "name": "stdout",
     "output_type": "stream",
     "text": [
      "set()\n"
     ]
    }
   ],
   "source": [
    "#Obs: Executar este código apenas uma única vez, caso contrario mais indices das listas serão removidos.\n",
    "lista_randomica_documentos_para_CachacaSagatiba =geralista(518,521)\n",
    "lista_numeros_CachacaSagatiba=randomico(lista_randomica_documentos_para_CachacaSagatiba ,1,4)"
   ]
  },
  {
   "cell_type": "code",
   "execution_count": 44,
   "metadata": {},
   "outputs": [],
   "source": [
    "lista_numeros_CachacaSagatiba_salva = [[519], [521], [518], [520]]"
   ]
  },
  {
   "cell_type": "code",
   "execution_count": 45,
   "metadata": {},
   "outputs": [],
   "source": [
    "particao_1_CachacaSagatiba =geraparticao(lista_numeros_CachacaSagatiba_salva,0,CachacaSagatiba )\n",
    "particao_2_CachacaSagatiba =geraparticao(lista_numeros_CachacaSagatiba_salva,1,CachacaSagatiba )\n",
    "particao_3_CachacaSagatiba =geraparticao(lista_numeros_CachacaSagatiba_salva,2,CachacaSagatiba )\n",
    "particao_4_CachacaSagatiba =geraparticao(lista_numeros_CachacaSagatiba_salva,3,CachacaSagatiba )"
   ]
  },
  {
   "cell_type": "markdown",
   "metadata": {},
   "source": [
    "Dividi os documentos do site \"CachacasBrasileiras\" por cada uma das partições"
   ]
  },
  {
   "cell_type": "code",
   "execution_count": 46,
   "metadata": {},
   "outputs": [],
   "source": [
    "filtro_1 = dataset['Documento'] >=522\n",
    "filtro_2 = dataset['Documento'] <591\n",
    "CachacasBrasileiras = dataset.where(filtro_1 & filtro_2, try_cast='erro')\n",
    "CachacasBrasileiras.dropna(inplace=True)\n",
    "CachacasBrasileiras = CachacasBrasileiras.astype({'Sentenca': 'int','Inicio': 'int','Fim': 'int','Documento': 'int'})"
   ]
  },
  {
   "cell_type": "code",
   "execution_count": 47,
   "metadata": {},
   "outputs": [
    {
     "name": "stdout",
     "output_type": "stream",
     "text": [
      "set()\n"
     ]
    }
   ],
   "source": [
    "#Obs: Executar este código apenas uma única vez, caso contrario mais indices das listas serão removidos.\n",
    "lista_randomica_documentos_para_CachacasBrasileiras =geralista(522,590)\n",
    "lista_numeros_CachacasBrasileiras=randomico(lista_randomica_documentos_para_CachacasBrasileiras ,7,69)"
   ]
  },
  {
   "cell_type": "code",
   "execution_count": 48,
   "metadata": {},
   "outputs": [],
   "source": [
    "lista_numeros_CachacasBrasileiras_salva = [\n",
    " [530, 532, 568, 529, 586, 580, 583],\n",
    " [579, 555, 526, 528, 571, 553, 548],\n",
    " [525, 531, 552, 566, 565, 550, 539],\n",
    " [536, 535, 582, 564, 589, 546, 556],\n",
    " [551, 567, 569, 543, 573, 540, 538],\n",
    " [560, 584, 576, 587, 563, 557, 522],\n",
    " [572, 547, 559, 578, 577, 524, 527],\n",
    " [534, 523, 537, 570, 541, 574, 585],\n",
    " [562, 590, 554, 544, 575, 588, 561],\n",
    " [549, 581, 533, 558, 545, 542]]"
   ]
  },
  {
   "cell_type": "code",
   "execution_count": 49,
   "metadata": {},
   "outputs": [],
   "source": [
    "particao_1_CachacasBrasileiras =geraparticao(lista_numeros_CachacasBrasileiras_salva,0,CachacasBrasileiras )\n",
    "particao_2_CachacasBrasileiras =geraparticao(lista_numeros_CachacasBrasileiras_salva,1,CachacasBrasileiras )\n",
    "particao_3_CachacasBrasileiras =geraparticao(lista_numeros_CachacasBrasileiras_salva,2,CachacasBrasileiras )\n",
    "particao_4_CachacasBrasileiras =geraparticao_informaLista([535, 582, 564, 589, 546, 556],CachacasBrasileiras )\n",
    "particao_5_CachacasBrasileiras =geraparticao(lista_numeros_CachacasBrasileiras_salva,4,CachacasBrasileiras )\n",
    "particao_6_CachacasBrasileiras =geraparticao(lista_numeros_CachacasBrasileiras_salva,5,CachacasBrasileiras )\n",
    "particao_7_CachacasBrasileiras =geraparticao(lista_numeros_CachacasBrasileiras_salva,6,CachacasBrasileiras )\n",
    "particao_8_CachacasBrasileiras =geraparticao(lista_numeros_CachacasBrasileiras_salva,7,CachacasBrasileiras )\n",
    "particao_9_CachacasBrasileiras =geraparticao(lista_numeros_CachacasBrasileiras_salva,8,CachacasBrasileiras  )\n",
    "particao_10_CachacasBrasileiras =geraparticao_informaLista([536, 549, 581, 533, 558, 545, 542],CachacasBrasileiras )"
   ]
  },
  {
   "cell_type": "markdown",
   "metadata": {},
   "source": [
    "Dividi os documentos do site \"CanelaDeEma\" por cada uma das partições"
   ]
  },
  {
   "cell_type": "code",
   "execution_count": 50,
   "metadata": {},
   "outputs": [],
   "source": [
    "filtro_1 = dataset['Documento'] >=591\n",
    "filtro_2 = dataset['Documento'] <660\n",
    "CanelaDeEma = dataset.where(filtro_1 & filtro_2, try_cast='erro')\n",
    "CanelaDeEma.dropna(inplace=True)\n",
    "CanelaDeEma = CanelaDeEma.astype({'Sentenca': 'int','Inicio': 'int','Fim': 'int','Documento': 'int'})"
   ]
  },
  {
   "cell_type": "code",
   "execution_count": 51,
   "metadata": {},
   "outputs": [
    {
     "name": "stdout",
     "output_type": "stream",
     "text": [
      "set()\n"
     ]
    }
   ],
   "source": [
    "#Obs: Executar este código apenas uma única vez, caso contrario mais indices das listas serão removidos.\n",
    "lista_randomica_documentos_para_CanelaDeEma =geralista(591,659)\n",
    "lista_numeros_CanelaDeEma=randomico(lista_randomica_documentos_para_CanelaDeEma ,7,69)"
   ]
  },
  {
   "cell_type": "code",
   "execution_count": 52,
   "metadata": {},
   "outputs": [],
   "source": [
    "lista_numeros_CanelaDeEma_salva = [\n",
    " [626, 604, 614, 632, 596, 595, 613],\n",
    " [635, 656, 654, 633, 620, 619, 643],\n",
    " [634, 640, 638, 603, 594, 625, 631],\n",
    " [623, 644, 658, 629, 645, 593, 597],\n",
    " [618, 601, 628, 639, 648, 616, 607],\n",
    " [624, 605, 655, 641, 606, 621, 612],\n",
    " [651, 611, 630, 637, 598, 600, 609],\n",
    " [615, 592, 652, 653, 657, 650, 591],\n",
    " [649, 608, 602, 617, 642, 627, 610],\n",
    " [659, 647, 636, 646, 599, 622]]"
   ]
  },
  {
   "cell_type": "code",
   "execution_count": 53,
   "metadata": {},
   "outputs": [],
   "source": [
    "particao_1_CanelaDeEma =geraparticao(lista_numeros_CanelaDeEma_salva,0,CanelaDeEma )\n",
    "particao_2_CanelaDeEma =geraparticao_informaLista([656, 654, 633, 620, 619, 643],CanelaDeEma )\n",
    "particao_3_CanelaDeEma =geraparticao(lista_numeros_CanelaDeEma_salva,2,CanelaDeEma )\n",
    "particao_4_CanelaDeEma =geraparticao(lista_numeros_CanelaDeEma_salva,3,CanelaDeEma )\n",
    "particao_5_CanelaDeEma =geraparticao(lista_numeros_CanelaDeEma_salva,4,CanelaDeEma )\n",
    "particao_6_CanelaDeEma =geraparticao(lista_numeros_CanelaDeEma_salva,5,CanelaDeEma )\n",
    "particao_7_CanelaDeEma =geraparticao(lista_numeros_CanelaDeEma_salva,6,CanelaDeEma )\n",
    "particao_8_CanelaDeEma =geraparticao(lista_numeros_CanelaDeEma_salva,7,CanelaDeEma )\n",
    "particao_9_CanelaDeEma =geraparticao(lista_numeros_CanelaDeEma_salva,8,CanelaDeEma )\n",
    "particao_10_CanelaDeEma =geraparticao_informaLista([635, 659, 647, 636, 646, 599, 622],CanelaDeEma )"
   ]
  },
  {
   "cell_type": "markdown",
   "metadata": {},
   "source": [
    "Dividi os documentos do site \"CasaDaBebida\" por cada uma das partições"
   ]
  },
  {
   "cell_type": "code",
   "execution_count": 54,
   "metadata": {},
   "outputs": [],
   "source": [
    "filtro_1 = dataset['Documento'] >=660\n",
    "filtro_2 = dataset['Documento'] <728\n",
    "CasaDaBebida = dataset.where(filtro_1 & filtro_2, try_cast='erro')\n",
    "CasaDaBebida.dropna(inplace=True)\n",
    "CasaDaBebida = CasaDaBebida.astype({'Sentenca': 'int','Inicio': 'int','Fim': 'int','Documento': 'int'})"
   ]
  },
  {
   "cell_type": "code",
   "execution_count": 55,
   "metadata": {},
   "outputs": [
    {
     "name": "stdout",
     "output_type": "stream",
     "text": [
      "set()\n"
     ]
    }
   ],
   "source": [
    "#Obs: Executar este código apenas uma única vez, caso contrario mais indices das listas serão removidos.\n",
    "lista_randomica_documentos_para_CasaDaBebida =geralista(660,727)\n",
    "lista_numeros_CasaDaBebida=randomico(lista_randomica_documentos_para_CasaDaBebida ,7,68)"
   ]
  },
  {
   "cell_type": "code",
   "execution_count": 56,
   "metadata": {},
   "outputs": [],
   "source": [
    "lista_numeros_CasaDaBebida_salva = [\n",
    " [699, 723, 705, 665, 722, 681, 725],\n",
    " [689, 679, 669, 702, 676, 663, 696],\n",
    " [664, 688, 727, 718, 716, 666, 701],\n",
    " [713, 671, 682, 686, 693, 726, 687],\n",
    " [684, 685, 721, 711, 697, 692, 691],\n",
    " [700, 675, 704, 661, 667, 709, 680],\n",
    " [673, 660, 695, 706, 698, 712, 672],\n",
    " [717, 703, 707, 668, 690, 662, 708],\n",
    " [678, 719, 674, 710, 677, 683, 714],\n",
    " [715, 724, 720, 694, 670]]"
   ]
  },
  {
   "cell_type": "code",
   "execution_count": 57,
   "metadata": {},
   "outputs": [],
   "source": [
    "particao_1_CasaDaBebida =geraparticao_informaLista([723, 705, 665, 722, 681, 725],CasaDaBebida )\n",
    "particao_2_CasaDaBebida =geraparticao(lista_numeros_CasaDaBebida_salva,1,CasaDaBebida )\n",
    "particao_3_CasaDaBebida =geraparticao(lista_numeros_CasaDaBebida_salva,2,CasaDaBebida )\n",
    "particao_4_CasaDaBebida =geraparticao(lista_numeros_CasaDaBebida_salva,3,CasaDaBebida )\n",
    "particao_5_CasaDaBebida =geraparticao(lista_numeros_CasaDaBebida_salva,4,CasaDaBebida )\n",
    "particao_6_CasaDaBebida =geraparticao(lista_numeros_CasaDaBebida_salva,5,CasaDaBebida )\n",
    "particao_7_CasaDaBebida =geraparticao(lista_numeros_CasaDaBebida_salva,6,CasaDaBebida )\n",
    "particao_8_CasaDaBebida =geraparticao(lista_numeros_CasaDaBebida_salva,7,CasaDaBebida )\n",
    "particao_9_CasaDaBebida =geraparticao(lista_numeros_CasaDaBebida_salva,8,CasaDaBebida )\n",
    "particao_10_CasaDaBebida =geraparticao_informaLista([699, 715, 724, 720, 694, 670],CasaDaBebida )"
   ]
  },
  {
   "cell_type": "markdown",
   "metadata": {},
   "source": [
    "Dividi os documentos do site \"CeiaClandestina\" por cada uma das partições"
   ]
  },
  {
   "cell_type": "code",
   "execution_count": 58,
   "metadata": {},
   "outputs": [],
   "source": [
    "filtro_1 = dataset['Documento'] >=728\n",
    "filtro_2 = dataset['Documento'] <743\n",
    "CeiaClandestina = dataset.where(filtro_1 & filtro_2, try_cast='erro')\n",
    "CeiaClandestina.dropna(inplace=True)\n",
    "CeiaClandestina = CeiaClandestina.astype({'Sentenca': 'int','Inicio': 'int','Fim': 'int','Documento': 'int'})"
   ]
  },
  {
   "cell_type": "code",
   "execution_count": 59,
   "metadata": {},
   "outputs": [
    {
     "name": "stdout",
     "output_type": "stream",
     "text": [
      "set()\n"
     ]
    }
   ],
   "source": [
    "#Obs: Executar este código apenas uma única vez, caso contrario mais indices das listas serão removidos.\n",
    "lista_randomica_documentos_para_CeiaClandestina =geralista(728,742)\n",
    "lista_numeros_CeiaClandestina=randomico(lista_randomica_documentos_para_CeiaClandestina ,2,15)"
   ]
  },
  {
   "cell_type": "code",
   "execution_count": 60,
   "metadata": {},
   "outputs": [],
   "source": [
    "lista_numeros_CeiaClandestina_salva = [\n",
    " [737, 736],\n",
    " [740, 730],\n",
    " [742, 739],\n",
    " [729, 741],\n",
    " [734, 733],\n",
    " [731, 732],\n",
    " [735, 728],\n",
    " [738]]"
   ]
  },
  {
   "cell_type": "code",
   "execution_count": 61,
   "metadata": {},
   "outputs": [],
   "source": [
    "particao_1_CeiaClandestina =geraparticao(lista_numeros_CeiaClandestina_salva,0,CeiaClandestina )\n",
    "particao_2_CeiaClandestina =geraparticao(lista_numeros_CeiaClandestina_salva,1,CeiaClandestina )\n",
    "particao_3_CeiaClandestina =geraparticao(lista_numeros_CeiaClandestina_salva,2,CeiaClandestina )\n",
    "particao_4_CeiaClandestina =geraparticao(lista_numeros_CeiaClandestina_salva,3,CeiaClandestina )\n",
    "particao_5_CeiaClandestina =geraparticao(lista_numeros_CeiaClandestina_salva,4,CeiaClandestina )\n",
    "particao_6_CeiaClandestina =geraparticao_informaLista([731],CeiaClandestina  )\n",
    "particao_7_CeiaClandestina =geraparticao_informaLista([732],CeiaClandestina  )\n",
    "particao_8_CeiaClandestina =geraparticao_informaLista([735],CeiaClandestina  )\n",
    "particao_9_CeiaClandestina =geraparticao_informaLista([728],CeiaClandestina  )\n",
    "particao_10_CeiaClandestina =geraparticao_informaLista([738],CeiaClandestina  )"
   ]
  },
  {
   "cell_type": "markdown",
   "metadata": {},
   "source": [
    "Dividi os documentos do site \"CiaMuller\" por cada uma das partições"
   ]
  },
  {
   "cell_type": "code",
   "execution_count": 62,
   "metadata": {},
   "outputs": [],
   "source": [
    "filtro_1 = dataset['Documento'] >=743\n",
    "filtro_2 = dataset['Documento'] <753\n",
    "CiaMuller = dataset.where(filtro_1 & filtro_2, try_cast='erro')\n",
    "CiaMuller.dropna(inplace=True)\n",
    "CiaMuller = CiaMuller.astype({'Sentenca': 'int','Inicio': 'int','Fim': 'int','Documento': 'int'})"
   ]
  },
  {
   "cell_type": "code",
   "execution_count": 63,
   "metadata": {},
   "outputs": [
    {
     "name": "stdout",
     "output_type": "stream",
     "text": [
      "set()\n"
     ]
    }
   ],
   "source": [
    "#Obs: Executar este código apenas uma única vez, caso contrario mais indices das listas serão removidos.\n",
    "lista_randomica_documentos_para_CiaMuller =geralista(743,752)\n",
    "lista_numeros_CiaMuller=randomico(lista_randomica_documentos_para_CiaMuller,1,10)"
   ]
  },
  {
   "cell_type": "code",
   "execution_count": 64,
   "metadata": {},
   "outputs": [],
   "source": [
    "lista_numeros_CiaMuller_salva = [[745], [748], [744], [752], [750], [749], [743], [751], [747], [746]]"
   ]
  },
  {
   "cell_type": "code",
   "execution_count": 65,
   "metadata": {},
   "outputs": [],
   "source": [
    "particao_1_CiaMuller =geraparticao(lista_numeros_CiaMuller_salva,0,CiaMuller )\n",
    "particao_2_CiaMuller =geraparticao(lista_numeros_CiaMuller_salva,1,CiaMuller )\n",
    "particao_3_CiaMuller =geraparticao(lista_numeros_CiaMuller_salva,2,CiaMuller )\n",
    "particao_4_CiaMuller =geraparticao(lista_numeros_CiaMuller_salva,3,CiaMuller )\n",
    "particao_5_CiaMuller =geraparticao(lista_numeros_CiaMuller_salva,4,CiaMuller )\n",
    "particao_6_CiaMuller =geraparticao(lista_numeros_CiaMuller_salva,5,CiaMuller )\n",
    "particao_7_CiaMuller =geraparticao(lista_numeros_CiaMuller_salva,6,CiaMuller )\n",
    "particao_8_CiaMuller =geraparticao(lista_numeros_CiaMuller_salva,7,CiaMuller )\n",
    "particao_9_CiaMuller =geraparticao(lista_numeros_CiaMuller_salva,8,CiaMuller )\n",
    "particao_10_CiaMuller =geraparticao(lista_numeros_CiaMuller_salva,9,CiaMuller )"
   ]
  },
  {
   "cell_type": "markdown",
   "metadata": {},
   "source": [
    "Dividi os documentos do site \"DomTapparo\" por cada uma das partições"
   ]
  },
  {
   "cell_type": "code",
   "execution_count": 66,
   "metadata": {},
   "outputs": [],
   "source": [
    "filtro_1 = dataset['Documento'] >=753\n",
    "filtro_2 = dataset['Documento'] <758\n",
    "DomTapparo = dataset.where(filtro_1 & filtro_2, try_cast='erro')\n",
    "DomTapparo.dropna(inplace=True)\n",
    "DomTapparo = DomTapparo.astype({'Sentenca': 'int','Inicio': 'int','Fim': 'int','Documento': 'int'})"
   ]
  },
  {
   "cell_type": "code",
   "execution_count": 67,
   "metadata": {},
   "outputs": [
    {
     "name": "stdout",
     "output_type": "stream",
     "text": [
      "set()\n"
     ]
    }
   ],
   "source": [
    "#Obs: Executar este código apenas uma única vez, caso contrario mais indices das listas serão removidos.\n",
    "lista_randomica_documentos_para_DomTapparo =geralista(753,757)\n",
    "lista_numeros_DomTapparo = randomico(lista_randomica_documentos_para_DomTapparo,1,5)"
   ]
  },
  {
   "cell_type": "code",
   "execution_count": 68,
   "metadata": {},
   "outputs": [],
   "source": [
    "lista_numeros_DomTapparo_salva = [[757], [754], [756], [755], [753]]"
   ]
  },
  {
   "cell_type": "code",
   "execution_count": 69,
   "metadata": {},
   "outputs": [],
   "source": [
    "particao_1_DomTapparo =geraparticao(lista_numeros_DomTapparo_salva,0,DomTapparo )\n",
    "particao_2_DomTapparo =geraparticao(lista_numeros_DomTapparo_salva,1,DomTapparo )\n",
    "particao_3_DomTapparo =geraparticao(lista_numeros_DomTapparo_salva,2,DomTapparo )\n",
    "particao_5_DomTapparo =geraparticao(lista_numeros_DomTapparo_salva,3,DomTapparo )\n",
    "particao_10_DomTapparo =geraparticao(lista_numeros_DomTapparo_salva,4,DomTapparo )"
   ]
  },
  {
   "cell_type": "markdown",
   "metadata": {},
   "source": [
    "Dividi os documentos do site \"Ethylica\" por cada uma das partições"
   ]
  },
  {
   "cell_type": "code",
   "execution_count": 70,
   "metadata": {},
   "outputs": [],
   "source": [
    "filtro_1 = dataset['Documento'] >=758\n",
    "filtro_2 = dataset['Documento'] <827\n",
    "Ethylica = dataset.where(filtro_1 & filtro_2, try_cast='erro')\n",
    "Ethylica.dropna(inplace=True)\n",
    "Ethylica = Ethylica.astype({'Sentenca': 'int','Inicio': 'int','Fim': 'int','Documento': 'int'})"
   ]
  },
  {
   "cell_type": "code",
   "execution_count": 71,
   "metadata": {},
   "outputs": [
    {
     "name": "stdout",
     "output_type": "stream",
     "text": [
      "set()\n"
     ]
    }
   ],
   "source": [
    "#Obs: Executar este código apenas uma única vez, caso contrario mais indices das listas serão removidos.\n",
    "lista_randomica_documentos_para_Ethylica =geralista(758,826)\n",
    "lista_numeros_Ethylica=randomico(lista_randomica_documentos_para_Ethylica ,7,69)"
   ]
  },
  {
   "cell_type": "code",
   "execution_count": 72,
   "metadata": {},
   "outputs": [],
   "source": [
    "lista_numeros_Ethylica_salva = [\n",
    " [819, 826, 809, 767, 793, 783, 803],\n",
    " [790, 773, 785, 789, 758, 807, 791],\n",
    " [813, 822, 769, 820, 812, 802, 794],\n",
    " [764, 814, 792, 772, 816, 810, 817],\n",
    " [787, 766, 788, 782, 779, 798, 818],\n",
    " [775, 801, 768, 804, 774, 824, 780],\n",
    " [786, 808, 806, 795, 825, 778, 765],\n",
    " [796, 823, 777, 799, 762, 770, 800],\n",
    " [761, 815, 763, 776, 784, 781, 759],\n",
    " [805, 760, 797, 811, 821, 771]]"
   ]
  },
  {
   "cell_type": "code",
   "execution_count": 73,
   "metadata": {},
   "outputs": [],
   "source": [
    "particao_1_Ethylica =geraparticao(lista_numeros_Ethylica_salva,0,Ethylica )\n",
    "particao_2_Ethylica =geraparticao(lista_numeros_Ethylica_salva,1,Ethylica )\n",
    "particao_3_Ethylica =geraparticao_informaLista([822, 769, 820, 812, 802, 794],Ethylica )\n",
    "particao_4_Ethylica =geraparticao(lista_numeros_Ethylica_salva,3,Ethylica )\n",
    "particao_5_Ethylica =geraparticao(lista_numeros_Ethylica_salva,4,Ethylica )\n",
    "particao_6_Ethylica =geraparticao(lista_numeros_Ethylica_salva,5,Ethylica )\n",
    "particao_7_Ethylica =geraparticao(lista_numeros_Ethylica_salva,6,Ethylica )\n",
    "particao_8_Ethylica =geraparticao(lista_numeros_Ethylica_salva,7,Ethylica )\n",
    "particao_9_Ethylica =geraparticao(lista_numeros_Ethylica_salva,8,Ethylica )\n",
    "particao_10_Ethylica =geraparticao_informaLista([813, 805, 760, 797, 811, 821, 771],Ethylica )"
   ]
  },
  {
   "cell_type": "markdown",
   "metadata": {},
   "source": [
    "Dividi os documentos do site \"MagnificaFaria\" por cada uma das partições"
   ]
  },
  {
   "cell_type": "code",
   "execution_count": 74,
   "metadata": {},
   "outputs": [],
   "source": [
    "filtro_1 = dataset['Documento'] >=827\n",
    "filtro_2 = dataset['Documento'] <833\n",
    "MagnificaFaria = dataset.where(filtro_1 & filtro_2, try_cast='erro')\n",
    "MagnificaFaria.dropna(inplace=True)\n",
    "MagnificaFaria = MagnificaFaria.astype({'Sentenca': 'int','Inicio': 'int','Fim': 'int','Documento': 'int'})"
   ]
  },
  {
   "cell_type": "code",
   "execution_count": 75,
   "metadata": {},
   "outputs": [
    {
     "name": "stdout",
     "output_type": "stream",
     "text": [
      "set()\n"
     ]
    }
   ],
   "source": [
    "#Obs: Executar este código apenas uma única vez, caso contrario mais indices das listas serão removidos.\n",
    "lista_randomica_documentos_para_MagnificaFaria =geralista(827,832)\n",
    "lista_numeros_MagnificaFaria=randomico(lista_randomica_documentos_para_MagnificaFaria ,1,6)"
   ]
  },
  {
   "cell_type": "code",
   "execution_count": 76,
   "metadata": {},
   "outputs": [],
   "source": [
    "lista_numeros_MagnificaFaria_salva = [[828], [829], [832], [830], [831], [827]]"
   ]
  },
  {
   "cell_type": "code",
   "execution_count": 77,
   "metadata": {},
   "outputs": [],
   "source": [
    "particao_1_MagnificaFaria =geraparticao(lista_numeros_MagnificaFaria_salva,0,MagnificaFaria)\n",
    "particao_3_MagnificaFaria =geraparticao(lista_numeros_MagnificaFaria_salva,1,MagnificaFaria)\n",
    "particao_4_MagnificaFaria =geraparticao(lista_numeros_MagnificaFaria_salva,2,MagnificaFaria)\n",
    "particao_5_MagnificaFaria =geraparticao(lista_numeros_MagnificaFaria_salva,3,MagnificaFaria)\n",
    "particao_6_MagnificaFaria =geraparticao(lista_numeros_MagnificaFaria_salva,4,MagnificaFaria)\n",
    "particao_10_MagnificaFaria =geraparticao(lista_numeros_MagnificaFaria_salva,5,MagnificaFaria)"
   ]
  },
  {
   "cell_type": "markdown",
   "metadata": {},
   "source": [
    "Dividi os documentos do site \"MocaBonita\" por cada uma das partições"
   ]
  },
  {
   "cell_type": "code",
   "execution_count": 78,
   "metadata": {},
   "outputs": [],
   "source": [
    "filtro_1 = dataset['Documento'] >=833\n",
    "filtro_2 = dataset['Documento'] <902\n",
    "MocaBonita = dataset.where(filtro_1 & filtro_2, try_cast='erro')\n",
    "MocaBonita.dropna(inplace=True)\n",
    "MocaBonita = MocaBonita.astype({'Sentenca': 'int','Inicio': 'int','Fim': 'int','Documento': 'int'})"
   ]
  },
  {
   "cell_type": "code",
   "execution_count": 79,
   "metadata": {},
   "outputs": [
    {
     "name": "stdout",
     "output_type": "stream",
     "text": [
      "set()\n"
     ]
    }
   ],
   "source": [
    "#Obs: Executar este código apenas uma única vez, caso contrario mais indices das listas serão removidos.\n",
    "lista_randomica_documentos_para_MocaBonita =geralista(833,901)\n",
    "lista_numeros_MocaBonita=randomico(lista_randomica_documentos_para_MocaBonita ,7,69)"
   ]
  },
  {
   "cell_type": "code",
   "execution_count": 80,
   "metadata": {},
   "outputs": [],
   "source": [
    "lista_numeros_MocaBonita_salva = [\n",
    " [842, 835, 845, 855, 886, 867, 854],\n",
    " [849, 877, 876, 873, 901, 847, 866],\n",
    " [851, 879, 838, 875, 840, 863, 878],\n",
    " [880, 882, 869, 872, 887, 871, 862],\n",
    " [897, 884, 891, 852, 896, 898, 857],\n",
    " [889, 885, 834, 883, 861, 853, 900],\n",
    " [890, 892, 865, 868, 899, 856, 881],\n",
    " [893, 839, 833, 844, 848, 837, 895],\n",
    " [846, 859, 841, 850, 860, 836, 894],\n",
    " [870, 843, 874, 858, 888, 864]]"
   ]
  },
  {
   "cell_type": "code",
   "execution_count": 81,
   "metadata": {},
   "outputs": [],
   "source": [
    "particao_1_MocaBonita =geraparticao(lista_numeros_MocaBonita_salva,0,MocaBonita )\n",
    "particao_2_MocaBonita =geraparticao(lista_numeros_MocaBonita_salva,1,MocaBonita )\n",
    "particao_3_MocaBonita =geraparticao(lista_numeros_MocaBonita_salva,2,MocaBonita )\n",
    "particao_4_MocaBonita =geraparticao_informaLista([882, 869, 872, 887, 871, 862],MocaBonita  )\n",
    "particao_5_MocaBonita =geraparticao(lista_numeros_MocaBonita_salva,4,MocaBonita )\n",
    "particao_6_MocaBonita =geraparticao(lista_numeros_MocaBonita_salva,5,MocaBonita )\n",
    "particao_7_MocaBonita =geraparticao(lista_numeros_MocaBonita_salva,6,MocaBonita )\n",
    "particao_8_MocaBonita =geraparticao(lista_numeros_MocaBonita_salva,7,MocaBonita )\n",
    "particao_9_MocaBonita =geraparticao(lista_numeros_MocaBonita_salva,8,MocaBonita )\n",
    "particao_10_MocaBonita =geraparticao_informaLista([880, 870, 843, 874, 858, 888, 864],MocaBonita  )"
   ]
  },
  {
   "cell_type": "markdown",
   "metadata": {},
   "source": [
    "Dividi os documentos do site \"Salinas\" por cada uma das partições"
   ]
  },
  {
   "cell_type": "code",
   "execution_count": 82,
   "metadata": {},
   "outputs": [],
   "source": [
    "filtro_1 = dataset['Documento'] >=902\n",
    "filtro_2 = dataset['Documento'] <971\n",
    "Salinas = dataset.where(filtro_1 & filtro_2, try_cast='erro')\n",
    "Salinas.dropna(inplace=True)\n",
    "Salinas = Salinas.astype({'Sentenca': 'int','Inicio': 'int','Fim': 'int','Documento': 'int'})"
   ]
  },
  {
   "cell_type": "code",
   "execution_count": 83,
   "metadata": {},
   "outputs": [
    {
     "name": "stdout",
     "output_type": "stream",
     "text": [
      "set()\n"
     ]
    }
   ],
   "source": [
    "#Obs: Executar este código apenas uma única vez, caso contrario mais indices das listas serão removidos.\n",
    "lista_randomica_documentos_para_Salinas =geralista(902,970)\n",
    "lista_numeros_Salinas=randomico(lista_randomica_documentos_para_Salinas,7,69)"
   ]
  },
  {
   "cell_type": "code",
   "execution_count": 84,
   "metadata": {},
   "outputs": [],
   "source": [
    "lista_numeros_Salinas_salva = [\n",
    " [968, 963, 965, 943, 970, 950, 942],\n",
    " [960, 947, 924, 923, 917, 912, 954],\n",
    " [918, 957, 929, 952, 958, 913, 962],\n",
    " [948, 951, 903, 914, 911, 935, 908],\n",
    " [904, 931, 915, 961, 909, 938, 969],\n",
    " [933, 928, 905, 955, 953, 941, 910],\n",
    " [945, 926, 921, 906, 944, 927, 966],\n",
    " [956, 939, 925, 937, 902, 967, 964],\n",
    " [934, 930, 916, 920, 940, 959, 949],\n",
    " [932, 936, 919, 907, 946, 922]]"
   ]
  },
  {
   "cell_type": "code",
   "execution_count": 85,
   "metadata": {},
   "outputs": [],
   "source": [
    "particao_1_Salinas =geraparticao(lista_numeros_Salinas_salva,0,Salinas )\n",
    "particao_2_Salinas =geraparticao(lista_numeros_Salinas_salva,1,Salinas )\n",
    "particao_3_Salinas =geraparticao(lista_numeros_Salinas_salva,2,Salinas )\n",
    "particao_4_Salinas =geraparticao(lista_numeros_Salinas_salva,3,Salinas )\n",
    "particao_5_Salinas =geraparticao(lista_numeros_Salinas_salva,4,Salinas )\n",
    "particao_6_Salinas =geraparticao(lista_numeros_Salinas_salva,5,Salinas )\n",
    "particao_7_Salinas =geraparticao(lista_numeros_Salinas_salva,6,Salinas )\n",
    "particao_8_Salinas =geraparticao(lista_numeros_Salinas_salva,7,Salinas )\n",
    "particao_9_Salinas =geraparticao(lista_numeros_Salinas_salva,8,Salinas )\n",
    "particao_10_Salinas =geraparticao_informaLista([932, 936, 919, 907, 946, 922],Salinas  )"
   ]
  },
  {
   "cell_type": "markdown",
   "metadata": {},
   "source": [
    "Dividi os documentos do site \"Sanhacu\" por cada uma das partições"
   ]
  },
  {
   "cell_type": "code",
   "execution_count": 86,
   "metadata": {},
   "outputs": [],
   "source": [
    "filtro_1 = dataset['Documento'] >=971\n",
    "filtro_2 = dataset['Documento'] <975\n",
    "Sanhacu = dataset.where(filtro_1 & filtro_2, try_cast='erro')\n",
    "Sanhacu.dropna(inplace=True)\n",
    "Sanhacu = Sanhacu.astype({'Sentenca': 'int','Inicio': 'int','Fim': 'int','Documento': 'int'})"
   ]
  },
  {
   "cell_type": "code",
   "execution_count": 87,
   "metadata": {},
   "outputs": [
    {
     "name": "stdout",
     "output_type": "stream",
     "text": [
      "set()\n"
     ]
    }
   ],
   "source": [
    "#Obs: Executar este código apenas uma única vez, caso contrario mais indices das listas serão removidos.\n",
    "lista_randomica_documentos_para_Sanhacu =geralista(971,974)\n",
    "lista_numeros_Sanhacu=randomico(lista_randomica_documentos_para_Sanhacu ,1,4)"
   ]
  },
  {
   "cell_type": "code",
   "execution_count": 88,
   "metadata": {},
   "outputs": [],
   "source": [
    "lista_numeros_Sanhacu_salva = [[974], [972], [971], [973]]"
   ]
  },
  {
   "cell_type": "code",
   "execution_count": 89,
   "metadata": {},
   "outputs": [],
   "source": [
    "particao_1_Sanhacu =geraparticao(lista_numeros_Sanhacu_salva,0,Sanhacu )\n",
    "particao_2_Sanhacu =geraparticao(lista_numeros_Sanhacu_salva,1,Sanhacu )\n",
    "particao_3_Sanhacu =geraparticao(lista_numeros_Sanhacu_salva,2,Sanhacu )\n",
    "particao_4_Sanhacu =geraparticao(lista_numeros_Sanhacu_salva,3,Sanhacu )"
   ]
  },
  {
   "cell_type": "markdown",
   "metadata": {},
   "source": [
    "Dividi os documentos do site \"Sapucaia\" por cada uma das partições"
   ]
  },
  {
   "cell_type": "code",
   "execution_count": 90,
   "metadata": {},
   "outputs": [],
   "source": [
    "filtro_1 = dataset['Documento'] >=975\n",
    "filtro_2 = dataset['Documento'] <983\n",
    "Sapucaia = dataset.where(filtro_1 & filtro_2, try_cast='erro')\n",
    "Sapucaia.dropna(inplace=True)\n",
    "Sapucaia = Sapucaia.astype({'Sentenca': 'int','Inicio': 'int','Fim': 'int','Documento': 'int'})"
   ]
  },
  {
   "cell_type": "code",
   "execution_count": 91,
   "metadata": {},
   "outputs": [
    {
     "name": "stdout",
     "output_type": "stream",
     "text": [
      "set()\n"
     ]
    }
   ],
   "source": [
    "#Obs: Executar este código apenas uma única vez, caso contrario mais indices das listas serão removidos.\n",
    "lista_randomica_documentos_para_Sapucaia =geralista(975,982)\n",
    "lista_numeros_Sapucaia=randomico(lista_randomica_documentos_para_Sapucaia ,1,8)"
   ]
  },
  {
   "cell_type": "code",
   "execution_count": 92,
   "metadata": {},
   "outputs": [],
   "source": [
    "lista_numeros_Sapucaia_salva = [[979], [976], [982], [981], [980], [975], [977], [978]]"
   ]
  },
  {
   "cell_type": "code",
   "execution_count": 93,
   "metadata": {},
   "outputs": [],
   "source": [
    "particao_2_Sapucaia =geraparticao(lista_numeros_Sapucaia_salva,0,Sapucaia )\n",
    "particao_3_Sapucaia =geraparticao(lista_numeros_Sapucaia_salva,1,Sapucaia )\n",
    "particao_4_Sapucaia =geraparticao(lista_numeros_Sapucaia_salva,2,Sapucaia )\n",
    "particao_5_Sapucaia =geraparticao(lista_numeros_Sapucaia_salva,3,Sapucaia )\n",
    "particao_6_Sapucaia =geraparticao(lista_numeros_Sapucaia_salva,4,Sapucaia )\n",
    "particao_7_Sapucaia =geraparticao(lista_numeros_Sapucaia_salva,5,Sapucaia )\n",
    "particao_8_Sapucaia =geraparticao(lista_numeros_Sapucaia_salva,6,Sapucaia )\n",
    "particao_9_Sapucaia =geraparticao(lista_numeros_Sapucaia_salva,7,Sapucaia )"
   ]
  },
  {
   "cell_type": "markdown",
   "metadata": {},
   "source": [
    "Dividi os documentos do site \"VelhoBarreiro\" por cada uma das partições"
   ]
  },
  {
   "cell_type": "code",
   "execution_count": 94,
   "metadata": {},
   "outputs": [],
   "source": [
    "filtro_1 = dataset['Documento'] >=983\n",
    "filtro_2 = dataset['Documento'] <995\n",
    "VelhoBarreiro = dataset.where(filtro_1 & filtro_2, try_cast='erro')\n",
    "VelhoBarreiro.dropna(inplace=True)\n",
    "VelhoBarreiro = VelhoBarreiro.astype({'Sentenca': 'int','Inicio': 'int','Fim': 'int','Documento': 'int'})"
   ]
  },
  {
   "cell_type": "code",
   "execution_count": 95,
   "metadata": {},
   "outputs": [
    {
     "name": "stdout",
     "output_type": "stream",
     "text": [
      "set()\n"
     ]
    }
   ],
   "source": [
    "#Obs: Executar este código apenas uma única vez, caso contrario mais indices das listas serão removidos.\n",
    "lista_randomica_documentos_para_VelhoBarreiro =geralista(983,994)\n",
    "lista_numeros_VelhoBarreiro=randomico(lista_randomica_documentos_para_VelhoBarreiro ,1,12)"
   ]
  },
  {
   "cell_type": "code",
   "execution_count": 96,
   "metadata": {},
   "outputs": [],
   "source": [
    "lista_numeros_VelhoBarreiro_salva = [[988],[987],[992],[990],[991],[985],[994],[989],[983],[986],[993],[984]]"
   ]
  },
  {
   "cell_type": "code",
   "execution_count": 97,
   "metadata": {},
   "outputs": [],
   "source": [
    "particao_1_VelhoBarreiro =geraparticao(lista_numeros_VelhoBarreiro_salva,0,VelhoBarreiro )\n",
    "particao_2_VelhoBarreiro =geraparticao(lista_numeros_VelhoBarreiro_salva,1,VelhoBarreiro )\n",
    "particao_3_VelhoBarreiro =geraparticao(lista_numeros_VelhoBarreiro_salva,2,VelhoBarreiro )\n",
    "particao_4_VelhoBarreiro =geraparticao(lista_numeros_VelhoBarreiro_salva,3,VelhoBarreiro )\n",
    "particao_5_VelhoBarreiro =geraparticao(lista_numeros_VelhoBarreiro_salva,4,VelhoBarreiro )\n",
    "particao_6_VelhoBarreiro =geraparticao(lista_numeros_VelhoBarreiro_salva,5,VelhoBarreiro )\n",
    "particao_7_VelhoBarreiro =geraparticao(lista_numeros_VelhoBarreiro_salva,6,VelhoBarreiro )\n",
    "particao_8_VelhoBarreiro =geraparticao(lista_numeros_VelhoBarreiro_salva,7,VelhoBarreiro )\n",
    "particao_9_VelhoBarreiro =geraparticao_informaLista([983,986],VelhoBarreiro  )\n",
    "particao_10_VelhoBarreiro =geraparticao_informaLista([993,984],VelhoBarreiro  )"
   ]
  },
  {
   "cell_type": "markdown",
   "metadata": {},
   "source": [
    "Dividi os documentos do site \"Wiba\" por cada uma das partições"
   ]
  },
  {
   "cell_type": "code",
   "execution_count": 98,
   "metadata": {},
   "outputs": [],
   "source": [
    "filtro_1 = dataset['Documento'] >=995\n",
    "filtro_2 = dataset['Documento'] <1001\n",
    "Wiba = dataset.where(filtro_1 & filtro_2, try_cast='erro')\n",
    "Wiba.dropna(inplace=True)\n",
    "Wiba = Wiba.astype({'Sentenca': 'int','Inicio': 'int','Fim': 'int','Documento': 'int'})"
   ]
  },
  {
   "cell_type": "code",
   "execution_count": 99,
   "metadata": {},
   "outputs": [
    {
     "name": "stdout",
     "output_type": "stream",
     "text": [
      "set()\n"
     ]
    }
   ],
   "source": [
    "#Obs: Executar este código apenas uma única vez, caso contrario mais indices das listas serão removidos.\n",
    "lista_randomica_documentos_para_Wiba =geralista(995,1000)\n",
    "lista_numeros_Wiba=randomico(lista_randomica_documentos_para_Wiba ,1,6)"
   ]
  },
  {
   "cell_type": "code",
   "execution_count": 100,
   "metadata": {},
   "outputs": [],
   "source": [
    "lista_numeros_Wiba_salva = [[997], [998], [995], [1000], [996], [999]]"
   ]
  },
  {
   "cell_type": "code",
   "execution_count": 101,
   "metadata": {},
   "outputs": [],
   "source": [
    "particao_1_Wiba =geraparticao(lista_numeros_Wiba_salva,0,Wiba )\n",
    "particao_2_Wiba =geraparticao(lista_numeros_Wiba_salva,1,Wiba )\n",
    "particao_4_Wiba =geraparticao(lista_numeros_Wiba_salva,2,Wiba )\n",
    "particao_5_Wiba =geraparticao(lista_numeros_Wiba_salva,3,Wiba )\n",
    "particao_6_Wiba =geraparticao(lista_numeros_Wiba_salva,4,Wiba )\n",
    "particao_10_Wiba =geraparticao(lista_numeros_Wiba_salva,5,Wiba )"
   ]
  },
  {
   "cell_type": "markdown",
   "metadata": {},
   "source": [
    "Juntando os documentos por partições"
   ]
  },
  {
   "cell_type": "code",
   "execution_count": 102,
   "metadata": {},
   "outputs": [],
   "source": [
    "particao_1 = pd.concat([particao_1_amburana, particao_1_araruna, particao_1_BebidaOnline, particao_1_Blubeer,\n",
    "particao_1_CachacaCompanheira, particao_1_CachacaEPinga, particao_1_CachacaEPresente, particao_1_CachacariaDosAmigos, \n",
    "particao_1_CachacariaNacional, particao_1_CachacaSagatiba, particao_1_CachacasBrasileiras, particao_1_CanelaDeEma, \n",
    "particao_1_CasaDaBebida, particao_1_CeiaClandestina, particao_1_CiaMuller, particao_1_DomTapparo, particao_1_Ethylica, \n",
    "particao_1_MagnificaFaria, particao_1_MocaBonita, particao_1_Salinas, particao_1_Sanhacu, particao_1_VelhoBarreiro, \n",
    "particao_1_Wiba])"
   ]
  },
  {
   "cell_type": "code",
   "execution_count": 103,
   "metadata": {},
   "outputs": [
    {
     "data": {
      "text/plain": [
       "17290"
      ]
     },
     "execution_count": 103,
     "metadata": {},
     "output_type": "execute_result"
    }
   ],
   "source": [
    "particao_1['Particao'] = \"1\"\n",
    "len(particao_1)"
   ]
  },
  {
   "cell_type": "code",
   "execution_count": 104,
   "metadata": {},
   "outputs": [],
   "source": [
    "particao_2 = pd.concat([particao_2_amburana, particao_2_araruna, particao_2_BebidaOnline, particao_2_Blubeer,\n",
    "particao_2_CachacaCompanheira, particao_2_CachacaEPinga, particao_2_CachacaEPresente, particao_2_CachacariaDosAmigos, \n",
    "particao_2_CachacariaNacional, particao_2_CachacaSagatiba, particao_2_CachacasBrasileiras, particao_2_CanelaDeEma, \n",
    "particao_2_CasaDaBebida, particao_2_CeiaClandestina, particao_2_CiaMuller, particao_2_DomTapparo, particao_2_Ethylica,\n",
    "particao_2_MocaBonita, particao_2_Salinas, particao_2_Sanhacu, particao_2_Sapucaia, particao_2_VelhoBarreiro, particao_2_Wiba])"
   ]
  },
  {
   "cell_type": "code",
   "execution_count": 105,
   "metadata": {},
   "outputs": [
    {
     "data": {
      "text/plain": [
       "18793"
      ]
     },
     "execution_count": 105,
     "metadata": {},
     "output_type": "execute_result"
    }
   ],
   "source": [
    "particao_2['Particao'] = \"2\"\n",
    "len(particao_2)"
   ]
  },
  {
   "cell_type": "code",
   "execution_count": 106,
   "metadata": {},
   "outputs": [],
   "source": [
    "particao_3 = pd.concat([particao_3_amburana, particao_3_araruna, particao_3_BebidaOnline, particao_3_Blubeer,\n",
    "particao_3_CachacaCompanheira, particao_3_CachacaEPinga, particao_3_CachacaEPresente, particao_3_CachacariaDosAmigos, \n",
    "particao_3_CachacariaNacional, particao_3_CachacaSagatiba, particao_3_CachacasBrasileiras, particao_3_CanelaDeEma, \n",
    "particao_3_CasaDaBebida, particao_3_CeiaClandestina, particao_3_CiaMuller, particao_3_DomTapparo, particao_3_Ethylica, \n",
    "particao_3_MagnificaFaria, particao_3_MocaBonita, particao_3_Salinas, particao_3_Sanhacu, particao_3_Sapucaia, \n",
    "particao_3_VelhoBarreiro])"
   ]
  },
  {
   "cell_type": "code",
   "execution_count": 107,
   "metadata": {},
   "outputs": [
    {
     "data": {
      "text/plain": [
       "17954"
      ]
     },
     "execution_count": 107,
     "metadata": {},
     "output_type": "execute_result"
    }
   ],
   "source": [
    "particao_3['Particao'] = \"3\"\n",
    "len(particao_3)"
   ]
  },
  {
   "cell_type": "code",
   "execution_count": 108,
   "metadata": {},
   "outputs": [],
   "source": [
    "particao_4 = pd.concat([particao_4_amburana, particao_4_araruna, particao_4_BebidaOnline, particao_4_Blubeer,\n",
    "particao_4_CachacaCompanheira, particao_4_CachacaEPinga, particao_4_CachacaEPresente, particao_4_CachacariaDosAmigos, \n",
    "particao_4_CachacariaNacional, particao_4_CachacaSagatiba, particao_4_CachacasBrasileiras, particao_4_CanelaDeEma, \n",
    "particao_4_CasaDaBebida, particao_4_CeiaClandestina, particao_4_CiaMuller, particao_4_Ethylica, \n",
    "particao_4_MagnificaFaria, particao_4_MocaBonita, particao_4_Salinas, particao_4_Sanhacu, particao_4_Sapucaia, \n",
    "particao_4_VelhoBarreiro, particao_4_Wiba])"
   ]
  },
  {
   "cell_type": "code",
   "execution_count": 109,
   "metadata": {},
   "outputs": [
    {
     "data": {
      "text/plain": [
       "18280"
      ]
     },
     "execution_count": 109,
     "metadata": {},
     "output_type": "execute_result"
    }
   ],
   "source": [
    "particao_4['Particao'] = \"4\"\n",
    "len(particao_4)"
   ]
  },
  {
   "cell_type": "code",
   "execution_count": 110,
   "metadata": {},
   "outputs": [],
   "source": [
    "particao_5 = pd.concat([particao_5_amburana, particao_5_araruna, particao_5_BebidaOnline, particao_5_Blubeer,\n",
    "particao_5_CachacaCompanheira, particao_5_CachacaEPinga, particao_5_CachacaEPresente, particao_5_CachacariaDosAmigos, \n",
    "particao_5_CachacariaNacional, particao_5_CachacasBrasileiras, particao_5_CanelaDeEma, \n",
    "particao_5_CasaDaBebida, particao_5_CeiaClandestina, particao_5_CiaMuller, particao_5_DomTapparo, particao_5_Ethylica, \n",
    "particao_5_MagnificaFaria, particao_5_MocaBonita, particao_5_Salinas, particao_5_Sapucaia, particao_5_VelhoBarreiro, \n",
    "particao_5_Wiba])"
   ]
  },
  {
   "cell_type": "code",
   "execution_count": 111,
   "metadata": {},
   "outputs": [
    {
     "data": {
      "text/plain": [
       "18347"
      ]
     },
     "execution_count": 111,
     "metadata": {},
     "output_type": "execute_result"
    }
   ],
   "source": [
    "particao_5['Particao'] = \"5\"\n",
    "len(particao_5)"
   ]
  },
  {
   "cell_type": "code",
   "execution_count": 112,
   "metadata": {},
   "outputs": [],
   "source": [
    "particao_6 = pd.concat([particao_6_amburana, particao_6_araruna, particao_6_BebidaOnline, particao_6_Blubeer,\n",
    "particao_6_CachacaCompanheira, particao_6_CachacaEPinga, particao_6_CachacaEPresente, particao_6_CachacariaDosAmigos, \n",
    "particao_6_CachacariaNacional, particao_6_CachacasBrasileiras, particao_6_CanelaDeEma, particao_6_CasaDaBebida, \n",
    "particao_6_CeiaClandestina, particao_6_CiaMuller, particao_6_Ethylica, particao_6_MagnificaFaria, particao_6_MocaBonita, \n",
    "particao_6_Salinas, particao_6_Sapucaia, particao_6_VelhoBarreiro, particao_6_Wiba])"
   ]
  },
  {
   "cell_type": "code",
   "execution_count": 113,
   "metadata": {},
   "outputs": [
    {
     "data": {
      "text/plain": [
       "19085"
      ]
     },
     "execution_count": 113,
     "metadata": {},
     "output_type": "execute_result"
    }
   ],
   "source": [
    "particao_6['Particao'] = \"6\"\n",
    "len(particao_6)"
   ]
  },
  {
   "cell_type": "code",
   "execution_count": 114,
   "metadata": {},
   "outputs": [],
   "source": [
    "particao_7 = pd.concat([particao_7_amburana, particao_7_araruna, particao_7_BebidaOnline, particao_7_Blubeer,\n",
    "particao_7_CachacaCompanheira, particao_7_CachacaEPinga, particao_7_CachacaEPresente, particao_7_CachacariaDosAmigos, \n",
    "particao_7_CachacariaNacional, particao_7_CachacasBrasileiras, particao_7_CanelaDeEma, particao_7_CasaDaBebida, \n",
    "particao_7_CeiaClandestina, particao_7_CiaMuller, particao_7_Ethylica, particao_7_MocaBonita, particao_7_Salinas, \n",
    "particao_7_Sapucaia, particao_7_VelhoBarreiro])"
   ]
  },
  {
   "cell_type": "code",
   "execution_count": 115,
   "metadata": {},
   "outputs": [
    {
     "data": {
      "text/plain": [
       "19631"
      ]
     },
     "execution_count": 115,
     "metadata": {},
     "output_type": "execute_result"
    }
   ],
   "source": [
    "particao_7['Particao'] = \"7\"\n",
    "len(particao_7)"
   ]
  },
  {
   "cell_type": "code",
   "execution_count": 116,
   "metadata": {},
   "outputs": [],
   "source": [
    "particao_8 = pd.concat([particao_8_amburana, particao_8_araruna, particao_8_BebidaOnline, particao_8_Blubeer,\n",
    "particao_8_CachacaCompanheira, particao_8_CachacaEPinga, particao_8_CachacaEPresente, particao_8_CachacariaDosAmigos, \n",
    "particao_8_CachacariaNacional, particao_8_CachacasBrasileiras, particao_8_CanelaDeEma, \n",
    "particao_8_CasaDaBebida, particao_8_CeiaClandestina, particao_8_CiaMuller, particao_8_Ethylica, \n",
    "particao_8_MocaBonita, particao_8_Salinas, particao_8_Sapucaia, \n",
    "particao_8_VelhoBarreiro])"
   ]
  },
  {
   "cell_type": "code",
   "execution_count": 117,
   "metadata": {},
   "outputs": [
    {
     "data": {
      "text/plain": [
       "16749"
      ]
     },
     "execution_count": 117,
     "metadata": {},
     "output_type": "execute_result"
    }
   ],
   "source": [
    "particao_8['Particao'] = \"8\"\n",
    "len(particao_8)"
   ]
  },
  {
   "cell_type": "code",
   "execution_count": 118,
   "metadata": {},
   "outputs": [],
   "source": [
    "particao_9 = pd.concat([particao_9_amburana, particao_9_araruna, particao_9_BebidaOnline, particao_9_Blubeer,\n",
    "particao_9_CachacaCompanheira, particao_9_CachacaEPinga, particao_9_CachacaEPresente, particao_9_CachacariaDosAmigos, \n",
    "particao_9_CachacariaNacional, particao_9_CachacasBrasileiras, particao_9_CanelaDeEma, \n",
    "particao_9_CasaDaBebida, particao_9_CeiaClandestina, particao_9_CiaMuller, particao_9_Ethylica, \n",
    "particao_9_MocaBonita, particao_9_Salinas, particao_9_Sapucaia, \n",
    "particao_9_VelhoBarreiro])"
   ]
  },
  {
   "cell_type": "code",
   "execution_count": 119,
   "metadata": {},
   "outputs": [
    {
     "data": {
      "text/plain": [
       "18052"
      ]
     },
     "execution_count": 119,
     "metadata": {},
     "output_type": "execute_result"
    }
   ],
   "source": [
    "particao_9['Particao'] = \"9\"\n",
    "len(particao_9)"
   ]
  },
  {
   "cell_type": "code",
   "execution_count": 120,
   "metadata": {},
   "outputs": [],
   "source": [
    "particao_10 = pd.concat([particao_10_amburana, particao_10_araruna, particao_10_BebidaOnline, particao_10_Blubeer,\n",
    "particao_10_CachacaCompanheira, particao_10_CachacaEPinga, particao_10_CachacaEPresente, particao_10_CachacariaDosAmigos, \n",
    "particao_10_CachacariaNacional, particao_10_CachacasBrasileiras, particao_10_CanelaDeEma, particao_10_CasaDaBebida, \n",
    "particao_10_CeiaClandestina, particao_10_CiaMuller, particao_10_DomTapparo, particao_10_Ethylica, particao_10_MagnificaFaria, \n",
    "particao_10_MocaBonita, particao_10_Salinas, particao_10_VelhoBarreiro, particao_10_Wiba])"
   ]
  },
  {
   "cell_type": "code",
   "execution_count": 121,
   "metadata": {},
   "outputs": [
    {
     "data": {
      "text/plain": [
       "19085"
      ]
     },
     "execution_count": 121,
     "metadata": {},
     "output_type": "execute_result"
    }
   ],
   "source": [
    "particao_10['Particao'] = \"10\"\n",
    "len(particao_6)"
   ]
  },
  {
   "cell_type": "markdown",
   "metadata": {},
   "source": [
    "Verifica se as partições tem a quantidade total correta de documentações, isto é 100"
   ]
  },
  {
   "cell_type": "code",
   "execution_count": 122,
   "metadata": {},
   "outputs": [],
   "source": [
    "def verificar_total_documentos(dataset):\n",
    "    result=dataset[['Documento']]\n",
    "    result=result.drop_duplicates()\n",
    "    tamanho=len(result)\n",
    "    print(tamanho)"
   ]
  },
  {
   "cell_type": "code",
   "execution_count": 123,
   "metadata": {},
   "outputs": [
    {
     "name": "stdout",
     "output_type": "stream",
     "text": [
      "100\n",
      "100\n",
      "100\n",
      "100\n",
      "100\n",
      "100\n",
      "100\n",
      "100\n",
      "100\n",
      "100\n"
     ]
    }
   ],
   "source": [
    "verificar_total_documentos(particao_1)\n",
    "verificar_total_documentos(particao_2)\n",
    "verificar_total_documentos(particao_3)\n",
    "verificar_total_documentos(particao_4)\n",
    "verificar_total_documentos(particao_5)\n",
    "verificar_total_documentos(particao_6)\n",
    "verificar_total_documentos(particao_7)\n",
    "verificar_total_documentos(particao_8)\n",
    "verificar_total_documentos(particao_9)\n",
    "verificar_total_documentos(particao_10)"
   ]
  },
  {
   "cell_type": "markdown",
   "metadata": {},
   "source": [
    "Resetetando o index dos dataframes"
   ]
  },
  {
   "cell_type": "code",
   "execution_count": 124,
   "metadata": {},
   "outputs": [],
   "source": [
    "def reset_index(dataset):\n",
    "    dataset = dataset.reset_index()\n",
    "    dataset = dataset.drop(columns='index')\n",
    "    return dataset"
   ]
  },
  {
   "cell_type": "markdown",
   "metadata": {},
   "source": [
    "Criando o dataset de treino com 70% dos dados e o de treste com 30%"
   ]
  },
  {
   "cell_type": "code",
   "execution_count": 125,
   "metadata": {},
   "outputs": [],
   "source": [
    "dataset_treinamento = pd.concat([particao_1,particao_2,particao_3,particao_4,particao_5,particao_6,particao_7])\n",
    "dataset_teste = pd.concat([particao_8,particao_9,particao_10])"
   ]
  },
  {
   "cell_type": "markdown",
   "metadata": {},
   "source": [
    "Inserendo o atributo para identificar no dataset_rotulado quem é de treino e que é de teste"
   ]
  },
  {
   "cell_type": "code",
   "execution_count": 126,
   "metadata": {},
   "outputs": [
    {
     "data": {
      "text/html": [
       "<div>\n",
       "<style scoped>\n",
       "    .dataframe tbody tr th:only-of-type {\n",
       "        vertical-align: middle;\n",
       "    }\n",
       "\n",
       "    .dataframe tbody tr th {\n",
       "        vertical-align: top;\n",
       "    }\n",
       "\n",
       "    .dataframe thead th {\n",
       "        text-align: right;\n",
       "    }\n",
       "</style>\n",
       "<table border=\"1\" class=\"dataframe\">\n",
       "  <thead>\n",
       "    <tr style=\"text-align: right;\">\n",
       "      <th></th>\n",
       "      <th>Palavras</th>\n",
       "      <th>Rotulo</th>\n",
       "      <th>Sentenca</th>\n",
       "      <th>Inicio</th>\n",
       "      <th>Fim</th>\n",
       "      <th>Documento</th>\n",
       "      <th>Particao</th>\n",
       "      <th>Identificacao_Treino_Teste</th>\n",
       "    </tr>\n",
       "  </thead>\n",
       "  <tbody>\n",
       "    <tr>\n",
       "      <th>1266</th>\n",
       "      <td>NOME</td>\n",
       "      <td>O</td>\n",
       "      <td>130</td>\n",
       "      <td>0</td>\n",
       "      <td>4</td>\n",
       "      <td>12</td>\n",
       "      <td>1</td>\n",
       "      <td>treino</td>\n",
       "    </tr>\n",
       "    <tr>\n",
       "      <th>1267</th>\n",
       "      <td>DA</td>\n",
       "      <td>O</td>\n",
       "      <td>130</td>\n",
       "      <td>5</td>\n",
       "      <td>7</td>\n",
       "      <td>12</td>\n",
       "      <td>1</td>\n",
       "      <td>treino</td>\n",
       "    </tr>\n",
       "    <tr>\n",
       "      <th>1268</th>\n",
       "      <td>CACHAÇA</td>\n",
       "      <td>O</td>\n",
       "      <td>130</td>\n",
       "      <td>8</td>\n",
       "      <td>15</td>\n",
       "      <td>12</td>\n",
       "      <td>1</td>\n",
       "      <td>treino</td>\n",
       "    </tr>\n",
       "    <tr>\n",
       "      <th>1269</th>\n",
       "      <td>:</td>\n",
       "      <td>O</td>\n",
       "      <td>130</td>\n",
       "      <td>15</td>\n",
       "      <td>16</td>\n",
       "      <td>12</td>\n",
       "      <td>1</td>\n",
       "      <td>treino</td>\n",
       "    </tr>\n",
       "    <tr>\n",
       "      <th>1270</th>\n",
       "      <td>Porto</td>\n",
       "      <td>B-NOME_BEBIDA</td>\n",
       "      <td>130</td>\n",
       "      <td>17</td>\n",
       "      <td>22</td>\n",
       "      <td>12</td>\n",
       "      <td>1</td>\n",
       "      <td>treino</td>\n",
       "    </tr>\n",
       "    <tr>\n",
       "      <th>...</th>\n",
       "      <td>...</td>\n",
       "      <td>...</td>\n",
       "      <td>...</td>\n",
       "      <td>...</td>\n",
       "      <td>...</td>\n",
       "      <td>...</td>\n",
       "      <td>...</td>\n",
       "      <td>...</td>\n",
       "    </tr>\n",
       "    <tr>\n",
       "      <th>181852</th>\n",
       "      <td>tradicional</td>\n",
       "      <td>O</td>\n",
       "      <td>13548</td>\n",
       "      <td>69</td>\n",
       "      <td>80</td>\n",
       "      <td>994</td>\n",
       "      <td>7</td>\n",
       "      <td>treino</td>\n",
       "    </tr>\n",
       "    <tr>\n",
       "      <th>181853</th>\n",
       "      <td>caipirinha</td>\n",
       "      <td>O</td>\n",
       "      <td>13548</td>\n",
       "      <td>81</td>\n",
       "      <td>91</td>\n",
       "      <td>994</td>\n",
       "      <td>7</td>\n",
       "      <td>treino</td>\n",
       "    </tr>\n",
       "    <tr>\n",
       "      <th>181854</th>\n",
       "      <td>com</td>\n",
       "      <td>O</td>\n",
       "      <td>13548</td>\n",
       "      <td>92</td>\n",
       "      <td>95</td>\n",
       "      <td>994</td>\n",
       "      <td>7</td>\n",
       "      <td>treino</td>\n",
       "    </tr>\n",
       "    <tr>\n",
       "      <th>181855</th>\n",
       "      <td>limão</td>\n",
       "      <td>O</td>\n",
       "      <td>13548</td>\n",
       "      <td>96</td>\n",
       "      <td>101</td>\n",
       "      <td>994</td>\n",
       "      <td>7</td>\n",
       "      <td>treino</td>\n",
       "    </tr>\n",
       "    <tr>\n",
       "      <th>181856</th>\n",
       "      <td>.</td>\n",
       "      <td>O</td>\n",
       "      <td>13548</td>\n",
       "      <td>101</td>\n",
       "      <td>102</td>\n",
       "      <td>994</td>\n",
       "      <td>7</td>\n",
       "      <td>treino</td>\n",
       "    </tr>\n",
       "  </tbody>\n",
       "</table>\n",
       "<p>129380 rows × 8 columns</p>\n",
       "</div>"
      ],
      "text/plain": [
       "           Palavras         Rotulo  Sentenca  Inicio  Fim  Documento Particao  \\\n",
       "1266           NOME              O       130       0    4         12        1   \n",
       "1267             DA              O       130       5    7         12        1   \n",
       "1268        CACHAÇA              O       130       8   15         12        1   \n",
       "1269              :              O       130      15   16         12        1   \n",
       "1270          Porto  B-NOME_BEBIDA       130      17   22         12        1   \n",
       "...             ...            ...       ...     ...  ...        ...      ...   \n",
       "181852  tradicional              O     13548      69   80        994        7   \n",
       "181853   caipirinha              O     13548      81   91        994        7   \n",
       "181854          com              O     13548      92   95        994        7   \n",
       "181855        limão              O     13548      96  101        994        7   \n",
       "181856            .              O     13548     101  102        994        7   \n",
       "\n",
       "       Identificacao_Treino_Teste  \n",
       "1266                       treino  \n",
       "1267                       treino  \n",
       "1268                       treino  \n",
       "1269                       treino  \n",
       "1270                       treino  \n",
       "...                           ...  \n",
       "181852                     treino  \n",
       "181853                     treino  \n",
       "181854                     treino  \n",
       "181855                     treino  \n",
       "181856                     treino  \n",
       "\n",
       "[129380 rows x 8 columns]"
      ]
     },
     "execution_count": 126,
     "metadata": {},
     "output_type": "execute_result"
    }
   ],
   "source": [
    "dataset_treinamento['Identificacao_Treino_Teste'] = \"treino\"\n",
    "dataset_teste['Identificacao_Treino_Teste'] = \"teste\"\n",
    "dataset_treinamento"
   ]
  },
  {
   "cell_type": "code",
   "execution_count": 127,
   "metadata": {},
   "outputs": [],
   "source": [
    "dataset_treinamento = reset_index(dataset_treinamento)\n",
    "dataset_teste = reset_index(dataset_teste)\n",
    "particao_1 = reset_index(particao_1)\n",
    "particao_2 = reset_index(particao_2)\n",
    "particao_3 = reset_index(particao_3)\n",
    "particao_4 = reset_index(particao_4)\n",
    "particao_5 = reset_index(particao_5)\n",
    "particao_6 = reset_index(particao_6)\n",
    "particao_7 = reset_index(particao_7)\n",
    "particao_8 = reset_index(particao_8)\n",
    "particao_9 = reset_index(particao_9)\n",
    "particao_10 = reset_index(particao_10)"
   ]
  },
  {
   "cell_type": "markdown",
   "metadata": {},
   "source": [
    "Salvando as partições, datasets de treino e teste e o dataser_rotulado (dataset final)"
   ]
  },
  {
   "cell_type": "code",
   "execution_count": 128,
   "metadata": {},
   "outputs": [],
   "source": [
    "particao_1.to_csv(r'particao_1.csv', encoding='utf-8-sig')\n",
    "particao_2.to_csv(r'particao_2.csv', encoding='utf-8-sig')\n",
    "particao_3.to_csv(r'particao_3.csv', encoding='utf-8-sig')\n",
    "particao_4.to_csv(r'particao_4.csv', encoding='utf-8-sig')\n",
    "particao_5.to_csv(r'particao_5.csv', encoding='utf-8-sig')\n",
    "particao_6.to_csv(r'particao_6.csv', encoding='utf-8-sig')\n",
    "particao_7.to_csv(r'particao_7.csv', encoding='utf-8-sig')\n",
    "particao_8.to_csv(r'particao_8.csv', encoding='utf-8-sig')\n",
    "particao_9.to_csv(r'particao_9.csv', encoding='utf-8-sig')\n",
    "particao_10.to_csv(r'particao_10.csv', encoding='utf-8-sig')\n",
    "dataset_treinamento.to_csv(r'dataset_treinamento.csv', encoding='utf-8')\n",
    "dataset_teste.to_csv(r'dataset_teste.csv', encoding='utf-8-sig')"
   ]
  },
  {
   "cell_type": "markdown",
   "metadata": {},
   "source": [
    "Concatenando os datasets de treino e teste"
   ]
  },
  {
   "cell_type": "code",
   "execution_count": 289,
   "metadata": {},
   "outputs": [],
   "source": [
    "dataset_rotulado = pd.concat([dataset_treinamento, dataset_teste])"
   ]
  },
  {
   "cell_type": "code",
   "execution_count": 290,
   "metadata": {},
   "outputs": [],
   "source": [
    "dataset_rotulado = reset_index(dataset_rotulado)"
   ]
  },
  {
   "cell_type": "code",
   "execution_count": 294,
   "metadata": {},
   "outputs": [],
   "source": [
    "# Salvando os dataset dados_rotulados com a coluna informando quai são dados de teste e quais são de treinamento.\n",
    "dataset_rotulado.to_csv(\"cachacaNER.csv\", encoding='utf-8-sig')"
   ]
  }
 ],
 "metadata": {
  "kernelspec": {
   "display_name": "Python 3",
   "language": "python",
   "name": "python3"
  },
  "language_info": {
   "codemirror_mode": {
    "name": "ipython",
    "version": 3
   },
   "file_extension": ".py",
   "mimetype": "text/x-python",
   "name": "python",
   "nbconvert_exporter": "python",
   "pygments_lexer": "ipython3",
   "version": "3.8.5"
  }
 },
 "nbformat": 4,
 "nbformat_minor": 4
}
